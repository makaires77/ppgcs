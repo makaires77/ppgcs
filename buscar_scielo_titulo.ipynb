{
 "cells": [
  {
   "cell_type": "code",
   "execution_count": 1,
   "metadata": {},
   "outputs": [],
   "source": [
    "import requests\n",
    "import re\n",
    "\n",
    "def verificar_scielo_por_titulo_ano(titulo, ano):\n",
    "    \"\"\"\n",
    "    Verifica se um artigo está indexado na SciELO usando web scraping (busca por título e ano).\n",
    "\n",
    "    Args:\n",
    "        titulo (str): O título do artigo.\n",
    "        ano (int): O ano de publicação do artigo.\n",
    "\n",
    "    Returns:\n",
    "        bool: True se o artigo for encontrado na SciELO, False caso contrário.\n",
    "    \"\"\"\n",
    "\n",
    "    # URL de busca da SciELO\n",
    "    search_url = \"https://search.scielo.org/?\"\n",
    "    query_params = {\n",
    "        \"q\": titulo,\n",
    "        # \"lang\": \"pt\",  # Para filtrar por linguagem, conforme necessário\n",
    "        \"count\": 10,    # Número de resultados a serem buscados (ajuste conforme necessário)\n",
    "        \"from\": 0,\n",
    "        \"output\": \"site\"\n",
    "    }\n",
    "\n",
    "    # Definir headers e user-agent\n",
    "    headers = {\n",
    "        'User-Agent': 'Mozilla/5.0 (Windows NT 10.0; Win64; x64) AppleWebKit/537.36 (KHTML, like Gecko) Chrome/58.0.3029.110 Safari/537.3' \n",
    "    }\n",
    "\n",
    "    try:\n",
    "        # Incluir os headers na requisição\n",
    "        response = requests.get(search_url, params=query_params, headers=headers)\n",
    "        response.raise_for_status()  # Lançar exceção se houver erro na requisição\n",
    "\n",
    "        # Analisar os resultados da busca usando expressões regulares\n",
    "        resultados = re.findall(r'<div class=\"result\">.*?<a class=\"doc-title\".*?>(.*?)</a>.*?<span class=\"doc-year\">(.*?)</span>', response.text, re.DOTALL)\n",
    "        for titulo_encontrado, ano_encontrado in resultados:\n",
    "            if titulo_encontrado.lower().strip() == titulo.lower() and ano_encontrado.strip() == str(ano):\n",
    "                return True\n",
    "\n",
    "    except requests.exceptions.RequestException as e:\n",
    "        print(f\"Erro na requisição à SciELO: {e}\")\n",
    "\n",
    "    return False"
   ]
  },
  {
   "cell_type": "code",
   "execution_count": 2,
   "metadata": {},
   "outputs": [
    {
     "data": {
      "text/plain": [
       "False"
      ]
     },
     "execution_count": 2,
     "metadata": {},
     "output_type": "execute_result"
    }
   ],
   "source": [
    "doi = \"https://doi.org/10.1590/S0104-11692008000100023\"\n",
    "titulo = \"Aluminum as a risk factor for Alzheimer's disease\"\n",
    "ano = '2008'\n",
    "verificar_scielo_por_titulo_ano(titulo, ano)"
   ]
  }
 ],
 "metadata": {
  "kernelspec": {
   "display_name": "Python 3",
   "language": "python",
   "name": "python3"
  },
  "language_info": {
   "codemirror_mode": {
    "name": "ipython",
    "version": 3
   },
   "file_extension": ".py",
   "mimetype": "text/x-python",
   "name": "python",
   "nbconvert_exporter": "python",
   "pygments_lexer": "ipython3",
   "version": "3.11.2"
  }
 },
 "nbformat": 4,
 "nbformat_minor": 2
}
