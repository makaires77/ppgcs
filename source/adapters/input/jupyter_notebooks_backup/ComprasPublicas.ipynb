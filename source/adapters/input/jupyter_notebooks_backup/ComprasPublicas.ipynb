{
 "cells": [
  {
   "cell_type": "code",
   "execution_count": 16,
   "metadata": {},
   "outputs": [
    {
     "name": "stdout",
     "output_type": "stream",
     "text": [
      "Defaulting to user installation because normal site-packages is not writeable\n",
      "\u001b[31mERROR: Could not find a version that satisfies the requirement BpmnEngine (from versions: none)\u001b[0m\u001b[31m\n",
      "\u001b[0m\u001b[31mERROR: No matching distribution found for BpmnEngine\u001b[0m\u001b[31m\n",
      "\u001b[0m"
     ]
    }
   ],
   "source": [
    "# !pip3 install bpmn-python\n",
    "!pip install BpmnEngine\n"
   ]
  },
  {
   "cell_type": "code",
   "execution_count": 12,
   "metadata": {},
   "outputs": [],
   "source": [
    "# !pip install git+https://github.com/vasudevan-palani/pybpmn"
   ]
  },
  {
   "cell_type": "code",
   "execution_count": 2,
   "metadata": {},
   "outputs": [
    {
     "data": {
      "text/plain": [
       "True"
      ]
     },
     "execution_count": 2,
     "metadata": {},
     "output_type": "execute_result"
    }
   ],
   "source": [
    "# Verificando se a biblioteca bpmn-python está instalada\n",
    "import importlib.util\n",
    "\n",
    "# Verificando a disponibilidade da biblioteca\n",
    "bpmn_python_spec = importlib.util.find_spec(\"bpmn_python\")\n",
    "is_bpmn_python_installed = bpmn_python_spec is not None\n",
    "is_bpmn_python_installed\n",
    "\n"
   ]
  },
  {
   "cell_type": "code",
   "execution_count": 6,
   "metadata": {},
   "outputs": [],
   "source": [
    "# import os\n",
    "# os.listdir()"
   ]
  },
  {
   "cell_type": "code",
   "execution_count": null,
   "metadata": {},
   "outputs": [],
   "source": [
    "instance = BpmnProcess()\n",
    "instance.start_process(open(\"caminho_para_o_arquivo_bpmn.xml\", \"r\").read(), Handler())\n"
   ]
  },
  {
   "cell_type": "code",
   "execution_count": 15,
   "metadata": {},
   "outputs": [
    {
     "ename": "ImportError",
     "evalue": "cannot import name 'BpmnProcess' from 'pybpmn' (/home/mak/.local/lib/python3.10/site-packages/pybpmn/__init__.py)",
     "output_type": "error",
     "traceback": [
      "\u001b[0;31m---------------------------------------------------------------------------\u001b[0m",
      "\u001b[0;31mImportError\u001b[0m                               Traceback (most recent call last)",
      "\u001b[1;32m/home/mak/gml_classifier-1/source/adapters/input/jupyter_notebooks/00_ComprasPublicas.ipynb Célula 6\u001b[0m line \u001b[0;36m1\n\u001b[0;32m----> <a href='vscode-notebook-cell:/home/mak/gml_classifier-1/source/adapters/input/jupyter_notebooks/00_ComprasPublicas.ipynb#X11sZmlsZQ%3D%3D?line=0'>1</a>\u001b[0m \u001b[39mfrom\u001b[39;00m \u001b[39mpybpmn\u001b[39;00m \u001b[39mimport\u001b[39;00m BpmnProcess\n",
      "\u001b[0;31mImportError\u001b[0m: cannot import name 'BpmnProcess' from 'pybpmn' (/home/mak/.local/lib/python3.10/site-packages/pybpmn/__init__.py)"
     ]
    }
   ],
   "source": [
    "from pybpmn import BpmnProcess\n"
   ]
  },
  {
   "cell_type": "code",
   "execution_count": 7,
   "metadata": {},
   "outputs": [
    {
     "ename": "IndexError",
     "evalue": "list index out of range",
     "output_type": "error",
     "traceback": [
      "\u001b[0;31m---------------------------------------------------------------------------\u001b[0m",
      "\u001b[0;31mIndexError\u001b[0m                                Traceback (most recent call last)",
      "\u001b[1;32m/home/mak/gml_classifier-1/source/adapters/input/jupyter_notebooks/00_ComprasPublicas.ipynb Célula 4\u001b[0m line \u001b[0;36m8\n\u001b[1;32m      <a href='vscode-notebook-cell:/home/mak/gml_classifier-1/source/adapters/input/jupyter_notebooks/00_ComprasPublicas.ipynb#W4sZmlsZQ%3D%3D?line=5'>6</a>\u001b[0m \u001b[39m# Carregar o XML BPMN\u001b[39;00m\n\u001b[1;32m      <a href='vscode-notebook-cell:/home/mak/gml_classifier-1/source/adapters/input/jupyter_notebooks/00_ComprasPublicas.ipynb#W4sZmlsZQ%3D%3D?line=6'>7</a>\u001b[0m bpmn_diagram \u001b[39m=\u001b[39m diagram\u001b[39m.\u001b[39mBpmnDiagramGraph()\n\u001b[0;32m----> <a href='vscode-notebook-cell:/home/mak/gml_classifier-1/source/adapters/input/jupyter_notebooks/00_ComprasPublicas.ipynb#W4sZmlsZQ%3D%3D?line=7'>8</a>\u001b[0m bpmn_diagram\u001b[39m.\u001b[39;49mload_diagram_from_xml_file(\u001b[39m'\u001b[39;49m\u001b[39mcompras001.xml\u001b[39;49m\u001b[39m'\u001b[39;49m)\n",
      "File \u001b[0;32m~/.local/lib/python3.10/site-packages/bpmn_python/bpmn_diagram_rep.py:63\u001b[0m, in \u001b[0;36mBpmnDiagramGraph.load_diagram_from_xml_file\u001b[0;34m(self, filepath)\u001b[0m\n\u001b[1;32m     55\u001b[0m \u001b[39mdef\u001b[39;00m \u001b[39mload_diagram_from_xml_file\u001b[39m(\u001b[39mself\u001b[39m, filepath):\n\u001b[1;32m     56\u001b[0m \u001b[39m    \u001b[39m\u001b[39m\"\"\"\u001b[39;00m\n\u001b[1;32m     57\u001b[0m \u001b[39m    Reads an XML file from given filepath and maps it into inner representation of BPMN diagram.\u001b[39;00m\n\u001b[1;32m     58\u001b[0m \u001b[39m    Returns an instance of BPMNDiagramGraph class.\u001b[39;00m\n\u001b[1;32m     59\u001b[0m \n\u001b[1;32m     60\u001b[0m \u001b[39m    :param filepath: string with output filepath.\u001b[39;00m\n\u001b[1;32m     61\u001b[0m \u001b[39m    \"\"\"\u001b[39;00m\n\u001b[0;32m---> 63\u001b[0m     bpmn_import\u001b[39m.\u001b[39;49mBpmnDiagramGraphImport\u001b[39m.\u001b[39;49mload_diagram_from_xml(filepath, \u001b[39mself\u001b[39;49m)\n",
      "File \u001b[0;32m~/.local/lib/python3.10/site-packages/bpmn_python/bpmn_diagram_import.py:38\u001b[0m, in \u001b[0;36mBpmnDiagramGraphImport.load_diagram_from_xml\u001b[0;34m(filepath, bpmn_diagram)\u001b[0m\n\u001b[1;32m     36\u001b[0m document \u001b[39m=\u001b[39m BpmnDiagramGraphImport\u001b[39m.\u001b[39mread_xml_file(filepath)\n\u001b[1;32m     37\u001b[0m \u001b[39m# According to BPMN 2.0 XML Schema, there's only one 'BPMNDiagram' and 'BPMNPlane'\u001b[39;00m\n\u001b[0;32m---> 38\u001b[0m diagram_element \u001b[39m=\u001b[39m document\u001b[39m.\u001b[39;49mgetElementsByTagNameNS(\u001b[39m\"\u001b[39;49m\u001b[39m*\u001b[39;49m\u001b[39m\"\u001b[39;49m, \u001b[39m\"\u001b[39;49m\u001b[39mBPMNDiagram\u001b[39;49m\u001b[39m\"\u001b[39;49m)[\u001b[39m0\u001b[39;49m]\n\u001b[1;32m     39\u001b[0m plane_element \u001b[39m=\u001b[39m diagram_element\u001b[39m.\u001b[39mgetElementsByTagNameNS(\u001b[39m\"\u001b[39m\u001b[39m*\u001b[39m\u001b[39m\"\u001b[39m, \u001b[39m\"\u001b[39m\u001b[39mBPMNPlane\u001b[39m\u001b[39m\"\u001b[39m)[\u001b[39m0\u001b[39m]\n\u001b[1;32m     40\u001b[0m BpmnDiagramGraphImport\u001b[39m.\u001b[39mimport_diagram_and_plane_attributes(diagram_attributes, plane_attributes,\n\u001b[1;32m     41\u001b[0m                                                            diagram_element, plane_element)\n",
      "\u001b[0;31mIndexError\u001b[0m: list index out of range"
     ]
    }
   ],
   "source": [
    "import bpmn_python.bpmn_diagram_rep as diagram\n",
    "import bpmn_python.bpmn_diagram_layouter as layouter\n",
    "import bpmn_python.bpmn_diagram_visualizer as visualizer\n",
    "import matplotlib.pyplot as plt\n",
    "\n",
    "# Carregar o XML BPMN\n",
    "bpmn_diagram = diagram.BpmnDiagramGraph()\n",
    "bpmn_diagram.load_diagram_from_xml_file('compras001.xml')"
   ]
  },
  {
   "cell_type": "code",
   "execution_count": null,
   "metadata": {},
   "outputs": [],
   "source": [
    "# Organizar o layout do diagrama\n",
    "layouter.generate_layout(bpmn_diagram)\n",
    "\n",
    "# Renderizar o diagrama BPMN\n",
    "fig = plt.figure(figsize=(10, 10))\n",
    "visualizer.visualize_diagram(bpmn_diagram, fig=fig)\n",
    "plt.show()"
   ]
  }
 ],
 "metadata": {
  "kernelspec": {
   "display_name": "Python 3",
   "language": "python",
   "name": "python3"
  },
  "language_info": {
   "codemirror_mode": {
    "name": "ipython",
    "version": 3
   },
   "file_extension": ".py",
   "mimetype": "text/x-python",
   "name": "python",
   "nbconvert_exporter": "python",
   "pygments_lexer": "ipython3",
   "version": "3.10.12"
  }
 },
 "nbformat": 4,
 "nbformat_minor": 2
}
