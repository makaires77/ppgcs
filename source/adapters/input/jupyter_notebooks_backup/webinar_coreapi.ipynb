{
 "cells": [
  {
   "cell_type": "markdown",
   "metadata": {},
   "source": [
    "# Entidades disponíveis na API CORE CORE v3"
   ]
  },
  {
   "cell_type": "markdown",
   "metadata": {},
   "source": [
    "### Provedores de dados\n",
    "Dá acesso ao conjunto de entidades que oferecem dados ao CORE. Contém repositórios (institucionais e disciplinares), servidores de preprints, periódicos e editoras.\n",
    "\n",
    "### Journals\n",
    "Este conjunto de dados contém todos os títulos de periódicos incluídos na coleção CORE. Além disso, você pode pesquisar e recuperar qualquer periódico, mesmo que não seja um provedor de dados CORE.\n",
    "\n",
    "### Works\n",
    "Estas são as entidades que representam uma investigação, por exemplo, artigos de investigação, teses, etc. No total, é uma versão desduplicada e enriquecida de registos.\n",
    "\n",
    "### Outputs\n",
    "As saídas são uma representação de um Trabalho em um provedor de dados. Os dados não são enriquecidos e refletem exatamente o conteúdo colhido do provedor de dados.\n",
    "\n",
    "### Search (Procurar)\n",
    "Pesquise na coleção de entidades CORE.\n",
    "\n",
    "### Recommender (Recomendar)\n",
    "Uma solução líder de recomendação de artigos de pesquisa.\n",
    "\n",
    "### Discovery (Descobrir)\n",
    "Acesso com um clique a cópias gratuitas de artigos de pesquisa sempre que você acessar o acesso pago."
   ]
  },
  {
   "cell_type": "markdown",
   "metadata": {},
   "source": [
    "### Consultando conjuntos de dados acima de 10000 registros\n",
    "A API é ótima para pequenas consultas e acesso rápido aos dados CORE. Para consultas maiores, recomendamos que você use o conjunto de dados CORE . O tamanho máximo para um conjunto de resultados usando a API é de 10.000 resultados. \n",
    "\n",
    "Para obter conjuntos de dados maiores, os endpoints de pesquisa oferecem a possibilidade de consultas de rolagem. Ao anexar um parâmetro chamado, scroll o sistema fornecerá um ID que você pode usar para realizar consultas maiores. Nosso exemplo mostrará como usá-lo. Tenha em mente que realizar essas consultas tem um impacto maior no desempenho e estamos limitando-as de forma mais estrita do que as consultas normais."
   ]
  },
  {
   "cell_type": "markdown",
   "metadata": {},
   "source": [
    "## Executando consultas à API COREv3"
   ]
  },
  {
   "cell_type": "markdown",
   "metadata": {},
   "source": [
    "### 1. Register for the CORE API https://core.ac.uk/services/api\n"
   ]
  },
  {
   "cell_type": "code",
   "execution_count": 1,
   "metadata": {},
   "outputs": [],
   "source": [
    "import os\n",
    "import json\n",
    "import pandas\n",
    "import hashlib\n",
    "import requests\n",
    "import itertools\n",
    "import networkx as nx\n",
    "import seaborn as sns\n",
    "import matplotlib.pyplot as plt\n",
    "from datetime import datetime\n",
    "from operator import itemgetter\n",
    "from matplotlib import rcParams\n",
    "rcParams['figure.figsize'] = 11.7,8.27\n",
    "\n",
    "def pretty_json(json_object):\n",
    "    print(json.dumps(json_object, indent=2))"
   ]
  },
  {
   "cell_type": "code",
   "execution_count": 2,
   "metadata": {},
   "outputs": [],
   "source": [
    "# Acessar as API keys no sistema local\n",
    "def apikeys(api):\n",
    "    # Obter caminho absoluto para a pasta home do usuário\n",
    "    home_dir = os.path.expanduser(\"~\")\n",
    "\n",
    "    # Criar caminho completo para o arquivo secrets.json\n",
    "    secrets_file_path = os.path.join(home_dir, \"secrets.json\")\n",
    "\n",
    "    # Verificar se o arquivo existe\n",
    "    if os.path.exists(secrets_file_path):\n",
    "        # Abra o arquivo secrets.json para leitura\n",
    "        with open(secrets_file_path, 'r') as secrets_file:\n",
    "            secrets = json.load(secrets_file)\n",
    "        try:\n",
    "            # Acessar as chaves de API\n",
    "            api_key = secrets[api+\"_api_key\"]\n",
    "            return api_key\n",
    "        except:\n",
    "            print(f\"Chave para API '{api}' não cadastrada em secrets.json\")\n",
    "            return None   \n",
    "    else:\n",
    "        print(\"O arquivo secrets.json não foi encontrado na pasta home.\")"
   ]
  },
  {
   "cell_type": "markdown",
   "metadata": {},
   "source": [
    "Baixar todos os identificadores do Data Provider usando a pesquisa de varredura e rolagem para gerar um conjunto de dados contendo todos os identificadores dos registros de um provedor de dados."
   ]
  },
  {
   "cell_type": "code",
   "execution_count": 11,
   "metadata": {},
   "outputs": [
    {
     "name": "stdout",
     "output_type": "stream",
     "text": [
      "https://api.core.ac.uk/v3/search/works?q=_exists_:doi&limit=1\n"
     ]
    },
    {
     "data": {
      "text/plain": [
       "{'totalHits': 60410043,\n",
       " 'limit': '1',\n",
       " 'offset': 0,\n",
       " 'scrollId': None,\n",
       " 'results': [{'acceptedDate': '2003-03-11T00:00:00',\n",
       "   'arxivId': None,\n",
       "   'authors': [{'name': 'Fuller, Duncan'}, {'name': 'Jonas, Andrew'}],\n",
       "   'citationCount': None,\n",
       "   'contributors': ['Duncan'],\n",
       "   'outputs': ['https://api.core.ac.uk/v3/outputs/353601649',\n",
       "    'https://api.core.ac.uk/v3/outputs/4147554'],\n",
       "   'createdDate': '2012-06-01T18:32:03',\n",
       "   'dataProviders': [{'id': 162,\n",
       "     'name': '',\n",
       "     'url': 'https://api.core.ac.uk/v3/data-providers/162',\n",
       "     'logo': 'https://api.core.ac.uk/data-providers/162/logo'},\n",
       "    {'id': 4786,\n",
       "     'name': '',\n",
       "     'url': 'https://api.core.ac.uk/v3/data-providers/4786',\n",
       "     'logo': 'https://api.core.ac.uk/data-providers/4786/logo'}],\n",
       "   'depositedDate': '2008-05-22T13:01:00',\n",
       "   'abstract': 'This paper provides a critical overview of recent developments in British credit union development, and contributed to the broader analysis of alternative financial/economic spaces and (the geographies of) alterity. The paper was underpinned by a wide range of local, national and international conference presentations including the National Association of Credit Union Workers, Birmingham, 2001; Combating Financial Exclusion, Salford, 2001; Association of American Geographers, New York, 2001, New Orleans, 2003; Alternative Economic Spaces, Hull, 2005; and discussions with local user communities throughout the UK (including through non-academic publishing, such as SCCD news and New Start articles)',\n",
       "   'documentType': 'research',\n",
       "   'doi': '10.1111/1467-8330.00227',\n",
       "   'downloadUrl': 'https://core.ac.uk/download/4147554.pdf',\n",
       "   'fieldOfStudy': None,\n",
       "   'fullText': '1INSTITUTIONALISING FUTURE GEOGRAPHIES OF FINANCIAL\\nINCLUSION: NATIONAL LEGITIMACY VERSUS LOCAL AUTONOMY\\nIN THE BRITISH CREDIT UNION MOVEMENT\\nPRE-PUBLICATION DRAFT SUBMITTED TO ANTIPODE 16/07/01\\nDuncan Fuller\\nDivision of Geography and Environmental Management, University of Northumbria at\\nNewcastle, Newcastle upon Tyne, UK; e-mail: Duncan.Fuller@unn.ac.uk\\nand\\nAndrew E G Jonas\\nDepartment of Geography, University of Hull, Hull, UK; e-mail:\\nA.E.Jonas@geo.hull.ac.uk\\nIn Great Britain, financial withdrawal and community economic decline have focused attention\\non the capacity of locally “alternative” financial institutions to combat social and financial\\nexclusion. This paper examines one such institution, the residential or “community” credit union,\\nwhich provides a low-cost source of credit for members drawn from a common bond area\\n2usually based upon place of residence and/or work. Although community credit unions have\\ntraditionally been seen as providing individuals and communities with the opportunity to access\\ncredit and savings facilities in areas where there has been contraction in bank and building\\nsociety provision (the financial “mainstream”), ongoing attempts exist to move away from the\\ntraditional role of community credit unions. This transition has set up three main challenges for\\nthe British credit union movement, discussed in this paper as follows: (1) a struggle over the\\nattempt to redefine the “model” credit union within the national credit union movement; (2) the\\nchanging regulatory context for credit union development, including attempts to embrace credit\\nunions within New Labour policies on social exclusion; and (3) a “local” challenge, including\\nthe incorporation of credit unions into community economic development initiatives. The paper\\nconsiders how these challenges feed into wider understandings about the social relations,\\ncategorisation and autonomy of locally “alternative” financial institutions. We argue that future\\nresearch on geographies of financial inclusion focusing on “alternative” institutions and their\\nrelationship to the financial mainstream needs to pay close critical attention to potential\\ncontradictions and tensions operating at the different spatial scales\\nIntroduction\\nWhen compared to longstanding concerns of economic geographers in landscapes of production,\\ngeographical research on financial institutions is of a relatively recent vintage (Martin 1999). The\\nfairly young nature of this body of research is reflected in a sustained debate around the manner\\nin which to describe or categorise the myriad institutions that comprise any financial services\\n“industry”. Various terms have been used, often interchangeably in representing similar types of\\n3institution, and differences between various institutions have often been cast in a binary fashion.\\nThese have been based around their formality (formal/informal), aspects of their regulation\\n(regulated/unregulated), their visibility (high-street-based/network based), their motivations\\n(economic outlook/social outlook) and their position within the economy\\n(mainstream/nonmainstream), amongst others. For instance, banks and building societies are\\nvariously described as mainstream, formal, regulated, high-street-based, with a largely economic\\noutlook, and are often set against a range of forms that apparently display the opposite\\ncharacteristics (see, for example, Ford and Rowlingson 1994, 1996; Leyshon 1994; UK Social\\nInvestment Forum 1998). [Au: no UK Social Investment Forum in references. Please provide\\nfull citation.]\\nMore recently, however, attention has focused on the supposed “alternative” nature of a\\nnumber of these forms.1 This focus can be linked to a growing interest in the wider role of\\nmoney in the space economy, especially in relation to the manner in which money serves as “a\\nstore of value, a means of exchange or even a ‘commodity’…[and as] a social relation” (Martin\\n1999:11). [Au: emphasis in original, or yours?] In turn, this has encouraged research on the\\nsocial relations and geographical contexts of local financial institutions and monies, including\\nthose that are presumed to exist and operate with some level of autonomy from the\\nmainstream/formal/high-street-based financial sector. Here it has been suggested that “local\\nmonies…represent highly diverse, and possibly temporary, alternative ways of organising local\\neconomies and communities” (Lee 1999:223).\\nThe possibilities for financial and social empowerment resulting from membership in\\nsuch “alternative” financial forms is exciting, especially in the face of the unyielding and\\nheartless nature of global capital. In this paper, however, we problematise the nature of the\\n4“alternative” in the current British financial services context. Similar to the binary oppositions\\nnoted above, there is often the implication that these forms are alternative to, and distinct from,\\ninstitutions seen as more formal and/or mainstream—that is, that they are peripheral in some\\nsense to a somewhat taken-for granted, nonalternative “core” made up, essentially, of the main\\nbanks and building societies. We argue that such binary categorisations and typologies may in\\nfact be misleading rather than insightful, as well as increasingly unsupportable in a Third-Way\\nBritain in which the distinctions between “alternative” and otherwise are becoming increasingly\\nblurred. [Au: later in the paper you punctuate this term slightly differently – “Third Way”.\\nWhich would you prefer? Also, will your readers be familiar with the term?]\\nFollowing Roger Lee’s work on local monies (see in particular Lee 1996, 1999), we have\\nbecome interested in the capacity of community credit unions to develop into locally\\nautonomous and sustainable alternatives to the financial mainstream. Community credit unions\\nare financial co-operatives that are owned and operated by their members, who are usually drawn\\nfrom a common bond area defined by place of residence and/or work.2 We have been examining\\nlocal capacities for credit union development in selected localities, the absorption of local credit\\nunions into community economic development (CED) initiatives, and trends within the wider\\ncredit union movement as these increasingly affect local development trajectories (Fuller and\\nJonas 1999a, b).3 In this paper, we focus on the growing interrelationships between the local and\\nnational contexts of credit union development. We aim to highlight the manner in which the role,\\nidentity and philosophy of British credit union development is currently being appropriated by\\nthe state (albeit with the help of certain key players from within the credit union movement) and\\ngiven legitimacy through social exclusion policy. This appropriation has a number of important\\nimplications for the future development trends and trajectories of British credit unions and their\\n5role in carving out “spaces of hope” (see Harvey 2000) amidst the “landscapes of poverty and\\ndespair” that have been created through the spatially uneven workings of global finance. [Au: if\\nsecond quoted phrase is also from Harvey, need pp; if not, need citation and pp.]\\nIn Britain, credit unions have traditionally served as a convenient, low-cost way of\\nproviding savings and loans to individual members (Fuller 1998b; McArthur, McGregor and\\nStewart 1993; National Consumer Council 1994). At a time when banks and building societies\\nare restructuring and withdrawing from many localities (Leyshon and Thrift 1997), credit\\nunions—particularly community credit unions—potentially offer a more stable financial and\\ninstitutional presence for people in those localities, especially for those on low incomes. As\\nIllsley and Jackson (1999:158) argue, “Over the past two decades, as poverty has grown and\\nbecome spatially more focused in particular localities, the likelihood of residents from such areas\\ngaining access to affordable financial services has declined, as banks and building societies have\\nbeen modernised and rationalised”. This is not to suggest that credit unions offer the only\\nfinancial alternatives in these areas, or that the only reason for their development is to replace\\ndwindling mainstream representation (Ford and Rowlingson 1996). Rather, along with other\\n“local monies” like Local Exchange Trading Systems (LETS), credit unions are recognised to be\\nincreasingly vital to the economic stability of localities and communities otherwise adversely\\naffected by economic restructuring and financial withdrawal (Conaty and Mayo 1997; Fitchew\\n1998).\\nThis role has been given added significance by the Labour Government, which now\\nviews support for credit union development as central to its policies on social and financial\\nexclusion (Her Majesty’s Government 1999; Her Majesty’s Treasury 1998a, b, 1999a, b, c;\\nSocial Exclusion Unit 1998). As with other features of Third Way politics under New Labour\\n6(Giddens 1998), the aim is not to challenge the hegemonic position of global finance within the\\nwider British economy but to encourage these alternative financial institutions to develop\\nalongside the mainstream economy. Recognising the growing interest on the part of New Labour\\nin what credit unions are or should be, representatives of the wider credit union movement have\\ncalled for credit unions to adopt a “new direction” (Her Majesty’s Treasury 1999c:9). The\\nquestion that interests us here is the extent to which the increasing political legitimacy of credit\\nunions in Britain compromises their role as “stand-alone” providers of credit to individuals in\\nparticular localities. [Au: are scare quotes needed?]\\nEvidently, one of the principle attractions of community credit unions is that they\\npotentially offer individuals and communities real alternatives to the mainstream financial sector\\nin those localities. In this respect, credit union development has tended to follow CED models\\nthat are strongly influenced by concepts of social capital and community empowerment rather\\nthan by mainstream theories of local economic development. These models emphasise\\n“restructuring for community” rather than “restructuring for capital” (Haughton 1999a). [Au:\\nneed pp. for quotes.] Traditionally, therefore, credit unions have been encouraged to develop\\nindependently from the financial mainstream, drawing upon associations, networks and\\ncapacities available within localities and often supported by local authorities (see, eg, Illsley and\\nJackson 1999). However, we suggest that the main thrust of change within the wider credit union\\nmovement seems to be in the opposite direction, towards increased links with mainstream\\nfinancial institutions and a more commercial orientation based around a “top-down” national\\nmodel rather than “bottom-up” or community-based models. [Au: are scare quotes needed?]\\nCompeting and potentially noncompatible models of credit union development are implied in\\nrecent debates within the movement, in the ways in which the movement has sought to shape\\n7legislative debates on financial reform and, increasingly, in terms of how policymakers have\\nenvisioned the wider social role of credit unions. We argue, therefore, that locally autonomous\\ndevelopment is likely to become increasingly difficult to realise within the British credit union\\nmovement as it is currently evolving.\\nWe structure our argument around what we see as three main challenges facing the credit\\nunion movement. First, we focus on an emerging tension between proponents of what is now\\nseen as the “old” community credit union model versus those who argue for a “new” and more\\n“commercialised” (yet at the same time socially inclusive) alternative “national” model. [Au:\\nare scare quotes needed?] Second, we examine the credit union movement’s attempts to\\ninfluence the national policy and regulatory landscape, most notably through the activities of the\\nCredit Union Taskforce, and the progress being made on the reform of British credit union\\nlegislation, possibly “the most restrictive credit union legislation in the world” (Fitchew 1998:1).\\nThird, we briefly consider how these factors intersect with what we have termed the “local\\nchallenge” facing credit union development: that is, the connections and linkages (or lack of\\nthem) between idealised visions of community credit unions, the roles they are expected to\\nperform and the harsh realities of development at a local level. In the concluding section, we\\ndiscuss how all of these challenges highlight a number of issues that will be of concern both\\nwithin and outside the movement in the coming years.\\nChanges and Challenges I: Transforming the “Old” Credit Union Model\\nWithin the British credit union movement, the notions of what a credit union is and who it is for\\nrepresent increasingly contested concepts. In historical terms, a range of philosophical and\\nideological perspectives on these issues have been most clearly reflected through the main\\n8national credit union organisations and their proponents, the National Federation of Credit\\nUnions (NFCU) and the Association of British Credit Unions Limited (ABCUL) (Berthoud and\\nHinton 1989). The NFCU has recently gone into voluntary liquidation; some former members\\nare currently in the process of establishing an alternative organisation, likely to represent similar\\nvalues to those of the NFCU. [Au: this sentence reads somewhat parenthetically; would it\\nwork for you as an endnote?] These organisations are actively involved in national debates\\nabout the future of credit unions in Britain and their role in countering social and financial\\nexclusion.\\nThe traditional perception of the community credit union is that of “the poor person’s\\nbank”. In supporting this view, credit union development has been encouraged by many local\\nauthorities in Britain and espoused as a panacea for “community” development. Community\\ncredit unions, in particular, have been adopted as core features of local antipoverty initiatives.\\nThey have been seen, and in many policymaking circles continue to be seen, as serving primarily\\nthe financial needs of impoverished communities (eg, “sink estates” in the larger cities), but\\nbeyond this their contribution to broader societal goals has been viewed as limited at best\\n(Barnekov and Jabber-Bey 1993; Illsley and Jackson 1999; McArthur, McGregor and Stewart\\n1993; but see West 1999).\\nIndeed, the extent to which they have actually demonstrated these claims in practice is\\nperhaps even more limited (Fuller 1998b, 2000a). Recently this perception has been reinforced\\nby research that has identified an apparent inability on the part of some community credit unions\\nto generate the revenue necessary to make a fundamental impact on the financial circumstances\\nof those living (or working) within their predefined common bond areas (Jones 1998b). It is now\\nbeing argued by some groups within the credit union movement that, as a consequence of trying\\n9to fulfil their community role, many credit unions are experiencing difficulties in developing into\\nlocally sustainable alternative sources of credit and finance for all potential members within\\nthese areas (Jones 1998b). At the same time, although many recognise that there is considerable\\npotential for the further development of the credit union movement in Britain and for broadening\\ncredit unions’ social and geographical bases, there is also uncertainty as to what form this\\ndevelopment will take.4 This has created a space for arguments in favour of transforming the\\n“old” credit union development model into a “new” more inclusive commercial model, perhaps\\nalong the lines of a US model, where credit unions operate more like mainstream financial\\ninstitutions such as banks (see Kaushik and Lopez 1994).\\nIn Britain, it appears that credit unions have mainly developed in the old industrial\\nregions as well as in places for the most part vacated by institutions in the mainstream financial\\nsector. We do not have space here for a comprehensive review. Suffice it to say that there are at\\npresent well over 600 registered credit unions across the country. These range in size from those\\nwith as few as 50 members to those with membership in the low thousands. Whilst the majority\\nare community credit unions, there are also a growing number of employer- and industrial-\\nsector-based credit unions. In terms of geographical presence, the movement has a relatively\\nstrong membership presence in Scotland (where there are about 120 credit unions concentrated\\nin urban centres such as Strathclyde and Dundee [Illsley and Jackson 1999:158]), the north of\\nEngland (Manchester, Sheffield and Newcastle) and the Midlands (Birmingham). Increasing\\nnumbers of credit unions are developing in urban and rural areas in the south of England. In all\\nareas, urban and rural, there is recognition that there is vast potential for further growth,\\nespecially as branches of banks and building societies continue to close.5 However, such growth\\ntrends depend upon the kinds of credit union development models that take hold in particular\\n10\\nlocalities.\\nIn seeking routes to the expansion of the British credit union movement, the potential for\\nfurther growth is increasingly being articulated in the same breath as a growing concern over the\\n“health” of credit unions and the “success” of community credit unions in particular (see Jones\\n1998a). [Au: are scare quotes needed on these two words, here and below?] In many ways,\\nthe perceived potential, notions of “success” and the concern for the “health” of the movement\\ngo hand in hand; they represent intrinsically related and critical questions for the future of the\\nmovement in Britain. Such issues are currently at the forefront of the movement itself and the\\nwider political environment in Britain. In terms of their contribution to policies on social and\\nfinancial exclusion, credit unions are currently very much en vogue, particularly amongst\\npolicymakers and politicians at all levels of the UK state (Fuller and Jonas 1999a, b, c). [Au: no\\nFuller and Jonas 1999c in references. Please provide a full citation.] Credit union activists\\nargue that the movement must take advantage of this current position of favour, and use this\\npositive climate surrounding credit unions to its own advantage in tackling the barriers currently\\nseen to hinder credit union development, thereby establishing real alternatives to the financial\\nmainstream.\\nIt has long been acknowledged within the credit union movement that, in most cases,\\n“industrial” (employer-based) credit unions are “easier” to develop and run than their\\ncommunity-based counterparts. [Au: are scare quotes needed?] This is mainly due to the fact\\nthat employer credit unions can take advantage of pre-existing membership fields, operating\\nsystems, routes of information and publicity and so on that most employers already possess.\\nThese resources can be manipulated at a relatively low cost to serve the credit union’s functions.\\nThis compares to community credit unions, which rely upon externally available organisational\\n11\\ncapacities such as volunteers or part-time staff funded by local authorities (Illsley and Jackson\\n1999). It is fair to argue that industrial credit unions have also been seen as being more\\n“successful” than their community counterparts, as measured by their asset/membership ratio.\\nHowever, there is increasing evidence that this “success” is relative: it owes much to the lack of\\ndevelopment of community credit unions as to any intrinsic achievements on the part of\\nemployer-based credit unions. [Au: are italics needed?]\\nTable 1 illustrates this point by comparing the asset base of the two types of credit\\nunions. The table highlights the fact that, in 1996, residential credit unions outnumbered\\nemployee credit unions by more than five to one, and yet had a lower level of overall\\nmembership. Community credit unions have a considerably lower average level of membership\\nthan those that are employee-based. Many residential credit unions have fewer than 200\\nmembers, and have had for some time. For example, of the 11 residential credit unions operating\\nin Newcastle-upon-Tyne in June 1996, eight had membership levels below 100. The five credit\\nunions operating in Dundee in 1997, four of which were community-based, had a total\\nmembership of 1500 (Illsley and Jackson 1999). Crucially, however, residential credit unions\\naccounted for only 24.1% of total credit union assets in 1996, despite having over 45% of all\\nmembers, a ratio that has declined steadily since the early 1990s.\\nIn light of these development trends, questions have been raised within the movement as\\nto the extent of the impact community credit unions are having within their common bond areas.\\nAttempts are currently being made within the wider credit union movement to transform credit\\nunions as local providers of credit and finance for all. These attempts build upon and feed into\\nresearch undertaken by Liverpool John Moores University, ABCUL, English Community\\nEnterprise Partnership, and the Co-operative Bank, supported by the Local Government\\n12\\nManagement Board and the Local Government Association (Jones 1998a, b). [Au: do later\\ncitations in your paper to “the Jones report” refer to the report on this research? If so, do\\nthey refer to both Jones 1998a and Jones 1998b, or only one of them?] This research has\\nhighlighted a range of “problems” community credit unions face, including inability to grow,\\nlack of financial self-sufficiency and reliance upon overworked volunteers (Jones 1998b:4). [Au:\\nare scare quotes needed?] While noting the role played by restrictive legislation and weak and\\ndisunited national representation in contributing to these problems (see Fuller 2000b on these\\nissues), the research also characterised community credit unions as representing an “old” model\\nof credit union development. This model\\n…typically assumes community credit unions to be small (maybe only a few\\nhundred members) and entirely operationally organised by volunteers. These\\nvolunteers, irrespective of background and experience, are assumed to be able to\\ndevelop the skills and knowledge to run the credit union without any particular\\ndifficulty so long as they are able to access the relevant training programme. It is\\nfurther assumed that most of these credit unions will require grants or other\\nexternal funding for some considerable time as they are not expected to generate\\nsignificant income from making loans to members. (Jones 1998b) [Au: need pp.\\nfor quote. Also, emphasis in original, or yours?]\\nThe Jones report suggests that the “old” model of credit union development is ultimately\\nunsustainable because it tends to concentrate more on community activity, and on the personal\\nand educational needs of the volunteers, than on offering a quality financial service to all people\\n13\\napplicable within the common bond. [Au: what do you mean by “applicable” here?] Indeed, at\\na recent Local Economy Policy Unit seminar, a senior member of ABCUL referred to this model\\nas being “flawed” in nature. Since there is little scope for membership expansion under the “old”\\nmodel, it is suggested that credit unions need to work towards a “new” model.\\nIn the report, Jones (1998b) suggests that the “new” model will require: a redefinition of\\nthe concept of “small” within the credit union context; a reorientation of the roles of credit union\\nvolunteers; the development of a more professional approach to providing a financial service;\\nand the employment of paid staff to carry out day-to-day business operations. These changes\\nmight encourage mergers, takeovers and even some closures of existing community credit\\nunions. In the absence of any change in direction, groups operating under the “old” model would\\nstruggle on, but without an increasing level of support it would be hard to imagine credit unions\\ncontributing effectively to wider societal goals. For example, a local community development\\nworker in Kingston-upon-Hull (one of the localities we have studied in some depth and in which\\ncredit union development has focussed upon the city’s peripheral housing estates, which include\\nsome extremely impoverished neighbourhoods) argued that it would take a long time before any\\noperational community credit union began to reach those who were most needy, if indeed it ever\\nreached them. [Au: in what source did the worker make this argument?] Such credit unions\\nwould continue to depend on state aid and volunteer workers to survive.\\nAny attempt to make credit unions in Britain more financially and socially sustainable\\nwould therefore seem to involve a widespread and controversial restyling of the “old” model of\\ncredit union development towards a “new” model. This “new” model would, it is proposed, be\\nbased on the interlinked aims of being commercially successful, mutually committed and\\nsocially inclusive. However, this is not to suggest that there is widespread consensus within the\\n14\\ncredit union movement about the future direction of change. For instance, the National\\nAssociation of Credit Union Workers (NACUW) has voiced its criticism regarding a number of\\naspects contained within the research (NACUW 1999b). Although it shares the Jones report’s\\nconcerns regarding those credit unions that appear to be failing, and acknowledges the workers’\\nown attempts to promote a more “business-like” approach within credit union development more\\ngenerally, NACUW (1999b:2) has suggested that “it would be a great failure if credit unions\\nbecame so obsessed with and focused on their economic purpose that they became just another\\nfinancial institution”. [Au: are scare quotes needed?] NACUW (1999b:2) has criticised the\\nmanner in which the report categorises community credit unions as based on a “voluntary sector”\\nbusiness model, preferring instead that these credit unions be referred to as “community-based,\\nor owned, mutual financial institutions”. NACUW has also suggested that more emphasis should\\nhave been given to the role of national organisations, such as ABCUL and the Registry of\\nFriendly Societies, in encouraging an environment in which community credit unions have\\nremained for the most part small-scale volunteer-run operations.\\nThere is increasing evidence of a potential rift within the credit union movement\\nregarding the future development of credit unions in Britain. The transformation of the “old”\\ncredit union development model lies (crudely at least) more firmly alongside instrumentalist\\ninterpretations of credit union development (Berthoud and Hinton 1989). [Au: more firmly\\nthere than where?] It is perhaps no surprise that ABCUL, whose own philosophy would seem\\nto mirror such claims, is at the forefront of these moves, and that the organisation has been very\\nsuccessful in utilising the research findings to effect and further its own agenda (for example, see\\nthe extensive and somewhat uncritical usage of the research findings within Her Majesty’s\\nTreasury 1999a, b, c and Local Government Association 1999). [Au: The claims articulated by\\n15\\nNACUW, or in the Jones report? What moves? Also, no Local Government Association in\\nreferences; please provide full citation.] In this respect, a clear need exists to analyse the\\nconsumption of these ideas within the movement as, in many ways the “new” model requires a\\nreassembling of notions both of the credit union model as an “alternative” to the financial\\nmainstream and of what defines a “successful” credit union (Fuller and Jonas 1999a, b, c).\\nMoreover, this requires analysis of the interface between credit union groups (the members, not\\nonly those that run the individual credit unions) and the national representative bodies, and how\\nthese transformations work out “on the ground”. An important development in this context is the\\nrole of credit unions in wider policy debates about social exclusion and financial reform in\\nBritain.\\nChanges and Challenges II: New Labour Policies on Social Exclusion and Financial\\nReform in the UK\\nWe have noted how recent academic interest in “local monies” has opened up the possibility for\\nstudying those financial institutions not directly tied to mainstream sources of credit. Our own\\ninitial interest in community credit unions grew out of the assumption that they indeed provided\\n“alternative” sources of credit. Paradoxically, however, the further development of credit unions\\nin Britain may depend on fostering closer ties between this “alternative” sector and mainstream\\ninstitutions. This in turn relates to the manner in which the British credit union movement is\\ngaining strength in the national arena, seeking to influence state policies and regulations that it\\nhopes will serve to empower people and communities, financially and socially (Fuller and Jonas\\n1999a, b). However, as has been noted, it may be argued that certain sections of the movement—\\nABCUL in particular—are currently more successful in influencing these matters than are others.\\n16\\nThe second challenge facing the credit union movement, therefore, concerns the rapidly\\nchanging policy and regulatory environments of credit union development, and how these\\nenvironments are being influenced by certain ideological perspectives.\\nCredit unions are gradually being absorbed into the mainstream of social and economic\\npolicy making in Britain. Under the leadership of Prime Minister Tony Blair, New Labour has\\nbeen keen to highlight the positive impacts credit unions can make in terms of combating social\\nexclusion and financial withdrawal (Fitchew 1998; Social Exclusion Unit 1998). Recent\\nproposals from Her Majesty’s Government’s Social Exclusion Unit suggest that credit unions are\\nseen in a positive light. These proposals have been derived through work conducted by the Credit\\nUnion Taskforce and the Social Exclusion Unit’s Policy Action Team (PAT) 14. Although the\\nprecise role of credit unions within social exclusion policy remains ambiguous, it is evident that\\ncredit union development is consistent with certain features of Third Way politics. In particular,\\nNew Labour continues to accept the hegemonic position of global finance within the British\\neconomy whilst simultaneously encouraging institutions like credit unions to develop in order to\\ncounter the problems created by financial withdrawal and social exclusion.6 At the same time,\\nhowever, a policy emphasis is developing concerned with fostering stronger ties between\\n“alternative” institutions, as represented in this instance by credit unions, and the financial\\nmainstream.\\nEstablished in 1998, the Credit Union Taskforce had a main objective of helping more\\npeople on low incomes gain access to financial services. This included an exploration of the\\nways in which banks and building societies could help further the development of credit unions\\nlocally. The Taskforce was chaired by Fred Goodwin, Deputy Group Chief Executive of the\\nRoyal Bank of Scotland, and was comprised of senior representatives from banks, building\\n17\\nsocieties and the credit union movement. Its remit was to explore ways in which banks and\\nbuilding societies could work more closely with credit unions to increase their effectiveness,\\nwiden the range of services provided to credit union customers and encourage the continued\\nexpansion of the movement (Her Majesty’s Treasury 1998c). In so doing, it aimed to identify\\nbest practice in these areas and to consider how they could be promoted more widely, as well as\\nto propose new areas for co-operation. In a similar vein, the Social Exclusion Unit’s PAT 14 is\\none of 18 teams set up under the initiative to tackle social exclusion (Social Exclusion Unit\\n1998). This group had a particular emphasis on widening access to financial services.\\nBoth organisations reflect New Labour’s determination to see credit unions play a more\\nemphatic role in countering social and financial exclusion. The government’s central aim is to\\nimprove individual access to financial services, and its has made a range of recommendations to\\nfurther this aim, relating to the credit unions specifically and the financial services sector more\\ngenerally. As Helen Liddell, then Economic Secretary to the Treasury (the remit of which\\nincludes responsibility for credit unions), argued at the launch of the Taskforce:\\nCredit unions have an important role as a place for savings and source of low cost\\ncredit for the less well off. They can also provide a first rung on the ladder of\\nfinancial services for young people. We want to build on that. If banks and credit\\nunions work together we could see more people having access to bank accounts\\nand credit who do not presently do so. (Her Majesty’s Treasury 1998c:1).\\nAt the same time, there is a growing awareness of a number of barriers to credit union\\ndevelopment in Britain along the lines of those identified in the Jones report.\\n18\\nFollowing these proposals, the Economic Secretary to the Treasury, Melanie Johnson\\n(Her Majesty’s Treasury 1999a:1), has recently outlined six main initiatives designed to “help\\npeople in disadvantaged communities excluded from key financial services”. A key emphasis\\nwithin these proposals concerns the need to “boost” credit union development within Britain\\nthrough changes to the regulatory framework for credit unions and the creation of a new Central\\nServices Organisation to support and enhance the role of credit unions. [Au: are scare quotes\\nneeded?]\\nChanges to Credit Union Regulation\\nCurrent regulations governing credit union activity date back to the 1979 Credit Union Act.\\nHowever, recent proposals initiated from the Treasury highlight a number of changes to the\\nlegislation that are likely to affect how credit unions develop and operate in the future. These\\nmeasures are intended to “encourage growth in the movement while retaining credit unions’\\nfocus on providing financial services to the poorer members of society” (Her Majesty’s Treasury\\n1998b:1). Financial reform marks the first steps towards the establishment of a new regulatory\\nregime that is likely to affect this “alternative” sector and its relationship to mainstream financial\\ninstitutions.\\nFinancial deregulation in 1996 did not quell widespread dissatisfaction with current\\nlegislation governing the operation of credit unions throughout England, Scotland and Wales. At\\nthe recent World Council of Credit Unions’ conference in Glasgow, the Chief Registrar of\\nFriendly Societies criticised the 1979 Credit Union Act and provided three reasons for the\\nnecessity for financial reform:\\n19\\n[First, the]…1979 Act restricts very severely the range of services credit unions\\ncan provide to their members and how they can fund themselves. Second, the\\nsystem of supervision and regulation laid down in the Act is rudimentary and the\\npowers of intervention given to the Registry as supervisor are far too inflexible. In\\neffect, if a credit union gets into difficulty, the only options we have are to do\\nnothing or close it down…Last, but not least, UK credit unions have no share\\nprotection scheme. Both we and the credit union movement believe that the surest\\nand quickest way of bringing in a share protection scheme is to make it a statutory\\nrequirement. (Fitchew 1998:1–2)\\nThe deregulatory measures designed to improve the legislative environment are largely in\\naccordance with proposals outlined in 1997 by the Inter-Association Legislative Liaison Group\\n(IALLG). Members of the group included ABCUL, NACUW, NFCU, the Association of\\nIndependent Credit Unions (AICU), and the Scottish League of Credit Unions (SLCU). The\\nIALLG produced a report, entitled Common Ground: National Goals for Improving the Laws\\nGoverning Credit Unions, which argued (IALLG 1997:1) that the current laws governing credit\\nunion operations in the UK “have been a principal impediment to the growth of the movement\\nand its ability to serve its members’ needs”. The report was conducted under the guiding\\nprinciple that “any changes to the Credit Unions Act must preserve and promote the unique\\nnature, structure, philosophy and ethos of credit unions as mutual, democratic and not-for-profit\\nfinancial co-operatives, managed and directed by volunteers and operated for the economic and\\nsocial benefit of their members” (IALLG, 1997:1). Importantly, the Treasury’s 1998 consultation\\ndocument on legislative change, Proposed Amendments to the Credit Unions Act 1979, included\\n20\\nmany of the recommendations contained within this report (Her Majesty’s Treasury 1998a).\\nAfter consultation, this has formed the basis for recent proposals.\\nThe following reforms to credit union legislation have been proposed: increases in the\\nmaximum repayment period for loans; greater flexibility in the common bond requirements;\\nalignment of the maximum amounts that can be held in youth accounts with adult account levels;\\nthe removal of the maximum membership limit for individual credit unions; allowing credit\\nunions to charge for ancillary services; greater flexibility on the disposal of repossessed\\ncollateral; further consultation on increasing the sources from which credit unions can obtain\\ncredit; and greater flexibility on dividend accounts (Her Majesty’s Treasury 1999b). Clearly,\\ntaken as a whole, these measures are intended to further remove the restrictions resulting from\\nthe original 1979 Act. However, as with the Jones report, which in fact forms the basis of some\\nof these proposals, there is an implicit argument that all credit unions should follow, and benefit\\nfrom, financial reform, regardless of their own identity, priorities and philosophical outlook.\\nAlongside these measures, and in light of the “considerable scepticism” surrounding the\\neffectiveness of the current system (Her Majesty’s Treasury 1999c:11), the Treasury has also\\nannounced a new regulatory regime for credit unions based around the Financial Services\\nAuthority (FSA). Both the PAT 14 report and the Credit Union Taskforce report stress the need\\nfor effective regulation and enforcement as a means of protecting depositors, ensuring\\nconfidence and ensuring quality service provision. However, whilst “stronger regulation is the\\nnatural counterpart of a stronger credit union movement” (Social Exclusion Unit 1999: 17), both\\nreports also acknowledge the need for a gradual process of reform, on the grounds that sudden\\nmoves might jeopardise the survival of many small community credit unions, as predicted in the\\nJones report.\\n21\\nThere are two outstanding issues in the financial reform debate. The first relates to the\\nlevel of fees payable to the FSA from credit unions vis-à-vis those of other financial sector\\ninstitutions. The FSA needs to cover its costs, but there are concerns about the impact of such\\nfees on smaller credit unions in particular. The second issue concerns how the FSA will be\\nsensitive to what has been termed the “principle of proportionality”, a somewhat vague reference\\nfor the need to “leave room for weaker credit unions to grow, provided they appear likely to have\\na viable future, rather than threaten them with extermination” (Social Exclusion Unit 1999:17).\\n[Au: need citation and pp. for first phrase, unless it also comes from the Social Exclusion\\nUnit source.] As the PAT 14 report highlights:\\nWhilst it is clear that these measures could enable credit union growth, their\\neffectiveness, assuming they are implemented in due course, will depend on the\\nreadiness and capacity of individual credit unions to exploit the opportunities.\\nThis cannot be taken for granted. Indeed, there may be a danger of too little\\nresponse, particularly from community credit unions, unless there is positive\\nencouragement. (Social Exclusion Unit 1999:13)\\nThis encouragement derives from a second main initiative within the package of regulatory\\nreforms: the creation of a Central Services Organisation geared towards promoting credit union\\ngrowth and development in Britain.\\nThe Central Services Organisation (CSO)\\nThe idea of a CSO comes from countries where the credit union movement has grown\\n22\\nsubstantially and “successfully” and some form of CSO has been present (Her Majesty’s\\nTreasury 1999c). [Au: are scare quotes needed?] Overseas CSOs suggest a range of possible\\nservices that a British equivalent could provide either directly or through out-sourcing to banks\\nand other organisations with skills and expertise in that area. The proposal to establish an\\nequivalent body in Britain provides an intriguing opportunity for banks and building societies to\\nhelp further the development of credit unions in Britain. In short, it represents an opportunity for\\neven closer links between credit unions and the financial mainstream.\\nCSO services might include: back-office processing services to relieve volunteers of\\nbook-keeping and other “administrative” tasks such as bill payments and other transaction\\nservices; assistance with business planning and financial management; assistance with member\\nfinancial education and marketing; the provision of a treasury management facility; assistance\\nwith product development; recycling surpluses from credit unions with an excess of savings to\\nthose with an excess of borrowers; and general encouragement and support at each development\\nstage (Her Majesty’s Treasury 1999c:13; Social Exclusion Unit 1999:16). [Au: are scare quotes\\nneeded?] However, there has been little discussion of how such services may be relevant to\\nthose with a more local, community-focused agenda.\\nThe actual structure of the CSO is yet to be determined. Options include a single body for\\nthe entire UK or a federal/regional structure. It has been suggested that the CSO would carry out\\nmany of the roles currently assigned to local authorities, with local authority money being\\nchannelled through this source for the provision of credit union services. One potential\\nconsequence of this procedure could be the effective standardisation of “local” approaches to\\ncredit union service issues, again possibly benefiting institutions whose service provision\\nphilosophy is in line with central government and ABCUL views. [Au: at what point did a\\n23\\nprevious such benefit occur?]\\nIn addition, it is envisaged that the CSO will work alongside local development agencies,\\nwhich would have an organisational and developmental role, but the extent of influence the CSO\\nmight have in this relationship is unclear. It is argued that the CSO would be of value to the\\nwhole of the movement, bridging and unifying the differences in philosophy that currently\\ncharacterise organisations in the national movement. As the PAT 14 report (Social Exclusion\\nUnit 1999:19) argues, “[t]he establishment of the CSO in particular…would be a significant step\\ntowards providing a central focus for the movement”. However it could also be seen as an\\nattempt to nullify such differences through the need to follow a certain prescribed direction of\\ndevelopment in order to fully “benefit” from the services it might provide. [Au: are scare\\nquotes needed, here and in next sentence?] For instance, further “rewards” for those who\\nembrace this development include a proposal that bank and building society assistance might be\\nachievable through the CSO in the form of capital to enable the establishment of the organisation\\nitself, material gifts such as premises or equipment and the secondment of staff with appropriate\\nexpertise.\\nMany of these proposals, if not all of them, are still open for consultation and change.\\nSpecific details concerning both the regulatory regime (the role of the FSA) and the newly\\nproposed CSO are yet to be decided. It is perhaps too early to speculate on the long-term effects\\nthese changes will have on community credit unions. However, it is clear that the new direction\\ncurrently being recommended for British credit union development accepts many of the premises\\ncontained in the Jones report, to the extent that a mutually beneficial relationship between\\nABCUL and the central government appears to be developing. At a time when credit unions are\\nbeing appropriated by the state under a selective instrumentalist guise, we argue that questions\\n24\\nmust be raised regarding their “alternative” status in relation to the financial mainstream. There\\nis the distinct possibility that credit unions are being groomed into a form of second-tier banking\\nservice, perhaps allowing mainstream players to continue to target the wealthier sections of\\nsociety whilst relieving their conscience (and bad publicity) through participation in the\\ndevelopment of an effective “alternative” for those left behind, but one on a different scale and in\\na different sense than the “alternative” forms highlighted in the recent academic work outlined\\nabove.\\nThis is a critical period for British credit union development and, in particular, for those\\ncredit unions that developed out of an idealist tradition and perspective (Berthoud and Hinton\\n1989). As such, there is a need to consider the politics behind these relationships and whom they\\nwill benefit. There is a need to assess how these aims relate to attempts identified in this work to\\nredirect credit union development as a source of credit and finance for all. Will this entail British\\ncredit unions becoming a source of true competition to the mainstream, or simply part of it?\\nMore generally, future work in this field will need to consider the implications of such issues for\\nthe “alternative” status of the credit union model, alongside other “alternative” sources in Britain\\nin the future. For instance, intriguing questions remain concerning where LETS fit into the\\nBlairite antiexclusion manifesto, and whether they represent an alternative philosophy that is\\nsimply too alternative for the government to stomach (or claim success for). [Au: double use of\\nalternative. Do you want to suggest a synonym for one use, or retain both?]\\nOn a more “local” level, and in relation to use of credit unions within existing or future\\ncommunity economic development initiatives, the relationships between such “national”\\nstrategies, local credit union groups, existing CED initiatives and wider institutions of local\\ngovernance will also merit increased scrutiny. [Au: are scare quotes needed?] We briefly\\n25\\nconsider them here as the third major challenge facing British credit union development in the\\nyears ahead.\\nChanges and Challenges III: The “Local” Challenge\\nThe third challenge for the credit union movement, in all its complexity, relates to how local\\ndevelopment trajectories and experiences can or will influence the direction of the overall\\nmovement. With changes already underway within the movement, alongside impending\\nregulatory and organisational reform, national strategies are likely to affect the goals and\\ndirections of local development(s). At the same time, the contested nature of credit union\\ndevelopment (Fuller 1998a) reflects and is mirrored by the various routes to development already\\nobservable at the local level. Since the movement’s early years (in Britain, the 1960s), credit\\nunions have relied first and foremost on community-based organisational capacities and\\nresources.\\nThis is now changing: in terms of shaping credit union development trajectories, the local\\nand the national scales are becoming increasingly intertwined. In the past, this was not\\nnecessarily the case; aside from credit union workers and volunteers, the key players in credit\\nunion development have been local authorities, which have provided grants for feasibility\\nstudies, set aside premises and in some cases even funded staff. However, although many credit\\nunions continue to develop in conjunction with supportive local authorities (Thomas and Balloch\\n1992), the nature of this “support” appears to vary from area to area, most clearly in terms of\\nwhether credit union development is articulated locally as “community development,”\\n“community economic development,” or “local economic development” (see Fuller 1997). [Au:\\nare scare quotes on “support” needed? Also, if quoted phrases are source quotes, need pp.]\\n26\\nFurthermore, the nature of this relationship is likely to change, not only because the wider\\ncontext of local governance in Britain is changing (see, eg, Cochrane 1993), but also because the\\ncredit union movement itself is beginning to consider, question, adopt or be directed towards\\ngeneralised credit union development models such as that proposed in the Jones report.\\nOne direction in which the local development context is most likely to evolve is through\\nthe increasing legitimacy of CED initiatives. Such initiatives have flourished throughout Britain\\nand the rest of Europe in response to the deindustrialisation of regions once heavily dependent\\nupon manufacturing and, more recently, due to the availability of community regeneration funds\\nfrom national governments and the European Union (see, eg, Amin, Cameron and Hudson 1998,\\n1999; Mayer 1998; Regional Studies Association 1997). Although community credit unions are\\nincreasingly being studied from the vantage point of their contribution to CED, regeneration and\\nthe social economy (West 1999), there remains little overall understanding of which\\ndevelopment strategies are more or less effective in the short or long term, and how these arise\\nfrom the specific economic and political conditions of localities. This lack of understanding takes\\non increased importance when considered in terms of possible attempts to “standardise”\\ndevelopment strategies through organisations such as the CSO. [Au: are scare quotes needed?]\\nIn Britain, CED initiatives have been geared towards enhancing labour market\\nflexibility, addressing chronic unemployment and combating social exclusion (see, eg, Haughton\\n1999b; Lawless et al 1998; Regional Studies Association 1997). Haughton (1999a) characterises\\nCED in terms of an emphasis in developing local economic strategies that assist in “restructuring\\nfor community” rather than “restructuring for capital”. [Au: need pp. for quotes.] These\\nstrategies embrace “a range of approaches to developing more localised economies, which focus\\nless on wealth and job creation and more on creating socially useful goods and services, meeting\\n27\\nlocal needs in ways which maximise the capture of benefits to local residents…” (Haughton\\n1999a:15). Such strategies tend to be grounded in networks and partnerships that are not\\nnecessarily related to mainstream forms of local economic development and are promoted by\\nactors operating at some distance from the dominant governance institutions of a locality (Clavel\\n1986; Fitzgerald 1991; Haughton and While 1999; Jonas 1995). Filion (1998:1115) suggests that\\nCED initiatives tend to be constructed around a local culture “imbued with a deep attachment to\\nthe community and a powerful will to survive in the face of economic adversity”.\\nIt is certainly possible to see how credit union development can be understood from the\\nperspective of such interpretations of CED. However, in the same way that Haughton (1999a:16)\\nsuggests there is no single “model” of CED, it might, in the case of credit unions, become\\nincreasingly difficult in practice to draw a sharp distinction between community-focused and\\nmainstream local development strategies. As we see it, a key issue of struggle in Britain will be\\nwhich credit union “model” is most likely to be adopted in any given local context and how\\nnational developments may frame, impinge upon or restrict such local strategies. Clearly, the\\n“new” model of credit union development suggested in the Jones report might not be consistent\\nwith a community-based approach to credit union development. Whilst this might imply that\\nstrategic choices will still have to be made at the local level regarding appropriate and\\nsustainable development strategies for credit unions, it might also suggest the potential for\\nconflict and repression of difference at the local level.\\nIn order to be sustainable, community credit unions will increasingly need to confront the\\nissue of whether or not to cultivate closer ties to the financial mainstream within or beyond their\\nlocalities and to explore funding and resource opportunities available locally as well as at wider\\nspatial scales. This may involve developing strategies beyond those that emphasise credit union\\n28\\ndevelopment as simply an aspect of CED. Even in the case of CED, as the proposals emanating\\nfrom the national scales become more firmly grounded, credit union organisers will be faced\\nwith the challenge of engaging with institutions—and spatial scales—other than those in their\\nlocal areas (eg, local authorities) in order to obtain resources and financial assistance. In this\\nrespect, different strategies developed within and beyond the immediate locality are likely to\\nshape community credit union development trajectories in the future. In terms of defining\\nfinancial “alternatives” in Britain, the local and the national are becoming increasingly\\nintertwined. [Au: this last phrase repeats one at the outset of the paragraph above beginning\\n“This is now changing:”.]\\nParadoxically, at a time when the credit union movement is facing the potential “top-\\ndown” imposition of a “right way” to develop and operate locally, research on CED in Britain\\nhas begun to move away from generalised, instrumentalist understandings of “best practice”\\ntowards contextual analysis of specific initiatives. [Au: are scare quotes on “best practice”\\nneeded?] Recent studies have demonstrated the variety of different forms that CED takes in\\ndifferent localities and how these local experiences could feed into wider policies and strategies\\nfor combating exclusion in society (Amin, Cameron and Hudson 1998, 1999; Haughton 1999b;\\nMayer 1998). Thus, one aspect of the local challenge could relate to the manner in which CED\\ninitiatives may increasingly focus upon or incorporate community credit unions. With potentially\\ndiffering approaches to credit union development in different localities producing different\\ndevelopment strategies, aims and outcomes, it will be interesting to consider what the net\\ncontribution of such approaches to broader societal aims will be. Moreover, what defines a\\n“successful” credit union is likely to vary from area to area. As such, we suggest that there is a\\nneed for organisers within the movement to reflect on what could well be a wide range of local\\n29\\nroutes to development set within a wide range of collaborative ventures between local credit\\nunion groups, their supporting structures or organisations and local governance, and how these\\nstrategies, in turn, will influence and be influenced by development at other spatial scales. [Au:\\ndouble use of “wide range”. Do you want to suggest a synonym for one use, or retain both?]\\nConclusions\\nThis paper has offered some preliminary reflections upon the potential role of community credit\\nunions in the development of financially sustainable and socially inclusive communities in\\nBritain. We have highlighted a number of key challenges and changes that will confront the\\nmovement over the next few years. In particular, we have commented on the tension between the\\nfinancial stability of credit unions and their social inclusiveness, a tension that manifests in\\ndebates concerning which “model” (or direction) of credit union development to pursue. The\\n“old” model of the community credit unions has often served to provide individuals in their\\ncommunities with access to sources of finance and credit increasingly unavailable within the\\nmainstream financial sector. However, the limitations of this model are being debated within and\\noutside the movement, with increasing calls for a move towards a more commercialised “new”\\nmodel that could involve closer links to mainstream financial institutions. We have also noted\\nhow regulatory and political developments at the national level are likely to strongly affect—and\\npossibly already affect—credit union development trajectories in particular localities. Finally, we\\nhave pointed out that a number of challenges to credit union development remain at the local\\nlevel, particularly in the area of harnessing local strategic capacities available under CED\\ninitiatives.\\nIn our view, there are signs that the credit union movement in Britain is threatened by the\\n30\\npotential of it evolving into a “two-tiered” system that effectively relegates community credit\\nunions to the level of “second-class” financial institutions whose primary responsibility is to\\nredress problems of social and financial exclusion that have in effect been “caused” by\\nmainstream institutions. [Au: are scare quotes needed?] Furthermore, the smaller/idealist credit\\nunions may find themselves ostracised completely from this “new” model view, relegating them\\nto a point even further down the development hierarchy. This is by no means inevitable, but as\\neach “consultation” period passes it looks more likely. As a result, workers and activists within\\nthe movement will have to make some difficult choices regarding what sorts of development\\nmodels to pursue.\\nUnder certain circumstances, we argue, there may be advantages in continuing to see\\ncredit union development as primarily a community concern, or at least as community-based\\nrather than nationally determined. Here, credit union workers will face practical issues to do with\\nfunding and political support. For instance, as noted above, local authorities have played\\nimportant roles in supporting community credit unions, but the nature and direction of their roles\\nmight change as new fiscal pressures are put on them and credit unions look to alternative\\nsources of support and spatial scales, such as central government or the European Union. By the\\nsame token, protecting the “old” model could become a self-defeating strategy, restricting credit\\nunion growth and denying the movement’s capacity to realise a wider agenda. The “local\\nchallenge”, then, is to identify which models of credit union development are sustainable in any\\ngiven context and to use these models to redefine what makes a credit union “successful” in both\\nlocal and national terms. [Au: are scare quotes on “local challenge” needed?] Credit unions\\nmay be seen as contributing to community development, community economic development or\\neven “mainstream” local economic development, depending on who “sees” these different\\n31\\nvisions. [Au: are scare quotes needed?] As it becomes increasingly difficult to generalise about\\nthe nature, meaning and role of the “community” in the development of credit unions, their\\nfuture development and manifestation in local areas warrants further and more critical analysis.\\nOur overview of challenges and changes facing the credit union movement in Britain\\nindicates some directions for future theoretically informed research on the social relations of\\n“local monies” and alternative financial institutions. One issue that is likely to preoccupy\\nresearchers over the coming years concerns the relative degree of “autonomy” of alternative\\nfinancial institutions from the economic mainstream. The underlying assumption of much work\\nto date on “local monies” is that such “self-help” local economies must retain their autonomy\\nfrom the financial mainstream and that a key to this is precisely their localness. However, this is\\nbecoming less true of credit unions in Britain, as suggested by changes to the regulation of credit\\nunions and their growing links to the banking sector. It might well be that through increased\\nlinkages, and in at least some part through becoming more commercially “successful”, credit\\nunions may lose their community status and hence the sociospatial basis of their “autonomous”\\ndevelopment. However, this simply begs the question of whether it is possible in the current\\ncontext to assume that the sustainability of “local monies” solely depends upon their\\nindependence from the mainstream—that, in other words, their development depends principally\\non the characteristics of and capacities available within the localities in which these alternatives\\nare to be found. Our research suggests that it is dangerous to assume that community credit\\nunions will continue to develop in their current form without looking beyond their immediate,\\nlocal development context. What is important, then, is not so much whether credit unions can\\nretain some degree of institutional and local “autonomy”, but rather the extent to which by\\nengaging with their external environment these institutions become more or less sustainable and\\n32\\nsocially inclusive.\\nIn this regard, the problem of spatial scale is becoming increasingly central to how\\nboundaries within the financial services sector in Britain are being redrawn. Here we suggest that\\nlessons can still be learnt from Harvey’s pioneering work on housing finance in the US (Harvey\\n1974, 1985). In examining financial exclusion in the city, Harvey contrasted “parochial”\\nmovements—those that pitted one neighbourhood or community against another so that the\\naverage material condition of communities did not change—with “nonparochial” movements—\\nthose that sought to combat financial exclusion by mobilising and harnessing organisational\\ncapacities at wider spatial scales.7 [Au: in which of the two sources you cite did he do this?\\nAlso, are scare quotes needed?] Applying these ideas to credit unions in Britain, we can see\\nadvantages in situating community credit union development in relation to a scalar politics\\noperating within the credit union movement and through national financial re-regulation and\\npolicies on social exclusion. Yet the solution to empowering people financially is not simply a\\nquestion of how institutions like community credit unions can gain greater national legitimacy,\\nfor “empowerment is not simply, or even, a question of jumping up scales. Often several scales,\\nup and down the spectrum, are simultaneously involved” (Jonas 1994:261).\\nSeen in this light, the issue of financial “autonomy” in Britain has essentially become a\\nscalar-strategic question (Jonas 2000). It revolves around the issue of whether credit unions\\nworkers in particular localities will strategically want community credit unions to remain\\n“autonomous” from the financial mainstream. This will depend upon the types of development\\nstrategies pursued within particular localities, the extent to which the philosophies and ideals\\nunderpinning these strategies have been influenced by wider trends in the movement and how\\nthese strategies engage in turn with strategic capacities, resources and instrumentalities available\\n33\\nlocally, nationally or internationally. On the one hand, encouraging the growth of community\\ncredit unions through government assistance and stronger regulation offers a genuine opportunity\\nfor creating more inclusive financial institutions, locally as well as in wider British society. On\\nthe other hand, there is the danger that recent attempts to make credit unions less “parochial” by\\nlinking them to the financial mainstream simply reinforce spatially uneven patterns of financial\\nwithdrawal between and within localities.\\nStrategically, there are still advantages in refocusing credit union development efforts\\nwithin localities where patterns of financial exclusion are already well established. Yet, at the\\nsame time, it is important not to lose sight of the global-strategic significance of community-\\nbased initiatives represented by activities like community credit union development. As Filion\\n(1998) has argued, community-based development initiatives currently offer the best prospect for\\ndefining “alternative” institutional pathways in post-Fordism. It seems that the credit union\\nmovement is moving to the centre of struggles around defining “alternative” institutional\\npathways in contemporary Britain.\\n34\\nAcknowledgements\\nIn preparing this paper, we benefited from extensive discussions with credit union workers and\\nrepresentatives of national credit union organisations across Britain. The interpretations\\npresented in this paper are not necessarily the same as the views of any of these individuals or\\norganisations. We would also like to thank Graham Haughton for clarifying a few points about\\ncommunity economic development and the Antipode reviewers for their critical observations on\\na previous version of the paper.\\nThe usual disclaimers apply.\\n35\\nReferences\\nAmin A, Cameron A and Hudson R (1998) “Welfare to Work or Welfare as Work? Combating\\nSocial Exclusion in the UK.” Paper presented to the Annual Conference of the RGS/IBG,\\nGuildford, 5–8 January\\nAmin A, Cameron A. and Hudson R (1999) Welfare as work? The potential of the UK social\\neconomy. Environment and Planning A 31(11):2033–2051\\nAssociation of British Credit Unions Limited (1999) Credit Union News 2:4, March [Au: Is this\\ncitation to the entire issue? If not, is there a title and pp for the article?]\\nBarnekov T and Jabber-Bey R (1993) Credit and development financing for low-income and\\nminority communities. Regions: The Newsletter of the Regional Studies Association\\n188:4–8\\nBerthoud R and Hinton T (1989) Credit Unions in the United Kingdom. London: Policy Studies\\nInstitute\\nClavel P (1986) The Progressive City. New Brunswick, NJ: Rutgers University Press\\nCochrane A (1993). Whatever Happened to Local Government? Buckingham: Open University\\nPress\\nConaty P and Mayo E (1997) A Commitment to People and Place: The Case for Community\\nDevelopment Credit Unions. Report for the National Consumer Council. London: New\\nEconomics Foundation\\nFilion P (1998) Potential and limitations of community economic development: Individual\\ninitiative and collective action in a post-Fordist context. Environment and Planning A\\n30:1101–1123\\nFitchew G (1998) Address by the Chief Registrar of Friendly Societies to the World Council of\\n36\\nCredit Unions Conference, Glasgow, 26 May [Au: Does this address have a title? Also,\\nis this published or available either by mail or on the web?]\\nFitzgerald J (1991) Class as community: The new dynamics of social change. Environment and\\nPlanning D: Society and Space 9:117–128\\nFord J and Rowlingson K (1994) “Low-Income Households and Credit: Exclusion, Preference\\nand Inclusion”. Unpublished draft manuscript\\nFord J and Rowlingson K (1996) Low-income households and credit: Exclusion, preference and\\ninclusion. Environment and Planning A 28:1345–1360 [Au: 1994 source by these\\nauthors appears to be earlier version of this published one. If this is the case, could\\nthe older reference be deleted?]\\nFuller D (1997) Credit union development in Kingston-upon-Hull. The Regional Review 7(1):5–\\n6\\nFuller D (1998a) Credit union development: Financial inclusion and exclusion. Geoforum\\n29(2):145–158\\nFuller D (1998b) Credit Unions and Sustainable Development: The Potential for Credit Unions\\nto Make Progress Towards Sustainable Development. Report for Friends of the Earth.\\nNewcastle: Division of Geography and Environmental Management, University of\\nNorthumbria at Newcastle. Copies available from the author [Au: at what contact\\naddress?]\\nFuller D (1999a) Part of the action, or “going native”? Learning to cope with the “politics of\\nintegration”. Area 31(3):221–227\\nFuller D (2000a) “A Matter of Faith? Credit Unions and Social and Financial Exclusions”.\\nDepartmental Occasional Papers (New Series) No 34. Northumbria: Division of\\n37\\nGeography and Environmental Management, University of Northumbria\\nFuller D (2000b) “Redefining British Credit Union Development: Surmounting the Barriers to\\nDevelopment? Credit Unions and Social and Financial Inclusion”. Departmental\\nOccasional Papers (New Series) No 35. Northumbria: Division of Geography and\\nEnvironmental Management, University of Northumbria\\nFuller D and Jonas A E G (1999a) “Exploring Future Geographies of Financial Inclusion: The\\nBritish Credit Union Movement”. Paper presented at the conference on “Creating\\nSustainable Communities: Public Policy and Academic Research Conference”,\\nUniversity of Manchester, 23 June. Copy available from the authors, Division of\\nGeography and Environmental Management, University of Northumbria at Newcastle,\\nNewcastle\\nFuller D and Jonas A E G (1999b) “Building Future Geographies of Financial Inclusion? Credit\\nUnions and Community Development in Britain”. Departmental Occasional Papers (New\\nSeries) No 30. Northumbria: Division of Geography and Environmental Management,\\nUniversity of Northumbria\\nGiddens A (1998) The Third Way: The Renewal of Social Democracy. Cambridge: Polity Press\\nGunn C and Gunn H D (1991) Reclaiming Capital. London: Cornell University Press\\nHarvey D W (1974) Class-monopoly rent, finance capital and the urban revolution. Regional\\nStudies 8:239–255\\nHarvey D W (1985) The Urbanization of Capital. Baltimore: Johns Hopkins University Press\\nHarvey D W (2000) Spaces of Hope. Edinburgh: Edinburgh University Press\\nHaughton G (1999a) Community economic development: Challenges of theory, method and\\npractice. In G Haughton (ed) Community Economic Development (pp 3–22). Norwich:\\n38\\nThe Stationary Office\\nHaughton G (ed) (1999b) Community Economic Development. Norwich: The Stationary Office\\n[Au: Antipode style would suggest that, as a single-author reference, this source be\\ncited only once, as a whole, rather than citing both an excerpt from it and the whole\\nvolume. Do you feel strongly about retaining both citations?]\\nHaughton G and While A (1999) From corporate city to citizen’s city? Urban leadership after\\nlocal entrepreneurialism in the UK. Urban Affairs Review 35(1):3–23\\nHer Majesty’s Government (1999) A Better Quality of life: A Strategy for Sustainable\\nDevelopment for the United Kingdom. London: HMSO\\nHer Majesty’s Treasury (1998a) “Deregulation and Contracting Out Act 1994: Proposed\\nAmendments to the Credit Unions Act 1979, Regulatory Reform”. Consultation\\ndocument. London: HMSO\\nHer Majesty’s Treasury (1998b) “More Credit for the Credit Unions.” Her Majesty’s Treasury\\nNews Release 192/98, 16 November\\nHer Majesty’s Treasury (1998c) “Taskforce to Look at How Banks Can Help Credit Unions.”\\nHer Majesty’s Treasury News Release 123/98, 28 July\\nHer Majesty’s Treasury (1999a) “Initiatives to Tackle Financial Exclusion.” Her Majesty’s\\nTreasury News Release 190/99, 16 November\\nHer Majesty’s Treasury (1999b) “Enhanced Role for Credit Unions.” Her Majesty’s Treasury\\nNews Release 191/99, 16 November\\nHer Majesty’s Treasury (1999c) “Credit Unions of the Future.” Report of the Credit Union\\nTaskforce, November [Au: is this published or available on the web?]\\nInter-Association Legislative Liaison Group (IALLG) (1997) “Common Ground: National Goals\\n39\\nfor Improving the Laws Governing Credit Unions: A Report from the Credit Union\\nMovement of Great Britain”. Unpublished MS\\nIllsley B and Jackson T (1999) The third sector and local economic development in a peripheral\\nScottish city: The case of Dundee. In G Haughton (ed) Community Economic\\nDevelopment (pp 149–162). Norwich: The Stationary Office\\nJonas A E G (1994) The scale politics of spatiality. Environment and Planning D: Society and\\nSpace 12(3):257–264\\nJonas A E G (1995) Labor and community in the deindustrialization of urban America. Journal\\nof Urban Affairs 17:183–199\\nJonas A E G (2000) “Reimaging Scale in Economic Geography.” Paper presented at the Royal\\nGeographical Society/Institute of British Geographers Conference, University of Sussex,\\nBrighton, January [Au: need dates of conference.]\\nJones P A (1998a) “A Collaborative Research Project: Towards a New Model of Credit Union\\nDevelopment in Britain.” Association of British Credit Unions Limited, Manchester.\\nUnpublished project proposal\\nJones P A (1998b) “Towards Sustainable Credit Union Development: A Research Project.”\\nAssociation of British Credit Unions Limited, Manchester. Unpublished draft\\nKaushik S K and Lopez R H (1994) The structure and growth of the credit union industry in the\\nUnited States: Meeting challenges of the market. American Journal of Economics and\\nSociology 53(2):219–242\\nLawless P, Else P, Farnell R, Furbey R, Lund S and Wishart B (1998) Community-based\\ninitiative and state urban policy: The church urban fund. Regional Studies 32:161–174\\nLee R (1996) Moral money? LETS and the social construction of economic geographies in South\\n40\\nEast England. Environment and Planning A 28(8):1377–1394\\nLee R (1999). Local money: Geographies of autonomy and resistance? In R Martin (ed) Money\\nand the Space Economy (pp 207–224). Chichester: Wiley\\nLeyshon A (1994) “Geographies of Financial Exclusion: Financial Abandonment in Britain and\\nthe United States.” Paper presented at the Association of American Geographers Annual\\nMeeting, San Francisco, CA; copy available from the author, Department of Geography,\\nUniversity of Nottingham, Nottingham [Au: need dates of conference.]\\nLeyshon A and Thrift N (1997) Money/Space: Geographies of Monetary Transformation\\nLondon: Routledge\\nMartin R (1999) The new economic geography of money. In R Martin (ed) Money and the Space\\nEconomy (pp 3–28). Chichester: Wiley\\nMayer M (1998) “Changing Structures of Local Governance and the Politics of\\nInclusion/Exclusion.” Paper presented for the conference on “Reflections on the\\n‘Institutional Turn’ in Local Economic Development”, Sheffield University, 9–10\\nSeptember\\nMcArthur A, McGregor A and Stewart R (1993) Credit unions and low-income communities.\\nUrban Studies 30(2):399–416\\nMiller B (1994) Political empowerment, local-central state relations and geographically shifting\\npolitical opportunity structures: Strategies of the Cambridge, Massachusetts Peace\\nMovement. Political Geography 13(5):393–406\\nNational Association of Credit Union Workers (NACUW) (1995) Information pack. [Au: is this\\npublished or available, either online or from the organisation directly?]\\nNational Association of Credit Union Workers (NACUW) (1999a) “Response to Her Majesty’s\\n41\\nTreasury’s Consultation Document ‘Proposed Amendments to the Credit Unions Act\\n1979’”. Unpublished manuscript\\nNational Association of Credit Union Workers (NACUW) (1999b) “Towards Sustainable Credit\\nUnion Development: A Response by the National Association of Credit Union Workers.”\\nUnpublished manuscript\\nNational Consumer Council (1994) Saving for Credit: The Future for Credit Unions in Britain.\\nLondon: N C C Publications\\nPalast G (2000) US would run Barclays out of town. The Observer 9 April: business section, p 5\\nPutnam R (1993) Making Democracy Work: Civic Traditions in Modern Italy. Princeton, NJ:\\nPrinceton University Press\\nRegional Studies Association (1997). Community Economic Development: Linking the\\nGrassroots to Regional Economic Development. Proceedings of the Regional Studies\\nAssociation, Annual Conference [Au: if this is published, need publisher and city of\\npublication. If not, need number of conference (if any) and dates of conference.]\\nRegistry of Friendly Societies (1996) Deregulation: A Guidance Note for Credit Unions.\\nLondon: HMSO\\nSocial Exclusion Unit (1998) Bringing Britain Together: A National Strategy for Neighbourhood\\nRenewal. London: HMSO\\nSocial Exclusion Unit (1999) “Access to Financial Services.” Report of Policy Action Team 14\\n[Au: is this report available to the public, either online or directly from the\\norganisation?]\\nSmith N (1992) Geography, difference and the politics of scale. In J Doherty et al (eds)\\nPostmodernism and the Social Sciences (pp 57–79). London: MacMillan [Au: please\\n42\\nprovide all editor names.]\\nThomas I C and Balloch S (1992) Credit unions and local government: The role of metropolitan\\nauthorities. Local Government Studies 18(2):98–119\\nWest A (1997) “Regeneration, Community and the Social Economy”. Proceedings of the\\nRegional Studies Association Annual Conference 1997 on Community Economic\\nDevelopment: Linking the Grassroots to Regional Economic Development. Regional\\nStudies Association, pp 3–7 [Au: If Regional Studies Association is publisher, need\\nplace of publication and editors, if any.]\\nWest A (1999) Regeneration, community and the social economy. In G. Haughton (ed.)\\nCommunity Economic Development (pp 23–30). Norwich: The Stationary Office [Au:\\n1997 source by this author appears to be earlier version of this published one. If this\\nis the case, could the older reference be deleted, particularly since it isn’t cited in\\nyour paper?]\\n43\\nNotes\\n1 In this paper, we will continue to use the term “mainstream” to encompass the key, widely used financial\\ninstitutions such as banks and building societies. Clearly, in the context of this paper, use of such a term is\\nproblematic (and perhaps ironic) in itself, increasingly so given the growing abundance of other sources of credit\\nand finance such as check-traders, moneylenders, pawnbrokers and personal finance companies. However, we feel\\nthat the presence and impact of these other sources still largely mediates against including them within such a\\ncategory, while in themselves representing the blurring between “alternative” and “mainstream”.\\n2 Although in this paper we focus on community credit unions, it should be noted that there are many examples of\\nsuccessful employer-based credit unions in Britain. Credit unions are also operated “associationally”, for instance,\\nby members of trades unions in certain sectors of the British economy.\\n3 Our initial research focused on credit union development in Kingston-upon-Hull, Newcastle-upon-Tyne and\\nManchester, with further discussions held with a range of activists in Sheffield, Rotherham and Huddersfield. We\\nalso interviewed representatives of all the major national credit union organisations in Britain.\\n4 Whilst we recognise that devolution is likely to alter the development context for credit unions in Scotland, Wales\\nand England, for the purpose of this paper we are focusing on trends that uniformly affect credit unions throughout\\nBritain.\\n5 This growth potential was recently highlighted by Barclays Bank’s decision in April 2000 to close 172 rural\\nbranches across Britain. Responding to this decision, the Archbishop of Wales, Rowan Williams, suggested that\\nBritain’s abandoned banks should be turned into community credit unions (Palast 2000). There is no law in Britain\\nequivalent to the Community Reinvestment Act in the US, which requires banks planning to close branches to prove\\nto the satisfaction of the Federal Reserve or US courts that community banking needs will continue to be met after\\nthe closures.\\n6 We note here that social exclusion policy in Britain draws heavily on theories of social capital and democratic\\nparticipation as applied to the US context (Gunn and Gunn 1991; Putnam 1993).\\n7 This resonates with recent work on the politics of geographical scale (for early interventions, see, eg, Miller 1994;\\nSmith 1992). In our view, the question of “autonomous” local development of financial alternatives provides a\\nuseful entry point into theorising scalar politics.\\n',\n",
       "   'id': 2034597,\n",
       "   'identifiers': [{'identifier': '4147554', 'type': 'CORE_ID'},\n",
       "    {'identifier': '353601649', 'type': 'CORE_ID'},\n",
       "    {'identifier': '2066100850', 'type': 'MAG_ID'},\n",
       "    {'identifier': 'oai:nrl.northumbria.ac.uk:1781', 'type': 'OAI_ID'},\n",
       "    {'identifier': '10.1111/1467-8330.00227', 'type': 'DOI'}],\n",
       "   'title': 'Institutionalising future geographies of financial inclusion: national legitimacy versus local autonomy in the British credit union movement.',\n",
       "   'language': {'code': 'en', 'name': 'English'},\n",
       "   'magId': '2066100850',\n",
       "   'oaiIds': ['oai:nrl.northumbria.ac.uk:1781'],\n",
       "   'publishedDate': '2002-01-01T00:00:00',\n",
       "   'publisher': \"'Wiley'\",\n",
       "   'pubmedId': None,\n",
       "   'references': [{'id': 6537468,\n",
       "     'title': 'London: HMSO Social Exclusion Unit',\n",
       "     'authors': [],\n",
       "     'date': '1998',\n",
       "     'doi': None,\n",
       "     'raw': 'London: HMSO Social Exclusion Unit (1998) Bringing Britain Together: A National Strategy for Neighbourhood Renewal. London: HMSO Social Exclusion Unit (1999) “Access to Financial Services.” Report of Policy Action Team 14 [Au: is this report available to the public, either online or directly from the organisation?] Smith N (1992) Geography, difference and the politics of scale. In J Doherty et al (eds) Postmodernism and the Social Sciences (pp 57–79). London: MacMillan [Au: please42 provide all editor names.] Thomas I C and Balloch S (1992) Credit unions and local government: The role of metropolitan authorities. Local Government Studies 18(2):98–119 West A (1997) “Regeneration, Community and the Social Economy”. Proceedings of the Regional Studies Association Annual Conference 1997 on Community Economic Development: Linking the Grassroots to Regional Economic Development. Regional Studies Association, pp 3–7 [Au: If Regional Studies Association is publisher, need place of publication and editors, if any.] West A (1999) Regeneration, community and the social economy. In G. Haughton (ed.) Community Economic Development (pp 23–30). Norwich: The Stationary Office [Au: 1997 source by this author appears to be earlier version of this published one. If this is the case, could the older reference be deleted, particularly since it isn’t cited in your paper?]43',\n",
       "     'cites': None},\n",
       "    {'id': 6537465,\n",
       "     'title': 'US would run Barclays out of town. The Observer 9 April: business section, p 5 Putnam R',\n",
       "     'authors': [],\n",
       "     'date': '2000',\n",
       "     'doi': None,\n",
       "     'raw': 'London: N C C Publications Palast G (2000) US would run Barclays out of town. The Observer 9 April: business section, p 5 Putnam R (1993) Making Democracy Work: Civic Traditions in Modern Italy. Princeton, NJ: Princeton University Press Regional Studies Association (1997). Community Economic Development: Linking the Grassroots to Regional Economic Development. Proceedings of the Regional Studies Association, Annual Conference [Au: if this is published, need publisher and city of publication. If not, need number of conference (if any) and dates of conference.] Registry of Friendly Societies (1996) Deregulation: A Guidance Note for Credit Unions.',\n",
       "     'cites': None},\n",
       "    {'id': 6537463,\n",
       "     'title': 'Welfare to Work or Welfare as Work? Combating Social Exclusion in the UK.” Paper presented to the Annual Conference of the RGS/IBG,',\n",
       "     'authors': [],\n",
       "     'date': '1998',\n",
       "     'doi': None,\n",
       "     'raw': 'Amin A, Cameron A and Hudson R (1998) “Welfare to Work or Welfare as Work? Combating Social Exclusion in the UK.” Paper presented to the Annual Conference of the RGS/IBG, Guildford, 5–8 January Amin A, Cameron A. and Hudson R (1999) Welfare as work? The potential of the UK social economy. Environment and Planning A 31(11):2033–2051 Association of British Credit Unions Limited (1999) Credit Union News 2:4, March [Au: Is this citation to the entire issue? If not, is there a title and pp for the article?] Barnekov T and Jabber-Bey R (1993) Credit and development financing for low-income and minority communities. Regions: The Newsletter of the Regional Studies Association 188:4–8 Berthoud R and Hinton T (1989) Credit Unions in the United Kingdom. London: Policy Studies Institute Clavel P (1986) The Progressive City. New Brunswick, NJ: Rutgers University Press Cochrane A (1993). Whatever Happened to Local Government? Buckingham: Open University Press Conaty P and Mayo E (1997) A Commitment to People and Place: The Case for Community Development Credit Unions. Report for the National Consumer Council. London: New Economics Foundation Filion P (1998) Potential and limitations of community economic development: Individual initiative and collective action in a post-Fordist context. Environment and Planning A 30:1101–1123 Fitchew G (1998) Address by the Chief Registrar of Friendly Societies to the World Council of36 Credit Unions Conference, Glasgow, 26 May [Au: Does this address have a title? Also, is this published or available either by mail or on the web?] Fitzgerald J (1991) Class as community: The new dynamics of social change. Environment and Planning D: Society and Space 9:117–128 Ford J and Rowlingson K (1994) “Low-Income Households and Credit: Exclusion, Preference and Inclusion”. Unpublished draft manuscript Ford J and Rowlingson K (1996) Low-income households and credit: Exclusion, preference and inclusion. Environment and Planning A 28:1345–1360 [Au: 1994 source by these authors appears to be earlier version of this published one. If this is the case, could the older reference be deleted?] Fuller D (1997) Credit union development in Kingston-upon-Hull. The Regional Review 7(1):5– Fuller D (1998a) Credit union development: Financial inclusion and exclusion. Geoforum 29(2):145–158 Fuller D (1998b) Credit Unions and Sustainable Development: The Potential for Credit Unions to Make Progress Towards Sustainable Development. Report for Friends of the Earth.',\n",
       "     'cites': None}],\n",
       "   'sourceFulltextUrls': [],\n",
       "   'updatedDate': '2022-02-20T07:32:53',\n",
       "   'yearPublished': 2002,\n",
       "   'journals': [{'title': None, 'identifiers': ['0066-4812']}],\n",
       "   'links': [{'type': 'download',\n",
       "     'url': 'https://core.ac.uk/download/4147554.pdf'},\n",
       "    {'type': 'reader', 'url': 'https://core.ac.uk/reader/4147554'},\n",
       "    {'type': 'thumbnail_m', 'url': 'https://core.ac.uk/image/4147554/large'},\n",
       "    {'type': 'thumbnail_l', 'url': 'https://core.ac.uk/image/4147554/large'},\n",
       "    {'type': 'display', 'url': 'https://core.ac.uk/works/2034597'}]}],\n",
       " 'tooks': None,\n",
       " 'esTook': None}"
      ]
     },
     "execution_count": 11,
     "metadata": {},
     "output_type": "execute_result"
    }
   ],
   "source": [
    "# headers={\"Authorization\":\"Bearer \"+apikey}\n",
    "# query=f\"?q=_exists_:doi&limit=1\"\n",
    "\n",
    "headers = {\"User-Agent\": \"Mozilla/5.0 (Linux; U; Android 4.2.2; he-il; NEO-X5-116A Build/JDQ39) AppleWebKit/534.30 (KHTML, like Gecko) Version/4.0 Safari/534.30\"}\n",
    "\n",
    "endpoint = f\"https://api.core.ac.uk/v3/\"\n",
    "entity   = f\"search/works\"\n",
    "query    = f\"?q=_exists_:doi&limit=1\"\n",
    "# apikey   = f\"&api_key={apikeys('core')}\"\n",
    "\n",
    "req = f\"{endpoint}{entity}{query}\"\n",
    "print(req)\n",
    "\n",
    "singlework = requests.get(req,\n",
    "                          headers=headers,\n",
    "                          )\n",
    "\n",
    "singlework.json()"
   ]
  },
  {
   "cell_type": "code",
   "execution_count": 55,
   "metadata": {},
   "outputs": [
    {
     "name": "stdout",
     "output_type": "stream",
     "text": [
      "https://api.core.ac.uk/v3/search/works?q=dataProviders:https://api.core.ac.uk/v3/data-providers/131&limit=1&api_key=bqpJg1oMvXCIVDBKjWLr0nEiR7OGucT5\n",
      "71172\n"
     ]
    }
   ],
   "source": [
    "headers = {\"User-Agent\": \"Mozilla/5.0 (Linux; U; Android 4.2.2; he-il; NEO-X5-116A Build/JDQ39) AppleWebKit/534.30 (KHTML, like Gecko) Version/4.0 Safari/534.30\"}\n",
    "\n",
    "endpoint = f\"https://api.core.ac.uk/v3/\"\n",
    "entity   = f\"search/works\"\n",
    "provider = f\"https://api.core.ac.uk/v3/data-providers/131\"\n",
    "query    = f\"?q=dataProviders:{provider}&limit=1\"\n",
    "apikey   = f\"&api_key={apikeys('core')}\"\n",
    "\n",
    "req = f\"{endpoint}{entity}{query}{apikey}\"\n",
    "print(req)\n",
    "\n",
    "data_providers = requests.get(req,headers=headers)\n",
    "print(data_providers.json().get('totalHits'))\n",
    "result_list = data_providers.json().get('results')"
   ]
  },
  {
   "cell_type": "code",
   "execution_count": 40,
   "metadata": {},
   "outputs": [
    {
     "data": {
      "text/plain": [
       "requests.models.Response"
      ]
     },
     "execution_count": 40,
     "metadata": {},
     "output_type": "execute_result"
    }
   ],
   "source": [
    "type(data_providers)"
   ]
  },
  {
   "cell_type": "code",
   "execution_count": 41,
   "metadata": {},
   "outputs": [
    {
     "data": {
      "text/plain": [
       "str"
      ]
     },
     "execution_count": 41,
     "metadata": {},
     "output_type": "execute_result"
    }
   ],
   "source": [
    "type(json.dumps(data_providers.json()))"
   ]
  },
  {
   "cell_type": "code",
   "execution_count": 54,
   "metadata": {},
   "outputs": [
    {
     "name": "stdout",
     "output_type": "stream",
     "text": [
      "['DERlab e.V. – European Distributed Energy Resources Laboratories']\n",
      "['Crolla, Paul', 'de Graff, Roald', 'de Jong, Erik', 'Gafaro, Francisco', 'Kotsampopoulos, Panos', 'Lauss, Georg', 'Lefuss, Felix', 'Roscoe, Andrew', 'Vassen, Peter']\n"
     ]
    },
    {
     "data": {
      "text/html": [
       "<div>\n",
       "<style scoped>\n",
       "    .dataframe tbody tr th:only-of-type {\n",
       "        vertical-align: middle;\n",
       "    }\n",
       "\n",
       "    .dataframe tbody tr th {\n",
       "        vertical-align: top;\n",
       "    }\n",
       "\n",
       "    .dataframe thead th {\n",
       "        text-align: right;\n",
       "    }\n",
       "</style>\n",
       "<table border=\"1\" class=\"dataframe\">\n",
       "  <thead>\n",
       "    <tr style=\"text-align: right;\">\n",
       "      <th></th>\n",
       "      <th>acceptedDate</th>\n",
       "      <th>arxivId</th>\n",
       "      <th>authors</th>\n",
       "      <th>citationCount</th>\n",
       "      <th>contributors</th>\n",
       "      <th>outputs</th>\n",
       "      <th>createdDate</th>\n",
       "      <th>dataProviders</th>\n",
       "      <th>depositedDate</th>\n",
       "      <th>abstract</th>\n",
       "      <th>...</th>\n",
       "      <th>oaiIds</th>\n",
       "      <th>publishedDate</th>\n",
       "      <th>publisher</th>\n",
       "      <th>pubmedId</th>\n",
       "      <th>references</th>\n",
       "      <th>sourceFulltextUrls</th>\n",
       "      <th>updatedDate</th>\n",
       "      <th>yearPublished</th>\n",
       "      <th>journals</th>\n",
       "      <th>links</th>\n",
       "    </tr>\n",
       "  </thead>\n",
       "  <tbody>\n",
       "    <tr>\n",
       "      <th>0</th>\n",
       "      <td>None</td>\n",
       "      <td>None</td>\n",
       "      <td>[{'name': 'Crolla, Paul'}, {'name': 'de Graff,...</td>\n",
       "      <td>None</td>\n",
       "      <td>[]</td>\n",
       "      <td>[https://api.core.ac.uk/v3/outputs/59383248, h...</td>\n",
       "      <td>2013-05-02T16:08:41</td>\n",
       "      <td>[{'id': 131, 'name': '', 'url': 'https://api.c...</td>\n",
       "      <td>2013-04-10T10:06:00</td>\n",
       "      <td>The European White Book on Real-Time-Powerhard...</td>\n",
       "      <td>...</td>\n",
       "      <td>[oai:strathprints.strath.ac.uk:43450]</td>\n",
       "      <td>2012-03-01T00:00:00</td>\n",
       "      <td>DERlab e.V. – European Distributed Energy Reso...</td>\n",
       "      <td>None</td>\n",
       "      <td>[{'id': 1749855, 'title': '50160 Voltage chara...</td>\n",
       "      <td>[http://strathprints.strath.ac.uk/43450/1/noe_...</td>\n",
       "      <td>2022-02-20T07:52:51</td>\n",
       "      <td>2012</td>\n",
       "      <td>[]</td>\n",
       "      <td>[{'type': 'download', 'url': 'https://core.ac....</td>\n",
       "    </tr>\n",
       "  </tbody>\n",
       "</table>\n",
       "<p>1 rows × 30 columns</p>\n",
       "</div>"
      ],
      "text/plain": [
       "  acceptedDate arxivId                                            authors  \\\n",
       "0         None    None  [{'name': 'Crolla, Paul'}, {'name': 'de Graff,...   \n",
       "\n",
       "  citationCount contributors  \\\n",
       "0          None           []   \n",
       "\n",
       "                                             outputs          createdDate  \\\n",
       "0  [https://api.core.ac.uk/v3/outputs/59383248, h...  2013-05-02T16:08:41   \n",
       "\n",
       "                                       dataProviders        depositedDate  \\\n",
       "0  [{'id': 131, 'name': '', 'url': 'https://api.c...  2013-04-10T10:06:00   \n",
       "\n",
       "                                            abstract  ...  \\\n",
       "0  The European White Book on Real-Time-Powerhard...  ...   \n",
       "\n",
       "                                  oaiIds        publishedDate  \\\n",
       "0  [oai:strathprints.strath.ac.uk:43450]  2012-03-01T00:00:00   \n",
       "\n",
       "                                           publisher pubmedId  \\\n",
       "0  DERlab e.V. – European Distributed Energy Reso...     None   \n",
       "\n",
       "                                          references  \\\n",
       "0  [{'id': 1749855, 'title': '50160 Voltage chara...   \n",
       "\n",
       "                                  sourceFulltextUrls          updatedDate  \\\n",
       "0  [http://strathprints.strath.ac.uk/43450/1/noe_...  2022-02-20T07:52:51   \n",
       "\n",
       "  yearPublished journals                                              links  \n",
       "0          2012       []  [{'type': 'download', 'url': 'https://core.ac....  \n",
       "\n",
       "[1 rows x 30 columns]"
      ]
     },
     "execution_count": 54,
     "metadata": {},
     "output_type": "execute_result"
    }
   ],
   "source": [
    "import pandas as pd\n",
    "df_results = pd.DataFrame(result_list)\n",
    "print(df_results['publisher'].values)\n",
    "print([x['name'] for x in df_results['authors'][0]])\n",
    "df_results"
   ]
  },
  {
   "cell_type": "code",
   "execution_count": 59,
   "metadata": {},
   "outputs": [
    {
     "name": "stdout",
     "output_type": "stream",
     "text": [
      "Resultado sem scroll id\n",
      "Resultado sem scroll id\n",
      "Resultado sem scroll id\n"
     ]
    },
    {
     "ename": "KeyboardInterrupt",
     "evalue": "",
     "output_type": "error",
     "traceback": [
      "\u001b[0;31m---------------------------------------------------------------------------\u001b[0m",
      "\u001b[0;31mKeyboardInterrupt\u001b[0m                         Traceback (most recent call last)",
      "Cell \u001b[0;32mIn[59], line 51\u001b[0m\n\u001b[1;32m     49\u001b[0m provider \u001b[38;5;241m=\u001b[39m \u001b[38;5;124mf\u001b[39m\u001b[38;5;124m\"\u001b[39m\u001b[38;5;124mhttps://api.core.ac.uk/v3/data-providers/14\u001b[39m\u001b[38;5;124m\"\u001b[39m\n\u001b[1;32m     50\u001b[0m query    \u001b[38;5;241m=\u001b[39m \u001b[38;5;124mf\u001b[39m\u001b[38;5;124m\"\u001b[39m\u001b[38;5;124m?q=dataProviders:\u001b[39m\u001b[38;5;132;01m{\u001b[39;00mprovider\u001b[38;5;132;01m}\u001b[39;00m\u001b[38;5;124m&limit=1\u001b[39m\u001b[38;5;124m\"\u001b[39m\n\u001b[0;32m---> 51\u001b[0m response \u001b[38;5;241m=\u001b[39m \u001b[43mscroll\u001b[49m\u001b[43m(\u001b[49m\u001b[38;5;124;43m\"\u001b[39;49m\u001b[38;5;124;43mhttps://api.core.ac.uk/v3/search/works\u001b[39;49m\u001b[38;5;124;43m\"\u001b[39;49m\u001b[43m,\u001b[49m\u001b[43m \u001b[49m\n\u001b[1;32m     52\u001b[0m \u001b[43m                  \u001b[49m\u001b[43mquery\u001b[49m\u001b[43m,\u001b[49m\u001b[43m \u001b[49m\n\u001b[1;32m     53\u001b[0m \u001b[43m                  \u001b[49m\u001b[43mget_ids\u001b[49m\u001b[43m)\u001b[49m\n",
      "Cell \u001b[0;32mIn[59], line 16\u001b[0m, in \u001b[0;36mscroll\u001b[0;34m(search_url, query, extract_info_callback)\u001b[0m\n\u001b[1;32m     14\u001b[0m scrollId\u001b[38;5;241m=\u001b[39m\u001b[38;5;28;01mNone\u001b[39;00m\n\u001b[1;32m     15\u001b[0m \u001b[38;5;28;01mwhile\u001b[39;00m \u001b[38;5;28;01mTrue\u001b[39;00m:\n\u001b[0;32m---> 16\u001b[0m     result, elapsed \u001b[38;5;241m=\u001b[39m \u001b[43mquery_api\u001b[49m\u001b[43m(\u001b[49m\u001b[43msearch_url\u001b[49m\u001b[43m,\u001b[49m\u001b[43m \u001b[49m\u001b[43mquery\u001b[49m\u001b[43m,\u001b[49m\u001b[43m \u001b[49m\u001b[43mscrollId\u001b[49m\u001b[43m)\u001b[49m\n\u001b[1;32m     17\u001b[0m     \u001b[38;5;28;01mtry\u001b[39;00m:\n\u001b[1;32m     18\u001b[0m         scrollId\u001b[38;5;241m=\u001b[39mresult[\u001b[38;5;124m\"\u001b[39m\u001b[38;5;124mscrollId\u001b[39m\u001b[38;5;124m\"\u001b[39m]\n",
      "Cell \u001b[0;32mIn[59], line 6\u001b[0m, in \u001b[0;36mquery_api\u001b[0;34m(search_url, query, scrollId)\u001b[0m\n\u001b[1;32m      3\u001b[0m headers \u001b[38;5;241m=\u001b[39m {\u001b[38;5;124m\"\u001b[39m\u001b[38;5;124mUser-Agent\u001b[39m\u001b[38;5;124m\"\u001b[39m: \u001b[38;5;124m\"\u001b[39m\u001b[38;5;124mMozilla/5.0 (Linux; U; Android 4.2.2; he-il; NEO-X5-116A Build/JDQ39) AppleWebKit/534.30 (KHTML, like Gecko) Version/4.0 Safari/534.30\u001b[39m\u001b[38;5;124m\"\u001b[39m}\n\u001b[1;32m      5\u001b[0m \u001b[38;5;28;01mif\u001b[39;00m \u001b[38;5;129;01mnot\u001b[39;00m scrollId:\n\u001b[0;32m----> 6\u001b[0m     response \u001b[38;5;241m=\u001b[39m \u001b[43mrequests\u001b[49m\u001b[38;5;241;43m.\u001b[39;49m\u001b[43mget\u001b[49m\u001b[43m(\u001b[49m\u001b[38;5;124;43mf\u001b[39;49m\u001b[38;5;124;43m\"\u001b[39;49m\u001b[38;5;132;43;01m{\u001b[39;49;00m\u001b[43msearch_url\u001b[49m\u001b[38;5;132;43;01m}\u001b[39;49;00m\u001b[38;5;124;43m?q=\u001b[39;49m\u001b[38;5;132;43;01m{\u001b[39;49;00m\u001b[43mquery\u001b[49m\u001b[38;5;132;43;01m}\u001b[39;49;00m\u001b[38;5;124;43m&limit=100&scroll=true&\u001b[39;49m\u001b[38;5;132;43;01m{\u001b[39;49;00m\u001b[43mapikey\u001b[49m\u001b[38;5;132;43;01m}\u001b[39;49;00m\u001b[38;5;124;43m\"\u001b[39;49m\u001b[43m,\u001b[49m\u001b[43mheaders\u001b[49m\u001b[38;5;241;43m=\u001b[39;49m\u001b[43mheaders\u001b[49m\u001b[43m)\u001b[49m\n\u001b[1;32m      7\u001b[0m \u001b[38;5;28;01melse\u001b[39;00m:\n\u001b[1;32m      8\u001b[0m     response \u001b[38;5;241m=\u001b[39m requests\u001b[38;5;241m.\u001b[39mget(\u001b[38;5;124mf\u001b[39m\u001b[38;5;124m\"\u001b[39m\u001b[38;5;132;01m{\u001b[39;00msearch_url\u001b[38;5;132;01m}\u001b[39;00m\u001b[38;5;124m?q=\u001b[39m\u001b[38;5;132;01m{\u001b[39;00mquery\u001b[38;5;132;01m}\u001b[39;00m\u001b[38;5;124m&limit=100&scrollId=\u001b[39m\u001b[38;5;132;01m{\u001b[39;00mscrollId\u001b[38;5;132;01m}\u001b[39;00m\u001b[38;5;124m\"\u001b[39m,headers\u001b[38;5;241m=\u001b[39mheaders)        \n",
      "File \u001b[0;32m~/.local/lib/python3.10/site-packages/requests/api.py:73\u001b[0m, in \u001b[0;36mget\u001b[0;34m(url, params, **kwargs)\u001b[0m\n\u001b[1;32m     62\u001b[0m \u001b[38;5;28;01mdef\u001b[39;00m \u001b[38;5;21mget\u001b[39m(url, params\u001b[38;5;241m=\u001b[39m\u001b[38;5;28;01mNone\u001b[39;00m, \u001b[38;5;241m*\u001b[39m\u001b[38;5;241m*\u001b[39mkwargs):\n\u001b[1;32m     63\u001b[0m \u001b[38;5;250m    \u001b[39m\u001b[38;5;124mr\u001b[39m\u001b[38;5;124;03m\"\"\"Sends a GET request.\u001b[39;00m\n\u001b[1;32m     64\u001b[0m \n\u001b[1;32m     65\u001b[0m \u001b[38;5;124;03m    :param url: URL for the new :class:`Request` object.\u001b[39;00m\n\u001b[0;32m   (...)\u001b[0m\n\u001b[1;32m     70\u001b[0m \u001b[38;5;124;03m    :rtype: requests.Response\u001b[39;00m\n\u001b[1;32m     71\u001b[0m \u001b[38;5;124;03m    \"\"\"\u001b[39;00m\n\u001b[0;32m---> 73\u001b[0m     \u001b[38;5;28;01mreturn\u001b[39;00m \u001b[43mrequest\u001b[49m\u001b[43m(\u001b[49m\u001b[38;5;124;43m\"\u001b[39;49m\u001b[38;5;124;43mget\u001b[39;49m\u001b[38;5;124;43m\"\u001b[39;49m\u001b[43m,\u001b[49m\u001b[43m \u001b[49m\u001b[43murl\u001b[49m\u001b[43m,\u001b[49m\u001b[43m \u001b[49m\u001b[43mparams\u001b[49m\u001b[38;5;241;43m=\u001b[39;49m\u001b[43mparams\u001b[49m\u001b[43m,\u001b[49m\u001b[43m \u001b[49m\u001b[38;5;241;43m*\u001b[39;49m\u001b[38;5;241;43m*\u001b[39;49m\u001b[43mkwargs\u001b[49m\u001b[43m)\u001b[49m\n",
      "File \u001b[0;32m~/.local/lib/python3.10/site-packages/requests/api.py:59\u001b[0m, in \u001b[0;36mrequest\u001b[0;34m(method, url, **kwargs)\u001b[0m\n\u001b[1;32m     55\u001b[0m \u001b[38;5;66;03m# By using the 'with' statement we are sure the session is closed, thus we\u001b[39;00m\n\u001b[1;32m     56\u001b[0m \u001b[38;5;66;03m# avoid leaving sockets open which can trigger a ResourceWarning in some\u001b[39;00m\n\u001b[1;32m     57\u001b[0m \u001b[38;5;66;03m# cases, and look like a memory leak in others.\u001b[39;00m\n\u001b[1;32m     58\u001b[0m \u001b[38;5;28;01mwith\u001b[39;00m sessions\u001b[38;5;241m.\u001b[39mSession() \u001b[38;5;28;01mas\u001b[39;00m session:\n\u001b[0;32m---> 59\u001b[0m     \u001b[38;5;28;01mreturn\u001b[39;00m \u001b[43msession\u001b[49m\u001b[38;5;241;43m.\u001b[39;49m\u001b[43mrequest\u001b[49m\u001b[43m(\u001b[49m\u001b[43mmethod\u001b[49m\u001b[38;5;241;43m=\u001b[39;49m\u001b[43mmethod\u001b[49m\u001b[43m,\u001b[49m\u001b[43m \u001b[49m\u001b[43murl\u001b[49m\u001b[38;5;241;43m=\u001b[39;49m\u001b[43murl\u001b[49m\u001b[43m,\u001b[49m\u001b[43m \u001b[49m\u001b[38;5;241;43m*\u001b[39;49m\u001b[38;5;241;43m*\u001b[39;49m\u001b[43mkwargs\u001b[49m\u001b[43m)\u001b[49m\n",
      "File \u001b[0;32m~/.local/lib/python3.10/site-packages/requests/sessions.py:589\u001b[0m, in \u001b[0;36mSession.request\u001b[0;34m(self, method, url, params, data, headers, cookies, files, auth, timeout, allow_redirects, proxies, hooks, stream, verify, cert, json)\u001b[0m\n\u001b[1;32m    584\u001b[0m send_kwargs \u001b[38;5;241m=\u001b[39m {\n\u001b[1;32m    585\u001b[0m     \u001b[38;5;124m\"\u001b[39m\u001b[38;5;124mtimeout\u001b[39m\u001b[38;5;124m\"\u001b[39m: timeout,\n\u001b[1;32m    586\u001b[0m     \u001b[38;5;124m\"\u001b[39m\u001b[38;5;124mallow_redirects\u001b[39m\u001b[38;5;124m\"\u001b[39m: allow_redirects,\n\u001b[1;32m    587\u001b[0m }\n\u001b[1;32m    588\u001b[0m send_kwargs\u001b[38;5;241m.\u001b[39mupdate(settings)\n\u001b[0;32m--> 589\u001b[0m resp \u001b[38;5;241m=\u001b[39m \u001b[38;5;28;43mself\u001b[39;49m\u001b[38;5;241;43m.\u001b[39;49m\u001b[43msend\u001b[49m\u001b[43m(\u001b[49m\u001b[43mprep\u001b[49m\u001b[43m,\u001b[49m\u001b[43m \u001b[49m\u001b[38;5;241;43m*\u001b[39;49m\u001b[38;5;241;43m*\u001b[39;49m\u001b[43msend_kwargs\u001b[49m\u001b[43m)\u001b[49m\n\u001b[1;32m    591\u001b[0m \u001b[38;5;28;01mreturn\u001b[39;00m resp\n",
      "File \u001b[0;32m~/.local/lib/python3.10/site-packages/requests/sessions.py:703\u001b[0m, in \u001b[0;36mSession.send\u001b[0;34m(self, request, **kwargs)\u001b[0m\n\u001b[1;32m    700\u001b[0m start \u001b[38;5;241m=\u001b[39m preferred_clock()\n\u001b[1;32m    702\u001b[0m \u001b[38;5;66;03m# Send the request\u001b[39;00m\n\u001b[0;32m--> 703\u001b[0m r \u001b[38;5;241m=\u001b[39m \u001b[43madapter\u001b[49m\u001b[38;5;241;43m.\u001b[39;49m\u001b[43msend\u001b[49m\u001b[43m(\u001b[49m\u001b[43mrequest\u001b[49m\u001b[43m,\u001b[49m\u001b[43m \u001b[49m\u001b[38;5;241;43m*\u001b[39;49m\u001b[38;5;241;43m*\u001b[39;49m\u001b[43mkwargs\u001b[49m\u001b[43m)\u001b[49m\n\u001b[1;32m    705\u001b[0m \u001b[38;5;66;03m# Total elapsed time of the request (approximately)\u001b[39;00m\n\u001b[1;32m    706\u001b[0m elapsed \u001b[38;5;241m=\u001b[39m preferred_clock() \u001b[38;5;241m-\u001b[39m start\n",
      "File \u001b[0;32m~/.local/lib/python3.10/site-packages/requests/adapters.py:486\u001b[0m, in \u001b[0;36mHTTPAdapter.send\u001b[0;34m(self, request, stream, timeout, verify, cert, proxies)\u001b[0m\n\u001b[1;32m    483\u001b[0m     timeout \u001b[38;5;241m=\u001b[39m TimeoutSauce(connect\u001b[38;5;241m=\u001b[39mtimeout, read\u001b[38;5;241m=\u001b[39mtimeout)\n\u001b[1;32m    485\u001b[0m \u001b[38;5;28;01mtry\u001b[39;00m:\n\u001b[0;32m--> 486\u001b[0m     resp \u001b[38;5;241m=\u001b[39m \u001b[43mconn\u001b[49m\u001b[38;5;241;43m.\u001b[39;49m\u001b[43murlopen\u001b[49m\u001b[43m(\u001b[49m\n\u001b[1;32m    487\u001b[0m \u001b[43m        \u001b[49m\u001b[43mmethod\u001b[49m\u001b[38;5;241;43m=\u001b[39;49m\u001b[43mrequest\u001b[49m\u001b[38;5;241;43m.\u001b[39;49m\u001b[43mmethod\u001b[49m\u001b[43m,\u001b[49m\n\u001b[1;32m    488\u001b[0m \u001b[43m        \u001b[49m\u001b[43murl\u001b[49m\u001b[38;5;241;43m=\u001b[39;49m\u001b[43murl\u001b[49m\u001b[43m,\u001b[49m\n\u001b[1;32m    489\u001b[0m \u001b[43m        \u001b[49m\u001b[43mbody\u001b[49m\u001b[38;5;241;43m=\u001b[39;49m\u001b[43mrequest\u001b[49m\u001b[38;5;241;43m.\u001b[39;49m\u001b[43mbody\u001b[49m\u001b[43m,\u001b[49m\n\u001b[1;32m    490\u001b[0m \u001b[43m        \u001b[49m\u001b[43mheaders\u001b[49m\u001b[38;5;241;43m=\u001b[39;49m\u001b[43mrequest\u001b[49m\u001b[38;5;241;43m.\u001b[39;49m\u001b[43mheaders\u001b[49m\u001b[43m,\u001b[49m\n\u001b[1;32m    491\u001b[0m \u001b[43m        \u001b[49m\u001b[43mredirect\u001b[49m\u001b[38;5;241;43m=\u001b[39;49m\u001b[38;5;28;43;01mFalse\u001b[39;49;00m\u001b[43m,\u001b[49m\n\u001b[1;32m    492\u001b[0m \u001b[43m        \u001b[49m\u001b[43massert_same_host\u001b[49m\u001b[38;5;241;43m=\u001b[39;49m\u001b[38;5;28;43;01mFalse\u001b[39;49;00m\u001b[43m,\u001b[49m\n\u001b[1;32m    493\u001b[0m \u001b[43m        \u001b[49m\u001b[43mpreload_content\u001b[49m\u001b[38;5;241;43m=\u001b[39;49m\u001b[38;5;28;43;01mFalse\u001b[39;49;00m\u001b[43m,\u001b[49m\n\u001b[1;32m    494\u001b[0m \u001b[43m        \u001b[49m\u001b[43mdecode_content\u001b[49m\u001b[38;5;241;43m=\u001b[39;49m\u001b[38;5;28;43;01mFalse\u001b[39;49;00m\u001b[43m,\u001b[49m\n\u001b[1;32m    495\u001b[0m \u001b[43m        \u001b[49m\u001b[43mretries\u001b[49m\u001b[38;5;241;43m=\u001b[39;49m\u001b[38;5;28;43mself\u001b[39;49m\u001b[38;5;241;43m.\u001b[39;49m\u001b[43mmax_retries\u001b[49m\u001b[43m,\u001b[49m\n\u001b[1;32m    496\u001b[0m \u001b[43m        \u001b[49m\u001b[43mtimeout\u001b[49m\u001b[38;5;241;43m=\u001b[39;49m\u001b[43mtimeout\u001b[49m\u001b[43m,\u001b[49m\n\u001b[1;32m    497\u001b[0m \u001b[43m        \u001b[49m\u001b[43mchunked\u001b[49m\u001b[38;5;241;43m=\u001b[39;49m\u001b[43mchunked\u001b[49m\u001b[43m,\u001b[49m\n\u001b[1;32m    498\u001b[0m \u001b[43m    \u001b[49m\u001b[43m)\u001b[49m\n\u001b[1;32m    500\u001b[0m \u001b[38;5;28;01mexcept\u001b[39;00m (ProtocolError, \u001b[38;5;167;01mOSError\u001b[39;00m) \u001b[38;5;28;01mas\u001b[39;00m err:\n\u001b[1;32m    501\u001b[0m     \u001b[38;5;28;01mraise\u001b[39;00m \u001b[38;5;167;01mConnectionError\u001b[39;00m(err, request\u001b[38;5;241m=\u001b[39mrequest)\n",
      "File \u001b[0;32m~/.local/lib/python3.10/site-packages/urllib3/connectionpool.py:714\u001b[0m, in \u001b[0;36mHTTPConnectionPool.urlopen\u001b[0;34m(self, method, url, body, headers, retries, redirect, assert_same_host, timeout, pool_timeout, release_conn, chunked, body_pos, **response_kw)\u001b[0m\n\u001b[1;32m    711\u001b[0m     \u001b[38;5;28mself\u001b[39m\u001b[38;5;241m.\u001b[39m_prepare_proxy(conn)\n\u001b[1;32m    713\u001b[0m \u001b[38;5;66;03m# Make the request on the httplib connection object.\u001b[39;00m\n\u001b[0;32m--> 714\u001b[0m httplib_response \u001b[38;5;241m=\u001b[39m \u001b[38;5;28;43mself\u001b[39;49m\u001b[38;5;241;43m.\u001b[39;49m\u001b[43m_make_request\u001b[49m\u001b[43m(\u001b[49m\n\u001b[1;32m    715\u001b[0m \u001b[43m    \u001b[49m\u001b[43mconn\u001b[49m\u001b[43m,\u001b[49m\n\u001b[1;32m    716\u001b[0m \u001b[43m    \u001b[49m\u001b[43mmethod\u001b[49m\u001b[43m,\u001b[49m\n\u001b[1;32m    717\u001b[0m \u001b[43m    \u001b[49m\u001b[43murl\u001b[49m\u001b[43m,\u001b[49m\n\u001b[1;32m    718\u001b[0m \u001b[43m    \u001b[49m\u001b[43mtimeout\u001b[49m\u001b[38;5;241;43m=\u001b[39;49m\u001b[43mtimeout_obj\u001b[49m\u001b[43m,\u001b[49m\n\u001b[1;32m    719\u001b[0m \u001b[43m    \u001b[49m\u001b[43mbody\u001b[49m\u001b[38;5;241;43m=\u001b[39;49m\u001b[43mbody\u001b[49m\u001b[43m,\u001b[49m\n\u001b[1;32m    720\u001b[0m \u001b[43m    \u001b[49m\u001b[43mheaders\u001b[49m\u001b[38;5;241;43m=\u001b[39;49m\u001b[43mheaders\u001b[49m\u001b[43m,\u001b[49m\n\u001b[1;32m    721\u001b[0m \u001b[43m    \u001b[49m\u001b[43mchunked\u001b[49m\u001b[38;5;241;43m=\u001b[39;49m\u001b[43mchunked\u001b[49m\u001b[43m,\u001b[49m\n\u001b[1;32m    722\u001b[0m \u001b[43m\u001b[49m\u001b[43m)\u001b[49m\n\u001b[1;32m    724\u001b[0m \u001b[38;5;66;03m# If we're going to release the connection in ``finally:``, then\u001b[39;00m\n\u001b[1;32m    725\u001b[0m \u001b[38;5;66;03m# the response doesn't need to know about the connection. Otherwise\u001b[39;00m\n\u001b[1;32m    726\u001b[0m \u001b[38;5;66;03m# it will also try to release it and we'll have a double-release\u001b[39;00m\n\u001b[1;32m    727\u001b[0m \u001b[38;5;66;03m# mess.\u001b[39;00m\n\u001b[1;32m    728\u001b[0m response_conn \u001b[38;5;241m=\u001b[39m conn \u001b[38;5;28;01mif\u001b[39;00m \u001b[38;5;129;01mnot\u001b[39;00m release_conn \u001b[38;5;28;01melse\u001b[39;00m \u001b[38;5;28;01mNone\u001b[39;00m\n",
      "File \u001b[0;32m~/.local/lib/python3.10/site-packages/urllib3/connectionpool.py:466\u001b[0m, in \u001b[0;36mHTTPConnectionPool._make_request\u001b[0;34m(self, conn, method, url, timeout, chunked, **httplib_request_kw)\u001b[0m\n\u001b[1;32m    461\u001b[0m             httplib_response \u001b[38;5;241m=\u001b[39m conn\u001b[38;5;241m.\u001b[39mgetresponse()\n\u001b[1;32m    462\u001b[0m         \u001b[38;5;28;01mexcept\u001b[39;00m \u001b[38;5;167;01mBaseException\u001b[39;00m \u001b[38;5;28;01mas\u001b[39;00m e:\n\u001b[1;32m    463\u001b[0m             \u001b[38;5;66;03m# Remove the TypeError from the exception chain in\u001b[39;00m\n\u001b[1;32m    464\u001b[0m             \u001b[38;5;66;03m# Python 3 (including for exceptions like SystemExit).\u001b[39;00m\n\u001b[1;32m    465\u001b[0m             \u001b[38;5;66;03m# Otherwise it looks like a bug in the code.\u001b[39;00m\n\u001b[0;32m--> 466\u001b[0m             \u001b[43msix\u001b[49m\u001b[38;5;241;43m.\u001b[39;49m\u001b[43mraise_from\u001b[49m\u001b[43m(\u001b[49m\u001b[43me\u001b[49m\u001b[43m,\u001b[49m\u001b[43m \u001b[49m\u001b[38;5;28;43;01mNone\u001b[39;49;00m\u001b[43m)\u001b[49m\n\u001b[1;32m    467\u001b[0m \u001b[38;5;28;01mexcept\u001b[39;00m (SocketTimeout, BaseSSLError, SocketError) \u001b[38;5;28;01mas\u001b[39;00m e:\n\u001b[1;32m    468\u001b[0m     \u001b[38;5;28mself\u001b[39m\u001b[38;5;241m.\u001b[39m_raise_timeout(err\u001b[38;5;241m=\u001b[39me, url\u001b[38;5;241m=\u001b[39murl, timeout_value\u001b[38;5;241m=\u001b[39mread_timeout)\n",
      "File \u001b[0;32m<string>:3\u001b[0m, in \u001b[0;36mraise_from\u001b[0;34m(value, from_value)\u001b[0m\n",
      "File \u001b[0;32m~/.local/lib/python3.10/site-packages/urllib3/connectionpool.py:461\u001b[0m, in \u001b[0;36mHTTPConnectionPool._make_request\u001b[0;34m(self, conn, method, url, timeout, chunked, **httplib_request_kw)\u001b[0m\n\u001b[1;32m    458\u001b[0m \u001b[38;5;28;01mexcept\u001b[39;00m \u001b[38;5;167;01mTypeError\u001b[39;00m:\n\u001b[1;32m    459\u001b[0m     \u001b[38;5;66;03m# Python 3\u001b[39;00m\n\u001b[1;32m    460\u001b[0m     \u001b[38;5;28;01mtry\u001b[39;00m:\n\u001b[0;32m--> 461\u001b[0m         httplib_response \u001b[38;5;241m=\u001b[39m \u001b[43mconn\u001b[49m\u001b[38;5;241;43m.\u001b[39;49m\u001b[43mgetresponse\u001b[49m\u001b[43m(\u001b[49m\u001b[43m)\u001b[49m\n\u001b[1;32m    462\u001b[0m     \u001b[38;5;28;01mexcept\u001b[39;00m \u001b[38;5;167;01mBaseException\u001b[39;00m \u001b[38;5;28;01mas\u001b[39;00m e:\n\u001b[1;32m    463\u001b[0m         \u001b[38;5;66;03m# Remove the TypeError from the exception chain in\u001b[39;00m\n\u001b[1;32m    464\u001b[0m         \u001b[38;5;66;03m# Python 3 (including for exceptions like SystemExit).\u001b[39;00m\n\u001b[1;32m    465\u001b[0m         \u001b[38;5;66;03m# Otherwise it looks like a bug in the code.\u001b[39;00m\n\u001b[1;32m    466\u001b[0m         six\u001b[38;5;241m.\u001b[39mraise_from(e, \u001b[38;5;28;01mNone\u001b[39;00m)\n",
      "File \u001b[0;32m/usr/lib/python3.10/http/client.py:1375\u001b[0m, in \u001b[0;36mHTTPConnection.getresponse\u001b[0;34m(self)\u001b[0m\n\u001b[1;32m   1373\u001b[0m \u001b[38;5;28;01mtry\u001b[39;00m:\n\u001b[1;32m   1374\u001b[0m     \u001b[38;5;28;01mtry\u001b[39;00m:\n\u001b[0;32m-> 1375\u001b[0m         \u001b[43mresponse\u001b[49m\u001b[38;5;241;43m.\u001b[39;49m\u001b[43mbegin\u001b[49m\u001b[43m(\u001b[49m\u001b[43m)\u001b[49m\n\u001b[1;32m   1376\u001b[0m     \u001b[38;5;28;01mexcept\u001b[39;00m \u001b[38;5;167;01mConnectionError\u001b[39;00m:\n\u001b[1;32m   1377\u001b[0m         \u001b[38;5;28mself\u001b[39m\u001b[38;5;241m.\u001b[39mclose()\n",
      "File \u001b[0;32m/usr/lib/python3.10/http/client.py:318\u001b[0m, in \u001b[0;36mHTTPResponse.begin\u001b[0;34m(self)\u001b[0m\n\u001b[1;32m    316\u001b[0m \u001b[38;5;66;03m# read until we get a non-100 response\u001b[39;00m\n\u001b[1;32m    317\u001b[0m \u001b[38;5;28;01mwhile\u001b[39;00m \u001b[38;5;28;01mTrue\u001b[39;00m:\n\u001b[0;32m--> 318\u001b[0m     version, status, reason \u001b[38;5;241m=\u001b[39m \u001b[38;5;28;43mself\u001b[39;49m\u001b[38;5;241;43m.\u001b[39;49m\u001b[43m_read_status\u001b[49m\u001b[43m(\u001b[49m\u001b[43m)\u001b[49m\n\u001b[1;32m    319\u001b[0m     \u001b[38;5;28;01mif\u001b[39;00m status \u001b[38;5;241m!=\u001b[39m CONTINUE:\n\u001b[1;32m    320\u001b[0m         \u001b[38;5;28;01mbreak\u001b[39;00m\n",
      "File \u001b[0;32m/usr/lib/python3.10/http/client.py:279\u001b[0m, in \u001b[0;36mHTTPResponse._read_status\u001b[0;34m(self)\u001b[0m\n\u001b[1;32m    278\u001b[0m \u001b[38;5;28;01mdef\u001b[39;00m \u001b[38;5;21m_read_status\u001b[39m(\u001b[38;5;28mself\u001b[39m):\n\u001b[0;32m--> 279\u001b[0m     line \u001b[38;5;241m=\u001b[39m \u001b[38;5;28mstr\u001b[39m(\u001b[38;5;28;43mself\u001b[39;49m\u001b[38;5;241;43m.\u001b[39;49m\u001b[43mfp\u001b[49m\u001b[38;5;241;43m.\u001b[39;49m\u001b[43mreadline\u001b[49m\u001b[43m(\u001b[49m\u001b[43m_MAXLINE\u001b[49m\u001b[43m \u001b[49m\u001b[38;5;241;43m+\u001b[39;49m\u001b[43m \u001b[49m\u001b[38;5;241;43m1\u001b[39;49m\u001b[43m)\u001b[49m, \u001b[38;5;124m\"\u001b[39m\u001b[38;5;124miso-8859-1\u001b[39m\u001b[38;5;124m\"\u001b[39m)\n\u001b[1;32m    280\u001b[0m     \u001b[38;5;28;01mif\u001b[39;00m \u001b[38;5;28mlen\u001b[39m(line) \u001b[38;5;241m>\u001b[39m _MAXLINE:\n\u001b[1;32m    281\u001b[0m         \u001b[38;5;28;01mraise\u001b[39;00m LineTooLong(\u001b[38;5;124m\"\u001b[39m\u001b[38;5;124mstatus line\u001b[39m\u001b[38;5;124m\"\u001b[39m)\n",
      "File \u001b[0;32m/usr/lib/python3.10/socket.py:705\u001b[0m, in \u001b[0;36mSocketIO.readinto\u001b[0;34m(self, b)\u001b[0m\n\u001b[1;32m    703\u001b[0m \u001b[38;5;28;01mwhile\u001b[39;00m \u001b[38;5;28;01mTrue\u001b[39;00m:\n\u001b[1;32m    704\u001b[0m     \u001b[38;5;28;01mtry\u001b[39;00m:\n\u001b[0;32m--> 705\u001b[0m         \u001b[38;5;28;01mreturn\u001b[39;00m \u001b[38;5;28;43mself\u001b[39;49m\u001b[38;5;241;43m.\u001b[39;49m\u001b[43m_sock\u001b[49m\u001b[38;5;241;43m.\u001b[39;49m\u001b[43mrecv_into\u001b[49m\u001b[43m(\u001b[49m\u001b[43mb\u001b[49m\u001b[43m)\u001b[49m\n\u001b[1;32m    706\u001b[0m     \u001b[38;5;28;01mexcept\u001b[39;00m timeout:\n\u001b[1;32m    707\u001b[0m         \u001b[38;5;28mself\u001b[39m\u001b[38;5;241m.\u001b[39m_timeout_occurred \u001b[38;5;241m=\u001b[39m \u001b[38;5;28;01mTrue\u001b[39;00m\n",
      "File \u001b[0;32m/usr/lib/python3.10/ssl.py:1303\u001b[0m, in \u001b[0;36mSSLSocket.recv_into\u001b[0;34m(self, buffer, nbytes, flags)\u001b[0m\n\u001b[1;32m   1299\u001b[0m     \u001b[38;5;28;01mif\u001b[39;00m flags \u001b[38;5;241m!=\u001b[39m \u001b[38;5;241m0\u001b[39m:\n\u001b[1;32m   1300\u001b[0m         \u001b[38;5;28;01mraise\u001b[39;00m \u001b[38;5;167;01mValueError\u001b[39;00m(\n\u001b[1;32m   1301\u001b[0m           \u001b[38;5;124m\"\u001b[39m\u001b[38;5;124mnon-zero flags not allowed in calls to recv_into() on \u001b[39m\u001b[38;5;132;01m%s\u001b[39;00m\u001b[38;5;124m\"\u001b[39m \u001b[38;5;241m%\u001b[39m\n\u001b[1;32m   1302\u001b[0m           \u001b[38;5;28mself\u001b[39m\u001b[38;5;241m.\u001b[39m\u001b[38;5;18m__class__\u001b[39m)\n\u001b[0;32m-> 1303\u001b[0m     \u001b[38;5;28;01mreturn\u001b[39;00m \u001b[38;5;28;43mself\u001b[39;49m\u001b[38;5;241;43m.\u001b[39;49m\u001b[43mread\u001b[49m\u001b[43m(\u001b[49m\u001b[43mnbytes\u001b[49m\u001b[43m,\u001b[49m\u001b[43m \u001b[49m\u001b[43mbuffer\u001b[49m\u001b[43m)\u001b[49m\n\u001b[1;32m   1304\u001b[0m \u001b[38;5;28;01melse\u001b[39;00m:\n\u001b[1;32m   1305\u001b[0m     \u001b[38;5;28;01mreturn\u001b[39;00m \u001b[38;5;28msuper\u001b[39m()\u001b[38;5;241m.\u001b[39mrecv_into(buffer, nbytes, flags)\n",
      "File \u001b[0;32m/usr/lib/python3.10/ssl.py:1159\u001b[0m, in \u001b[0;36mSSLSocket.read\u001b[0;34m(self, len, buffer)\u001b[0m\n\u001b[1;32m   1157\u001b[0m \u001b[38;5;28;01mtry\u001b[39;00m:\n\u001b[1;32m   1158\u001b[0m     \u001b[38;5;28;01mif\u001b[39;00m buffer \u001b[38;5;129;01mis\u001b[39;00m \u001b[38;5;129;01mnot\u001b[39;00m \u001b[38;5;28;01mNone\u001b[39;00m:\n\u001b[0;32m-> 1159\u001b[0m         \u001b[38;5;28;01mreturn\u001b[39;00m \u001b[38;5;28;43mself\u001b[39;49m\u001b[38;5;241;43m.\u001b[39;49m\u001b[43m_sslobj\u001b[49m\u001b[38;5;241;43m.\u001b[39;49m\u001b[43mread\u001b[49m\u001b[43m(\u001b[49m\u001b[38;5;28;43mlen\u001b[39;49m\u001b[43m,\u001b[49m\u001b[43m \u001b[49m\u001b[43mbuffer\u001b[49m\u001b[43m)\u001b[49m\n\u001b[1;32m   1160\u001b[0m     \u001b[38;5;28;01melse\u001b[39;00m:\n\u001b[1;32m   1161\u001b[0m         \u001b[38;5;28;01mreturn\u001b[39;00m \u001b[38;5;28mself\u001b[39m\u001b[38;5;241m.\u001b[39m_sslobj\u001b[38;5;241m.\u001b[39mread(\u001b[38;5;28mlen\u001b[39m)\n",
      "\u001b[0;31mKeyboardInterrupt\u001b[0m: "
     ]
    }
   ],
   "source": [
    "def query_api(search_url, query, scrollId=None):\n",
    "    # headers={\"Authorization\":\"Bearer \"+apikeys('core')}\n",
    "    headers = {\"User-Agent\": \"Mozilla/5.0 (Linux; U; Android 4.2.2; he-il; NEO-X5-116A Build/JDQ39) AppleWebKit/534.30 (KHTML, like Gecko) Version/4.0 Safari/534.30\"}\n",
    "    \n",
    "    if not scrollId:\n",
    "        response = requests.get(f\"{search_url}?q={query}&limit=100&scroll=true&{apikey}\",headers=headers)\n",
    "    else:\n",
    "        response = requests.get(f\"{search_url}?q={query}&limit=100&scrollId={scrollId}&{apikey}\",headers=headers)        \n",
    "    return response.json(), response.elapsed.total_seconds()\n",
    "\n",
    "def scroll(search_url, query, extract_info_callback):\n",
    "    allresults = []\n",
    "    count = 0\n",
    "    scrollId=None\n",
    "    while True:\n",
    "        result, elapsed = query_api(search_url, query, scrollId)\n",
    "        try:\n",
    "            scrollId=result[\"scrollId\"]\n",
    "            totalhits = result[\"totalHits\"]\n",
    "            result_size = len(result[\"results\"])\n",
    "            if result_size==0:\n",
    "                break\n",
    "            for hit in result[\"results\"]:\n",
    "                if extract_info_callback:\n",
    "                    allresults.append(extract_info_callback(hit))\n",
    "                else:\n",
    "                    allresults.append(extract_info(hit))\n",
    "            count+=result_size\n",
    "            print(f\"{count}/{totalhits} {elapsed}s\")\n",
    "        except:\n",
    "            print('Resultado sem scroll id')\n",
    "            continue\n",
    "    return allresults\n",
    "        \n",
    "def extract_info(hit):\n",
    "    return {\"id\":hit[\"id\"], \"name\": hit[\"name\"], \"url\":hit[\"oaiPmhUrl\"]}\n",
    "\n",
    "def get_ids(hit):\n",
    "  return {\n",
    "      \"id\":hit[\"id\"],\n",
    "      \"arxivId\":hit[\"arxivId\"],\n",
    "      \"doi\":hit[\"doi\"],\n",
    "      \"oaiIds\":\",\".join(hit[\"oaiIds\"]),\n",
    "      \"magId\":hit[\"magId\"],\n",
    "      \"coreIds\":\",\".join(hit[\"outputs\"]),\n",
    "      \"pubmedId\":hit[\"pubmedId\"]\n",
    "  }\n",
    "\n",
    "provider = f\"https://api.core.ac.uk/v3/data-providers/14\"\n",
    "query    = f\"?q=dataProviders:{provider}&limit=1\"\n",
    "response = scroll(\"https://api.core.ac.uk/v3/search/works\", \n",
    "                  query, \n",
    "                  get_ids)"
   ]
  },
  {
   "cell_type": "code",
   "execution_count": null,
   "metadata": {},
   "outputs": [],
   "source": [
    "def query_api(search_url, query, scrollId=None):\n",
    "    # headers={\"Authorization\":\"Bearer \"+apikey}\n",
    "    headers = {\"User-Agent\": \"Mozilla/5.0 (Linux; U; Android 4.2.2; he-il; NEO-X5-116A Build/JDQ39) AppleWebKit/534.30 (KHTML, like Gecko) Version/4.0 Safari/534.30\"}\n",
    "    \n",
    "    if not scrollId:\n",
    "        response = requests.get(f\"{search_url}?q={query}&limit=100&scroll=true\",headers=headers)\n",
    "    else:\n",
    "        response = requests.get(f\"{search_url}?q={query}&limit=100&scrollId={scrollId}\",headers=headers)\n",
    "    print(response.content)        \n",
    "    return response.json(), response.elapsed.total_seconds()"
   ]
  },
  {
   "cell_type": "code",
   "execution_count": null,
   "metadata": {},
   "outputs": [],
   "source": []
  },
  {
   "cell_type": "code",
   "execution_count": null,
   "metadata": {},
   "outputs": [],
   "source": []
  },
  {
   "cell_type": "code",
   "execution_count": null,
   "metadata": {},
   "outputs": [],
   "source": []
  },
  {
   "cell_type": "code",
   "execution_count": null,
   "metadata": {},
   "outputs": [],
   "source": []
  },
  {
   "cell_type": "code",
   "execution_count": null,
   "metadata": {},
   "outputs": [],
   "source": []
  },
  {
   "cell_type": "code",
   "execution_count": null,
   "metadata": {},
   "outputs": [],
   "source": []
  },
  {
   "cell_type": "code",
   "execution_count": null,
   "metadata": {},
   "outputs": [],
   "source": [
    "from pprint import pprint\n",
    "import urllib.request, urllib.parse, urllib.error\n",
    "\n",
    "query = '\"machine learning\" AND graph AND innovation AND ontology'\n",
    "\n",
    "def get_entity(url_fragment, query):\n",
    "    api_endpoint = \"https://api.core.ac.uk/v3/\"\n",
    "    # headers={\"Authorization\":\"Bearer \"+api_key}\n",
    "    headers = {\"User-Agent\": \"Mozilla/5.0 (Linux; U; Android 4.2.2; he-il; NEO-X5-116A Build/JDQ39) AppleWebKit/534.30 (KHTML, like Gecko) Version/4.0 Safari/534.30\"}\n",
    "    \n",
    "    encoded_query = urllib.parse.quote(query)\n",
    "    api_key = apikeys('core')\n",
    "    url = f\"{api_endpoint}{url_fragment}?q={encoded_query}&api_key={api_key}\"\n",
    "    print(url)\n",
    "    response = requests.get(url, headers=headers)\n",
    "    \n",
    "    if response.status_code == 200:\n",
    "        return response.json(), response.elapsed.total_seconds()\n",
    "    else:\n",
    "        print(f\"Error code {response.status_code}\")\n",
    "        # pprint(response.content, width=120)\n",
    "        return None, None"
   ]
  },
  {
   "cell_type": "code",
   "execution_count": null,
   "metadata": {},
   "outputs": [],
   "source": [
    "data_provider, elapsed = get_entity(\"search/works/\", query)\n",
    "pretty_json(data_provider)"
   ]
  },
  {
   "cell_type": "code",
   "execution_count": null,
   "metadata": {},
   "outputs": [],
   "source": [
    "def query_api(url_fragment, query,limit=100):\n",
    "    api_endpoint = \"https://api.core.ac.uk/v3/\"\n",
    "    encoded_query=urllib.parse.quote(query)\n",
    "    headers = {\"User-Agent\": \"Mozilla/5.0 (Linux; U; Android 4.2.2; he-il; NEO-X5-116A Build/JDQ39) AppleWebKit/534.30 (KHTML, like Gecko) Version/4.0 Safari/534.30\"}\n",
    "    \n",
    "    response = requests.get(f\"{api_endpoint}{url_fragment}?api_key={apikeys('core')}&q={encoded_query}&limit={limit}\", headers=headers)\n",
    "    \n",
    "    if response.status_code ==200:\n",
    "        return response.json(), response.elapsed.total_seconds()\n",
    "    else:\n",
    "        print(f\"Error code {response.status_code}, {response.content}\")\n"
   ]
  },
  {
   "cell_type": "code",
   "execution_count": null,
   "metadata": {},
   "outputs": [],
   "source": [
    "query = '\"machine learning\" AND graph AND innovation AND ontology'\n",
    "\n",
    "response_object , elapsed = query_api(\"search/works\", query)\n",
    "\n",
    "pretty_json(response_object)"
   ]
  },
  {
   "cell_type": "code",
   "execution_count": null,
   "metadata": {},
   "outputs": [],
   "source": [
    "import urllib\n",
    "limit = 100\n",
    "query = \"location.countryCode:gb\"\n",
    "params = {\"q\":query, \"limit\":limit}\n",
    "encoded_query = urllib.parse.quote(json.dumps(params))\n",
    "encoded_query"
   ]
  },
  {
   "cell_type": "code",
   "execution_count": null,
   "metadata": {},
   "outputs": [],
   "source": [
    "params = {\"q\":query, \"limit\":limit}\n",
    "params.get('q')"
   ]
  },
  {
   "cell_type": "code",
   "execution_count": null,
   "metadata": {},
   "outputs": [],
   "source": [
    "params = {\"q\":query, \"limit\":limit}\n",
    "json.dumps(params)"
   ]
  },
  {
   "cell_type": "code",
   "execution_count": null,
   "metadata": {},
   "outputs": [],
   "source": [
    "def query_api(url_fragment, query, is_scroll=False, limit=100, scrollId=None):\n",
    "    endpoint = \"https://api.core.ac.uk/v3/\"\n",
    "    encoded_query=urllib.parse.quote(query)\n",
    "    headers = {\"User-Agent\": \"Mozilla/5.0 (Linux; U; Android 4.2.2; he-il; NEO-X5-116A Build/JDQ39) AppleWebKit/534.30 (KHTML, like Gecko) Version/4.0 Safari/534.30\"}\n",
    "\n",
    "    api_key = ler_apikeys('core')\n",
    "    headers = {\"Authorization\":\"Bearer \"+api_key}\n",
    "    params = {\"q\":query, \"limit\":limit}\n",
    "    not_encoded_query = json.dumps(params)\n",
    "    encoded_query = urllib.parse.quote(json.dumps(params))\n",
    "    \n",
    "    if not is_scroll:\n",
    "        url=f\"{endpoint}{url_fragment}?api_key={core_api_key}&q={params.get('q')}\"\n",
    "        print(url)\n",
    "        response = requests.get(url,headers=headers)\n",
    "    elif not scrollId:\n",
    "        params[\"scroll\"]=\"true\"\n",
    "        url=f\"{endpoint}{url_fragment}?api_key={core_api_key}&q={params.get('q')}\"\n",
    "        print(url)\n",
    "        response = requests.get(url,headers=headers)\n",
    "    else:\n",
    "        params[\"scrollId\"]=scrollId\n",
    "        url=f\"{endpoint}{url_fragment}?api_key={core_api_key}&q={params.get('q')}\"\n",
    "        print(url)\n",
    "        response = requests.get(url,headers=headers)\n",
    "    if response.status_code ==200:\n",
    "        return response.json(), response.elapsed.total_seconds()\n",
    "    else:\n",
    "        print(f\"Error code {response.status_code}, {response.content}\")\n",
    "\n",
    "def scroll(search_url, query, extract_info_callback=None):\n",
    "    allresults = []\n",
    "    count = 0\n",
    "    scrollId=None\n",
    "    while True:\n",
    "        result, elapsed = query_api(search_url, \n",
    "                                    query, \n",
    "                                    is_scroll=True, \n",
    "                                    scrollId=scrollId)\n",
    "        scrollId=result[\"scrollId\"]\n",
    "        totalhits = result[\"totalHits\"]\n",
    "        result_size = len(result[\"results\"])\n",
    "        if result_size==0:\n",
    "            break\n",
    "        for hit in result[\"results\"]:\n",
    "            if extract_info_callback:\n",
    "              allresults.append(extract_info_callback(hit))\n",
    "            else:\n",
    "              allresults.append(hit)\n",
    "        count+=result_size\n",
    "        print(f\"{count}/{totalhits} {elapsed}s\")\n",
    "    return allresults"
   ]
  },
  {
   "cell_type": "code",
   "execution_count": null,
   "metadata": {
    "scrolled": true
   },
   "outputs": [],
   "source": [
    "def get_data_providers_id(hit):\n",
    "    return {\"id\":hit[\"id\"], \"name\":hit[\"name\"]}\n",
    "\n",
    "uk_data_providers_raw = scroll(\"search/data-providers/\", \n",
    "                               \"location.countryCode:gb\", \n",
    "                               get_data_providers_id)\n",
    "\n",
    "uk_data_providers = pandas.DataFrame(uk_data_providers_raw)\n",
    "uk_data_providers"
   ]
  },
  {
   "cell_type": "code",
   "execution_count": null,
   "metadata": {},
   "outputs": [],
   "source": [
    "work, elapsed = get_entity(\"works/58886742\")\n",
    "pretty_json(work)"
   ]
  },
  {
   "cell_type": "code",
   "execution_count": null,
   "metadata": {
    "scrolled": true
   },
   "outputs": [],
   "source": [
    "work, elapsed = get_entity(\"works/10.3389/fmicb.2018.01845/full\")\n",
    "pretty_json(work)\n",
    "\n"
   ]
  },
  {
   "cell_type": "code",
   "execution_count": null,
   "metadata": {
    "scrolled": true
   },
   "outputs": [],
   "source": [
    "work, elapsed = get_entity(\"works/oai:strathprints.strath.ac.uk:4509\")\n",
    "pretty_json(work)"
   ]
  },
  {
   "cell_type": "code",
   "execution_count": null,
   "metadata": {
    "scrolled": true
   },
   "outputs": [],
   "source": [
    "work, elapsed = get_entity(\"works/core:277236443\")\n",
    "pretty_json(work)"
   ]
  },
  {
   "cell_type": "code",
   "execution_count": null,
   "metadata": {
    "scrolled": true
   },
   "outputs": [],
   "source": [
    "query = f\"covid AND yearPublished>=2010 AND yearPublished<=2021\"\n",
    "results, elapsed = query_api(\"search/works\", query, limit=1)\n",
    "pretty_json(results)"
   ]
  },
  {
   "cell_type": "code",
   "execution_count": null,
   "metadata": {},
   "outputs": [],
   "source": [
    "def aggregations(query, aggregation_fields,entity_type=\"works\", limit=20, cache=True):\n",
    "    headers={\"Authorization\":\"Bearer \"+api_key}\n",
    "\n",
    "    query = {\"q\":query,\"aggregations\":aggregation_fields, \"limit\":limit}\n",
    "    querystring = json.dumps(query).encode('utf-8')\n",
    "    filename = f\"cache/{hashlib.md5(querystring).hexdigest()}.csv\"\n",
    "    responseObject = {}\n",
    "    if cache and os.path.exists(filename):\n",
    "        with open (filename, \"r\") as cached:\n",
    "            responseObject=json.loads(cached.readlines()[0].strip())\n",
    "    else:\n",
    "        response = requests.post(f\"{api_endpoint}search/{entity_type}/aggregate\",data = json.dumps(query), headers=headers)\n",
    "        responseObject = response.json()\n",
    "        with open (filename, \"w\") as cached:\n",
    "            cached.write(json.dumps(responseObject))\n",
    "        \n",
    "    return responseObject\n",
    "\n",
    "\n"
   ]
  },
  {
   "cell_type": "code",
   "execution_count": null,
   "metadata": {},
   "outputs": [],
   "source": [
    "query = f\"covid AND yearPublished>=2010 AND yearPublished<=2021\"\n",
    "aggregation_response = aggregations(query, aggregation_fields=[\"yearPublished\"],entity_type=\"works\", limit=20)\n",
    "pretty_json(aggregation_response)\n",
    "year_data = aggregation_response[\"aggregations\"][\"yearPublished\"]\n",
    "years = pandas.DataFrame(list(year_data.items()), columns=[\"year\", \"records\"]) \n",
    "years = years.sort_values(\"year\", ascending=True)\n",
    "ax = sns.barplot(x=\"year\", y=\"records\", data=years)"
   ]
  },
  {
   "cell_type": "code",
   "execution_count": null,
   "metadata": {},
   "outputs": [],
   "source": [
    "def get_dataprovider_aggregation(query, year):\n",
    "    connected_ids = \" OR \".join(f\"dataProviders:{id}\" for id in uk_data_providers.id)\n",
    "    query = f\"{query} AND ({connected_ids}) AND yearPublished:{year}\"\n",
    "    aggregation_response = aggregations(query, aggregation_fields=[\"dataProviders\"],entity_type=\"works\")\n",
    "    dp_data = aggregation_response[\"aggregations\"][\"dataProviders\"]\n",
    "    dps = pandas.DataFrame(list(dp_data.items()), columns=[\"dp_id\", \"records\"]) \n",
    "    dps = dps[dps.dp_id.astype(int).isin(uk_data_providers.id)]\n",
    "    dps[\"dp_id\"]=dps[\"dp_id\"].astype(int) \n",
    "    return dps.set_index(\"dp_id\").join(uk_data_providers.set_index(\"id\")).reset_index().sort_values(\"records\", ascending=False)"
   ]
  },
  {
   "cell_type": "code",
   "execution_count": null,
   "metadata": {
    "scrolled": false
   },
   "outputs": [],
   "source": [
    "def plot_query(query, year, top_n=10):\n",
    "    aggs = get_dataprovider_aggregation(query, year)\n",
    "    ax = sns.barplot(x=\"records\", y=\"name\", data=aggs[:top_n])\n",
    "    ax.set(xlabel=\"# records\")\n",
    "    ax.set(ylabel=None)\n",
    "    plt.xticks(rotation=90)\n",
    "    plt.title(f\"\\\"{query}\\\" publications in {year}\")\n",
    "    plt.show()\n",
    "\n",
    "plot_query(\"unprecedented times\", 2018)\n",
    "plot_query(\"unprecedented times\", 2019)\n",
    "plot_query(\"unprecedented times\", 2020)\n",
    "plot_query(\"unprecedented times\", 2021)"
   ]
  },
  {
   "cell_type": "code",
   "execution_count": null,
   "metadata": {},
   "outputs": [],
   "source": [
    "import itertools\n",
    "russel_group = [119,286,27,83,33,39,504,14443,105,635,140,129,35,252,80,88,619,289,140,36,118,136, 42, 34]\n",
    "\n",
    "target_dps =uk_data_providers.id.to_list()\n",
    "def get_repo_name(url):\n",
    "    id_repo = url.split(\"/\")[-1]\n",
    "    if uk_data_providers[uk_data_providers.id==int(id_repo)].any()[\"name\"]:\n",
    "            return uk_data_providers[uk_data_providers.id==int(id_repo)][\"name\"].values[0]\n",
    "    return \"Other data providers\"\n",
    "\n",
    "def get_repo_name_if_needed(dp_url):\n",
    "    id_repo = dp_url.split(\"/\")[-1]\n",
    "    if int(id_repo) in target_dps:\n",
    "        dp_name=get_repo_name(id_repo)\n",
    "    else: \n",
    "        dp_name=\"Other data providers\"\n",
    "    return dp_name\n",
    "\n",
    "def get_arcs(hit):\n",
    "    results = []\n",
    "    if len(hit[\"dataProviders\"])==1:\n",
    "        return results\n",
    "    for dpA, dpB in itertools.combinations(hit[\"dataProviders\"],2):\n",
    "        dpA_name = get_repo_name_if_needed(dpA)\n",
    "        dpB_name = get_repo_name_if_needed(dpB)        \n",
    "        results.append({\"source\":dpA_name, \"target\":dpB_name, \"edge\":\"co_deposit\"})\n",
    "    return results\n",
    "\n",
    "def get_collaboration_network(query, cache=True):\n",
    "    filename = f\"cache/{hashlib.md5(query.encode('utf-8')).hexdigest()}.csv\"\n",
    "    edges_df = []\n",
    "    if cache:\n",
    "        if os.path.exists(filename):\n",
    "            edges_df = pandas.read_csv(filename)\n",
    "    if len(edges_df)==0:\n",
    "        covid_works = scroll(\"search/works\", query, get_arcs)\n",
    "        works= []\n",
    "\n",
    "        for c in covid_works:\n",
    "            works.extend(c)\n",
    "\n",
    "        edges_df = pandas.DataFrame(works)\n",
    "        edges_df.to_csv(filename)\n",
    "        \n",
    "        \n",
    "    edges_df = edges_df[edges_df.target!=\"Other data providers\"][edges_df.source!=\"Other data providers\"].groupby(['source', \"target\"]).count().reset_index()\n",
    "\n",
    "    G=nx.from_pandas_edgelist(edges_df,  \"source\", \"target\", edge_attr=True, create_using=nx.Graph())\n",
    "    plt.figure(figsize=(40,40))\n",
    "    M = G.number_of_edges()\n",
    "    edge_colors = range(2, M + 2)\n",
    "    cmap = sns.color_palette(\"viridis\", as_cmap=True)\n",
    "    pos = nx.circular_layout(G)\n",
    "    widths = 15 * (edges_df[\"edge\"]/edges_df[\"edge\"].max()) +1\n",
    "    nodes = nx.draw_networkx_nodes(G, pos, node_color=\"indigo\" )\n",
    "    edges = nx.draw_networkx_edges(\n",
    "        G,\n",
    "        pos,\n",
    "        edge_color=edge_colors,\n",
    "        edge_cmap=cmap,\n",
    "        width=widths,\n",
    "        \n",
    "    )\n",
    "    label_options = {\"fc\": \"white\"}\n",
    "    nx.draw_networkx_labels(G, pos, font_size=14, bbox=label_options)\n",
    "    plt.show()\n",
    "    #return edges_df.count()"
   ]
  },
  {
   "cell_type": "code",
   "execution_count": null,
   "metadata": {},
   "outputs": [],
   "source": [
    "def get_ego_network(query, cache=True):\n",
    "    filename = f\"cache/{hashlib.md5(query.encode('utf-8')).hexdigest()}.csv\"\n",
    "    edges_df = []\n",
    "    if cache:\n",
    "        if os.path.exists(filename):\n",
    "            edges_df = pandas.read_csv(filename)\n",
    "    if len(edges_df)==0:\n",
    "        covid_works = scroll(\"search/works\", query, get_arcs)\n",
    "        works= []\n",
    "\n",
    "        for c in covid_works:\n",
    "            works.extend(c)\n",
    "\n",
    "        edges_df = pandas.DataFrame(works)\n",
    "        edges_df.to_csv(filename)\n",
    "        \n",
    "        \n",
    "    edges_df = edges_df[edges_df.target!=\"Other data providers\"][edges_df.source!=\"Other data providers\"].groupby(['source', \"target\"]).count().reset_index()    \n",
    "    \n",
    "    \n",
    "    G=nx.from_pandas_edgelist(edges_df,  \"source\", \"target\", edge_attr=True, create_using=nx.Graph())\n",
    "    plt.figure(figsize=(40,40))\n",
    "    M = G.number_of_edges()\n",
    "    edge_colors = range(2, M + 2)\n",
    "    cmap = sns.color_palette(\"viridis\", as_cmap=True)\n",
    "    pos = nx.circular_layout(G)\n",
    "    widths = 15 * (edges_df[\"edge\"]/edges_df[\"edge\"].max()) +1\n",
    "    # Create a BA model graph - use seed for reproducibility\n",
    "    seed = 20532\n",
    "\n",
    "    # find node with largest degree\n",
    "    node_and_degree = G.degree()\n",
    "    (largest_hub, degree) = sorted(node_and_degree, key=itemgetter(1))[-1]\n",
    "\n",
    "    # Create ego graph of main hub\n",
    "    hub_ego = nx.ego_graph(G, largest_hub)\n",
    "\n",
    "    # Draw graph\n",
    "    pos = nx.spring_layout(hub_ego, seed=seed)  # Seed layout for reproducibility\n",
    "    nx.draw(hub_ego, pos, node_color=\"b\", node_size=50, with_labels=False)\n",
    "\n",
    "    # Draw ego as large and red\n",
    "    options = {\"node_size\": 300, \"node_color\": \"r\"}\n",
    "    label_options = {\"fc\": \"white\"}\n",
    "    nx.draw_networkx_nodes(hub_ego, pos, nodelist=[largest_hub], **options)\n",
    "    nx.draw_networkx_labels(hub_ego, pos, font_size=24, bbox=label_options)\n",
    "    edges = nx.draw_networkx_edges(\n",
    "        hub_ego,\n",
    "        pos,\n",
    "        edge_color=edge_colors,\n",
    "        edge_cmap=cmap,\n",
    "        width=widths,\n",
    "        \n",
    "    )\n",
    "    plt.show()\n",
    "    #return edges_df.count()"
   ]
  },
  {
   "cell_type": "code",
   "execution_count": null,
   "metadata": {
    "scrolled": false
   },
   "outputs": [],
   "source": [
    "query = f\"covid AND yearPublished:2021 AND dataProviders:140\"\n",
    "get_ego_network(query)"
   ]
  },
  {
   "cell_type": "code",
   "execution_count": null,
   "metadata": {
    "scrolled": false
   },
   "outputs": [],
   "source": [
    "ids_to_focus = \" OR \".join(f\"dataProviders:{id}\" for id in russel_group)\n",
    "query = f\"covid AND yearPublished:2021 AND ({ids_to_focus})\"\n",
    "get_collaboration_network(query, cache=True)"
   ]
  },
  {
   "cell_type": "code",
   "execution_count": null,
   "metadata": {},
   "outputs": [],
   "source": []
  }
 ],
 "metadata": {
  "kernelspec": {
   "display_name": "Python 3",
   "language": "python",
   "name": "python3"
  },
  "language_info": {
   "codemirror_mode": {
    "name": "ipython",
    "version": 3
   },
   "file_extension": ".py",
   "mimetype": "text/x-python",
   "name": "python",
   "nbconvert_exporter": "python",
   "pygments_lexer": "ipython3",
   "version": "3.10.12"
  }
 },
 "nbformat": 4,
 "nbformat_minor": 2
}
