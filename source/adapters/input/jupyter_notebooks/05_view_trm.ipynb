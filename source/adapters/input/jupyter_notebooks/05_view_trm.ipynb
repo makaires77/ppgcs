{
 "cells": [
  {
   "cell_type": "code",
   "execution_count": 13,
   "metadata": {},
   "outputs": [
    {
     "name": "stderr",
     "output_type": "stream",
     "text": [
      "ERROR: Could not find a version that satisfies the requirement nivo (from versions: none)\n",
      "ERROR: No matching distribution found for nivo\n"
     ]
    }
   ],
   "source": [
    "!pip3 install nivo --trusted-host=nivo.rocks --user\n",
    "# !pip3 install nivo --trusted-host=nivo.rocks --user"
   ]
  },
  {
   "cell_type": "code",
   "execution_count": 12,
   "metadata": {},
   "outputs": [
    {
     "name": "stdout",
     "output_type": "stream",
     "text": [
      "Files removed: 1160\n"
     ]
    }
   ],
   "source": [
    "# !pip cache purge"
   ]
  },
  {
   "cell_type": "code",
   "execution_count": 8,
   "metadata": {},
   "outputs": [
    {
     "ename": "ModuleNotFoundError",
     "evalue": "No module named 'nivo'",
     "output_type": "error",
     "traceback": [
      "\u001b[1;31m---------------------------------------------------------------------------\u001b[0m",
      "\u001b[1;31mModuleNotFoundError\u001b[0m                       Traceback (most recent call last)",
      "Cell \u001b[1;32mIn[8], line 3\u001b[0m\n\u001b[0;32m      1\u001b[0m \u001b[38;5;28;01mimport\u001b[39;00m \u001b[38;5;21;01mrequests\u001b[39;00m\n\u001b[0;32m      2\u001b[0m \u001b[38;5;28;01mimport\u001b[39;00m \u001b[38;5;21;01mbs4\u001b[39;00m\n\u001b[1;32m----> 3\u001b[0m \u001b[38;5;28;01mimport\u001b[39;00m \u001b[38;5;21;01mnivo\u001b[39;00m\n\u001b[0;32m      5\u001b[0m \u001b[38;5;28;01mdef\u001b[39;00m \u001b[38;5;21mmain\u001b[39m():\n\u001b[0;32m      6\u001b[0m     \u001b[38;5;66;03m# Coletar os dados do site\u001b[39;00m\n\u001b[0;32m      7\u001b[0m     url \u001b[38;5;241m=\u001b[39m \u001b[38;5;124m\"\u001b[39m\u001b[38;5;124mhttps://research.pasteur.fr/en/platforms/\u001b[39m\u001b[38;5;124m\"\u001b[39m\n",
      "\u001b[1;31mModuleNotFoundError\u001b[0m: No module named 'nivo'"
     ]
    }
   ],
   "source": [
    "import requests\n",
    "import bs4\n",
    "# import nivo\n",
    "\n",
    "def main():\n",
    "    # Coletar os dados do site\n",
    "    url = \"https://research.pasteur.fr/en/platforms/\"\n",
    "    response = requests.get(url)\n",
    "    html = response.content\n",
    "    soup = bs4.BeautifulSoup(html, \"html.parser\")\n",
    "\n",
    "    # Criar os dados para o gráfico\n",
    "    market_data = []\n",
    "    for market in soup.find_all(\"div\", class_=\"market\"):\n",
    "        name = market.find(\"h2\").text\n",
    "        trends = []\n",
    "        for trend in market.find_all(\"ul\"):\n",
    "            trends.append([trend.find(\"li\").text, trend.find(\"i\").text])\n",
    "        market_data.append({\"name\": name, \"trends\": trends})\n",
    "\n",
    "    product_data = []\n",
    "    for product in soup.find_all(\"div\", class_=\"product\"):\n",
    "        name = product.find(\"h2\").text\n",
    "        features = []\n",
    "        for feature in product.find_all(\"ul\"):\n",
    "            features.append([feature.find(\"li\").text, feature.find(\"i\").text])\n",
    "        product_data.append({\"name\": name, \"features\": features})\n",
    "\n",
    "    technology_data = []\n",
    "    for technology in soup.find_all(\"div\", class_=\"technology\"):\n",
    "        name = technology.find(\"h2\").text\n",
    "        advances = []\n",
    "        for advance in technology.find_all(\"ul\"):\n",
    "            advances.append([advance.find(\"li\").text, advance.find(\"i\").text])\n",
    "        technology_data.append({\"name\": name, \"advances\": advances})\n",
    "\n",
    "    # Criar o gráfico\n",
    "    treemap = nivo.Treemap({\n",
    "        \"data\": {\n",
    "            \"market\": market_data,\n",
    "            \"product\": product_data,\n",
    "            \"technology\": technology_data,\n",
    "        },\n",
    "        \"margin\": {\"top\": 50, \"bottom\": 50},\n",
    "        \"padding\": 10,\n",
    "        \"colors\": {\n",
    "            \"market\": \"#1ABC9C\",\n",
    "            \"product\": \"#2ECC71\",\n",
    "            \"technology\": \"#3498DB\",\n",
    "        },\n",
    "    })\n",
    "\n",
    "    # Renderizar o gráfico\n",
    "    treemap.render(\"treemap\")"
   ]
  }
 ],
 "metadata": {
  "kernelspec": {
   "display_name": "Python38-PyTorch",
   "language": "python",
   "name": "python3"
  },
  "language_info": {
   "codemirror_mode": {
    "name": "ipython",
    "version": 3
   },
   "file_extension": ".py",
   "mimetype": "text/x-python",
   "name": "python",
   "nbconvert_exporter": "python",
   "pygments_lexer": "ipython3",
   "version": "3.8.18"
  }
 },
 "nbformat": 4,
 "nbformat_minor": 2
}
