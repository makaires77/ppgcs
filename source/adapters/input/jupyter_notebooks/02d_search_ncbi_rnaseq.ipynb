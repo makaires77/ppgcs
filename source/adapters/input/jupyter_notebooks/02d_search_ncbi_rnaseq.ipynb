{
 "cells": [
  {
   "cell_type": "code",
   "execution_count": 1,
   "metadata": {},
   "outputs": [],
   "source": [
    "from Bio import Entrez\n",
    "\n",
    "def count_rnaseq_records(email, term=\"Illumina MiSeq RNASeq\"):\n",
    "    \"\"\"\n",
    "    Conta o número total de registros de RNASeq no NCBI para uma plataforma de sequenciamento especificada.\n",
    "\n",
    "    Parâmetros:\n",
    "    - email: Endereço de email a ser fornecido ao NCBI.\n",
    "    - term: Termo de busca para o Entrez do NCBI (padrão é para Illumina MiSeq e RNASeq).\n",
    "\n",
    "    Retorna:\n",
    "    - Número total de registros disponíveis para o termo de busca.\n",
    "    \"\"\"\n",
    "    \n",
    "    Entrez.email = email\n",
    "    handle = Entrez.esearch(db=\"sra\", term=term)\n",
    "    record = Entrez.read(handle)\n",
    "    handle.close()\n",
    "    \n",
    "    return int(record[\"Count\"])\n"
   ]
  },
  {
   "cell_type": "code",
   "execution_count": 2,
   "metadata": {},
   "outputs": [
    {
     "name": "stdout",
     "output_type": "stream",
     "text": [
      "Total de registros encontrados: 5072\n"
     ]
    }
   ],
   "source": [
    "email   = \"marcos.aires@fiocruz.br\"\n",
    "total = count_rnaseq_records(email)\n",
    "print(f\"Total de registros encontrados: {total}\")"
   ]
  },
  {
   "cell_type": "code",
   "execution_count": 3,
   "metadata": {},
   "outputs": [],
   "source": [
    "from Bio import Entrez\n",
    "\n",
    "def fetch_rnaseq_data(email, term=\"Illumina MiSeq RNASeq\", retmax=10):\n",
    "    \"\"\"\n",
    "    Fetches raw RNASeq data from NCBI using the specified sequencing platform.\n",
    "\n",
    "    Parameters:\n",
    "    - email: Email address to be provided to NCBI.\n",
    "    - term: Search term for NCBI's Entrez (default is for Illumina MiSeq and RNASeq).\n",
    "    - retmax: Maximum number of records to retrieve.\n",
    "\n",
    "    Returns:\n",
    "    - List of records with accession numbers, titles, and other metadata.\n",
    "    \"\"\"\n",
    "    Entrez.email = email\n",
    "    handle = Entrez.esearch(db=\"sra\", term=term, retmax=retmax)\n",
    "    record = Entrez.read(handle)\n",
    "    handle.close()\n",
    "    \n",
    "    id_list = record[\"IdList\"]\n",
    "    if not id_list:\n",
    "        print(\"No records found for the provided search term.\")\n",
    "        return []\n",
    "    \n",
    "    handle = Entrez.esummary(db=\"sra\", id=\",\".join(id_list))\n",
    "    summary_records = Entrez.read(handle)\n",
    "    handle.close()\n",
    "    \n",
    "    results = []\n",
    "    for rec in summary_records:\n",
    "        accession = rec.get(\"Accession\", \"N/A\")\n",
    "        title = rec.get(\"Title\", \"N/A\")\n",
    "        update_date = rec.get(\"UpdateDate\", \"N/A\")\n",
    "        results.append({\n",
    "            \"Accession\": accession,\n",
    "            \"Title\": title,\n",
    "            \"UpdateDate\": update_date\n",
    "        })\n",
    "    \n",
    "    return results\n"
   ]
  },
  {
   "cell_type": "code",
   "execution_count": 4,
   "metadata": {},
   "outputs": [
    {
     "name": "stdout",
     "output_type": "stream",
     "text": [
      "{'Accession': 'N/A', 'Title': 'N/A', 'UpdateDate': '2023/09/25'}\n",
      "{'Accession': 'N/A', 'Title': 'N/A', 'UpdateDate': '2023/09/25'}\n",
      "{'Accession': 'N/A', 'Title': 'N/A', 'UpdateDate': '2023/09/13'}\n",
      "{'Accession': 'N/A', 'Title': 'N/A', 'UpdateDate': '2023/09/07'}\n",
      "{'Accession': 'N/A', 'Title': 'N/A', 'UpdateDate': '2023/09/07'}\n",
      "{'Accession': 'N/A', 'Title': 'N/A', 'UpdateDate': '2023/09/07'}\n",
      "{'Accession': 'N/A', 'Title': 'N/A', 'UpdateDate': '2023/09/07'}\n",
      "{'Accession': 'N/A', 'Title': 'N/A', 'UpdateDate': '2023/09/07'}\n",
      "{'Accession': 'N/A', 'Title': 'N/A', 'UpdateDate': '2023/09/07'}\n",
      "{'Accession': 'N/A', 'Title': 'N/A', 'UpdateDate': '2023/09/07'}\n"
     ]
    }
   ],
   "source": [
    "# Example usage:\n",
    "email   = \"marcos.aires@fiocruz.br\"\n",
    "records = fetch_rnaseq_data(email)\n",
    "for rec in records:\n",
    "    print(rec)"
   ]
  },
  {
   "cell_type": "code",
   "execution_count": 5,
   "metadata": {},
   "outputs": [
    {
     "data": {
      "text/plain": [
       "[{'Accession': 'N/A', 'Title': 'N/A', 'UpdateDate': '2023/09/25'},\n",
       " {'Accession': 'N/A', 'Title': 'N/A', 'UpdateDate': '2023/09/25'},\n",
       " {'Accession': 'N/A', 'Title': 'N/A', 'UpdateDate': '2023/09/13'},\n",
       " {'Accession': 'N/A', 'Title': 'N/A', 'UpdateDate': '2023/09/07'},\n",
       " {'Accession': 'N/A', 'Title': 'N/A', 'UpdateDate': '2023/09/07'},\n",
       " {'Accession': 'N/A', 'Title': 'N/A', 'UpdateDate': '2023/09/07'},\n",
       " {'Accession': 'N/A', 'Title': 'N/A', 'UpdateDate': '2023/09/07'},\n",
       " {'Accession': 'N/A', 'Title': 'N/A', 'UpdateDate': '2023/09/07'},\n",
       " {'Accession': 'N/A', 'Title': 'N/A', 'UpdateDate': '2023/09/07'},\n",
       " {'Accession': 'N/A', 'Title': 'N/A', 'UpdateDate': '2023/09/07'}]"
      ]
     },
     "execution_count": 5,
     "metadata": {},
     "output_type": "execute_result"
    }
   ],
   "source": [
    "records"
   ]
  }
 ],
 "metadata": {
  "kernelspec": {
   "display_name": "beakerx",
   "language": "python",
   "name": "python3"
  },
  "language_info": {
   "codemirror_mode": {
    "name": "ipython",
    "version": 3
   },
   "file_extension": ".py",
   "mimetype": "text/x-python",
   "name": "python",
   "nbconvert_exporter": "python",
   "pygments_lexer": "ipython3",
   "version": "3.11.2"
  }
 },
 "nbformat": 4,
 "nbformat_minor": 2
}
