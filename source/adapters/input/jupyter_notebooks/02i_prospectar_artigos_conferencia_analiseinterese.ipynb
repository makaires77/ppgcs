{
 "cells": [
  {
   "cell_type": "code",
   "execution_count": 1,
   "metadata": {},
   "outputs": [
    {
     "data": {
      "text/plain": [
       "['crossref_normalized_innovationontologygraphmachinelearning.csv',\n",
       " 'output_multithreads_py.h5',\n",
       " 'output_py_gpu_multithreads.json',\n",
       " 'articles_dataset_mtgo.json',\n",
       " 'crossref_normalized_innovationontologymachinelearning.csv',\n",
       " 'Impact-Factor-2023.pdf',\n",
       " 'translated_data.json',\n",
       " 'jcr_csv',\n",
       " 'progress.txt',\n",
       " 'translated_titles.json',\n",
       " 'input_golang_preprocessed.json',\n",
       " 'crossref_normalized_innovationontologygraph.csv',\n",
       " 'updated_unified_df.csv',\n",
       " 'crossref_normalized_machinelearning.csv',\n",
       " 'PDF',\n",
       " 'anthology+abstracts.bib.gz',\n",
       " 'capes_areas-de-conhecimento.pdf',\n",
       " 'neovis_graph.html',\n",
       " 'analise_interesse.csv',\n",
       " 'crossref_normalized_innovationmachinelearning.csv',\n",
       " 'experiments_principal_results.json',\n",
       " 'output_py_gpu_singlethread.h5',\n",
       " 'crossref_normalized_innovationgraph.csv',\n",
       " 'crossref_normalized_ontology.csv',\n",
       " 'cnpq_tabela-areas-conhecimento.pdf',\n",
       " 'clean_titles.json',\n",
       " 'fiocruz_unidade-desconhecida.xlsx',\n",
       " 'output_multithreading_golang.json',\n",
       " 'categorias_capes.txt',\n",
       " 'crossref_normalized_graphmachinelearning.csv',\n",
       " 'df_updated.csv',\n",
       " 'classificações_publicadas_todas_as_areas_avaliacao1672761192111.xlsx',\n",
       " 'dict_list_uea.json',\n",
       " 'crossref_normalized_ontologymachinelearning.csv',\n",
       " 'sucupira_todas_as_areas_avaliacao1672761192111.csv',\n",
       " 'lista_orientadores_funcap_2023.csv',\n",
       " 'output_py_gpu_multithreads.h5',\n",
       " 'capes_avaliacao_areas.xlsx',\n",
       " 'crossref_normalized_innovation.csv',\n",
       " 'fioce_colaboradores-2023.xls',\n",
       " 'prisma_analysis.json',\n",
       " 'fioce_producao_2008.01-2023.06.xlsx',\n",
       " 'crossref_normalized_innovationgraphmachinelearning.csv',\n",
       " 'output_py_cpu_singlethread.h5',\n",
       " 'output_py_gpu_singlethread.json',\n",
       " 'output_py_cpu_singlethread.json',\n",
       " 'crossref_normalized_graph.csv',\n",
       " 'experiments_pilot_results.json',\n",
       " 'crossref_normalized_ontologygraphmachinelearning.csv',\n",
       " 'unified_df.csv',\n",
       " 'crossref_normalized_ontologygraph.csv',\n",
       " 'output_multithreads_py.json',\n",
       " 'updated_unified_dflinks.csv',\n",
       " 'remaining_unified_df.csv',\n",
       " 'crossref_normalized_innovationontology.csv',\n",
       " 'dict_list_fioce.json']"
      ]
     },
     "execution_count": 1,
     "metadata": {},
     "output_type": "execute_result"
    }
   ],
   "source": [
    "import os\n",
    "os.listdir('./../data/')"
   ]
  },
  {
   "cell_type": "code",
   "execution_count": 2,
   "metadata": {},
   "outputs": [
    {
     "data": {
      "text/plain": [
       "journal-article            131\n",
       "Article                     73\n",
       "Chapter ConferencePaper     36\n",
       "Conferences                 24\n",
       "Journals                    16\n",
       "Chapter                      2\n",
       "Early Access Articles        1\n",
       "Name: TIPO, dtype: int64"
      ]
     },
     "execution_count": 2,
     "metadata": {},
     "output_type": "execute_result"
    }
   ],
   "source": [
    "import pandas as pd\n",
    "folder='./../data/'\n",
    "df_unified = pd.read_csv(folder+'unified_df.csv')\n",
    "tipos_unificado = df_unified['TIPO'].value_counts()\n",
    "tipos_unificado"
   ]
  },
  {
   "cell_type": "code",
   "execution_count": 3,
   "metadata": {},
   "outputs": [
    {
     "data": {
      "text/plain": [
       "Index(['DOI', 'TIPO', 'DATE', 'TITLE', 'ABSTRACT'], dtype='object')"
      ]
     },
     "execution_count": 3,
     "metadata": {},
     "output_type": "execute_result"
    }
   ],
   "source": [
    "df_unified.keys()"
   ]
  },
  {
   "cell_type": "code",
   "execution_count": 4,
   "metadata": {},
   "outputs": [
    {
     "data": {
      "text/plain": [
       "283"
      ]
     },
     "execution_count": 4,
     "metadata": {},
     "output_type": "execute_result"
    }
   ],
   "source": [
    "total_unificado = tipos_unificado.sum()\n",
    "total_unificado"
   ]
  },
  {
   "cell_type": "code",
   "execution_count": 5,
   "metadata": {},
   "outputs": [
    {
     "data": {
      "text/plain": [
       "283"
      ]
     },
     "execution_count": 5,
     "metadata": {},
     "output_type": "execute_result"
    }
   ],
   "source": [
    "df_updated = pd.read_csv(folder+'updated_unified_df.csv')\n",
    "total_analisado = df_updated['INTERESSE'].value_counts().sum()\n",
    "total_analisado"
   ]
  },
  {
   "cell_type": "code",
   "execution_count": 6,
   "metadata": {},
   "outputs": [
    {
     "data": {
      "text/plain": [
       "0"
      ]
     },
     "execution_count": 6,
     "metadata": {},
     "output_type": "execute_result"
    }
   ],
   "source": [
    "total_unificado-total_analisado"
   ]
  },
  {
   "cell_type": "code",
   "execution_count": 19,
   "metadata": {},
   "outputs": [
    {
     "data": {
      "text/html": [
       "<div>\n",
       "<style scoped>\n",
       "    .dataframe tbody tr th:only-of-type {\n",
       "        vertical-align: middle;\n",
       "    }\n",
       "\n",
       "    .dataframe tbody tr th {\n",
       "        vertical-align: top;\n",
       "    }\n",
       "\n",
       "    .dataframe thead th {\n",
       "        text-align: right;\n",
       "    }\n",
       "</style>\n",
       "<table border=\"1\" class=\"dataframe\">\n",
       "  <thead>\n",
       "    <tr style=\"text-align: right;\">\n",
       "      <th></th>\n",
       "      <th>TITLE</th>\n",
       "      <th>ABSTRACT</th>\n",
       "      <th>INTERESSE</th>\n",
       "    </tr>\n",
       "  </thead>\n",
       "  <tbody>\n",
       "    <tr>\n",
       "      <th>0</th>\n",
       "      <td>The Method of Constructing Knowledge Graph Bas...</td>\n",
       "      <td>In recent years, knowledge graph has gradually...</td>\n",
       "      <td>Fora do Escopo</td>\n",
       "    </tr>\n",
       "    <tr>\n",
       "      <th>1</th>\n",
       "      <td>Research on Enterprise Risk Prediction Path Ba...</td>\n",
       "      <td>Identifying risk information from enterprise b...</td>\n",
       "      <td>Interessa para Pesquisa</td>\n",
       "    </tr>\n",
       "    <tr>\n",
       "      <th>2</th>\n",
       "      <td>A Semantic Enhanced Course Recommender System ...</td>\n",
       "      <td>The Universal Declaration of Human Rights stat...</td>\n",
       "      <td>Fora do Escopo</td>\n",
       "    </tr>\n",
       "    <tr>\n",
       "      <th>3</th>\n",
       "      <td>Predicting potential microbe-disease associati...</td>\n",
       "      <td>The increasing body of research has consistent...</td>\n",
       "      <td>Fora do Escopo</td>\n",
       "    </tr>\n",
       "    <tr>\n",
       "      <th>4</th>\n",
       "      <td>Mobility knowledge graph: review and its appli...</td>\n",
       "      <td>Understanding human mobility in urban areas is...</td>\n",
       "      <td>Fora do Escopo</td>\n",
       "    </tr>\n",
       "    <tr>\n",
       "      <th>...</th>\n",
       "      <td>...</td>\n",
       "      <td>...</td>\n",
       "      <td>...</td>\n",
       "    </tr>\n",
       "    <tr>\n",
       "      <th>278</th>\n",
       "      <td>Ontology summit 2020 communiqué: Knowledge graphs</td>\n",
       "      <td>An increasing amount of data is now available ...</td>\n",
       "      <td>NaN</td>\n",
       "    </tr>\n",
       "    <tr>\n",
       "      <th>279</th>\n",
       "      <td>BiGe-Onto: An ontology-based system for managi...</td>\n",
       "      <td>Great progress to digitize the world’s availab...</td>\n",
       "      <td>NaN</td>\n",
       "    </tr>\n",
       "    <tr>\n",
       "      <th>280</th>\n",
       "      <td>THE ONTOLOGIES OF DESIGNING FROM VITRUVIA TO V...</td>\n",
       "      <td>The article discusses the development of an em...</td>\n",
       "      <td>NaN</td>\n",
       "    </tr>\n",
       "    <tr>\n",
       "      <th>281</th>\n",
       "      <td>OBO-Edit—an ontology editor for biologists</td>\n",
       "      <td>&lt;jats:title&gt;Abstract&lt;/jats:title&gt;\\n           ...</td>\n",
       "      <td>NaN</td>\n",
       "    </tr>\n",
       "    <tr>\n",
       "      <th>282</th>\n",
       "      <td>Domain ontology construction method based on k...</td>\n",
       "      <td>NaN</td>\n",
       "      <td>NaN</td>\n",
       "    </tr>\n",
       "  </tbody>\n",
       "</table>\n",
       "<p>283 rows × 3 columns</p>\n",
       "</div>"
      ],
      "text/plain": [
       "                                                 TITLE  \\\n",
       "0    The Method of Constructing Knowledge Graph Bas...   \n",
       "1    Research on Enterprise Risk Prediction Path Ba...   \n",
       "2    A Semantic Enhanced Course Recommender System ...   \n",
       "3    Predicting potential microbe-disease associati...   \n",
       "4    Mobility knowledge graph: review and its appli...   \n",
       "..                                                 ...   \n",
       "278  Ontology summit 2020 communiqué: Knowledge graphs   \n",
       "279  BiGe-Onto: An ontology-based system for managi...   \n",
       "280  THE ONTOLOGIES OF DESIGNING FROM VITRUVIA TO V...   \n",
       "281         OBO-Edit—an ontology editor for biologists   \n",
       "282  Domain ontology construction method based on k...   \n",
       "\n",
       "                                              ABSTRACT  \\\n",
       "0    In recent years, knowledge graph has gradually...   \n",
       "1    Identifying risk information from enterprise b...   \n",
       "2    The Universal Declaration of Human Rights stat...   \n",
       "3    The increasing body of research has consistent...   \n",
       "4    Understanding human mobility in urban areas is...   \n",
       "..                                                 ...   \n",
       "278  An increasing amount of data is now available ...   \n",
       "279  Great progress to digitize the world’s availab...   \n",
       "280  The article discusses the development of an em...   \n",
       "281  <jats:title>Abstract</jats:title>\\n           ...   \n",
       "282                                                NaN   \n",
       "\n",
       "                   INTERESSE  \n",
       "0             Fora do Escopo  \n",
       "1    Interessa para Pesquisa  \n",
       "2             Fora do Escopo  \n",
       "3             Fora do Escopo  \n",
       "4             Fora do Escopo  \n",
       "..                       ...  \n",
       "278                      NaN  \n",
       "279                      NaN  \n",
       "280                      NaN  \n",
       "281                      NaN  \n",
       "282                      NaN  \n",
       "\n",
       "[283 rows x 3 columns]"
      ]
     },
     "execution_count": 19,
     "metadata": {},
     "output_type": "execute_result"
    }
   ],
   "source": [
    "df_updated[['TITLE','ABSTRACT',\t'INTERESSE']]"
   ]
  },
  {
   "cell_type": "code",
   "execution_count": 22,
   "metadata": {},
   "outputs": [
    {
     "name": "stdout",
     "output_type": "stream",
     "text": [
      "DataFrame com registros restantes salvo em '../data/remaining_unified_df.csv'.\n",
      "94\n"
     ]
    },
    {
     "data": {
      "text/html": [
       "<div>\n",
       "<style scoped>\n",
       "    .dataframe tbody tr th:only-of-type {\n",
       "        vertical-align: middle;\n",
       "    }\n",
       "\n",
       "    .dataframe tbody tr th {\n",
       "        vertical-align: top;\n",
       "    }\n",
       "\n",
       "    .dataframe thead th {\n",
       "        text-align: right;\n",
       "    }\n",
       "</style>\n",
       "<table border=\"1\" class=\"dataframe\">\n",
       "  <thead>\n",
       "    <tr style=\"text-align: right;\">\n",
       "      <th></th>\n",
       "      <th>DOI</th>\n",
       "      <th>TIPO</th>\n",
       "      <th>DATE</th>\n",
       "      <th>TITLE</th>\n",
       "      <th>ABSTRACT</th>\n",
       "      <th>INTERESSE</th>\n",
       "    </tr>\n",
       "  </thead>\n",
       "  <tbody>\n",
       "    <tr>\n",
       "      <th>189</th>\n",
       "      <td>10.25205/1818-7900-2022-20-4-24-38</td>\n",
       "      <td>journal-article</td>\n",
       "      <td>2023-06-14</td>\n",
       "      <td>Domain Ontology Representation Model Based on ...</td>\n",
       "      <td>The article presents an approach to modeling d...</td>\n",
       "      <td>NaN</td>\n",
       "    </tr>\n",
       "    <tr>\n",
       "      <th>190</th>\n",
       "      <td>10.3923/itj.2010.825.831</td>\n",
       "      <td>journal-article</td>\n",
       "      <td>2010-10-08</td>\n",
       "      <td>A Semantic-Aware Algorithm to Rank Concepts in...</td>\n",
       "      <td>NaN</td>\n",
       "      <td>NaN</td>\n",
       "    </tr>\n",
       "    <tr>\n",
       "      <th>191</th>\n",
       "      <td>10.7717/peerj.2990</td>\n",
       "      <td>journal-article</td>\n",
       "      <td>2017-03-02</td>\n",
       "      <td>Exploring biomedical ontology mappings with gr...</td>\n",
       "      <td>&lt;jats:sec&gt;&lt;jats:title&gt;Background&lt;/jats:title&gt;I...</td>\n",
       "      <td>NaN</td>\n",
       "    </tr>\n",
       "    <tr>\n",
       "      <th>192</th>\n",
       "      <td>10.1142/s1793351x24300024</td>\n",
       "      <td>journal-article</td>\n",
       "      <td>2023-12-17</td>\n",
       "      <td>Semantic Knowledge Graph Generator and Ontolog...</td>\n",
       "      <td>NaN</td>\n",
       "      <td>NaN</td>\n",
       "    </tr>\n",
       "    <tr>\n",
       "      <th>193</th>\n",
       "      <td>10.1016/j.eswa.2023.120239</td>\n",
       "      <td>journal-article</td>\n",
       "      <td>2023-05-09</td>\n",
       "      <td>KNIT: Ontology reusability through knowledge g...</td>\n",
       "      <td>NaN</td>\n",
       "      <td>NaN</td>\n",
       "    </tr>\n",
       "  </tbody>\n",
       "</table>\n",
       "</div>"
      ],
      "text/plain": [
       "                                    DOI             TIPO        DATE  \\\n",
       "189  10.25205/1818-7900-2022-20-4-24-38  journal-article  2023-06-14   \n",
       "190            10.3923/itj.2010.825.831  journal-article  2010-10-08   \n",
       "191                  10.7717/peerj.2990  journal-article  2017-03-02   \n",
       "192           10.1142/s1793351x24300024  journal-article  2023-12-17   \n",
       "193          10.1016/j.eswa.2023.120239  journal-article  2023-05-09   \n",
       "\n",
       "                                                 TITLE  \\\n",
       "189  Domain Ontology Representation Model Based on ...   \n",
       "190  A Semantic-Aware Algorithm to Rank Concepts in...   \n",
       "191  Exploring biomedical ontology mappings with gr...   \n",
       "192  Semantic Knowledge Graph Generator and Ontolog...   \n",
       "193  KNIT: Ontology reusability through knowledge g...   \n",
       "\n",
       "                                              ABSTRACT INTERESSE  \n",
       "189  The article presents an approach to modeling d...       NaN  \n",
       "190                                                NaN       NaN  \n",
       "191  <jats:sec><jats:title>Background</jats:title>I...       NaN  \n",
       "192                                                NaN       NaN  \n",
       "193                                                NaN       NaN  "
      ]
     },
     "execution_count": 22,
     "metadata": {},
     "output_type": "execute_result"
    }
   ],
   "source": [
    "# Filtrar para obter apenas registros com valor NaN em 'INTERESSE'\n",
    "df_remaining = df_updated[df_updated['INTERESSE'].isna()]\n",
    "\n",
    "# Se necessário, você pode remover a coluna 'INTERESSE' do df_remaining, já que ela será NaN para todos os registros\n",
    "# df_remaining = df_remaining.drop(columns=['INTERESSE'])\n",
    "\n",
    "# Salvar o DataFrame resultante, se necessário\n",
    "df_remaining.to_csv('../data/remaining_unified_df.csv', index=False)\n",
    "print(f\"DataFrame com registros restantes salvo em '../data/remaining_unified_df.csv'.\")\n",
    "\n",
    "# Exibir os primeiros registros do DataFrame remanescente\n",
    "print(len(df_remaining))\n",
    "df_remaining.head()"
   ]
  }
 ],
 "metadata": {
  "kernelspec": {
   "display_name": "Python 3",
   "language": "python",
   "name": "python3"
  },
  "language_info": {
   "codemirror_mode": {
    "name": "ipython",
    "version": 3
   },
   "file_extension": ".py",
   "mimetype": "text/x-python",
   "name": "python",
   "nbconvert_exporter": "python",
   "pygments_lexer": "ipython3",
   "version": "3.10.12"
  }
 },
 "nbformat": 4,
 "nbformat_minor": 2
}
