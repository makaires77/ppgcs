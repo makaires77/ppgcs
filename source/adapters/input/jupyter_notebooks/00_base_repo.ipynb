{
 "cells": [
  {
   "cell_type": "code",
   "execution_count": 1,
   "metadata": {},
   "outputs": [
    {
     "name": "stdout",
     "output_type": "stream",
     "text": [
      "Caminho base do repositório: /home/marcos/gml_classifier\n",
      "Arquivos de entrada de dados: ['dict_list_fioce.json', 'normalized_dict_list.json', 'palavras_chave_area_cnpq.json']\n",
      "As versões do Chromedriver e Google Chrome estão atualizadas. Continuando execução...\n"
     ]
    }
   ],
   "source": [
    "## Atualizar gerenciador de pacotes Pip pelo Terminal:\n",
    "# !pip3 install --upgrade pip\n",
    "# sudo apt-get update\n",
    "# sudo apt-get upgrade\n",
    "\n",
    "## Atualizar Chromedriver pelo Terminal:\n",
    "# !/usr/local/bin/chromedriver --version\n",
    "# !curl -s https://chromedriver.storage.googleapis.com/LATEST_RELEASE\n",
    "# sudo apt-get install libcurl4-openssl-dev\n",
    "# sudo apt-get install graphviz graphviz-dev\n",
    "\n",
    "## Instalar todos pacotes listados no arquivo requirements.txt do direto raiz:\n",
    "# %pip install -r ../../../../requirements.txt\n",
    "\n",
    "## Instalar um a um os pacotes auxiliares faltantes no ambiente:\n",
    "# !pip3 install pycurl\n",
    "# !pip3 install pygraphviz\n",
    "\n",
    "## Instalar ou atualizar alguns pacotes:\n",
    "# !pip3 install --upgrade notebook jupyterlab ipywidgets\n",
    "\n",
    "## Configurar opções de exibição do pandas para melhor visualizar os dados\n",
    "from IPython.display import clear_output\n",
    "from getpass import getpass\n",
    "import subprocess, os, sys\n",
    "import pandas as pd\n",
    "pd.set_option('display.max_colwidth', None)\n",
    "pd.set_option('colheader_justify', 'left')\n",
    "pd.set_option('display.max_rows', 600)\n",
    "\n",
    "def get_base_repo():\n",
    "    \"\"\"Retorna o caminho absoluto quatro níveis acima do diretório do notebook\"\"\"\n",
    "    current_directory = os.getcwd()\n",
    "    # Construir caminho para subir ao diretório raiz do repositório local\n",
    "    path_five_levels_up = os.path.join(current_directory, '../../../../')\n",
    "    # Normalizar o caminho para o formato absoluto\n",
    "    absolute_path = os.path.abspath(path_five_levels_up)\n",
    "    return absolute_path\n",
    "\n",
    "## Definir a pasta de base do repositório local\n",
    "base_repo_dir = get_base_repo()\n",
    "\n",
    "## Sempre construir os caminhos usando os.path.join para compatibilidade WxL\n",
    "folder_utils = os.path.join(base_repo_dir, 'utils')\n",
    "folder_domain = os.path.join(base_repo_dir, 'source', 'domain')\n",
    "folder_data_input = os.path.join(base_repo_dir, 'data', 'input')\n",
    "folder_data_output = os.path.join(base_repo_dir, 'data', 'output')\n",
    "\n",
    "## Adicionar pastas locais ao sys.path para importar pacotes criados localmente\n",
    "sys.path.append(folder_utils)\n",
    "sys.path.append(folder_domain)\n",
    "from json_fle_manager import JSONFileManager as jfm\n",
    "from pasteur_scraper import PasteurScraper\n",
    "\n",
    "# Para definir uma pasta exclusiva para ambientes Unix, por exemplo:\n",
    "folder_data_prod = os.path.join(base_repo_dir, 'data') if not 'win' in sys.platform else None\n",
    "\n",
    "print(f\"Caminho base do repositório: {base_repo_dir}\")\n",
    "print(f\"Arquivos de entrada de dados: {jfm.list_json_files(folder_data_input)}\")\n",
    "\n",
    "## Verificar atualização do Chromedriver instalado no ambiente\n",
    "def check_update():\n",
    "  # Caminho para o seu script\n",
    "  script_path = './../../../../scripts/update_check_chromedriver.sh'\n",
    "\n",
    "  # Executar script sem a senha do sudo inicialmente para verificar as versões\n",
    "  command = f\"bash {script_path}\"\n",
    "  process = subprocess.Popen(command, shell=True, stdout=subprocess.PIPE, stderr=subprocess.PIPE)\n",
    "  stdout, stderr = process.communicate()\n",
    "\n",
    "  # Verificar se a atualização é necessária com base na saída do script\n",
    "  output = stdout.decode()\n",
    "\n",
    "  if \"Versões principais do Chromedriver e Google Chrome estão iguais\" in output:\n",
    "    print(\"As versões do Chromedriver e Google Chrome estão atualizadas. Continuando execução...\")\n",
    "  else:\n",
    "    print(\"As versões precisam ser atualizadas, insira sua senha sudo...\")\n",
    "    # Se a atualização for necessária, solicitar a senha do sudo\n",
    "    sudo_password = getpass(\"Por favor, insira sua senha sudo:\")\n",
    "\n",
    "    # Executar o script com a senha do sudo\n",
    "    script_path = './../../../../scripts/update_chromedriver.sh'\n",
    "    command = f\"echo '{sudo_password}' | sudo -S bash {script_path}\"\n",
    "    process = subprocess.Popen(command, shell=True, stdout=subprocess.PIPE, stderr=subprocess.PIPE)\n",
    "    stdout, stderr = process.communicate()\n",
    "\n",
    "    # Limpar a saída para segurança\n",
    "    clear_output(wait=True)\n",
    "\n",
    "    # Exibir resultados\n",
    "    print(stdout.decode())\n",
    "    print(stderr.decode())\n",
    "\n",
    "check_update()"
   ]
  },
  {
   "cell_type": "code",
   "execution_count": 7,
   "metadata": {},
   "outputs": [
    {
     "data": {
      "text/plain": [
       "['.vscode',\n",
       " 'data',\n",
       " 'doc',\n",
       " 'requirements.txt',\n",
       " 'go.work',\n",
       " 'chromedriver',\n",
       " 'source',\n",
       " 'install_requirements_trustedhost_pypi.txt',\n",
       " 'scripts',\n",
       " 'runs',\n",
       " 'output',\n",
       " '.gitignore',\n",
       " 'assets',\n",
       " '.git',\n",
       " 'utils']"
      ]
     },
     "execution_count": 7,
     "metadata": {},
     "output_type": "execute_result"
    }
   ],
   "source": [
    "os.listdir('../../../../')"
   ]
  }
 ],
 "metadata": {
  "kernelspec": {
   "display_name": "Python 3",
   "language": "python",
   "name": "python3"
  },
  "language_info": {
   "codemirror_mode": {
    "name": "ipython",
    "version": 3
   },
   "file_extension": ".py",
   "mimetype": "text/x-python",
   "name": "python",
   "nbconvert_exporter": "python",
   "pygments_lexer": "ipython3",
   "version": "3.11.2"
  }
 },
 "nbformat": 4,
 "nbformat_minor": 2
}
