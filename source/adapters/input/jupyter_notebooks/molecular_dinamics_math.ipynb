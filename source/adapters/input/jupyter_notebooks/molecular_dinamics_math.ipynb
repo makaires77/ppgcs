{
 "cells": [
  {
   "cell_type": "code",
   "execution_count": null,
   "metadata": {},
   "outputs": [
    {
     "ename": "",
     "evalue": "",
     "output_type": "error",
     "traceback": [
      "\u001b[1;31mFalha ao iniciar o Kernel. \n",
      "\u001b[1;31mAttributeError: module 'collections' has no attribute 'MutableMapping'. \n",
      "\u001b[1;31mConsulte o <a href='command:jupyter.viewOutput'>log</a> do Jupyter para obter mais detalhes."
     ]
    }
   ],
   "source": [
    "!pip3 install altair"
   ]
  },
  {
   "cell_type": "code",
   "execution_count": null,
   "metadata": {},
   "outputs": [
    {
     "ename": "",
     "evalue": "",
     "output_type": "error",
     "traceback": [
      "\u001b[1;31mFalha ao iniciar o Kernel. \n",
      "\u001b[1;31mAttributeError: module 'collections' has no attribute 'MutableMapping'. \n",
      "\u001b[1;31mConsulte o <a href='command:jupyter.viewOutput'>log</a> do Jupyter para obter mais detalhes."
     ]
    }
   ],
   "source": [
    "import altair as alt\n",
    "\n",
    "# Data for the graph\n",
    "nodes = [\n",
    "    {\"id\": \"Clássica\", \"group\": \"Física\"},\n",
    "    {\"id\": \"Quântica\", \"group\": \"Física\"},\n",
    "    {\"id\": \"Cálculo Diferencial e Integral\", \"group\": \"Matemática\"},\n",
    "    {\"id\": \"Álgebra Linear\", \"group\": \"Matemática\"},\n",
    "    {\"id\": \"Estatística e Probabilidade\", \"group\": \"Matemática\"},\n",
    "    {\"id\": \"Geometria Diferencial\", \"group\": \"Matemática\"},\n",
    "    {\"id\": \"Teoria dos Grafos\", \"group\": \"Matemática\"},\n",
    "    {\"id\": \"Monte Carlo\", \"group\": \"Métodos\"},\n",
    "    {\"id\": \"Dinâmica Molecular\", \"group\": \"Métodos\"},\n",
    "    {\"id\": \"Integração Numérica\", \"group\": \"Métodos\"},\n",
    "]\n",
    "\n",
    "edges = [\n",
    "    {\"source\": \"Clássica\", \"target\": \"Cálculo Diferencial e Integral\"},\n",
    "    {\"source\": \"Quântica\", \"target\": \"Cálculo Diferencial e Integral\"},\n",
    "    {\"source\": \"Cálculo Diferencial e Integral\", \"target\": \"Integração Numérica\"},\n",
    "    {\"source\": \"Integração Numérica\", \"target\": \"Dinâmica Molecular\"},\n",
    "    {\"source\": \"Álgebra Linear\", \"target\": \"Dinâmica Molecular\"},\n",
    "    {\"source\": \"Estatística e Probabilidade\", \"target\": \"Monte Carlo\"},\n",
    "    {\"source\": \"Estatística e Probabilidade\", \"target\": \"Dinâmica Molecular\"},\n",
    "    {\"source\": \"Geometria Diferencial\", \"target\": \"Dinâmica Molecular\"},\n",
    "    {\"source\": \"Teoria dos Grafos\", \"target\": \"Dinâmica Molecular\"},\n",
    "    {\"source\": \"Monte Carlo\", \"target\": \"Dinâmica Molecular\", \"relationship\": \"complementar\"},\n",
    "]\n",
    "\n",
    "# Create the base chart\n",
    "base = alt.Chart(\n",
    "    alt.Data(\n",
    "        values=nodes,\n",
    "        format={\"type\": \"json\", \"property\": \"nodes\"},\n",
    "    )\n",
    ").encode(\n",
    "    x=alt.X(\"x:Q\", axis=None),\n",
    "    y=alt.Y(\"y:Q\", axis=None),\n",
    ")\n",
    "\n",
    "# Draw nodes\n",
    "nodes = base.mark_circle().encode(\n",
    "    color=\"group:N\",\n",
    "    tooltip=[\"id:N\", \"group:N\"],\n",
    ")\n",
    "\n",
    "# Draw edges\n",
    "edges = alt.Chart(\n",
    "    alt.Data(\n",
    "        values=edges,\n",
    "        format={\"type\": \"json\", \"property\": \"edges\"},\n",
    "    )\n",
    ").mark_line(point=True).encode(\n",
    "    x=\"x:Q\",\n",
    "    y=\"y:Q\",\n",
    "    detail=\"relationship:N\",  # Add this line\n",
    "    color=alt.condition(\n",
    "        alt.datum.relationship == \"complementar\",  # Check for complementary relationship\n",
    "        alt.value(\"blue\"),  # Blue for complementary\n",
    "        alt.value(\"grey\"),  # Grey for others\n",
    "    ),\n",
    "    tooltip=[\n",
    "        alt.Tooltip(\"source:N\", title=\"Source\"),\n",
    "        alt.Tooltip(\"target:N\", title=\"Target\"),\n",
    "        alt.Tooltip(\"relationship:N\", title=\"Relationship\"),\n",
    "    ],\n",
    ")\n",
    "\n",
    "# Combine nodes and edges\n",
    "chart = (\n",
    "    alt.layer(nodes, edges)\n",
    "    .transform_lookup(\n",
    "        lookup=\"id\",\n",
    "        from_=alt.LookupData(\n",
    "            alt.Data(values=nodes, format={\"type\": \"json\", \"property\": \"nodes\"}),\n",
    "            key=\"id\",\n",
    "            fields=[\"x\", \"y\"],\n",
    "        ),\n",
    "    )\n",
    "    .properties(width=800, height=400)\n",
    "    .configure_scale(bandPaddingInner=0.8)\n",
    "    .interactive()\n",
    ")\n",
    "\n",
    "# Save the chart\n",
    "chart.save(\"relacoes_dm_math.json\")\n",
    "\n",
    "chart"
   ]
  }
 ],
 "metadata": {
  "kernelspec": {
   "display_name": "Python 3",
   "language": "python",
   "name": "python3"
  },
  "language_info": {
   "name": "python",
   "version": "3.10.12"
  }
 },
 "nbformat": 4,
 "nbformat_minor": 2
}
