{
 "cells": [
  {
   "cell_type": "code",
   "execution_count": 1,
   "metadata": {
    "editable": true,
    "slideshow": {
     "slide_type": ""
    },
    "tags": []
   },
   "outputs": [],
   "source": [
    "# !pip3 install -U altair"
   ]
  },
  {
   "cell_type": "code",
   "execution_count": 2,
   "metadata": {},
   "outputs": [],
   "source": [
    "import altair as alt\n",
    "\n",
    "# Data for the graph\n",
    "nodes = [\n",
    "    {\"id\": \"Clássica\", \"group\": \"Física\"},\n",
    "    {\"id\": \"Quântica\", \"group\": \"Física\"},\n",
    "    {\"id\": \"Cálculo Diferencial e Integral\", \"group\": \"Matemática\"},\n",
    "    {\"id\": \"Álgebra Linear\", \"group\": \"Matemática\"},\n",
    "    {\"id\": \"Estatística e Probabilidade\", \"group\": \"Matemática\"},\n",
    "    {\"id\": \"Geometria Diferencial\", \"group\": \"Matemática\"},\n",
    "    {\"id\": \"Teoria dos Grafos\", \"group\": \"Matemática\"},\n",
    "    {\"id\": \"Monte Carlo\", \"group\": \"Métodos\"},\n",
    "    {\"id\": \"Dinâmica Molecular\", \"group\": \"Métodos\"},\n",
    "    {\"id\": \"Integração Numérica\", \"group\": \"Métodos\"},\n",
    "]\n",
    "\n",
    "edges = [\n",
    "    {\"source\": \"Clássica\", \"target\": \"Cálculo Diferencial e Integral\"},\n",
    "    {\"source\": \"Quântica\", \"target\": \"Cálculo Diferencial e Integral\"},\n",
    "    {\"source\": \"Cálculo Diferencial e Integral\", \"target\": \"Integração Numérica\"},\n",
    "    {\"source\": \"Integração Numérica\", \"target\": \"Dinâmica Molecular\"},\n",
    "    {\"source\": \"Álgebra Linear\", \"target\": \"Dinâmica Molecular\"},\n",
    "    {\"source\": \"Estatística e Probabilidade\", \"target\": \"Monte Carlo\"},\n",
    "    {\"source\": \"Estatística e Probabilidade\", \"target\": \"Dinâmica Molecular\"},\n",
    "    {\"source\": \"Geometria Diferencial\", \"target\": \"Dinâmica Molecular\"},\n",
    "    {\"source\": \"Teoria dos Grafos\", \"target\": \"Dinâmica Molecular\"},\n",
    "    {\"source\": \"Monte Carlo\", \"target\": \"Dinâmica Molecular\", \"relationship\": \"complementar\"},\n",
    "]"
   ]
  },
  {
   "cell_type": "code",
   "execution_count": 7,
   "metadata": {},
   "outputs": [
    {
     "ename": "SchemaValidationError",
     "evalue": "'1' is an invalid value for `maxbins`.\n\n1 is less than the minimum of 2",
     "output_type": "error",
     "traceback": [
      "\u001b[0;31m---------------------------------------------------------------------------\u001b[0m",
      "\u001b[0;31mSchemaValidationError\u001b[0m                     Traceback (most recent call last)",
      "Cell \u001b[0;32mIn[7], line 43\u001b[0m\n\u001b[1;32m     13\u001b[0m nodes \u001b[38;5;241m=\u001b[39m base\u001b[38;5;241m.\u001b[39mmark_circle()\u001b[38;5;241m.\u001b[39mencode(\n\u001b[1;32m     14\u001b[0m     color\u001b[38;5;241m=\u001b[39m\u001b[38;5;124m\"\u001b[39m\u001b[38;5;124mgroup:N\u001b[39m\u001b[38;5;124m\"\u001b[39m,\n\u001b[1;32m     15\u001b[0m     tooltip\u001b[38;5;241m=\u001b[39m[\u001b[38;5;124m\"\u001b[39m\u001b[38;5;124mid:N\u001b[39m\u001b[38;5;124m\"\u001b[39m, \u001b[38;5;124m\"\u001b[39m\u001b[38;5;124mgroup:N\u001b[39m\u001b[38;5;124m\"\u001b[39m],\n\u001b[1;32m     16\u001b[0m )\n\u001b[1;32m     18\u001b[0m \u001b[38;5;66;03m# Draw edges (workaround for older Altair without ConditionalPredicate)\u001b[39;00m\n\u001b[1;32m     19\u001b[0m edges \u001b[38;5;241m=\u001b[39m alt\u001b[38;5;241m.\u001b[39mChart(\n\u001b[1;32m     20\u001b[0m     alt\u001b[38;5;241m.\u001b[39mData(\n\u001b[1;32m     21\u001b[0m         values\u001b[38;5;241m=\u001b[39medges,\n\u001b[1;32m     22\u001b[0m         \u001b[38;5;28mformat\u001b[39m\u001b[38;5;241m=\u001b[39m{\u001b[38;5;124m\"\u001b[39m\u001b[38;5;124mtype\u001b[39m\u001b[38;5;124m\"\u001b[39m: \u001b[38;5;124m\"\u001b[39m\u001b[38;5;124mjson\u001b[39m\u001b[38;5;124m\"\u001b[39m, \u001b[38;5;124m\"\u001b[39m\u001b[38;5;124mproperty\u001b[39m\u001b[38;5;124m\"\u001b[39m: \u001b[38;5;124m\"\u001b[39m\u001b[38;5;124medges\u001b[39m\u001b[38;5;124m\"\u001b[39m},\n\u001b[1;32m     23\u001b[0m     )\n\u001b[1;32m     24\u001b[0m )\u001b[38;5;241m.\u001b[39mtransform_calculate(\n\u001b[1;32m     25\u001b[0m     relationship\u001b[38;5;241m=\u001b[39m\u001b[38;5;124m\"\u001b[39m\u001b[38;5;124misValid(datum.relationship) ? datum.relationship : null\u001b[39m\u001b[38;5;124m\"\u001b[39m  \u001b[38;5;66;03m# Use null instead of \"none\"\u001b[39;00m\n\u001b[1;32m     26\u001b[0m )\u001b[38;5;241m.\u001b[39mmark_line(point\u001b[38;5;241m=\u001b[39m\u001b[38;5;28;01mTrue\u001b[39;00m)\u001b[38;5;241m.\u001b[39mencode(\n\u001b[1;32m     27\u001b[0m     x\u001b[38;5;241m=\u001b[39m\u001b[38;5;124m\"\u001b[39m\u001b[38;5;124mx:Q\u001b[39m\u001b[38;5;124m\"\u001b[39m,\n\u001b[1;32m     28\u001b[0m     y\u001b[38;5;241m=\u001b[39m\u001b[38;5;124m\"\u001b[39m\u001b[38;5;124my:Q\u001b[39m\u001b[38;5;124m\"\u001b[39m,\n\u001b[1;32m     29\u001b[0m     detail\u001b[38;5;241m=\u001b[39m\u001b[38;5;124m\"\u001b[39m\u001b[38;5;124mrelationship:N\u001b[39m\u001b[38;5;124m\"\u001b[39m, \n\u001b[1;32m     30\u001b[0m     color\u001b[38;5;241m=\u001b[39malt\u001b[38;5;241m.\u001b[39mcondition(\n\u001b[1;32m     31\u001b[0m         alt\u001b[38;5;241m.\u001b[39mdatum\u001b[38;5;241m.\u001b[39mrelationship \u001b[38;5;241m==\u001b[39m \u001b[38;5;124m\"\u001b[39m\u001b[38;5;124mcomplementar\u001b[39m\u001b[38;5;124m\"\u001b[39m,\n\u001b[1;32m     32\u001b[0m         alt\u001b[38;5;241m.\u001b[39mvalue(\u001b[38;5;124m\"\u001b[39m\u001b[38;5;124mblue\u001b[39m\u001b[38;5;124m\"\u001b[39m), \n\u001b[1;32m     33\u001b[0m         alt\u001b[38;5;241m.\u001b[39mvalue(\u001b[38;5;124m\"\u001b[39m\u001b[38;5;124mgrey\u001b[39m\u001b[38;5;124m\"\u001b[39m),\n\u001b[1;32m     34\u001b[0m     ),\n\u001b[1;32m     35\u001b[0m     tooltip\u001b[38;5;241m=\u001b[39m[\n\u001b[1;32m     36\u001b[0m         alt\u001b[38;5;241m.\u001b[39mTooltip(\u001b[38;5;124m\"\u001b[39m\u001b[38;5;124msource:N\u001b[39m\u001b[38;5;124m\"\u001b[39m, title\u001b[38;5;241m=\u001b[39m\u001b[38;5;124m\"\u001b[39m\u001b[38;5;124mSource\u001b[39m\u001b[38;5;124m\"\u001b[39m),\n\u001b[1;32m     37\u001b[0m         alt\u001b[38;5;241m.\u001b[39mTooltip(\u001b[38;5;124m\"\u001b[39m\u001b[38;5;124mtarget:N\u001b[39m\u001b[38;5;124m\"\u001b[39m, title\u001b[38;5;241m=\u001b[39m\u001b[38;5;124m\"\u001b[39m\u001b[38;5;124mTarget\u001b[39m\u001b[38;5;124m\"\u001b[39m),\n\u001b[1;32m     38\u001b[0m         alt\u001b[38;5;241m.\u001b[39mTooltip(\n\u001b[1;32m     39\u001b[0m             field\u001b[38;5;241m=\u001b[39m\u001b[38;5;124m\"\u001b[39m\u001b[38;5;124mrelationship:N\u001b[39m\u001b[38;5;124m\"\u001b[39m,\n\u001b[1;32m     40\u001b[0m             title\u001b[38;5;241m=\u001b[39m\u001b[38;5;124m\"\u001b[39m\u001b[38;5;124mRelationship\u001b[39m\u001b[38;5;124m\"\u001b[39m,\n\u001b[1;32m     41\u001b[0m             \u001b[38;5;66;03m# Condition applied directly to the field\u001b[39;00m\n\u001b[1;32m     42\u001b[0m             \u001b[38;5;66;03m# (This may result in warning messages in older Altair versions, but should work)\u001b[39;00m\n\u001b[0;32m---> 43\u001b[0m             \u001b[38;5;28mbin\u001b[39m\u001b[38;5;241m=\u001b[39m\u001b[43malt\u001b[49m\u001b[38;5;241;43m.\u001b[39;49m\u001b[43mBinParams\u001b[49m\u001b[43m(\u001b[49m\u001b[43mmaxbins\u001b[49m\u001b[38;5;241;43m=\u001b[39;49m\u001b[38;5;241;43m1\u001b[39;49m\u001b[43m)\u001b[49m,  \u001b[38;5;66;03m# This forces Altair to treat the field as nominal \u001b[39;00m\n\u001b[1;32m     44\u001b[0m         ),\n\u001b[1;32m     45\u001b[0m     ],\n\u001b[1;32m     46\u001b[0m )\u001b[38;5;241m.\u001b[39mtransform_filter(\n\u001b[1;32m     47\u001b[0m     alt\u001b[38;5;241m.\u001b[39mdatum\u001b[38;5;241m.\u001b[39mrelationship \u001b[38;5;241m!=\u001b[39m \u001b[38;5;28;01mNone\u001b[39;00m  \u001b[38;5;66;03m# Filter out null relationships here\u001b[39;00m\n\u001b[1;32m     48\u001b[0m )\n",
      "File \u001b[0;32m~/.local/lib/python3.10/site-packages/altair/vegalite/v5/schema/core.py:6470\u001b[0m, in \u001b[0;36mBinParams.__init__\u001b[0;34m(self, anchor, base, binned, divide, extent, maxbins, minstep, nice, step, steps, **kwds)\u001b[0m\n\u001b[1;32m   6454\u001b[0m \u001b[38;5;28;01mdef\u001b[39;00m \u001b[38;5;21m__init__\u001b[39m(\n\u001b[1;32m   6455\u001b[0m     \u001b[38;5;28mself\u001b[39m,\n\u001b[1;32m   6456\u001b[0m     anchor: Union[\u001b[38;5;28mfloat\u001b[39m, UndefinedType] \u001b[38;5;241m=\u001b[39m Undefined,\n\u001b[0;32m   (...)\u001b[0m\n\u001b[1;32m   6468\u001b[0m     \u001b[38;5;241m*\u001b[39m\u001b[38;5;241m*\u001b[39mkwds,\n\u001b[1;32m   6469\u001b[0m ):\n\u001b[0;32m-> 6470\u001b[0m     \u001b[38;5;28;43msuper\u001b[39;49m\u001b[43m(\u001b[49m\u001b[43mBinParams\u001b[49m\u001b[43m,\u001b[49m\u001b[43m \u001b[49m\u001b[38;5;28;43mself\u001b[39;49m\u001b[43m)\u001b[49m\u001b[38;5;241;43m.\u001b[39;49m\u001b[38;5;21;43m__init__\u001b[39;49m\u001b[43m(\u001b[49m\n\u001b[1;32m   6471\u001b[0m \u001b[43m        \u001b[49m\u001b[43manchor\u001b[49m\u001b[38;5;241;43m=\u001b[39;49m\u001b[43manchor\u001b[49m\u001b[43m,\u001b[49m\n\u001b[1;32m   6472\u001b[0m \u001b[43m        \u001b[49m\u001b[43mbase\u001b[49m\u001b[38;5;241;43m=\u001b[39;49m\u001b[43mbase\u001b[49m\u001b[43m,\u001b[49m\n\u001b[1;32m   6473\u001b[0m \u001b[43m        \u001b[49m\u001b[43mbinned\u001b[49m\u001b[38;5;241;43m=\u001b[39;49m\u001b[43mbinned\u001b[49m\u001b[43m,\u001b[49m\n\u001b[1;32m   6474\u001b[0m \u001b[43m        \u001b[49m\u001b[43mdivide\u001b[49m\u001b[38;5;241;43m=\u001b[39;49m\u001b[43mdivide\u001b[49m\u001b[43m,\u001b[49m\n\u001b[1;32m   6475\u001b[0m \u001b[43m        \u001b[49m\u001b[43mextent\u001b[49m\u001b[38;5;241;43m=\u001b[39;49m\u001b[43mextent\u001b[49m\u001b[43m,\u001b[49m\n\u001b[1;32m   6476\u001b[0m \u001b[43m        \u001b[49m\u001b[43mmaxbins\u001b[49m\u001b[38;5;241;43m=\u001b[39;49m\u001b[43mmaxbins\u001b[49m\u001b[43m,\u001b[49m\n\u001b[1;32m   6477\u001b[0m \u001b[43m        \u001b[49m\u001b[43mminstep\u001b[49m\u001b[38;5;241;43m=\u001b[39;49m\u001b[43mminstep\u001b[49m\u001b[43m,\u001b[49m\n\u001b[1;32m   6478\u001b[0m \u001b[43m        \u001b[49m\u001b[43mnice\u001b[49m\u001b[38;5;241;43m=\u001b[39;49m\u001b[43mnice\u001b[49m\u001b[43m,\u001b[49m\n\u001b[1;32m   6479\u001b[0m \u001b[43m        \u001b[49m\u001b[43mstep\u001b[49m\u001b[38;5;241;43m=\u001b[39;49m\u001b[43mstep\u001b[49m\u001b[43m,\u001b[49m\n\u001b[1;32m   6480\u001b[0m \u001b[43m        \u001b[49m\u001b[43msteps\u001b[49m\u001b[38;5;241;43m=\u001b[39;49m\u001b[43msteps\u001b[49m\u001b[43m,\u001b[49m\n\u001b[1;32m   6481\u001b[0m \u001b[43m        \u001b[49m\u001b[38;5;241;43m*\u001b[39;49m\u001b[38;5;241;43m*\u001b[39;49m\u001b[43mkwds\u001b[49m\u001b[43m,\u001b[49m\n\u001b[1;32m   6482\u001b[0m \u001b[43m    \u001b[49m\u001b[43m)\u001b[49m\n",
      "File \u001b[0;32m~/.local/lib/python3.10/site-packages/altair/utils/schemapi.py:771\u001b[0m, in \u001b[0;36mSchemaBase.__init__\u001b[0;34m(self, *args, **kwds)\u001b[0m\n\u001b[1;32m    768\u001b[0m \u001b[38;5;28mobject\u001b[39m\u001b[38;5;241m.\u001b[39m\u001b[38;5;21m__setattr__\u001b[39m(\u001b[38;5;28mself\u001b[39m, \u001b[38;5;124m\"\u001b[39m\u001b[38;5;124m_kwds\u001b[39m\u001b[38;5;124m\"\u001b[39m, kwds)\n\u001b[1;32m    770\u001b[0m \u001b[38;5;28;01mif\u001b[39;00m DEBUG_MODE \u001b[38;5;129;01mand\u001b[39;00m \u001b[38;5;28mself\u001b[39m\u001b[38;5;241m.\u001b[39m_class_is_valid_at_instantiation:\n\u001b[0;32m--> 771\u001b[0m     \u001b[38;5;28;43mself\u001b[39;49m\u001b[38;5;241;43m.\u001b[39;49m\u001b[43mto_dict\u001b[49m\u001b[43m(\u001b[49m\u001b[43mvalidate\u001b[49m\u001b[38;5;241;43m=\u001b[39;49m\u001b[38;5;28;43;01mTrue\u001b[39;49;00m\u001b[43m)\u001b[49m\n",
      "File \u001b[0;32m~/.local/lib/python3.10/site-packages/altair/utils/schemapi.py:978\u001b[0m, in \u001b[0;36mSchemaBase.to_dict\u001b[0;34m(self, validate, ignore, context)\u001b[0m\n\u001b[1;32m    971\u001b[0m         \u001b[38;5;28mself\u001b[39m\u001b[38;5;241m.\u001b[39mvalidate(result)\n\u001b[1;32m    972\u001b[0m     \u001b[38;5;28;01mexcept\u001b[39;00m jsonschema\u001b[38;5;241m.\u001b[39mValidationError \u001b[38;5;28;01mas\u001b[39;00m err:\n\u001b[1;32m    973\u001b[0m         \u001b[38;5;66;03m# We do not raise `from err` as else the resulting\u001b[39;00m\n\u001b[1;32m    974\u001b[0m         \u001b[38;5;66;03m# traceback is very long as it contains part\u001b[39;00m\n\u001b[1;32m    975\u001b[0m         \u001b[38;5;66;03m# of the Vega-Lite schema. It would also first\u001b[39;00m\n\u001b[1;32m    976\u001b[0m         \u001b[38;5;66;03m# show the less helpful ValidationError instead of\u001b[39;00m\n\u001b[1;32m    977\u001b[0m         \u001b[38;5;66;03m# the more user friendly SchemaValidationError\u001b[39;00m\n\u001b[0;32m--> 978\u001b[0m         \u001b[38;5;28;01mraise\u001b[39;00m SchemaValidationError(\u001b[38;5;28mself\u001b[39m, err) \u001b[38;5;28;01mfrom\u001b[39;00m \u001b[38;5;28;01mNone\u001b[39;00m\n\u001b[1;32m    979\u001b[0m \u001b[38;5;28;01mreturn\u001b[39;00m result\n",
      "\u001b[0;31mSchemaValidationError\u001b[0m: '1' is an invalid value for `maxbins`.\n\n1 is less than the minimum of 2"
     ]
    }
   ],
   "source": [
    "# Create the base chart\n",
    "base = alt.Chart(\n",
    "    alt.Data(\n",
    "        values=nodes,\n",
    "        format={\"type\": \"json\", \"property\": \"nodes\"},\n",
    "    )\n",
    ").encode(\n",
    "    x=alt.X(\"x:Q\", axis=None),\n",
    "    y=alt.Y(\"y:Q\", axis=None),\n",
    ")\n",
    "\n",
    "# Draw nodes\n",
    "nodes = base.mark_circle().encode(\n",
    "    color=\"group:N\",\n",
    "    tooltip=[\"id:N\", \"group:N\"],\n",
    ")\n",
    "\n",
    "# Draw edges (workaround for older Altair without ConditionalPredicate)\n",
    "edges = alt.Chart(\n",
    "    alt.Data(\n",
    "        values=edges,\n",
    "        format={\"type\": \"json\", \"property\": \"edges\"},\n",
    "    )\n",
    ").transform_calculate(\n",
    "    relationship=\"isValid(datum.relationship) ? datum.relationship : null\"  # Use null instead of \"none\"\n",
    ").mark_line(point=True).encode(\n",
    "    x=\"x:Q\",\n",
    "    y=\"y:Q\",\n",
    "    detail=\"relationship:N\", \n",
    "    color=alt.condition(\n",
    "        alt.datum.relationship == \"complementar\",\n",
    "        alt.value(\"blue\"), \n",
    "        alt.value(\"grey\"),\n",
    "    ),\n",
    "    tooltip=[\n",
    "        alt.Tooltip(\"source:N\", title=\"Source\"),\n",
    "        alt.Tooltip(\"target:N\", title=\"Target\"),\n",
    "        alt.Tooltip(\n",
    "            field=\"relationship:N\",\n",
    "            title=\"Relationship\",\n",
    "            # Condition applied directly to the field\n",
    "            # (This may result in warning messages in older Altair versions, but should work)\n",
    "            bin=alt.BinParams(maxbins=1),  # This forces Altair to treat the field as nominal \n",
    "        ),\n",
    "    ],\n",
    ").transform_filter(\n",
    "    alt.datum.relationship != None  # Filter out null relationships here\n",
    ")"
   ]
  },
  {
   "cell_type": "code",
   "execution_count": 5,
   "metadata": {},
   "outputs": [
    {
     "ename": "SchemaValidationError",
     "evalue": "`Tooltip` has no parameter named 'condition'\n\nExisting parameter names are:\nshorthand      bin         format       title   \naggregate      condition   formatType   type    \nbandPosition   field       timeUnit             \n\nSee the help for `Tooltip` to read the full description of these parameters",
     "output_type": "error",
     "traceback": [
      "\u001b[0;31m---------------------------------------------------------------------------\u001b[0m",
      "\u001b[0;31mSchemaValidationError\u001b[0m                     Traceback (most recent call last)",
      "Cell \u001b[0;32mIn[5], line 18\u001b[0m\n\u001b[1;32m      2\u001b[0m chart \u001b[38;5;241m=\u001b[39m (\n\u001b[1;32m      3\u001b[0m     alt\u001b[38;5;241m.\u001b[39mlayer(nodes, edges)\n\u001b[1;32m      4\u001b[0m     \u001b[38;5;241m.\u001b[39mtransform_lookup(\n\u001b[0;32m   (...)\u001b[0m\n\u001b[1;32m     14\u001b[0m     \u001b[38;5;241m.\u001b[39minteractive()\n\u001b[1;32m     15\u001b[0m )\n\u001b[1;32m     17\u001b[0m \u001b[38;5;66;03m# Save the chart\u001b[39;00m\n\u001b[0;32m---> 18\u001b[0m \u001b[43mchart\u001b[49m\u001b[38;5;241;43m.\u001b[39;49m\u001b[43msave\u001b[49m\u001b[43m(\u001b[49m\u001b[38;5;124;43m\"\u001b[39;49m\u001b[38;5;124;43mmolecular_dinamics_math_rel.json\u001b[39;49m\u001b[38;5;124;43m\"\u001b[39;49m\u001b[43m)\u001b[49m\n\u001b[1;32m     20\u001b[0m \u001b[38;5;66;03m# Display the chart\u001b[39;00m\n\u001b[1;32m     21\u001b[0m chart\n",
      "File \u001b[0;32m~/.local/lib/python3.10/site-packages/altair/vegalite/v5/api.py:1226\u001b[0m, in \u001b[0;36mTopLevelMixin.save\u001b[0;34m(self, fp, format, override_data_transformer, scale_factor, mode, vegalite_version, vega_version, vegaembed_version, embed_options, json_kwds, webdriver, engine, inline, **kwargs)\u001b[0m\n\u001b[1;32m   1224\u001b[0m \u001b[38;5;28;01mif\u001b[39;00m override_data_transformer:\n\u001b[1;32m   1225\u001b[0m     \u001b[38;5;28;01mwith\u001b[39;00m data_transformers\u001b[38;5;241m.\u001b[39mdisable_max_rows():\n\u001b[0;32m-> 1226\u001b[0m         \u001b[43msave\u001b[49m\u001b[43m(\u001b[49m\u001b[38;5;241;43m*\u001b[39;49m\u001b[38;5;241;43m*\u001b[39;49m\u001b[43mkwds\u001b[49m\u001b[43m)\u001b[49m\n\u001b[1;32m   1227\u001b[0m \u001b[38;5;28;01melse\u001b[39;00m:\n\u001b[1;32m   1228\u001b[0m     save(\u001b[38;5;241m*\u001b[39m\u001b[38;5;241m*\u001b[39mkwds)\n",
      "File \u001b[0;32m~/.local/lib/python3.10/site-packages/altair/utils/save.py:207\u001b[0m, in \u001b[0;36msave\u001b[0;34m(chart, fp, vega_version, vegaembed_version, format, mode, vegalite_version, embed_options, json_kwds, webdriver, scale_factor, engine, inline, **kwargs)\u001b[0m\n\u001b[1;32m    200\u001b[0m \u001b[38;5;28;01melse\u001b[39;00m:\n\u001b[1;32m    201\u001b[0m     \u001b[38;5;66;03m# Temporarily turn off any data transformers so that all data is inlined\u001b[39;00m\n\u001b[1;32m    202\u001b[0m     \u001b[38;5;66;03m# when calling chart.to_dict. This is relevant for vl-convert which cannot access\u001b[39;00m\n\u001b[1;32m    203\u001b[0m     \u001b[38;5;66;03m# local json files which could be created by a json data transformer. Furthermore,\u001b[39;00m\n\u001b[1;32m    204\u001b[0m     \u001b[38;5;66;03m# we don't exit the with statement until this function completed due to the issue\u001b[39;00m\n\u001b[1;32m    205\u001b[0m     \u001b[38;5;66;03m# described at https://github.com/vega/vl-convert/issues/31\u001b[39;00m\n\u001b[1;32m    206\u001b[0m     \u001b[38;5;28;01mwith\u001b[39;00m data_transformers\u001b[38;5;241m.\u001b[39menable(\u001b[38;5;124m\"\u001b[39m\u001b[38;5;124mdefault\u001b[39m\u001b[38;5;124m\"\u001b[39m), data_transformers\u001b[38;5;241m.\u001b[39mdisable_max_rows():\n\u001b[0;32m--> 207\u001b[0m         \u001b[43mperform_save\u001b[49m\u001b[43m(\u001b[49m\u001b[43m)\u001b[49m\n",
      "File \u001b[0;32m~/.local/lib/python3.10/site-packages/altair/utils/save.py:137\u001b[0m, in \u001b[0;36msave.<locals>.perform_save\u001b[0;34m()\u001b[0m\n\u001b[1;32m    136\u001b[0m \u001b[38;5;28;01mdef\u001b[39;00m \u001b[38;5;21mperform_save\u001b[39m():\n\u001b[0;32m--> 137\u001b[0m     spec \u001b[38;5;241m=\u001b[39m \u001b[43mchart\u001b[49m\u001b[38;5;241;43m.\u001b[39;49m\u001b[43mto_dict\u001b[49m\u001b[43m(\u001b[49m\u001b[43mcontext\u001b[49m\u001b[38;5;241;43m=\u001b[39;49m\u001b[43m{\u001b[49m\u001b[38;5;124;43m\"\u001b[39;49m\u001b[38;5;124;43mpre_transform\u001b[39;49m\u001b[38;5;124;43m\"\u001b[39;49m\u001b[43m:\u001b[49m\u001b[43m \u001b[49m\u001b[38;5;28;43;01mFalse\u001b[39;49;00m\u001b[43m}\u001b[49m\u001b[43m)\u001b[49m\n\u001b[1;32m    139\u001b[0m     inner_mode \u001b[38;5;241m=\u001b[39m set_inspect_mode_argument(\n\u001b[1;32m    140\u001b[0m         mode, embed_options \u001b[38;5;129;01mor\u001b[39;00m {}, spec, vegalite_version\n\u001b[1;32m    141\u001b[0m     )\n\u001b[1;32m    143\u001b[0m     \u001b[38;5;28;01mif\u001b[39;00m \u001b[38;5;28mformat\u001b[39m \u001b[38;5;241m==\u001b[39m \u001b[38;5;124m\"\u001b[39m\u001b[38;5;124mjson\u001b[39m\u001b[38;5;124m\"\u001b[39m:\n",
      "File \u001b[0;32m~/.local/lib/python3.10/site-packages/altair/vegalite/v5/api.py:961\u001b[0m, in \u001b[0;36mTopLevelMixin.to_dict\u001b[0;34m(self, validate, format, ignore, context)\u001b[0m\n\u001b[1;32m    956\u001b[0m context[\u001b[38;5;124m\"\u001b[39m\u001b[38;5;124mtop_level\u001b[39m\u001b[38;5;124m\"\u001b[39m] \u001b[38;5;241m=\u001b[39m \u001b[38;5;28;01mFalse\u001b[39;00m\n\u001b[1;32m    958\u001b[0m \u001b[38;5;66;03m# TopLevelMixin instance does not necessarily have to_dict defined\u001b[39;00m\n\u001b[1;32m    959\u001b[0m \u001b[38;5;66;03m# but due to how Altair is set up this should hold.\u001b[39;00m\n\u001b[1;32m    960\u001b[0m \u001b[38;5;66;03m# Too complex to type hint right now\u001b[39;00m\n\u001b[0;32m--> 961\u001b[0m vegalite_spec \u001b[38;5;241m=\u001b[39m \u001b[38;5;28;43msuper\u001b[39;49m\u001b[43m(\u001b[49m\u001b[43mTopLevelMixin\u001b[49m\u001b[43m,\u001b[49m\u001b[43m \u001b[49m\u001b[43mcopy\u001b[49m\u001b[43m)\u001b[49m\u001b[38;5;241;43m.\u001b[39;49m\u001b[43mto_dict\u001b[49m\u001b[43m(\u001b[49m\u001b[43m  \u001b[49m\u001b[38;5;66;43;03m# type: ignore[misc]\u001b[39;49;00m\n\u001b[1;32m    962\u001b[0m \u001b[43m    \u001b[49m\u001b[43mvalidate\u001b[49m\u001b[38;5;241;43m=\u001b[39;49m\u001b[43mvalidate\u001b[49m\u001b[43m,\u001b[49m\u001b[43m \u001b[49m\u001b[43mignore\u001b[49m\u001b[38;5;241;43m=\u001b[39;49m\u001b[43mignore\u001b[49m\u001b[43m,\u001b[49m\u001b[43m \u001b[49m\u001b[43mcontext\u001b[49m\u001b[38;5;241;43m=\u001b[39;49m\u001b[38;5;28;43mdict\u001b[39;49m\u001b[43m(\u001b[49m\u001b[43mcontext\u001b[49m\u001b[43m,\u001b[49m\u001b[43m \u001b[49m\u001b[43mpre_transform\u001b[49m\u001b[38;5;241;43m=\u001b[39;49m\u001b[38;5;28;43;01mFalse\u001b[39;49;00m\u001b[43m)\u001b[49m\n\u001b[1;32m    963\u001b[0m \u001b[43m\u001b[49m\u001b[43m)\u001b[49m\n\u001b[1;32m    965\u001b[0m \u001b[38;5;66;03m# TODO: following entries are added after validation. Should they be validated?\u001b[39;00m\n\u001b[1;32m    966\u001b[0m \u001b[38;5;28;01mif\u001b[39;00m is_top_level:\n\u001b[1;32m    967\u001b[0m     \u001b[38;5;66;03m# since this is top-level we add $schema if it's missing\u001b[39;00m\n",
      "File \u001b[0;32m~/.local/lib/python3.10/site-packages/altair/utils/schemapi.py:978\u001b[0m, in \u001b[0;36mSchemaBase.to_dict\u001b[0;34m(self, validate, ignore, context)\u001b[0m\n\u001b[1;32m    971\u001b[0m         \u001b[38;5;28mself\u001b[39m\u001b[38;5;241m.\u001b[39mvalidate(result)\n\u001b[1;32m    972\u001b[0m     \u001b[38;5;28;01mexcept\u001b[39;00m jsonschema\u001b[38;5;241m.\u001b[39mValidationError \u001b[38;5;28;01mas\u001b[39;00m err:\n\u001b[1;32m    973\u001b[0m         \u001b[38;5;66;03m# We do not raise `from err` as else the resulting\u001b[39;00m\n\u001b[1;32m    974\u001b[0m         \u001b[38;5;66;03m# traceback is very long as it contains part\u001b[39;00m\n\u001b[1;32m    975\u001b[0m         \u001b[38;5;66;03m# of the Vega-Lite schema. It would also first\u001b[39;00m\n\u001b[1;32m    976\u001b[0m         \u001b[38;5;66;03m# show the less helpful ValidationError instead of\u001b[39;00m\n\u001b[1;32m    977\u001b[0m         \u001b[38;5;66;03m# the more user friendly SchemaValidationError\u001b[39;00m\n\u001b[0;32m--> 978\u001b[0m         \u001b[38;5;28;01mraise\u001b[39;00m SchemaValidationError(\u001b[38;5;28mself\u001b[39m, err) \u001b[38;5;28;01mfrom\u001b[39;00m \u001b[38;5;28;01mNone\u001b[39;00m\n\u001b[1;32m    979\u001b[0m \u001b[38;5;28;01mreturn\u001b[39;00m result\n",
      "\u001b[0;31mSchemaValidationError\u001b[0m: `Tooltip` has no parameter named 'condition'\n\nExisting parameter names are:\nshorthand      bin         format       title   \naggregate      condition   formatType   type    \nbandPosition   field       timeUnit             \n\nSee the help for `Tooltip` to read the full description of these parameters"
     ]
    }
   ],
   "source": [
    "# Combine nodes and edges\n",
    "chart = (\n",
    "    alt.layer(nodes, edges)\n",
    "    .transform_lookup(\n",
    "        lookup=\"id\",\n",
    "        from_=alt.LookupData(\n",
    "            alt.Data(values=nodes, format={\"type\": \"json\", \"property\": \"nodes\"}),\n",
    "            key=\"id\",\n",
    "            fields=[\"x\", \"y\"],\n",
    "        ),\n",
    "    )\n",
    "    .properties(width=800, height=400)\n",
    "    .configure_scale(bandPaddingInner=0.8)\n",
    "    .interactive()\n",
    ")\n",
    "\n",
    "# Save the chart\n",
    "chart.save(\"molecular_dinamics_math_rel.json\")\n",
    "\n",
    "# Display the chart\n",
    "chart"
   ]
  }
 ],
 "metadata": {
  "kernelspec": {
   "display_name": "Python 3",
   "language": "python",
   "name": "python3"
  },
  "language_info": {
   "codemirror_mode": {
    "name": "ipython",
    "version": 3
   },
   "file_extension": ".py",
   "mimetype": "text/x-python",
   "name": "python",
   "nbconvert_exporter": "python",
   "pygments_lexer": "ipython3",
   "version": "3.10.12"
  }
 },
 "nbformat": 4,
 "nbformat_minor": 4
}
