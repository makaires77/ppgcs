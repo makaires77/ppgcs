{
 "cells": [
  {
   "cell_type": "markdown",
   "metadata": {},
   "source": [
    "# Exploring chemical compound space with a graph recommender system\n",
    "\n",
    "In this notebook we demonstrate several ways in which our graph recommender (GR) system can be used to explore chemical compound space. We first exemplify (1) how to obtain recommendations along the compositional hyper-direction by demonstrating how to recommend new atom-site occupancies. Then we show (2) how the GR can output recommendations along the structural hyper-direction, by recommending new crystal structures for a particular chemical composition. Finally, we show (3) how to obtain recommendations along hybrid (compositional-structural) hyper-directions: we demonstrate how to obtain recommendations of sites for a given atom to occupy; we also show how to extract recommendations of new compounds and structures in a given chemical system."
   ]
  },
  {
   "cell_type": "markdown",
   "metadata": {},
   "source": [
    "## 1. Recommendations along the compositional hyper-direction"
   ]
  },
  {
   "cell_type": "markdown",
   "metadata": {},
   "source": [
    "### 1.1 Demonstrating atom-site occupancy recommendations\n",
    "\n",
    "This section guides you through the process of obtaining new atom-site occupancies based on a given OQMD ID that represents a structural prototype of interest, or given a crystal structure file.\n",
    "\n",
    "As an example, we will focus on the crystal structure prototype of [$\\text{CsV}_3\\text{Sb}_5$](https://journals.aps.org/prl/abstract/10.1103/PhysRevLett.125.247002), a compound that recently piqued interest for its novel properties. The visualization of this unique crystal structure is displayed below:\n",
    "\n",
    "<p align=\"center\">\n",
    "<img src=\"etc/kagome_structure.png\" alt=\"Crystal structure of CsK3Sb5\" width=\"70%\" height=\"auto\" align=\"center\">\n",
    "</p>\n",
    "\n",
    "Corresponding to this structure, the OQMD entry with the ID: 1514955 can be found at this [link](https://oqmd.org/materials/entry/1514955). Our aim in this notebook is to demonstrate the process of recommending new ion-site occupancies using this structural prototype as a reference."
   ]
  },
  {
   "cell_type": "code",
   "execution_count": null,
   "metadata": {},
   "outputs": [],
   "source": [
    "# If you are using Colab, remove the comments below and run this cell. \n",
    "\n",
    "#!pip install gitpython\n",
    "\n",
    "#import git\n",
    "#import os\n",
    "\n",
    "#git.Repo.clone_from('https://github.com/simcomat/ionic-sub-RS', '/content/ionic-sub-RS')\n",
    "#os.chdir('/content/ionic-sub-RS')\n",
    "#!pip install -r requirements.txt"
   ]
  },
  {
   "cell_type": "markdown",
   "metadata": {},
   "source": [
    "The classes used to build the Recommender System are defined in `recommender/core.py` file."
   ]
  },
  {
   "cell_type": "code",
   "execution_count": 1,
   "metadata": {},
   "outputs": [],
   "source": [
    "from recommender.core import RecommenderSystem, OccupationData\n",
    "import joblib\n",
    "from gensim.models import Word2Vec\n",
    "from pymatgen.core import Element, Structure\n",
    "from pandas import DataFrame"
   ]
  },
  {
   "cell_type": "markdown",
   "metadata": {},
   "source": [
    "#### Loading embedding and defining the data location\n",
    "\n",
    "In this section, we establish the path to the occupancy data that was used to construct the NetworkX graph. This graph can be found in `data/G100.gexf`. Simultaneously, we load the Word2Vec model, which includes the ion and site embeddings.\n",
    "\n",
    "We also load the Decision Tree classifier to determine the distance threshold applied within the embedding space. "
   ]
  },
  {
   "cell_type": "markdown",
   "metadata": {},
   "source": [
    "Here we are defining ions that we don't desire to be recommended (noble gases and radioctive elements)"
   ]
  },
  {
   "cell_type": "code",
   "execution_count": 2,
   "metadata": {},
   "outputs": [],
   "source": [
    "json_file_path = 'data/occupancy_data.json.gz'\n",
    "\n",
    "model = Word2Vec.load(f'models/word2vec_100.model')\n",
    "embedding = model.wv\n",
    "\n",
    "clf = joblib.load(f'models/decision_tree_100.joblib')\n",
    "distance_threshold = clf.tree_.threshold[0]"
   ]
  },
  {
   "cell_type": "code",
   "execution_count": 3,
   "metadata": {},
   "outputs": [
    {
     "data": {
      "text/plain": [
       "['Xe', 'Kr', 'Ar', 'Ne', 'He', 'Tc', 'Pu', 'Np', 'U', 'Pa', 'Th', 'Ac', 'Pm']"
      ]
     },
     "execution_count": 3,
     "metadata": {},
     "output_type": "execute_result"
    }
   ],
   "source": [
    "ions = ['Xe', 'Kr', 'Ar', 'Ne', 'He', 'I', 'Br', 'Cl', 'F', 'Te', 'Se', 'S', 'O', 'Bi', 'Sb', 'As', 'P', 'N', 'Pb', 'Sn', 'Ge', 'Si', 'C', 'Tl', 'In', 'Ga', 'Al', 'B', 'Hg', 'Cd', 'Zn', 'Au', 'Ag', 'Cu', 'Pt', 'Pd', 'Ni', 'Ir', 'Rh', 'Co', 'Os', 'Ru', 'Fe', 'Re', 'Tc', 'Mn', 'W', 'Mo', 'Cr', 'Ta', 'Nb', 'V', 'Hf', 'Zr', 'Ti', 'Pu', 'Np', 'U', 'Pa', 'Th', 'Ac', 'Lu', 'Yb', 'Tm', 'Er', 'Ho', 'Dy', 'Tb', 'Gd', 'Eu', 'Sm', 'Pm', 'Nd', 'Pr', 'Ce', 'La', 'Y', 'Sc', 'Ba', 'Sr', 'Ca', 'Mg', 'Be', 'Cs', 'Rb', 'K', 'Na', 'Li', 'H']\n",
    "ion_forbidden_list = [ion for ion in ions if (Element(ion).Z > 83 or \n",
    "                                              ion in ['Tc', 'Pm'] or\n",
    "                                              Element(ion).group == 18)]\n",
    "ion_forbidden_list "
   ]
  },
  {
   "cell_type": "markdown",
   "metadata": {},
   "source": [
    "First, we create a `OccupationData` object with the compressed json file path."
   ]
  },
  {
   "cell_type": "code",
   "execution_count": 4,
   "metadata": {},
   "outputs": [],
   "source": [
    "occupation_data = OccupationData(json_file_path)"
   ]
  },
  {
   "cell_type": "markdown",
   "metadata": {},
   "source": [
    "At this stage, we retrieve an `AnonymousMotif` object for a specific OQMD ID. This object encapsulates all the crystal structure data, as defined by the Anonymous Motif concept outlined in the paper. This structure-centric information is the foundation for generating our ion-site occupancy recommendations."
   ]
  },
  {
   "cell_type": "code",
   "execution_count": 5,
   "metadata": {},
   "outputs": [],
   "source": [
    "kagome_id = 1514955\n",
    "kagome_AM = occupation_data.get_AM_from_OQMD_id(kagome_id)"
   ]
  },
  {
   "cell_type": "markdown",
   "metadata": {},
   "source": [
    "The `AnonymousMotif` object provides a prototype Pymatgen Structure consisting exclusively of carbon (C) atoms. It also comes with its equivalent site indexes. After receiving the occupancy recommendations, these resources can be utilized for executing ionic substitutions, effectively transforming the prototype into new material structures."
   ]
  },
  {
   "cell_type": "code",
   "execution_count": 6,
   "metadata": {},
   "outputs": [
    {
     "data": {
      "text/plain": [
       "Structure Summary\n",
       "Lattice\n",
       "    abc : 5.469073129 5.469073129363581 9.384302298\n",
       " angles : 90.0 90.0 120.00000000384938\n",
       " volume : 243.08607542522887\n",
       "      A : 5.469073129 0.0 0.0\n",
       "      B : -2.734536565 4.736356265 0.0\n",
       "      C : 0.0 0.0 9.384302298\n",
       "    pbc : True True True\n",
       "PeriodicSite: C (0.0, 0.0, 0.0) [0.0, 0.0, 0.0]\n",
       "PeriodicSite: C (2.735, 1.579, 2.411) [0.6667, 0.3333, 0.2569]\n",
       "PeriodicSite: C (-3.333e-10, 3.158, 2.411) [0.3333, 0.6667, 0.2569]\n",
       "PeriodicSite: C (0.0, 0.0, 4.692) [0.0, 0.0, 0.5]\n",
       "PeriodicSite: C (2.735, 1.579, 6.974) [0.6667, 0.3333, 0.7431]\n",
       "PeriodicSite: C (-3.333e-10, 3.158, 6.974) [0.3333, 0.6667, 0.7431]\n",
       "PeriodicSite: C (2.735, 0.0, 4.692) [0.5, 0.0, 0.5]\n",
       "PeriodicSite: C (-1.367, 2.368, 4.692) [0.0, 0.5, 0.5]\n",
       "PeriodicSite: C (1.367, 2.368, 4.692) [0.5, 0.5, 0.5]"
      ]
     },
     "execution_count": 6,
     "metadata": {},
     "output_type": "execute_result"
    }
   ],
   "source": [
    "kagome_AM.example_structure"
   ]
  },
  {
   "cell_type": "code",
   "execution_count": 7,
   "metadata": {},
   "outputs": [
    {
     "data": {
      "text/plain": [
       "[0, 1, 1, 3, 1, 1, 6, 6, 6]"
      ]
     },
     "execution_count": 7,
     "metadata": {},
     "output_type": "execute_result"
    }
   ],
   "source": [
    "kagome_AM.equivalent_sites_indexes"
   ]
  },
  {
   "cell_type": "markdown",
   "metadata": {},
   "source": [
    "Next, we'll instantiate a `RecommenderSystem` object. This process involves integrating several elements including `OccupationData`, node embeddings, a predefined distance threshold (given by the trained decision tree), and a list of ions that are deemed unsuitable for inclusion (`ion_forbidden_list`).\n",
    "\n",
    "One can further refine the model's recommendations by setting a smaller distance threshold, which makes the recommendation process more stringent."
   ]
  },
  {
   "cell_type": "code",
   "execution_count": 8,
   "metadata": {},
   "outputs": [],
   "source": [
    "rs = RecommenderSystem(occupation_data=occupation_data, \n",
    "                       embedding=embedding, \n",
    "                       distance_threshold=distance_threshold, \n",
    "                       ion_forbidden_list=ion_forbidden_list)"
   ]
  },
  {
   "cell_type": "markdown",
   "metadata": {},
   "source": [
    "To generate recommendations for this prototype structure, we feed the `AnonymousMotif`—derived from the OQMD ID—into the `get_recommendations_for_AM` method of the `RecommenderSystem`. The output is a dictionary where each key corresponds to an `AMsite` object representing a specific Anonymous Motif site. Each key is associated with a value that comprises a list of recommended ions for that specific site.\n",
    "\n",
    "The recommendations are expressed as tuples in the format `(ion, ion-site distance, novel occupation)`. Here, `novel occupation` indicates whether the suggested ion-site occupation represents a new variant within the OQMD compound set (the dataset used to construct the recommender system). The recommendations are sorted based on the ion-site distance.\n",
    "\n",
    "Importantly, the `AMSite` keys display their respective site indexes. These indexes reference specific sites in the `AnonymousMotif.example_structure` where the recommended ions should be substituted, thus providing a clear mapping for potential new compounds."
   ]
  },
  {
   "cell_type": "code",
   "execution_count": 9,
   "metadata": {},
   "outputs": [
    {
     "data": {
      "text/plain": [
       "{'191_9_1(6/mmm)_1(6/mmm)_3(mmm)_4(3m)_0[0:1(6/mmm)]': [('Rb',\n",
       "   0.018323421478271484,\n",
       "   False),\n",
       "  ('K', 0.021883487701416016, False),\n",
       "  ('Cs', 0.02744007110595703, False),\n",
       "  ('Tl', 0.11811000108718872, False),\n",
       "  ('Na', 0.13025516271591187, False),\n",
       "  ('Ba', 0.261111319065094, True)],\n",
       " '191_9_1(6/mmm)_1(6/mmm)_3(mmm)_4(3m)_0[1:1(6/mmm)]': [('Sb',\n",
       "   0.003525972366333008,\n",
       "   False),\n",
       "  ('Bi', 0.028451979160308838, False),\n",
       "  ('As', 0.07530736923217773, False),\n",
       "  ('P', 0.1574842929840088, False),\n",
       "  ('Ir', 0.24137485027313232, True),\n",
       "  ('Pt', 0.28948670625686646, True),\n",
       "  ('Ta', 0.291614830493927, True),\n",
       "  ('Re', 0.3077079653739929, True),\n",
       "  ('Rh', 0.3191390633583069, True),\n",
       "  ('Au', 0.3234303593635559, True),\n",
       "  ('Os', 0.3247629404067993, True)],\n",
       " '191_9_1(6/mmm)_1(6/mmm)_3(mmm)_4(3m)_0[2:3(mmm)]': [('V',\n",
       "   0.03470265865325928,\n",
       "   False),\n",
       "  ('Nb', 0.07285189628601074, False),\n",
       "  ('Ta', 0.08547401428222656, False),\n",
       "  ('Mn', 0.08579069375991821, False),\n",
       "  ('Ti', 0.09940123558044434, True),\n",
       "  ('Cr', 0.10330325365066528, False),\n",
       "  ('Mo', 0.1266164779663086, False),\n",
       "  ('Re', 0.13882136344909668, True),\n",
       "  ('Fe', 0.15163791179656982, False),\n",
       "  ('Hf', 0.19332939386367798, True),\n",
       "  ('W', 0.19937950372695923, False),\n",
       "  ('Co', 0.20058012008666992, False),\n",
       "  ('Zr', 0.2026851773262024, True),\n",
       "  ('Ru', 0.20331484079360962, False),\n",
       "  ('Os', 0.20608758926391602, True),\n",
       "  ('Rh', 0.20886409282684326, False),\n",
       "  ('Ir', 0.24786359071731567, False),\n",
       "  ('Ni', 0.2988765835762024, True),\n",
       "  ('Sc', 0.29932737350463867, True),\n",
       "  ('Li', 0.3114704489707947, True),\n",
       "  ('Mg', 0.31176626682281494, True),\n",
       "  ('Hg', 0.3180515170097351, True),\n",
       "  ('Be', 0.3222390413284302, True)],\n",
       " '191_9_1(6/mmm)_1(6/mmm)_3(mmm)_4(3m)_0[3:4(3m)]': [('Sb',\n",
       "   0.003977358341217041,\n",
       "   False),\n",
       "  ('Bi', 0.027190804481506348, False),\n",
       "  ('As', 0.07546067237854004, False),\n",
       "  ('P', 0.1601332426071167, False),\n",
       "  ('Ir', 0.2293439507484436, True),\n",
       "  ('Pt', 0.274461567401886, True),\n",
       "  ('Ta', 0.3013013005256653, True),\n",
       "  ('Re', 0.3061569929122925, True),\n",
       "  ('Rh', 0.30631446838378906, True),\n",
       "  ('Au', 0.312666654586792, True),\n",
       "  ('Os', 0.31777429580688477, True),\n",
       "  ('Pd', 0.3245566487312317, True)]}"
      ]
     },
     "execution_count": 9,
     "metadata": {},
     "output_type": "execute_result"
    }
   ],
   "source": [
    "kagome_recommendations = rs.get_recommendation_for_AM(kagome_AM)\n",
    "kagome_recommendations"
   ]
  },
  {
   "cell_type": "markdown",
   "metadata": {},
   "source": [
    "Each `AnonymousMotif` site can be individually accessed through the `sites` attribute. This provides the flexibility to obtain recommendations for a specific Anonymous Motif (AM) site. To do this, simply input the site's label into the `RecommenderSystem.get_recommendation_for_site` method. This approach allows for a more targeted exploration of potential ion substitutions."
   ]
  },
  {
   "cell_type": "code",
   "execution_count": 10,
   "metadata": {},
   "outputs": [
    {
     "data": {
      "text/plain": [
       "[(191, 9, (1, '6/mmm'), 0)\n",
       " site index: 0,\n",
       " (191, 9, (1, '6/mmm'), 0)\n",
       " site index: 3,\n",
       " (191, 9, (3, 'mmm'), 0)\n",
       " site index: 6,\n",
       " (191, 9, (4, '3m'), 0)\n",
       " site index: 1]"
      ]
     },
     "execution_count": 10,
     "metadata": {},
     "output_type": "execute_result"
    }
   ],
   "source": [
    "kagome_AM.sites"
   ]
  },
  {
   "cell_type": "code",
   "execution_count": 11,
   "metadata": {},
   "outputs": [
    {
     "data": {
      "text/plain": [
       "[('V', 0.03470265865325928, False),\n",
       " ('Nb', 0.07285189628601074, False),\n",
       " ('Ta', 0.08547401428222656, False),\n",
       " ('Mn', 0.08579069375991821, False),\n",
       " ('Ti', 0.09940123558044434, True),\n",
       " ('Cr', 0.10330325365066528, False),\n",
       " ('Mo', 0.1266164779663086, False),\n",
       " ('Re', 0.13882136344909668, True),\n",
       " ('Fe', 0.15163791179656982, False),\n",
       " ('Hf', 0.19332939386367798, True)]"
      ]
     },
     "execution_count": 11,
     "metadata": {},
     "output_type": "execute_result"
    }
   ],
   "source": [
    "C_site_label = kagome_AM.sites[2].label\n",
    "# top_n defined to get the top 10 recommendations ranked by the ion-site distance\n",
    "rs.get_recommendation_for_site(C_site_label, top_n=10) "
   ]
  },
  {
   "cell_type": "code",
   "execution_count": 12,
   "metadata": {},
   "outputs": [
    {
     "data": {
      "text/plain": [
       "[('Ti', 0.09940123558044434, True),\n",
       " ('Re', 0.13882136344909668, True),\n",
       " ('Hf', 0.19332939386367798, True)]"
      ]
     },
     "execution_count": 12,
     "metadata": {},
     "output_type": "execute_result"
    }
   ],
   "source": [
    "# Only new ion-site occupations added to filter recommendations\n",
    "rs.get_recommendation_for_site(C_site_label, top_n=10, only_new=True) "
   ]
  },
  {
   "cell_type": "markdown",
   "metadata": {},
   "source": [
    "### 1.2 Atomic substitutions for a structure defined on a CIF file"
   ]
  },
  {
   "cell_type": "markdown",
   "metadata": {},
   "source": [
    "There may also be situations where we don't have an OQMD ID for the structural prototype we wish to investigate, but we do have a CIF file. For instance, suppose we are interested in exploring potential ion substitutions in the [Jakobssonite mineral](https://www.mindat.org/min-42796.html), a compound with a $\\text{CaAlF}_5$ composition.\n",
    "\n",
    "<p align=\"center\">\n",
    "     <img src=\"etc/jakobssonite.png\" alt=\"Crystal structure of CaAlF5\" width=\"65%\" class=\"center\"> \n",
    "</p>\n",
    "\n",
    "Using the CIF file provided by Mindat, we can load the Jakobssonite crystal structure as a Pymatgen `Structure` object. This structure can then be fed into the `OccupationData` object, which in turn outputs its corresponding `AnonymousMotif`. Armed with this `AnonymousMotif`, we can proceed to generate ion substitution recommendations for each site in the structure."
   ]
  },
  {
   "cell_type": "code",
   "execution_count": 13,
   "metadata": {},
   "outputs": [
    {
     "data": {
      "text/plain": [
       "Structure Summary\n",
       "Lattice\n",
       "    abc : 8.712 6.317 7.349\n",
       " angles : 90.0 115.04000000000003 90.0\n",
       " volume : 366.4301426035834\n",
       "      A : 7.89318110031551 0.0 -3.6873616743712625\n",
       "      B : 1.0158510778007315e-15 6.317 3.868046915106915e-16\n",
       "      C : 0.0 0.0 7.349\n",
       "    pbc : True True True\n",
       "PeriodicSite: Ca (5.51e-16, 3.426, 1.837) [0.0, 0.5424, 0.25]\n",
       "PeriodicSite: Ca (3.947, 0.2678, -0.006431) [0.5, 0.0424, 0.25]\n",
       "PeriodicSite: Ca (4.649e-16, 2.891, 5.512) [0.0, 0.4576, 0.75]\n",
       "PeriodicSite: Ca (3.947, 6.049, 3.668) [0.5, 0.9576, 0.75]\n",
       "PeriodicSite: Al (0.0, 0.0, 0.0) [0.0, 0.0, 0.0]\n",
       "PeriodicSite: Al (3.947, 3.159, -1.844) [0.5, 0.5, 0.0]\n",
       "PeriodicSite: Al (0.0, 0.0, 3.675) [0.0, 0.0, 0.5]\n",
       "PeriodicSite: Al (3.947, 3.159, 1.831) [0.5, 0.5, 0.5]\n",
       "PeriodicSite: F1 (F) (9.571e-16, 5.952, 1.837) [0.0, 0.9422, 0.25]\n",
       "PeriodicSite: F1 (F) (3.947, 2.793, -0.006431) [0.5, 0.4422, 0.25]\n",
       "PeriodicSite: F1 (F) (5.872e-17, 0.3651, 5.512) [0.0, 0.0578, 0.75]\n",
       "PeriodicSite: F1 (F) (3.947, 3.524, 3.668) [0.5, 0.5578, 0.75]\n",
       "PeriodicSite: F2 (F) (0.08998, 4.529, 7.114) [0.0114, 0.7169, 0.9737]\n",
       "PeriodicSite: F2 (F) (4.037, 1.37, 5.27) [0.5114, 0.2169, 0.9737]\n",
       "PeriodicSite: F2 (F) (0.08998, 1.788, 3.439) [0.0114, 0.2831, 0.4737]\n",
       "PeriodicSite: F2 (F) (4.037, 4.947, 1.596) [0.5114, 0.7831, 0.4737]\n",
       "PeriodicSite: F2 (F) (7.803, 4.529, 0.2225) [0.9886, 0.7169, 0.5263]\n",
       "PeriodicSite: F2 (F) (3.857, 1.37, 2.066) [0.4886, 0.2169, 0.5263]\n",
       "PeriodicSite: F2 (F) (7.803, 1.788, -3.452) [0.9886, 0.2831, 0.0263]\n",
       "PeriodicSite: F2 (F) (3.857, 4.947, -1.608) [0.4886, 0.7831, 0.0263]\n",
       "PeriodicSite: F3 (F) (6.148, 6.205, 3.646) [0.7789, 0.9822, 0.887]\n",
       "PeriodicSite: F3 (F) (2.201, 3.046, 5.49) [0.2789, 0.4822, 0.887]\n",
       "PeriodicSite: F3 (F) (6.148, 0.1124, -0.02802) [0.7789, 0.0178, 0.387]\n",
       "PeriodicSite: F3 (F) (2.201, 3.271, 1.816) [0.2789, 0.5178, 0.387]\n",
       "PeriodicSite: F3 (F) (1.745, 6.205, 3.69) [0.2211, 0.9822, 0.613]\n",
       "PeriodicSite: F3 (F) (5.692, 3.046, 1.846) [0.7211, 0.4822, 0.613]\n",
       "PeriodicSite: F3 (F) (1.745, 0.1124, 0.01516) [0.2211, 0.0178, 0.113]\n",
       "PeriodicSite: F3 (F) (5.692, 3.271, -1.829) [0.7211, 0.5178, 0.113]"
      ]
     },
     "execution_count": 13,
     "metadata": {},
     "output_type": "execute_result"
    }
   ],
   "source": [
    "jakobssonite_structure = Structure.from_file('etc/jakobssonite.cif')\n",
    "jakobssonite_structure"
   ]
  },
  {
   "cell_type": "code",
   "execution_count": 14,
   "metadata": {},
   "outputs": [
    {
     "data": {
      "text/plain": [
       "(15, 14, [(2, '-1'), (2, '2'), (2, '2'), (4, '1'), (4, '1')], 0)"
      ]
     },
     "execution_count": 14,
     "metadata": {},
     "output_type": "execute_result"
    }
   ],
   "source": [
    "jakobssonite_AM = occupation_data.get_AM_from_structure(jakobssonite_structure)\n",
    "jakobssonite_AM"
   ]
  },
  {
   "cell_type": "code",
   "execution_count": 15,
   "metadata": {},
   "outputs": [
    {
     "data": {
      "text/plain": [
       "{'15_14_2(-1)_2(2)_2(2)_4(1)_4(1)_0[0:2(-1)]': [('Na',\n",
       "   0.03471493721008301,\n",
       "   False),\n",
       "  ('K', 0.04308205842971802, False),\n",
       "  ('Rb', 0.07844400405883789, False),\n",
       "  ('Cs', 0.11494934558868408, True),\n",
       "  ('Tl', 0.1474519968032837, False),\n",
       "  ('Li', 0.21496635675430298, False),\n",
       "  ('Ba', 0.3086221218109131, True)],\n",
       " '15_14_2(-1)_2(2)_2(2)_4(1)_4(1)_0[1:2(2)]': [('B',\n",
       "   0.0044931769371032715,\n",
       "   False),\n",
       "  ('C', 0.16621387004852295, True),\n",
       "  ('Al', 0.3119314908981323, False),\n",
       "  ('Pt', 0.317658007144928, True),\n",
       "  ('Si', 0.32328367233276367, True),\n",
       "  ('Ga', 0.32405978441238403, True),\n",
       "  ('N', 0.32569217681884766, True)],\n",
       " '15_14_2(-1)_2(2)_2(2)_4(1)_4(1)_0[2:2(2)]': [('S',\n",
       "   0.012279272079467773,\n",
       "   False),\n",
       "  ('Se', 0.022431612014770508, False),\n",
       "  ('Te', 0.12491989135742188, False)],\n",
       " '15_14_2(-1)_2(2)_2(2)_4(1)_4(1)_0[3:4(1)]': [('K',\n",
       "   0.0571560263633728,\n",
       "   False),\n",
       "  ('Na', 0.06441515684127808, False),\n",
       "  ('Rb', 0.07851743698120117, False),\n",
       "  ('Cs', 0.1478816270828247, True),\n",
       "  ('Tl', 0.21432268619537354, True),\n",
       "  ('Li', 0.22979038953781128, False),\n",
       "  ('Sr', 0.2826749086380005, True),\n",
       "  ('Ba', 0.29637229442596436, True),\n",
       "  ('Eu', 0.31076884269714355, True)],\n",
       " '15_14_2(-1)_2(2)_2(2)_4(1)_4(1)_0[4:4(1)]': [('S',\n",
       "   0.011774778366088867,\n",
       "   False),\n",
       "  ('Se', 0.024443387985229492, False),\n",
       "  ('Te', 0.1323070526123047, False)]}"
      ]
     },
     "execution_count": 15,
     "metadata": {},
     "output_type": "execute_result"
    }
   ],
   "source": [
    "jakobssonite_recommendations = rs.get_recommendation_for_AM(jakobssonite_AM)\n",
    "jakobssonite_recommendations"
   ]
  },
  {
   "cell_type": "markdown",
   "metadata": {},
   "source": [
    "## 2. Recommendations along the structural hyper-direction"
   ]
  },
  {
   "cell_type": "markdown",
   "metadata": {},
   "source": [
    "### 2.1. New crystal structures for AlCd"
   ]
  },
  {
   "cell_type": "markdown",
   "metadata": {},
   "source": [
    "We can extract recommendations of crystal structures for a particular chemical compound. That is made possible by the method `get_recommendation_for_compound()`. Let us demonstrate it for the case of the binary chemical compound AlCd. The [Al-Cd binary system](https://www.oqmd.org/materials/composition/Al-Cd) has no DFT-stable materials nor any experimentally known/realized compounds. "
   ]
  },
  {
   "cell_type": "code",
   "execution_count": 16,
   "metadata": {
    "scrolled": true
   },
   "outputs": [],
   "source": [
    "AlCd_recs = rs.get_recommendation_for_compound(formula='AlCd', top_n= 700)"
   ]
  },
  {
   "cell_type": "markdown",
   "metadata": {},
   "source": [
    "Below we print the recommendations with a sum of the AMSite-atom distances smaller than 0.4. That amounts to four recommendations, with space groups Pbcm (57), C2/m (12), and Pnma (62), none of them present in the OQMD database."
   ]
  },
  {
   "cell_type": "code",
   "execution_count": 17,
   "metadata": {},
   "outputs": [
    {
     "data": {
      "text/html": [
       "<div>\n",
       "<style scoped>\n",
       "    .dataframe tbody tr th:only-of-type {\n",
       "        vertical-align: middle;\n",
       "    }\n",
       "\n",
       "    .dataframe tbody tr th {\n",
       "        vertical-align: top;\n",
       "    }\n",
       "\n",
       "    .dataframe thead th {\n",
       "        text-align: right;\n",
       "    }\n",
       "</style>\n",
       "<table border=\"1\" class=\"dataframe\">\n",
       "  <thead>\n",
       "    <tr style=\"text-align: right;\">\n",
       "      <th></th>\n",
       "      <th>formula</th>\n",
       "      <th>AM</th>\n",
       "      <th>AM_label</th>\n",
       "      <th>atom_AMsites</th>\n",
       "      <th>oxidation_states</th>\n",
       "      <th>sum_SiteAtom_dists</th>\n",
       "      <th>novelty_fraction</th>\n",
       "    </tr>\n",
       "  </thead>\n",
       "  <tbody>\n",
       "    <tr>\n",
       "      <th>8</th>\n",
       "      <td>AlCd</td>\n",
       "      <td>(57, 8, [(4, 'm'), (4, 'm')], 4)</td>\n",
       "      <td>57_8_4(m)_4(m)_4</td>\n",
       "      <td>[Cd, Al]</td>\n",
       "      <td>[]</td>\n",
       "      <td>0.268250</td>\n",
       "      <td>1.0</td>\n",
       "    </tr>\n",
       "    <tr>\n",
       "      <th>2</th>\n",
       "      <td>AlCd</td>\n",
       "      <td>(12, 4, [(2, 'm'), (2, 'm')], 0)</td>\n",
       "      <td>12_4_2(m)_2(m)_0</td>\n",
       "      <td>[Cd, Al]</td>\n",
       "      <td>[]</td>\n",
       "      <td>0.280007</td>\n",
       "      <td>0.5</td>\n",
       "    </tr>\n",
       "    <tr>\n",
       "      <th>7</th>\n",
       "      <td>AlCd</td>\n",
       "      <td>(62, 8, [(4, 'm'), (4, 'm')], 2)</td>\n",
       "      <td>62_8_4(m)_4(m)_2</td>\n",
       "      <td>[Cd, Al]</td>\n",
       "      <td>[]</td>\n",
       "      <td>0.325816</td>\n",
       "      <td>0.5</td>\n",
       "    </tr>\n",
       "    <tr>\n",
       "      <th>6</th>\n",
       "      <td>AlCd</td>\n",
       "      <td>(62, 8, [(4, 'm'), (4, 'm')], 2)</td>\n",
       "      <td>62_8_4(m)_4(m)_2</td>\n",
       "      <td>[Al, Cd]</td>\n",
       "      <td>[]</td>\n",
       "      <td>0.342468</td>\n",
       "      <td>0.5</td>\n",
       "    </tr>\n",
       "  </tbody>\n",
       "</table>\n",
       "</div>"
      ],
      "text/plain": [
       "  formula                                AM          AM_label atom_AMsites   \n",
       "8    AlCd  (57, 8, [(4, 'm'), (4, 'm')], 4)  57_8_4(m)_4(m)_4     [Cd, Al]  \\\n",
       "2    AlCd  (12, 4, [(2, 'm'), (2, 'm')], 0)  12_4_2(m)_2(m)_0     [Cd, Al]   \n",
       "7    AlCd  (62, 8, [(4, 'm'), (4, 'm')], 2)  62_8_4(m)_4(m)_2     [Cd, Al]   \n",
       "6    AlCd  (62, 8, [(4, 'm'), (4, 'm')], 2)  62_8_4(m)_4(m)_2     [Al, Cd]   \n",
       "\n",
       "  oxidation_states  sum_SiteAtom_dists  novelty_fraction  \n",
       "8               []            0.268250               1.0  \n",
       "2               []            0.280007               0.5  \n",
       "7               []            0.325816               0.5  \n",
       "6               []            0.342468               0.5  "
      ]
     },
     "execution_count": 17,
     "metadata": {},
     "output_type": "execute_result"
    }
   ],
   "source": [
    "df = DataFrame(AlCd_recs)\n",
    "df[ df.sum_SiteAtom_dists<0.4 ].sort_values(by=['sum_SiteAtom_dists'])"
   ]
  },
  {
   "cell_type": "markdown",
   "metadata": {},
   "source": [
    "## 3. Recommendations along compositional-structural hybrid hyper-directions"
   ]
  },
  {
   "cell_type": "markdown",
   "metadata": {},
   "source": [
    "### 3.1. Recommending sites for the Vanadium atom"
   ]
  },
  {
   "cell_type": "markdown",
   "metadata": {},
   "source": [
    "We can recommend AM sites for a specific atom to occupy by using the `get_recommendation_for_ion()` method."
   ]
  },
  {
   "cell_type": "code",
   "execution_count": 18,
   "metadata": {},
   "outputs": [
    {
     "data": {
      "text/plain": [
       "[((187, 6, (1, '-6m2'), 5)\n",
       "  site index: 0,\n",
       "  0.03853750228881836,\n",
       "  True),\n",
       " ((187, 6, (1, '-6m2'), 5)\n",
       "  site index: 0,\n",
       "  0.049047112464904785,\n",
       "  True),\n",
       " ((129, 8, (2, '4mm'), 5)\n",
       "  site index: 2,\n",
       "  0.06081873178482056,\n",
       "  True),\n",
       " ((1, 23, (1, '1'), 7)\n",
       "  site index: 21,\n",
       "  0.06563448905944824,\n",
       "  True),\n",
       " ((1, 23, (1, '1'), 7)\n",
       "  site index: 21,\n",
       "  0.06583338975906372,\n",
       "  True),\n",
       " ((57, 16, (4, 'm'), 0)\n",
       "  site index: 12,\n",
       "  0.06810534000396729,\n",
       "  True),\n",
       " ((63, 8, (2, 'm2m'), 3)\n",
       "  site index: 6,\n",
       "  0.07121396064758301,\n",
       "  True),\n",
       " ((2, 12, (2, '1'), 16)\n",
       "  site index: 2,\n",
       "  0.07439231872558594,\n",
       "  True),\n",
       " ((2, 20, (1, '-1'), 0)\n",
       "  site index: 19,\n",
       "  0.07455205917358398,\n",
       "  True),\n",
       " ((12, 18, (2, 'm'), 1)\n",
       "  site index: 2,\n",
       "  0.0746423602104187,\n",
       "  True),\n",
       " ((12, 18, (2, 'm'), 1)\n",
       "  site index: 2,\n",
       "  0.07631582021713257,\n",
       "  True),\n",
       " ((12, 18, (1, '2/m'), 1)\n",
       "  site index: 0,\n",
       "  0.07662254571914673,\n",
       "  True),\n",
       " ((12, 18, (1, '2/m'), 1)\n",
       "  site index: 0,\n",
       "  0.07664531469345093,\n",
       "  True),\n",
       " ((2, 20, (1, '-1'), 0)\n",
       "  site index: 19,\n",
       "  0.0781019926071167,\n",
       "  True),\n",
       " ((146, 11, (3, '1'), 1)\n",
       "  site index: 3,\n",
       "  0.07848280668258667,\n",
       "  True),\n",
       " ((38, 6, (1, 'mm2'), 0)\n",
       "  site index: 2,\n",
       "  0.07869195938110352,\n",
       "  True)]"
      ]
     },
     "execution_count": 18,
     "metadata": {},
     "output_type": "execute_result"
    }
   ],
   "source": [
    "rs.get_recommendation_for_ion('V', top_n=200, only_new=True)"
   ]
  },
  {
   "cell_type": "markdown",
   "metadata": {},
   "source": [
    "### 3.2. Recommending sites for Copper that have square co-planar local geometry  "
   ]
  },
  {
   "cell_type": "markdown",
   "metadata": {},
   "source": [
    "We can restrict the AM site recommendations to ions by specifying the local geometry of the sites to be recommended. The names of the local geometries environments are set accordingly to the CrystalNN fingerprint dimensions. They can be accessed through the `OccupationData` attribute `cnn_labels_dict`."
   ]
  },
  {
   "cell_type": "code",
   "execution_count": 20,
   "metadata": {},
   "outputs": [
    {
     "data": {
      "text/plain": [
       "['wt CN_1',\n",
       " 'sgl_bd CN_1',\n",
       " 'wt CN_2',\n",
       " 'L-shaped CN_2',\n",
       " 'water-like CN_2',\n",
       " 'bent 120 degrees CN_2',\n",
       " 'bent 150 degrees CN_2',\n",
       " 'linear CN_2',\n",
       " 'wt CN_3',\n",
       " 'trigonal planar CN_3',\n",
       " 'trigonal non-coplanar CN_3',\n",
       " 'T-shaped CN_3',\n",
       " 'wt CN_4',\n",
       " 'square co-planar CN_4',\n",
       " 'tetrahedral CN_4',\n",
       " 'rectangular see-saw-like CN_4',\n",
       " 'see-saw-like CN_4',\n",
       " 'trigonal pyramidal CN_4',\n",
       " 'wt CN_5',\n",
       " 'pentagonal planar CN_5',\n",
       " 'square pyramidal CN_5',\n",
       " 'trigonal bipyramidal CN_5',\n",
       " 'wt CN_6',\n",
       " 'hexagonal planar CN_6',\n",
       " 'octahedral CN_6',\n",
       " 'pentagonal pyramidal CN_6',\n",
       " 'wt CN_7',\n",
       " 'hexagonal pyramidal CN_7',\n",
       " 'pentagonal bipyramidal CN_7',\n",
       " 'wt CN_8',\n",
       " 'body-centered cubic CN_8',\n",
       " 'hexagonal bipyramidal CN_8',\n",
       " 'wt CN_9',\n",
       " 'q2 CN_9',\n",
       " 'q4 CN_9',\n",
       " 'q6 CN_9',\n",
       " 'wt CN_10',\n",
       " 'q2 CN_10',\n",
       " 'q4 CN_10',\n",
       " 'q6 CN_10',\n",
       " 'wt CN_11',\n",
       " 'q2 CN_11',\n",
       " 'q4 CN_11',\n",
       " 'q6 CN_11',\n",
       " 'wt CN_12',\n",
       " 'cuboctahedral CN_12',\n",
       " 'q2 CN_12',\n",
       " 'q4 CN_12',\n",
       " 'q6 CN_12',\n",
       " 'wt CN_13',\n",
       " 'wt CN_14',\n",
       " 'wt CN_15',\n",
       " 'wt CN_16',\n",
       " 'wt CN_17',\n",
       " 'wt CN_18',\n",
       " 'wt CN_19',\n",
       " 'wt CN_20',\n",
       " 'wt CN_21',\n",
       " 'wt CN_22',\n",
       " 'wt CN_23',\n",
       " 'wt CN_24']"
      ]
     },
     "execution_count": 20,
     "metadata": {},
     "output_type": "execute_result"
    }
   ],
   "source": [
    "list(occupation_data.cnn_labels_dict.keys())"
   ]
  },
  {
   "cell_type": "markdown",
   "metadata": {},
   "source": [
    "Let's say that we want new AM sites recommended to Cu, but with a square co-planar local geometry. We define a minimum score of 0.8 for the given geometry."
   ]
  },
  {
   "cell_type": "code",
   "execution_count": 21,
   "metadata": {},
   "outputs": [
    {
     "data": {
      "text/plain": [
       "[((136, 14, (2, 'mmm'), 0)\n",
       "  site index: 8,\n",
       "  0.14990448951721191,\n",
       "  True),\n",
       " ((12, 12, (1, '2/m'), 7)\n",
       "  site index: 11,\n",
       "  0.1651182770729065,\n",
       "  True),\n",
       " ((12, 12, (1, '2/m'), 7)\n",
       "  site index: 11,\n",
       "  0.1692206859588623,\n",
       "  True),\n",
       " ((127, 18, (2, 'mmm'), 1)\n",
       "  site index: 16,\n",
       "  0.17258787155151367,\n",
       "  True)]"
      ]
     },
     "execution_count": 21,
     "metadata": {},
     "output_type": "execute_result"
    }
   ],
   "source": [
    "Cu_recs = rs.get_recommendation_for_ion('Cu', local_geometry=('square co-planar CN_4', 0.8), only_new=True)\n",
    "Cu_recs"
   ]
  },
  {
   "cell_type": "markdown",
   "metadata": {},
   "source": [
    "To get the structure of the first AMSite recommended (site index 8) and the equivalent sites"
   ]
  },
  {
   "cell_type": "code",
   "execution_count": 22,
   "metadata": {},
   "outputs": [
    {
     "data": {
      "text/plain": [
       "[0, 0, 2, 2, 0, 0, 2, 2, 8, 8, 10, 10, 10, 10]"
      ]
     },
     "execution_count": 22,
     "metadata": {},
     "output_type": "execute_result"
    }
   ],
   "source": [
    "Cu_AM_label = Cu_recs[0][0].AM_label\n",
    "Cu_AM = occupation_data.get_AnonymousMotif(Cu_AM_label)\n",
    "Cu_AM_example_structure = Cu_AM.example_structure\n",
    "Cu_AM_equivalent_sites_index = Cu_AM.equivalent_sites_indexes\n",
    "Cu_AM_equivalent_sites_index"
   ]
  },
  {
   "cell_type": "code",
   "execution_count": 23,
   "metadata": {},
   "outputs": [
    {
     "data": {
      "text/plain": [
       "Structure Summary\n",
       "Lattice\n",
       "    abc : 5.826722 5.826722 8.265963\n",
       " angles : 90.0 90.0 90.0\n",
       " volume : 280.6351412913347\n",
       "      A : 5.826722 0.0 0.0\n",
       "      B : 0.0 5.826722 0.0\n",
       "      C : 0.0 0.0 8.265963\n",
       "    pbc : True True True\n",
       "PeriodicSite: C (1.178, 1.178, 0.0) [0.2021, 0.2021, 0.0]\n",
       "PeriodicSite: C (4.649, 4.649, 0.0) [0.7979, 0.7979, 0.0]\n",
       "PeriodicSite: C (0.0, 0.0, 1.666) [0.0, 0.0, 0.2015]\n",
       "PeriodicSite: C (2.913, 2.913, 2.467) [0.5, 0.5, 0.2985]\n",
       "PeriodicSite: C (4.091, 1.736, 4.133) [0.7021, 0.2979, 0.5]\n",
       "PeriodicSite: C (1.736, 4.091, 4.133) [0.2979, 0.7021, 0.5]\n",
       "PeriodicSite: C (2.913, 2.913, 5.799) [0.5, 0.5, 0.7015]\n",
       "PeriodicSite: C (0.0, 0.0, 6.6) [0.0, 0.0, 0.7985]\n",
       "PeriodicSite: C (0.0, 0.0, 0.0) [0.0, 0.0, 0.0]\n",
       "PeriodicSite: C (2.913, 2.913, 4.133) [0.5, 0.5, 0.5]\n",
       "PeriodicSite: C (2.913, 0.0, 2.066) [0.5, 0.0, 0.25]\n",
       "PeriodicSite: C (0.0, 2.913, 2.066) [0.0, 0.5, 0.25]\n",
       "PeriodicSite: C (2.913, 0.0, 6.199) [0.5, 0.0, 0.75]\n",
       "PeriodicSite: C (0.0, 2.913, 6.199) [0.0, 0.5, 0.75]"
      ]
     },
     "execution_count": 23,
     "metadata": {},
     "output_type": "execute_result"
    }
   ],
   "source": [
    "Cu_AM_example_structure"
   ]
  },
  {
   "cell_type": "markdown",
   "metadata": {},
   "source": [
    "We also can have acces to the OQMD ids that present this AM."
   ]
  },
  {
   "cell_type": "code",
   "execution_count": 24,
   "metadata": {},
   "outputs": [
    {
     "data": {
      "text/plain": [
       "[12415,\n",
       " 12416,\n",
       " 12881,\n",
       " 12882,\n",
       " 22733,\n",
       " 1347628,\n",
       " 1347810,\n",
       " 1348154,\n",
       " 1363514,\n",
       " 1382773,\n",
       " 1752433,\n",
       " 1752436]"
      ]
     },
     "execution_count": 24,
     "metadata": {},
     "output_type": "execute_result"
    }
   ],
   "source": [
    "Cu_AM.entries_ids"
   ]
  },
  {
   "cell_type": "markdown",
   "metadata": {},
   "source": [
    "Accessing the [first entry with id 12415](https://oqmd.org/materials/entry/12415), we can visualize an example of the AM's crystal structure and the co-planar geometry sites that were recommended to Cu ion to occupy.\n",
    "\n",
    "<img src=\"etc/Rb2H4Pt.png\" alt=\"Crystal structure of Rb2H4Pt\" class=\"center\" width=\"65%\" height=\"auto\">"
   ]
  },
  {
   "cell_type": "markdown",
   "metadata": {},
   "source": [
    "### 3.3. Recommending new compounds on the In-Co binary system"
   ]
  },
  {
   "cell_type": "markdown",
   "metadata": {},
   "source": [
    "Furthermore, with the method `get_recommendation_for_chemsys()` we can also explore user-defined chemical systems. Let us demonstrate that with the [binary system In-Co](https://www.oqmd.org/materials/composition/Co-In). This system has 2 known experimental phases: In<sub>3</sub>Co (P2/mnm) and In<sub>2</sub>Co (Fddd)."
   ]
  },
  {
   "cell_type": "code",
   "execution_count": 25,
   "metadata": {},
   "outputs": [],
   "source": [
    "InCo_recs = rs.get_recommendation_for_chemsys(elements=['In','Co'], top_n= 700)"
   ]
  },
  {
   "cell_type": "markdown",
   "metadata": {},
   "source": [
    "Below we print the recommendations with a sum of the AMSite-atom distances smaller than 0.4. This results in 7 recommendations, two of which correspond to stoichiometries not present in OQMD: In<sub>9</sub>Co<sub>2</sub> with space group P2/m (10), and In<sub>10</sub>Co with space group P4/mmm (123). Interestingly, these two new stoichiometries have a small \"sum of the AMSite-atom distances\" which suggests they might be DFT-stable. "
   ]
  },
  {
   "cell_type": "code",
   "execution_count": 26,
   "metadata": {},
   "outputs": [
    {
     "data": {
      "text/html": [
       "<div>\n",
       "<style scoped>\n",
       "    .dataframe tbody tr th:only-of-type {\n",
       "        vertical-align: middle;\n",
       "    }\n",
       "\n",
       "    .dataframe tbody tr th {\n",
       "        vertical-align: top;\n",
       "    }\n",
       "\n",
       "    .dataframe thead th {\n",
       "        text-align: right;\n",
       "    }\n",
       "</style>\n",
       "<table border=\"1\" class=\"dataframe\">\n",
       "  <thead>\n",
       "    <tr style=\"text-align: right;\">\n",
       "      <th></th>\n",
       "      <th>formula</th>\n",
       "      <th>AM</th>\n",
       "      <th>AM_label</th>\n",
       "      <th>atom_AMsites</th>\n",
       "      <th>oxidation_states</th>\n",
       "      <th>sum_SiteAtom_dists</th>\n",
       "      <th>novelty_fraction</th>\n",
       "    </tr>\n",
       "  </thead>\n",
       "  <tbody>\n",
       "    <tr>\n",
       "      <th>4</th>\n",
       "      <td>In9Co2</td>\n",
       "      <td>(10, 11, [(1, '2/m'), (2, 'm'), (2, 'm'), (2, ...</td>\n",
       "      <td>10_11_1(2/m)_2(m)_2(m)_2(m)_2(m)_2(m)_0</td>\n",
       "      <td>[In, Co, In, In, In, In]</td>\n",
       "      <td>[]</td>\n",
       "      <td>0.103411</td>\n",
       "      <td>0.0</td>\n",
       "    </tr>\n",
       "    <tr>\n",
       "      <th>5</th>\n",
       "      <td>In3Co</td>\n",
       "      <td>(136, 16, [(4, '2/m'), (4, 'm2m'), (8, 'm')], 0)</td>\n",
       "      <td>136_16_4(2/m)_4(m2m)_8(m)_0</td>\n",
       "      <td>[In, Co, In]</td>\n",
       "      <td>[]</td>\n",
       "      <td>0.113033</td>\n",
       "      <td>0.0</td>\n",
       "    </tr>\n",
       "    <tr>\n",
       "      <th>7</th>\n",
       "      <td>In10Co</td>\n",
       "      <td>(123, 11, [(1, '4/mmm'), (2, 'mmm'), (2, '4mm'...</td>\n",
       "      <td>123_11_1(4/mmm)_2(mmm)_2(4mm)_2(4mm)_4(2mm)_0</td>\n",
       "      <td>[Co, In, In, In, In]</td>\n",
       "      <td>[]</td>\n",
       "      <td>0.133173</td>\n",
       "      <td>0.0</td>\n",
       "    </tr>\n",
       "    <tr>\n",
       "      <th>2</th>\n",
       "      <td>InCo</td>\n",
       "      <td>(57, 8, [(4, 'm'), (4, 'm')], 2)</td>\n",
       "      <td>57_8_4(m)_4(m)_2</td>\n",
       "      <td>[Co, In]</td>\n",
       "      <td>[]</td>\n",
       "      <td>0.223490</td>\n",
       "      <td>1.0</td>\n",
       "    </tr>\n",
       "    <tr>\n",
       "      <th>0</th>\n",
       "      <td>In3Co2</td>\n",
       "      <td>(164, 5, [(1, '-3m'), (2, '3m'), (2, '3m')], 3)</td>\n",
       "      <td>164_5_1(-3m)_2(3m)_2(3m)_3</td>\n",
       "      <td>[In, Co, In]</td>\n",
       "      <td>[]</td>\n",
       "      <td>0.232919</td>\n",
       "      <td>0.0</td>\n",
       "    </tr>\n",
       "    <tr>\n",
       "      <th>8</th>\n",
       "      <td>In4Co</td>\n",
       "      <td>(229, 5, [(1, 'm-3m'), (4, '-3m')], 0)</td>\n",
       "      <td>229_5_1(m-3m)_4(-3m)_0</td>\n",
       "      <td>[Co, In]</td>\n",
       "      <td>[]</td>\n",
       "      <td>0.291753</td>\n",
       "      <td>1.0</td>\n",
       "    </tr>\n",
       "    <tr>\n",
       "      <th>9</th>\n",
       "      <td>In2Co</td>\n",
       "      <td>(123, 3, [(1, '4/mmm'), (2, '4mm')], 0)</td>\n",
       "      <td>123_3_1(4/mmm)_2(4mm)_0</td>\n",
       "      <td>[Co, In]</td>\n",
       "      <td>[]</td>\n",
       "      <td>0.299549</td>\n",
       "      <td>1.0</td>\n",
       "    </tr>\n",
       "  </tbody>\n",
       "</table>\n",
       "</div>"
      ],
      "text/plain": [
       "  formula                                                 AM   \n",
       "4  In9Co2  (10, 11, [(1, '2/m'), (2, 'm'), (2, 'm'), (2, ...  \\\n",
       "5   In3Co   (136, 16, [(4, '2/m'), (4, 'm2m'), (8, 'm')], 0)   \n",
       "7  In10Co  (123, 11, [(1, '4/mmm'), (2, 'mmm'), (2, '4mm'...   \n",
       "2    InCo                   (57, 8, [(4, 'm'), (4, 'm')], 2)   \n",
       "0  In3Co2    (164, 5, [(1, '-3m'), (2, '3m'), (2, '3m')], 3)   \n",
       "8   In4Co             (229, 5, [(1, 'm-3m'), (4, '-3m')], 0)   \n",
       "9   In2Co            (123, 3, [(1, '4/mmm'), (2, '4mm')], 0)   \n",
       "\n",
       "                                        AM_label              atom_AMsites   \n",
       "4        10_11_1(2/m)_2(m)_2(m)_2(m)_2(m)_2(m)_0  [In, Co, In, In, In, In]  \\\n",
       "5                    136_16_4(2/m)_4(m2m)_8(m)_0              [In, Co, In]   \n",
       "7  123_11_1(4/mmm)_2(mmm)_2(4mm)_2(4mm)_4(2mm)_0      [Co, In, In, In, In]   \n",
       "2                               57_8_4(m)_4(m)_2                  [Co, In]   \n",
       "0                     164_5_1(-3m)_2(3m)_2(3m)_3              [In, Co, In]   \n",
       "8                         229_5_1(m-3m)_4(-3m)_0                  [Co, In]   \n",
       "9                        123_3_1(4/mmm)_2(4mm)_0                  [Co, In]   \n",
       "\n",
       "  oxidation_states  sum_SiteAtom_dists  novelty_fraction  \n",
       "4               []            0.103411               0.0  \n",
       "5               []            0.113033               0.0  \n",
       "7               []            0.133173               0.0  \n",
       "2               []            0.223490               1.0  \n",
       "0               []            0.232919               0.0  \n",
       "8               []            0.291753               1.0  \n",
       "9               []            0.299549               1.0  "
      ]
     },
     "execution_count": 26,
     "metadata": {},
     "output_type": "execute_result"
    }
   ],
   "source": [
    "df = DataFrame(InCo_recs)\n",
    "df[ df.sum_SiteAtom_dists<0.4 ].sort_values(by=['sum_SiteAtom_dists'])"
   ]
  }
 ],
 "metadata": {
  "kernelspec": {
   "display_name": "Python 3 (ipykernel)",
   "language": "python",
   "name": "python3"
  },
  "language_info": {
   "codemirror_mode": {
    "name": "ipython",
    "version": 3
   },
   "file_extension": ".py",
   "mimetype": "text/x-python",
   "name": "python",
   "nbconvert_exporter": "python",
   "pygments_lexer": "ipython3",
   "version": "3.9.12"
  }
 },
 "nbformat": 4,
 "nbformat_minor": 4
}
