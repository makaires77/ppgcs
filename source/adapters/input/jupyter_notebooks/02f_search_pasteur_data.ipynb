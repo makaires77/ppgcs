{
 "cells": [
  {
   "cell_type": "markdown",
   "metadata": {},
   "source": [
    "# <center>Delinear oportunidades colaboração</center>\n",
    "### <center>Pasteur(Fr) & Fiocruz(Ce)</center>"
   ]
  },
  {
   "cell_type": "code",
   "execution_count": 1,
   "metadata": {},
   "outputs": [
    {
     "name": "stdout",
     "output_type": "stream",
     "text": [
      " Caminho base do repositório: c:\\Users\\marcos.aires\\ppgcs\n",
      "Arquivos de entrada de dados: ['dict_list_complete.json', 'dict_list_discents.json', 'dict_list_docents.json', 'dict_list_temp.json']\n"
     ]
    }
   ],
   "source": [
    "## Configurar opções de exibição do pandas para melhor visualizar os dados\n",
    "from pathlib import Path\n",
    "from getpass import getpass\n",
    "from datetime import datetime\n",
    "from IPython.display import clear_output\n",
    "import pandas as pd, os, re, sys, time, json, subprocess\n",
    "pd.set_option('display.max_colwidth', None)\n",
    "pd.set_option('colheader_justify', 'left')\n",
    "pd.set_option('display.max_rows', 600)\n",
    "\n",
    "def find_repo_root(path='.', depth=10):\n",
    "    ''' \n",
    "    Busca o arquivo .git e retorna string com a pasta raiz do repositório\n",
    "    '''\n",
    "    # Prevent infinite recursion by limiting depth\n",
    "    if depth < 0:\n",
    "        return None\n",
    "    path = Path(path).absolute()\n",
    "    if (path / '.git').is_dir():\n",
    "        return path\n",
    "    return find_repo_root(path.parent, depth-1)\n",
    "\n",
    "delay = 10\n",
    "\n",
    "## Definir a pasta de base do repositório local\n",
    "base_repo_dir = find_repo_root()\n",
    "\n",
    "## Sempre construir os caminhos usando os.path.join para compatibilidade WxL\n",
    "folder_utils = os.path.join(base_repo_dir, 'utils')\n",
    "folder_domain = os.path.join(base_repo_dir, 'source', 'domain')\n",
    "folder_data_input = os.path.join(base_repo_dir, '_data', 'in_csv')\n",
    "folder_data_output = os.path.join(base_repo_dir, '_data', 'out_json')\n",
    "\n",
    "## Adicionar pastas locais ao sys.path para importar pacotes criados localmente\n",
    "sys.path.append(folder_utils)\n",
    "sys.path.append(folder_domain)\n",
    "from chromedriver_manager import ChromeDriverManager\n",
    "from json_fle_manager import JSONFileManager as jfm\n",
    "from scraper_pasteur import PasteurScraper\n",
    "from scraper_fiocruz_ceara import FiocruzCearaScraper\n",
    "from lattes_scrapper import LattesScraper, SoupParser, DictToHDF5, attribute_to_be_non_empty\n",
    "# from environment_setup import EnvironmentSetup\n",
    "# from lattes_html_parser import HTMLParser\n",
    "\n",
    "print(f\" Caminho base do repositório: {base_repo_dir}\")\n",
    "print(f\"Arquivos de entrada de dados: {jfm.list_json_files(folder_data_input)}\")"
   ]
  },
  {
   "cell_type": "code",
   "execution_count": 2,
   "metadata": {},
   "outputs": [
    {
     "name": "stdout",
     "output_type": "stream",
     "text": [
      "Versões 124 Chrome e 124 Chromedriver estão compatíveis\n"
     ]
    }
   ],
   "source": [
    "# Cria instância da classe ChromeDriverManager e verifica compatibilidade entre versões do Chrome e Chromedriver\n",
    "manager = ChromeDriverManager()\n",
    "manager.main()"
   ]
  },
  {
   "cell_type": "markdown",
   "metadata": {},
   "source": [
    "# Dados Fiocruz Ceará: \n",
    "\n",
    "- Áreas \n",
    "- Linhas \n",
    "- Pesquisadores"
   ]
  },
  {
   "cell_type": "markdown",
   "metadata": {},
   "source": [
    "### Extrair linhas de pesquisa e pesquisadores de cada área"
   ]
  },
  {
   "cell_type": "code",
   "execution_count": 3,
   "metadata": {},
   "outputs": [
    {
     "name": "stdout",
     "output_type": "stream",
     "text": [
      "URL pesquisada:\n",
      "https://ceara.fiocruz.br/portal/index.php/pesquisa/saude-da-familia/pesquisadores/\n",
      "URL pesquisada:\n",
      "https://ceara.fiocruz.br/portal/index.php/pesquisa/saude-e-ambiente/pesquisadores/\n",
      "URL pesquisada:\n",
      "https://ceara.fiocruz.br/portal/index.php/pesquisa/biotecnologia/pesquisadores/\n",
      "URL pesquisada:\n",
      "https://ceara.fiocruz.br/portal/index.php/pesquisa/saude-digital/pesquisadores-em-saude-digital/\n"
     ]
    },
    {
     "data": {
      "text/plain": [
       "[{'area_name': 'Saúde da Família',\n",
       "  'area_desc': 'As pesquisas da área avaliam a Atenção Primária à Saúde. São estudos que investigam a atuação das equipes da Estratégia Saúde da Família em diferentes cenários e/ou processos de trabalho e/ou cuidado, em distintos ciclos de vida da população. As temáticas de pesquisa incluem o ensino e as práticas dos profissionais da saúde, saúde mental, condições crônicas, saúde bucal e saúde digital.',\n",
       "  'area_plats': ['As diversas iniciativas que no momento caracterizam a atuação da Área de Saúde da Família na Fiocruz Ceará consolidam um processo de construção participativo, dinâmico e voltado a garantir respostas aos desafios de fortalecimento e qualificação dessa estratégia que, em virtude de sua magnitude, impõe à sociedade e governos, gigantesco esforços ao efetivo cumprimento de seu propósito. Entende-se pela sua magnitude: a cobertura de mais de 159 milhões de pessoas; mais de 1 milhão de postos de trabalho diretos; cobertura de quase todos os municípios do Brasil; e a complexidade de seu objeto, organização da atenção primária em saúde e coordenadora do cuidado nas redes de atenção à saúde.',\n",
       "   'A Fiocruz Ceará tem como um dos seus principais objetivos institucionais, fortalecer e qualificar o ensino, a pesquisa e a cooperação nacional e internacional na Estratégia Saúde da Família. Dentre as iniciativas de destaque, tem-se a participação nas Rede Nordeste de Formação em Saúde da Família (RENASF) e Rede PROFSAÚDE.',\n",
       "   'A RENASF reúne instituições de ensino superior, escolas técnicas, conselhos de saúde e secretarias estaduais e municipais de Educação, Saúde e Ciência e Tecnologia. Oferece o Programa de Pós-graduação em Saúde da Família (Mestrado e Doutorado), dedicado exclusivamente aos profissionais de diferentes formações que atuam na Atenção Primária à Saúde. O curso ocorre de forma descentralizada, ou seja, envolve a participação de nove instituições de ensino que compõem a rede, distribuídas em cinco estados do Nordeste brasileiro. ',\n",
       "   'A Rede PROFSAÚDE constitui outra iniciativa de formação importante que a Fiocruz Ceará participa, através do Mestrado Profissional em Saúde da Família (PROFSAÚDE). Este Programa de Pós Graduação é constituído por 22 instituições públicas de ensino superior, abrangendo 17 Estados brasileiros, nas cinco regiões do Brasil, desenvolvendo ensino à distância, tendo como proponente a Associação Brasileira de Saúde Coletiva (ABRASCO), e hoje é liderada pela Fundação Oswaldo Cruz.',\n",
       "   'As pesquisas do grupo avaliam a Atenção Primária à Saúde. São estudos que investigam a atuação das equipes da Estratégia Saúde da Família em diferentes cenários e/ou processos de trabalho e/ou cuidado, em distintos ciclos de vida da população. As temáticas de pesquisa incluem o ensino e as práticas dos profissionais da saúde, saúde mental, condições crônicas, saúde bucal e saúde digital.',\n",
       "   'Para mitigar os efeitos da pandemia de COVID-19, tem-se desenvolvido estudos de análise da atenção, cuidado, promoção e vigilância em saúde nos territórios das equipes da ESF.',\n",
       "   'Outra frente de atuação no campo da Saúde da Família está inserida no projeto de “municípios-laboratório”. A ideia é realizar pesquisas aplicadas e implantar novos métodos, processos e tecnologias no campo da saúde. Esta ação também estimula a divulgação e o compartilhamento de experiências bem-sucedidas, fazendo com que estas sejam replicadas em outras regiões.'],\n",
       "  'area_pesquisadores': ['Anya Pimentel Gomes Fernandes Vieira Meyer',\n",
       "   'Ivana Cristina de Holanda Cunha Barreto',\n",
       "   'Luiz Odorico Monteiro de Andrade',\n",
       "   'Márcio Flávio Moura de Araújo',\n",
       "   'Maximiliano Loiola Ponte de Souza',\n",
       "   'Roberto Wagner Júnior Freire de Freitas',\n",
       "   'Sharmênia de Araújo Soares Nuto',\n",
       "   'Vanira Matos Pessoa'],\n",
       "  'area_lines': ['- Doenças Crônicas e não-transmissíveis, medicina regenerativa',\n",
       "   '- Pesquisa Clínica e Ensaios Clínicos',\n",
       "   '- Saúde e Gênero, Saúde do Idoso',\n",
       "   '- Saúde Perinatal, da Criança e do Adolescente',\n",
       "   '- Epidemiologia, métodos estatísticos e quantitativos',\n",
       "   '- Políticas Públicas, Planejamento e Gestão em Saúde',\n",
       "   '- Gestão de Ciência e Tecnologia em Saúde',\n",
       "   '- Promoção da Saúde',\n",
       "   '- Avaliação e Economia da Saúde',\n",
       "   '- Sociologia, Antropologia, Filosofia e Saúde, Cultura e Sociedade',\n",
       "   '- Educação em Ciências e Saúde',\n",
       "   '- Políticas Públicas para Saúde em Territórios',\n",
       "   '- Tecnologia de informação e comunicação']},\n",
       " {'area_name': 'Saúde e Ambiente',\n",
       "  'area_desc': 'A área começou a ser estruturada no final de 2014 e, desde então, vem desenvolvendo projetos de pesquisa, educação e cooperação com foco nas populações do campo, da floresta, das águas e de áreas urbanas vulneráveis. Os projetos são desenvolvidos em parceria com diversas unidades da Fiocruz, universidades, setores do Sistema Único de Saúde, movimentos populares, entidades e organizações da sociedade civil.',\n",
       "  'area_plats': ['A área de Saúde e Ambiente da Fiocruz Ceará começou a ser estruturada no final de 2014, e desde então, vem desenvolvendo projetos de pesquisa, educação e cooperação com foco nas populações do campo, da floresta, das águas e de áreas urbanas vulneráveis.',\n",
       "   'Os projetos são desenvolvidos por uma equipe formada por quatro pesquisadores doutores, mestres bolsistas de pesquisa e estagiários em parceria com a área de Saúde da Família da Fiocruz Ceará, diversas unidades do sistema Fiocruz, instituições acadêmicas do estado do Ceará e de outros estados, setores do Sistema Único de Saúde, movimentos populares, entidades e organizações da sociedade civil.',\n",
       "   'Com base em referenciais críticos e dialógicos e na perspectiva da produção compartilhada do conhecimento, a área utiliza metodologias de pesquisa participativas nos diversos projetos desenvolvidos no âmbito das linhas de pesquisa sobre: Vigilância Popular da Saúde; Saúde, agroecologia e convivência com o semiárido; Impactos dos grandes empreendimentos na saúde; Atenção primária em saúde, ambiente e trabalho; Saúde única/Saúde planetária (One Health/Global Health); Metodologias de pesquisa crítico-dialógicas e participativas; Populações do campo, floresta, águas e áreas urbanas vulneráveis; e Exposições ambientais e avaliação dos efeitos no ciclo de vida e na saúde humana e animal.',\n",
       "   'A área de Saúde e Ambiente tem representação no Conselho Gestor da Fiocruz Ceará e, atualmente, é coordenada pela pesquisadora Ana Cláudia de Araújo Teixeira e tem como suplente o pesquisador Fernando Ferreira Carneiro.'],\n",
       "  'area_pesquisadores': ['Ana Cláudia de Araújo Teixeira',\n",
       "   'Fernando Ferreira Carneiro',\n",
       "   'José Luís Passos Cordeiro',\n",
       "   'Margareth Borges Coutinho Gallo'],\n",
       "  'area_lines': ['- Vigilância Popular da Saúde, Ambiente e Trabalho',\n",
       "   '- Saúde, Agroecologia e Convivência com o Semiárido',\n",
       "   '- Impactos dos grandes empreendimentos na saúde',\n",
       "   '- Atenção Primária em Saúde, Ambiente e Trabalho',\n",
       "   '- Saúde Única/Saúde Planetária (One Health/Global Health)',\n",
       "   '- Metodologias de pesquisa crítico-dialógicas e participativas',\n",
       "   '- Populações do campo, floresta, águas e áreas urbanas vulneráveis',\n",
       "   '- Exposições ambientais e avaliação dos efeitos no ciclo de vida e na saúde humana e animal']},\n",
       " {'area_name': 'Biotecnologia',\n",
       "  'area_desc': 'Aplicar o conhecimento obtido na bancada do laboratório e levá-lo ao dia a dia das pessoas por meio do desenvolvimento de produtos e soluções inovadoras na área de saúde é um dos grandes desafios da Ciência Moderna, e essa abordagem é chamada de Pesquisa Translacional. Trabalhar de forma integrada com universidades, institutos de pesquisa, governo e empresas favorece o desenvolvimento da ciência, tecnologia e inovação e contribui para a melhoria da qualidade de vida e o crescimento socioeconômico das populações.',\n",
       "  'area_plats': ['Aplicar o conhecimento obtido na bancada do laboratório e levá-lo ao dia a dia das pessoas por meio do desenvolvimento de produtos e soluções inovadoras na área de saúde é um dos grandes desafios da Ciência Moderna, e essa abordagem é chamada de Pesquisa Translacional. Trabalhar de forma integrada com universidades, institutos de pesquisa, governo e empresas favorece o desenvolvimento da ciência, tecnologia e inovação e contribui para a melhoria da qualidade de vida e o crescimento socioeconômico das populações. Com esse objetivo, a Fiocruz Ceará tem atuado no desenvolvimento de diversas pesquisas, divididas em Plataformas Tecnológicas e de Desenvolvimento, que visam criar soluções para a saúde.   ',\n",
       "   'Plataforma de Bioinformática',\n",
       "   'As atividades do grupo de bioinformática da Fiocruz-CE contemplam as áreas de PD&I e almejam investigar as propriedades estruturais e termodinâmicas de proteínas com aplicações terapêuticas e a partir daí, aprofundar o conhecimento da relação entre a estrutura e a função dessas proteínas. O objetivo é engendrar in silico, ou seja, no computador, novos fármacos e biofármacos que serão testados in vitro (na bancada do laboratório), avaliando as interações proteína-proteína (antígeno-anticorpo), proteína-fármaco, proteína-membrana celular entre outros. Com isso, facilita-se as atividades laboratoriais e otimizam-se os custos de trabalho experimental..',\n",
       "   'Plataforma de Anticorpos, Nanocorpos e Enzimas',\n",
       "   'A Plataforma atua na área de engenharia de proteínas para aplicação terapêutica e diagnóstico de doenças. Após as análises de bioinformática, técnicas de biologia molecular e evolução dirigida são utilizadas para assegurar que proteínas possam ser usadas como biofármacos, seja por melhoria incremental dos medicamentos comerciais (biobetters) ou pela proposição de novas moléculas, incluindo também aplicações na área de terapia celular. O foco de PD&I tem sido no desenvolvimento de novos tratamentos para diversos tipos de câncer, doenças neurodegenerativas, infecciosas, envenenamento por animais peçonhentos, entre outros.',\n",
       "   'Plataforma de Nanotecnologia',\n",
       "   'A Plataforma atua na fabricação, caracterização e avaliação de partículas em escala micro e nanométrica, permitindo o desenvolvimento de tecnologias para novos medicamentos, biobetters e também vacinas. É possível aplicar a nanotecnologia em diversas áreas do conhecimento. Na saúde, estudos buscam projetar, desenvolver e testar complexos micro e nanoestruturados biocompatíveis para o tratamento experimental do câncer, doenças negligenciadas, infecções virais e aplicação em cosméticos.',\n",
       "   'Plataforma de Epidemiologia Molecular, Imunologia de Patógenos e de Competências Analíticas',\n",
       "   'A Plataforma atua estrategicamente em pesquisas translacionais de impacto para o SUS, através de abordagem do tipo da bancada à beira do leito (bench to bed). A Plataforma desenvolve investigações sorológicas, celulares, moleculares e de vigilância epidemiológica de doenças crônicas e infecciosas emergentes/reemergentes, além do estabelecimento de competências analíticas para validação de processos, avaliação de produtos/insumos e fornecimento de serviços de referência moleculares, bioquímicos e sorológicos ao sistema de saúde. ',\n",
       "   'Plataforma de Proteômica',\n",
       "   'A Plataforma Proteômica da Fiocruz Ceará, em estruturação final, tem potencial de resposta para diversas demandas incorporando metodologias de identificação, caracterização e quantificação de proteínas ou biofármacos. Esta plataforma possibilita a avaliação da proteína intacta na forma nativa, não desnaturada, entre outras análises, assim como análise de H/L (cadeia pesada e cadeia leve) simultaneamente em anticorpos. Abordagens proteômicas (top-down e bottom-up) utilizando espectrometria de massas são desenvolvidas com intuito de avaliar amostras biológicas complexas, objetivando análise dos aspectos funcionais de proteínas, modificações pós-traducionais, interações proteína-proteína, avaliação de proteoformas e caracterização estrutural.'],\n",
       "  'area_pesquisadores': ['Anna Carolina Machado Marinho',\n",
       "   'Carla Freire Celedonio Fernandes',\n",
       "   'Clarissa Romero Teixeira',\n",
       "   'Fábio Miyajima',\n",
       "   'Fernando Braga Stehling Dias',\n",
       "   'Gilvan Pessoa Furtado',\n",
       "   'Jaime Ribeiro Filho',\n",
       "   'João Herminio Martins da Silva',\n",
       "   'Marcos Roberto Lourenzoni',\n",
       "   'Raphael Trevizani',\n",
       "   'Regis Bernardo Brandim Gomes',\n",
       "   'Roberto Nicolete'],\n",
       "  'area_lines': ['– Abordagem proteômica para avaliação e estudo de proteoformas;',\n",
       "   '– Expressão, purificação, caracterização estrutural e ensaios de estabilidade de nanocorpos e construtos relacionados para doenças tropicais negligenciadas;',\n",
       "   '– Avaliação e caracterização de biofármacos possibilitando alinhar o desenvolvimento de metodologias analíticas modernas (espectrometria de massas) com PD&I em produtos biológicos;',\n",
       "   '– Pesquisa e Desenvolvimento de biofármacos, anticorpos terapêuticos, com ênfase em nanocorpos;',\n",
       "   '– Pesquisa, Desenvolvimento de novas tecnologias para diagnósticos rápidos, miniaturizados, automação, moleculares, biossensores, nanotecnologias para diagnóstico;',\n",
       "   '– Bioprospecção e bioensaios;',\n",
       "   '– Imunopatogênese das Leishmanioses;',\n",
       "   '– Resposta imune contra a saliva de vetores artrópodes;',\n",
       "   '– Prospecção e caracterização de novos tratamentos e candidatos a vacina contra as Leishmanioses;',\n",
       "   '– Epidemiologia e Vigilância Molecular de Doenças Infecciosas;– Neurofarmacologia, Modelagem Molecular e Reposicionamento de Fármacos;– Microbioma e Saúde Humana.',\n",
       "   '– Eco-epidemiologia de vetores de doenças negligenciadas.',\n",
       "   '– Epidemiologia e vigilância molecular de doenças negligenciadas.',\n",
       "   '– Engenharia de anticorpos com ação terapêutica',\n",
       "   '– Novos candidatos a fármacos no tratamento de doenças inflamatórias e infecciosas.',\n",
       "   '– Assistência Farmacêutica e Uso racional de Medicamentos',\n",
       "   '– Etnofarmacologia e Educação em Saúde.',\n",
       "   '– Bioinformática estrutural; – Desenvolvimento de métodos de aprendizado de máquina para o desenvolvimento e otimização de biofármacos para COVID-19; – Caracterização computacional das interações de moléculas do sistema imune como suporte ao desenvolvimento de fragmentos scfv para a terapia de doenças associadas à migração e proliferação celulares; – Desenvolvimento de novos scFv antineoplásicos contra a programmed cell death 1 (PD-1) e seus ligantes PDL1 e PD-L2;',\n",
       "   '– Modelagem molecular, biologia estrutural, estudo de dinâmica e energética de macromoléculas;',\n",
       "   '– Bancos de dados e Big Data; computação distribuída;',\n",
       "   '– Algoritmos, simulação, classificação e inteligência artificial;',\n",
       "   '– Bioinformática e Biologia computacional, modelagem de Sistemas;',\n",
       "   '– Modelagem molecular, biologia estrutural;',\n",
       "   '– Imunoinformática;',\n",
       "   '– Algoritmos de otimização e inteligência artificial;',\n",
       "   '– Epidemiologia e Imunologia das leishmanioses (humana e canina);– Imunopatogênese das leishmanioses em modelos animais;– Resposta imune contra a saliva de mosquito em pacientes com arboviroses;– Efeito da (in)atividade física na resposta humoral durante o processo de imunização de vacina contra Covid-19.',\n",
       "   '– Imunofarmacologia / Formulação farmacêutica de medicamentos, incluindo nanoformulação.']},\n",
       " {'area_name': 'Saúde Digital',\n",
       "  'area_desc': 'Esta área temática encontra-se em desenvolvimento.',\n",
       "  'area_plats': ['Campo de conhecimento e práticas associado ao desenvolvimento e uso das tecnologias digitais para qualificar as ações, serviços e sistemas de saúde, incluindo pesquisas, desenvolvimento e inovação objetivando incluir os consumidores digitais, com uma maior variedade de dispositivos inteligentes e equipamentos conectados, bem como as tecnologias digitais para a saúde, como a Internet das Coisas (IoT), Inteligência Artificial, Big Data, Analytics e robótica.'],\n",
       "  'area_pesquisadores': ['Adriana Costa Bacelo',\n",
       "   'Galba Freire Moita',\n",
       "   'Ivana Cristina De Holanda Cunha Barrêto',\n",
       "   'Luiz Odorico Monteiro de Andrade'],\n",
       "  'area_lines': ['– Doenças infecciosas – Atenção integral em doenças infecciosas;– Gerontologia;– Inovação e Desenvolvimento Tecnológico em Gastronomia e Nutrição Clínica.',\n",
       "   '– Monitoramento do Horizonte Tecnológico;– Avaliação Econométrica de Tecnologias e Inovação;– Inteligência e Inovação em Gestão de Sistemas de Saúde;– Planejamento, Avaliação e Gestão de Serviços e Sistemas de Saúde.',\n",
       "   '– Modelos de Atenção à Saúde e Estratégia Saúde da Família;– Tecnologias para a Estratégia Saúde da Família;– Estratégias de Educação Permanente e desenvolvimento profissional em Sistemas de Saúde;– Ensino e Gestão do Conhecimento da Educação e do Trabalho na Saúde.',\n",
       "   '– Políticas de Saúde e Promoção da Saúde;– Intersetorialidade em Saúde;– Gestão de Sistemas e Serviços de Saúde;– Equidade;– Epidemiologia, Determinantes Sociais e Pesquisa Avaliativa;– Cenários, Estratégias e Ferramentas de Promoção da Saúde;– Sociedade, Cultura e Saúde;– Saúde Mental;– Sistemas Comparados de Saúde;– Tecnologias para o Desenvolvimento da Estratégia Saúde da Família;– Estratégias de Educação Permanente e Desenvolvimento Profissional em Sistemas de Saúde;– Gestão de Sistemas e Serviços de Saúde – MASF;– Estratégias de Educação Permanente e Desenvolvimento Profissional em Saúde da Família – MASF;– Desenvolvimento de modelos, metodologias e ferramentas de planejamento e gestão das atividades de C&T em saúde;– Formulação, implementação, monitoramento e avaliação de políticas e programas de saúde;– Tecnologia de informação e comunicação: Soluções Digitais;']}]"
      ]
     },
     "execution_count": 3,
     "metadata": {},
     "output_type": "execute_result"
    }
   ],
   "source": [
    "base_url = \"https://ceara.fiocruz.br/portal/\"\n",
    "scraper = FiocruzCearaScraper(base_url, find_repo_root())\n",
    "fioce_data = scraper.scrape_areas()\n",
    "fioce_data"
   ]
  },
  {
   "cell_type": "code",
   "execution_count": 4,
   "metadata": {},
   "outputs": [
    {
     "name": "stdout",
     "output_type": "stream",
     "text": [
      "['Anya Pimentel Gomes Fernandes Vieira Meyer', 'Ivana Cristina de Holanda Cunha Barreto', 'Luiz Odorico Monteiro de Andrade', 'Márcio Flávio Moura de Araújo', 'Maximiliano Loiola Ponte de Souza', 'Roberto Wagner Júnior Freire de Freitas', 'Sharmênia de Araújo Soares Nuto', 'Vanira Matos Pessoa']\n",
      "['Ana Cláudia de Araújo Teixeira', 'Fernando Ferreira Carneiro', 'José Luís Passos Cordeiro', 'Margareth Borges Coutinho Gallo']\n",
      "['Anna Carolina Machado Marinho', 'Carla Freire Celedonio Fernandes', 'Clarissa Romero Teixeira', 'Fábio Miyajima', 'Fernando Braga Stehling Dias', 'Gilvan Pessoa Furtado', 'Jaime Ribeiro Filho', 'João Herminio Martins da Silva', 'Marcos Roberto Lourenzoni', 'Raphael Trevizani', 'Regis Bernardo Brandim Gomes', 'Roberto Nicolete']\n",
      "['Adriana Costa Bacelo', 'Galba Freire Moita', 'Ivana Cristina De Holanda Cunha Barrêto', 'Luiz Odorico Monteiro de Andrade']\n"
     ]
    }
   ],
   "source": [
    "for i in fioce_data:\n",
    "    print(i.get('area_pesquisadores'))"
   ]
  },
  {
   "cell_type": "code",
   "execution_count": 5,
   "metadata": {},
   "outputs": [
    {
     "name": "stdout",
     "output_type": "stream",
     "text": [
      "['- Doenças Crônicas e não-transmissíveis, medicina regenerativa', '- Pesquisa Clínica e Ensaios Clínicos', '- Saúde e Gênero, Saúde do Idoso', '- Saúde Perinatal, da Criança e do Adolescente', '- Epidemiologia, métodos estatísticos e quantitativos', '- Políticas Públicas, Planejamento e Gestão em Saúde', '- Gestão de Ciência e Tecnologia em Saúde', '- Promoção da Saúde', '- Avaliação e Economia da Saúde', '- Sociologia, Antropologia, Filosofia e Saúde, Cultura e Sociedade', '- Educação em Ciências e Saúde', '- Políticas Públicas para Saúde em Territórios', '- Tecnologia de informação e comunicação']\n",
      "['- Vigilância Popular da Saúde, Ambiente e Trabalho', '- Saúde, Agroecologia e Convivência com o Semiárido', '- Impactos dos grandes empreendimentos na saúde', '- Atenção Primária em Saúde, Ambiente e Trabalho', '- Saúde Única/Saúde Planetária (One Health/Global Health)', '- Metodologias de pesquisa crítico-dialógicas e participativas', '- Populações do campo, floresta, águas e áreas urbanas vulneráveis', '- Exposições ambientais e avaliação dos efeitos no ciclo de vida e na saúde humana e animal']\n",
      "['– Abordagem proteômica para avaliação e estudo de proteoformas;', '– Expressão, purificação, caracterização estrutural e ensaios de estabilidade de nanocorpos e construtos relacionados para doenças tropicais negligenciadas;', '– Avaliação e caracterização de biofármacos possibilitando alinhar o desenvolvimento de metodologias analíticas modernas (espectrometria de massas) com PD&I em produtos biológicos;', '– Pesquisa e Desenvolvimento de biofármacos, anticorpos terapêuticos, com ênfase em nanocorpos;', '– Pesquisa, Desenvolvimento de novas tecnologias para diagnósticos rápidos, miniaturizados, automação, moleculares, biossensores, nanotecnologias para diagnóstico;', '– Bioprospecção e bioensaios;', '– Imunopatogênese das Leishmanioses;', '– Resposta imune contra a saliva de vetores artrópodes;', '– Prospecção e caracterização de novos tratamentos e candidatos a vacina contra as Leishmanioses;', '– Epidemiologia e Vigilância Molecular de Doenças Infecciosas;– Neurofarmacologia, Modelagem Molecular e Reposicionamento de Fármacos;– Microbioma e Saúde Humana.', '– Eco-epidemiologia de vetores de doenças negligenciadas.', '– Epidemiologia e vigilância molecular de doenças negligenciadas.', '– Engenharia de anticorpos com ação terapêutica', '– Novos candidatos a fármacos no tratamento de doenças inflamatórias e infecciosas.', '– Assistência Farmacêutica e Uso racional de Medicamentos', '– Etnofarmacologia e Educação em Saúde.', '– Bioinformática estrutural; – Desenvolvimento de métodos de aprendizado de máquina para o desenvolvimento e otimização de biofármacos para COVID-19; – Caracterização computacional das interações de moléculas do sistema imune como suporte ao desenvolvimento de fragmentos scfv para a terapia de doenças associadas à migração e proliferação celulares; – Desenvolvimento de novos scFv antineoplásicos contra a programmed cell death 1 (PD-1) e seus ligantes PDL1 e PD-L2;', '– Modelagem molecular, biologia estrutural, estudo de dinâmica e energética de macromoléculas;', '– Bancos de dados e Big Data; computação distribuída;', '– Algoritmos, simulação, classificação e inteligência artificial;', '– Bioinformática e Biologia computacional, modelagem de Sistemas;', '– Modelagem molecular, biologia estrutural;', '– Imunoinformática;', '– Algoritmos de otimização e inteligência artificial;', '– Epidemiologia e Imunologia das leishmanioses (humana e canina);– Imunopatogênese das leishmanioses em modelos animais;– Resposta imune contra a saliva de mosquito em pacientes com arboviroses;– Efeito da (in)atividade física na resposta humoral durante o processo de imunização de vacina contra Covid-19.', '– Imunofarmacologia / Formulação farmacêutica de medicamentos, incluindo nanoformulação.']\n",
      "['– Doenças infecciosas – Atenção integral em doenças infecciosas;– Gerontologia;– Inovação e Desenvolvimento Tecnológico em Gastronomia e Nutrição Clínica.', '– Monitoramento do Horizonte Tecnológico;– Avaliação Econométrica de Tecnologias e Inovação;– Inteligência e Inovação em Gestão de Sistemas de Saúde;– Planejamento, Avaliação e Gestão de Serviços e Sistemas de Saúde.', '– Modelos de Atenção à Saúde e Estratégia Saúde da Família;– Tecnologias para a Estratégia Saúde da Família;– Estratégias de Educação Permanente e desenvolvimento profissional em Sistemas de Saúde;– Ensino e Gestão do Conhecimento da Educação e do Trabalho na Saúde.', '– Políticas de Saúde e Promoção da Saúde;– Intersetorialidade em Saúde;– Gestão de Sistemas e Serviços de Saúde;– Equidade;– Epidemiologia, Determinantes Sociais e Pesquisa Avaliativa;– Cenários, Estratégias e Ferramentas de Promoção da Saúde;– Sociedade, Cultura e Saúde;– Saúde Mental;– Sistemas Comparados de Saúde;– Tecnologias para o Desenvolvimento da Estratégia Saúde da Família;– Estratégias de Educação Permanente e Desenvolvimento Profissional em Sistemas de Saúde;– Gestão de Sistemas e Serviços de Saúde – MASF;– Estratégias de Educação Permanente e Desenvolvimento Profissional em Saúde da Família – MASF;– Desenvolvimento de modelos, metodologias e ferramentas de planejamento e gestão das atividades de C&T em saúde;– Formulação, implementação, monitoramento e avaliação de políticas e programas de saúde;– Tecnologia de informação e comunicação: Soluções Digitais;']\n"
     ]
    }
   ],
   "source": [
    "for i in fioce_data:\n",
    "    print(i.get('area_lines'))"
   ]
  },
  {
   "cell_type": "markdown",
   "metadata": {},
   "source": [
    "### Extrair linhas de pesquisa de cada pesquisador"
   ]
  },
  {
   "cell_type": "code",
   "execution_count": 6,
   "metadata": {},
   "outputs": [
    {
     "name": "stdout",
     "output_type": "stream",
     "text": [
      "\n",
      "Pesquisando linhas da área: Biotecnologia...\n",
      "https://ceara.fiocruz.br/portal/index.php/pesquisa/biotecnologia/pesquisadores/\n",
      "\n",
      "Pesquisando linhas da área: Saude Da Familia...\n",
      "https://ceara.fiocruz.br/portal/index.php/pesquisa/saude-da-familia/linhas-de-pesquisa/\n",
      "\n",
      "Pesquisando linhas da área: Saude E Ambiente...\n",
      "https://ceara.fiocruz.br/portal/index.php/pesquisa/saude-e-ambiente/linhas-de-pesquisa/\n",
      "\n",
      "Pesquisando linhas da área: Saude Digital...\n",
      "https://ceara.fiocruz.br/portal/index.php/pesquisa/saude-digital/pesquisadores-em-saude-digital/\n",
      "\n",
      "\n",
      "------------------------------------------------------------------------------------------------------------------------\n",
      "LINHAS DE CADA PESQUISADOR\n",
      "\n",
      "Anna Carolina Machado Marinho\n",
      "– Abordagem proteômica para avaliação e estudo de proteoformas\n",
      "– Expressão, purificação, caracterização estrutural e ensaios de estabilidade de nanocorpos e construtos relacionados para doenças tropicais negligenciadas\n",
      "– Avaliação e caracterização de biofármacos possibilitando alinhar o desenvolvimento de metodologias analíticas modernas (espectrometria de massas) com PD&I em produtos biológicos\n",
      "\n",
      "Carla Freire Celedonio Fernandes\n",
      "– Pesquisa e Desenvolvimento de biofármacos, anticorpos terapêuticos, com ênfase em nanocorpos\n",
      "– Pesquisa, Desenvolvimento de novas tecnologias para diagnósticos rápidos, miniaturizados, automação, moleculares, biossensores, nanotecnologias para diagnóstico\n",
      "– Bioprospecção e bioensaios\n",
      "\n",
      "Clarissa Romero Teixeira\n",
      "– Imunopatogênese das Leishmanioses\n",
      "– Resposta imune contra a saliva de vetores artrópodes\n",
      "– Prospecção e caracterização de novos tratamentos e candidatos a vacina contra as Leishmanioses\n",
      "\n",
      "Fábio Miyajima\n",
      "– Epidemiologia e Vigilância Molecular de Doenças Infecciosas\n",
      "– Neurofarmacologia, Modelagem Molecular e Reposicionamento de Fármacos\n",
      "– Microbioma e Saúde Humana.\n",
      "\n",
      "Fernando Braga Stehling Dias\n",
      "– Eco-epidemiologia de vetores de doenças negligenciadas.\n",
      "– Epidemiologia e vigilância molecular de doenças negligenciadas.\n",
      "\n",
      "Gilvan Pessoa Furtado\n",
      "– Engenharia de anticorpos com ação terapêutica\n",
      "\n",
      "Jaime Ribeiro Filho\n",
      "Possui Graduação em Farmácia pela Universidade Federal da Paraiba (2008). Realizou Mestrado pelo Programa de Pós-Graduação em Produtos Naturais e Sintéticos Bioativos com área de concentração em Farmacologia (UFPB – 2011) e Doutorado em Ciências pelo Programa de Pós-Graduação em Biologia Celular e Molecular da Fundação Oswaldo Cruz (Fiocruz), com área de concentração em Imunologia e Farmacologia (2013). É Pesquisador permanente na Fiocruz Ceará. É docente e orientador nos Programas de Pós-Graduação em Patologia (UFBA/FIOCRUZ) e Biotecnologia em Saúde e Medicina Investigativa (PgBSMI), do qual é também membro do colegiado. É orientador colaborador no Programa de Pós-graduação em Ensino em Saúde (MePESa). Atua na investigação de novos alvos terapêuticos e na pesquisa pré-clínica de novos candidatos a fármacos para o tratamento de doenças inflamatórias e infecciosas. Estuda Etnofarmacologia, Educação terapêutica e Saúde pública em comunidades rurais do sertão Cearense. É divulgador científico (criador do podcast “que droga é essa”) e membro da Sociedade Brasileira de Imunologia.\n",
      "– Novos candidatos a fármacos no tratamento de doenças inflamatórias e infecciosas.\n",
      "– Assistência Farmacêutica e Uso racional de Medicamentos\n",
      "– Etnofarmacologia e Educação em Saúde.\n",
      "\n",
      "João Herminio Martins da Silva\n",
      "– Bioinformática estrutural\n",
      " – Desenvolvimento de métodos de aprendizado de máquina para o desenvolvimento e otimização de biofármacos para COVID-19\n",
      " – Caracterização computacional das interações de moléculas do sistema imune como suporte ao desenvolvimento de fragmentos scfv para a terapia de doenças associadas à migração e proliferação celulares\n",
      " – Desenvolvimento de novos scFv antineoplásicos contra a programmed cell death 1 (PD-1) e seus ligantes PDL1 e PD-L2\n",
      "\n",
      "Marcos Roberto Lourenzoni\n",
      "– Bancos de dados e Big Data\n",
      " computação distribuída\n",
      "\n",
      "Raphael Trevizani\n",
      "– Modelagem molecular, biologia estrutural\n",
      "– Imunoinformática\n",
      "– Algoritmos de otimização e inteligência artificial\n",
      "\n",
      "Regis Bernardo Brandim Gomes\n",
      "– Epidemiologia e Imunologia das leishmanioses (humana e canina)\n",
      "– Imunopatogênese das leishmanioses em modelos animais\n",
      "– Resposta imune contra a saliva de mosquito em pacientes com arboviroses\n",
      "– Efeito da (in)atividade física na resposta humoral durante o processo de imunização de vacina contra Covid-19.\n",
      "\n",
      "Roberto Nicolete\n",
      "– Imunofarmacologia / Formulação farmacêutica de medicamentos, incluindo nanoformulação.\n",
      "\n",
      "Márcio Flávio Moura de Araújo\n",
      "- Doenças Crônicas e não-transmissíveis, medicina regenerativa\n",
      "- Pesquisa Clínica e Ensaios Clínicos\n",
      "- Saúde Perinatal, da Criança e do Adolescente\n",
      "- Epidemiologia, métodos estatísticos e quantitativos\n",
      "- Gestão de Ciência e Tecnologia em Saúde\n",
      "- Promoção da Saúde\n",
      "- Avaliação e Economia da Saúde\n",
      "- Políticas Públicas para Saúde em Territórios\n",
      "- Tecnologia de informação e comunicação\n",
      "\n",
      "Maximiliano Loiola Ponte de Souza\n",
      "- Doenças Crônicas e não-transmissíveis, medicina regenerativa\n",
      "- Pesquisa Clínica e Ensaios Clínicos\n",
      "- Sociologia, Antropologia, Filosofia e Saúde, Cultura e Sociedade\n",
      "- Políticas Públicas para Saúde em Territórios\n",
      "\n",
      "Roberto Wagner Júnior Freire de Freitas\n",
      "- Doenças Crônicas e não-transmissíveis, medicina regenerativa\n",
      "- Pesquisa Clínica e Ensaios Clínicos\n",
      "- Epidemiologia, métodos estatísticos e quantitativos\n",
      "- Avaliação e Economia da Saúde\n",
      "- Tecnologia de informação e comunicação\n",
      "\n",
      "Anya Pimentel Gomes Fernandes Vieira Meyer\n",
      "- Pesquisa Clínica e Ensaios Clínicos\n",
      "- Saúde e Gênero, Saúde do Idoso\n",
      "- Saúde Perinatal, da Criança e do Adolescente\n",
      "- Epidemiologia, métodos estatísticos e quantitativos\n",
      "- Políticas Públicas, Planejamento e Gestão em Saúde\n",
      "- Promoção da Saúde\n",
      "- Avaliação e Economia da Saúde\n",
      "- Políticas Públicas para Saúde em Territórios\n",
      "\n",
      "Ivana Cristina de Holanda Cunha Barreto\n",
      "- Pesquisa Clínica e Ensaios Clínicos\n",
      "- Saúde e Gênero, Saúde do Idoso\n",
      "- Epidemiologia, métodos estatísticos e quantitativos\n",
      "- Políticas Públicas, Planejamento e Gestão em Saúde\n",
      "- Gestão de Ciência e Tecnologia em Saúde\n",
      "- Promoção da Saúde\n",
      "- Tecnologia de informação e comunicação\n",
      "\n",
      "Luiz Odorico Monteiro de Andrade\n",
      "– Políticas de Saúde e Promoção da Saúde\n",
      "– Intersetorialidade em Saúde\n",
      "– Gestão de Sistemas e Serviços de Saúde\n",
      "– Equidade\n",
      "– Epidemiologia, Determinantes Sociais e Pesquisa Avaliativa\n",
      "– Cenários, Estratégias e Ferramentas de Promoção da Saúde\n",
      "– Sociedade, Cultura e Saúde\n",
      "– Saúde Mental\n",
      "– Sistemas Comparados de Saúde\n",
      "– Tecnologias para o Desenvolvimento da Estratégia Saúde da Família\n",
      "– Estratégias de Educação Permanente e Desenvolvimento Profissional em Sistemas de Saúde\n",
      "– Gestão de Sistemas e Serviços de Saúde – MASF\n",
      "– Estratégias de Educação Permanente e Desenvolvimento Profissional em Saúde da Família – MASF\n",
      "– Desenvolvimento de modelos, metodologias e ferramentas de planejamento e gestão das atividades de C&T em saúde\n",
      "– Formulação, implementação, monitoramento e avaliação de políticas e programas de saúde\n",
      "– Tecnologia de informação e comunicação: Soluções Digitais\n",
      "\n",
      "Sharmênia de Araújo Soares Nuto\n",
      "- Políticas Públicas, Planejamento e Gestão em Saúde\n",
      "- Avaliação e Economia da Saúde\n",
      "- Sociologia, Antropologia, Filosofia e Saúde, Cultura e Sociedade\n",
      "- Educação em Ciências e Saúde\n",
      "\n",
      "Vanira Matos Pessoa\n",
      "- Vigilância Popular da Saúde, Ambiente e Trabalho\n",
      "- Impactos dos grandes empreendimentos na saúde\n",
      "- Atenção Primária em Saúde, Ambiente e Trabalho\n",
      "- Metodologias de pesquisa crítico-dialógicas e participativas\n",
      "- Populações do campo, floresta, águas e áreas urbanas vulneráveis\n",
      "\n",
      "Ana Cláudia de Araújo Teixeira\n",
      "- Vigilância Popular da Saúde, Ambiente e Trabalho\n",
      "- Impactos dos grandes empreendimentos na saúde\n",
      "- Atenção Primária em Saúde, Ambiente e Trabalho\n",
      "- Metodologias de pesquisa crítico-dialógicas e participativas\n",
      "- Populações do campo, floresta, águas e áreas urbanas vulneráveis\n",
      "\n",
      "Fernanda Savicki de Almeida\n",
      "- Vigilância Popular da Saúde, Ambiente e Trabalho\n",
      "\n",
      "Fernando Ferreira Carneiro\n",
      "- Vigilância Popular da Saúde, Ambiente e Trabalho\n",
      "- Saúde, Agroecologia e Convivência com o Semiárido\n",
      "- Impactos dos grandes empreendimentos na saúde\n",
      "- Atenção Primária em Saúde, Ambiente e Trabalho\n",
      "- Metodologias de pesquisa crítico-dialógicas e participativas\n",
      "- Populações do campo, floresta, águas e áreas urbanas vulneráveis\n",
      "\n",
      "José Luiz Passos Cordeiro\n",
      "- Saúde Única/Saúde Planetária (One Health/Global Health)\n",
      "\n",
      "Margareth Borges Coutinho Gallo\n",
      "- Exposições ambientais e avaliação dos efeitos no ciclo de vida e na saúde humana e animal\n",
      "\n",
      "Adriana Costa Bacelo\n",
      "– Doenças infecciosas – Atenção integral em doenças infecciosas\n",
      "– Gerontologia\n",
      "– Inovação e Desenvolvimento Tecnológico em Gastronomia e Nutrição Clínica.\n",
      "\n",
      "Galba Freire Moita\n",
      "– Monitoramento do Horizonte Tecnológico\n",
      "– Avaliação Econométrica de Tecnologias e Inovação\n",
      "– Inteligência e Inovação em Gestão de Sistemas de Saúde\n",
      "– Planejamento, Avaliação e Gestão de Serviços e Sistemas de Saúde.\n",
      "\n",
      "Ivana Cristina De Holanda Cunha Barrêto\n",
      "– Modelos de Atenção à Saúde e Estratégia Saúde da Família\n",
      "– Tecnologias para a Estratégia Saúde da Família\n",
      "– Estratégias de Educação Permanente e desenvolvimento profissional em Sistemas de Saúde\n",
      "– Ensino e Gestão do Conhecimento da Educação e do Trabalho na Saúde.\n"
     ]
    }
   ],
   "source": [
    "linhas_pesquisadores = scraper.scrape_lines()"
   ]
  },
  {
   "cell_type": "code",
   "execution_count": 7,
   "metadata": {},
   "outputs": [
    {
     "data": {
      "text/plain": [
       "{'Anna Carolina Machado Marinho': ['– Abordagem proteômica para avaliação e estudo de proteoformas',\n",
       "  '– Expressão, purificação, caracterização estrutural e ensaios de estabilidade de nanocorpos e construtos relacionados para doenças tropicais negligenciadas',\n",
       "  '– Avaliação e caracterização de biofármacos possibilitando alinhar o desenvolvimento de metodologias analíticas modernas (espectrometria de massas) com PD&I em produtos biológicos'],\n",
       " 'Carla Freire Celedonio Fernandes': ['– Pesquisa e Desenvolvimento de biofármacos, anticorpos terapêuticos, com ênfase em nanocorpos',\n",
       "  '– Pesquisa, Desenvolvimento de novas tecnologias para diagnósticos rápidos, miniaturizados, automação, moleculares, biossensores, nanotecnologias para diagnóstico',\n",
       "  '– Bioprospecção e bioensaios'],\n",
       " 'Clarissa Romero Teixeira': ['– Imunopatogênese das Leishmanioses',\n",
       "  '– Resposta imune contra a saliva de vetores artrópodes',\n",
       "  '– Prospecção e caracterização de novos tratamentos e candidatos a vacina contra as Leishmanioses'],\n",
       " 'Fábio Miyajima': ['– Epidemiologia e Vigilância Molecular de Doenças Infecciosas',\n",
       "  '– Neurofarmacologia, Modelagem Molecular e Reposicionamento de Fármacos',\n",
       "  '– Microbioma e Saúde Humana.'],\n",
       " 'Fernando Braga Stehling Dias': ['– Eco-epidemiologia de vetores de doenças negligenciadas.',\n",
       "  '– Epidemiologia e vigilância molecular de doenças negligenciadas.'],\n",
       " 'Gilvan Pessoa Furtado': ['– Engenharia de anticorpos com ação terapêutica'],\n",
       " 'Jaime Ribeiro Filho': ['Possui Graduação em Farmácia pela Universidade Federal da Paraiba (2008). Realizou Mestrado pelo Programa de Pós-Graduação em Produtos Naturais e Sintéticos Bioativos com área de concentração em Farmacologia (UFPB – 2011) e Doutorado em Ciências pelo Programa de Pós-Graduação em Biologia Celular e Molecular da Fundação Oswaldo Cruz (Fiocruz), com área de concentração em Imunologia e Farmacologia (2013). É Pesquisador permanente na Fiocruz Ceará. É docente e orientador nos Programas de Pós-Graduação em Patologia (UFBA/FIOCRUZ) e Biotecnologia em Saúde e Medicina Investigativa (PgBSMI), do qual é também membro do colegiado. É orientador colaborador no Programa de Pós-graduação em Ensino em Saúde (MePESa). Atua na investigação de novos alvos terapêuticos e na pesquisa pré-clínica de novos candidatos a fármacos para o tratamento de doenças inflamatórias e infecciosas. Estuda Etnofarmacologia, Educação terapêutica e Saúde pública em comunidades rurais do sertão Cearense. É divulgador científico (criador do podcast “que droga é essa”) e membro da Sociedade Brasileira de Imunologia.',\n",
       "  '– Novos candidatos a fármacos no tratamento de doenças inflamatórias e infecciosas.',\n",
       "  '– Assistência Farmacêutica e Uso racional de Medicamentos',\n",
       "  '– Etnofarmacologia e Educação em Saúde.'],\n",
       " 'João Herminio Martins da Silva': ['– Bioinformática estrutural',\n",
       "  ' – Desenvolvimento de métodos de aprendizado de máquina para o desenvolvimento e otimização de biofármacos para COVID-19',\n",
       "  ' – Caracterização computacional das interações de moléculas do sistema imune como suporte ao desenvolvimento de fragmentos scfv para a terapia de doenças associadas à migração e proliferação celulares',\n",
       "  ' – Desenvolvimento de novos scFv antineoplásicos contra a programmed cell death 1 (PD-1) e seus ligantes PDL1 e PD-L2'],\n",
       " 'Marcos Roberto Lourenzoni': ['– Bancos de dados e Big Data',\n",
       "  ' computação distribuída'],\n",
       " 'Raphael Trevizani': ['– Modelagem molecular, biologia estrutural',\n",
       "  '– Imunoinformática',\n",
       "  '– Algoritmos de otimização e inteligência artificial'],\n",
       " 'Regis Bernardo Brandim Gomes': ['– Epidemiologia e Imunologia das leishmanioses (humana e canina)',\n",
       "  '– Imunopatogênese das leishmanioses em modelos animais',\n",
       "  '– Resposta imune contra a saliva de mosquito em pacientes com arboviroses',\n",
       "  '– Efeito da (in)atividade física na resposta humoral durante o processo de imunização de vacina contra Covid-19.'],\n",
       " 'Roberto Nicolete': ['– Imunofarmacologia / Formulação farmacêutica de medicamentos, incluindo nanoformulação.'],\n",
       " 'Márcio Flávio Moura de Araújo': ['- Doenças Crônicas e não-transmissíveis, medicina regenerativa',\n",
       "  '- Pesquisa Clínica e Ensaios Clínicos',\n",
       "  '- Saúde Perinatal, da Criança e do Adolescente',\n",
       "  '- Epidemiologia, métodos estatísticos e quantitativos',\n",
       "  '- Gestão de Ciência e Tecnologia em Saúde',\n",
       "  '- Promoção da Saúde',\n",
       "  '- Avaliação e Economia da Saúde',\n",
       "  '- Políticas Públicas para Saúde em Territórios',\n",
       "  '- Tecnologia de informação e comunicação'],\n",
       " 'Maximiliano Loiola Ponte de Souza': ['- Doenças Crônicas e não-transmissíveis, medicina regenerativa',\n",
       "  '- Pesquisa Clínica e Ensaios Clínicos',\n",
       "  '- Sociologia, Antropologia, Filosofia e Saúde, Cultura e Sociedade',\n",
       "  '- Políticas Públicas para Saúde em Territórios'],\n",
       " 'Roberto Wagner Júnior Freire de Freitas': ['- Doenças Crônicas e não-transmissíveis, medicina regenerativa',\n",
       "  '- Pesquisa Clínica e Ensaios Clínicos',\n",
       "  '- Epidemiologia, métodos estatísticos e quantitativos',\n",
       "  '- Avaliação e Economia da Saúde',\n",
       "  '- Tecnologia de informação e comunicação'],\n",
       " 'Anya Pimentel Gomes Fernandes Vieira Meyer': ['- Pesquisa Clínica e Ensaios Clínicos',\n",
       "  '- Saúde e Gênero, Saúde do Idoso',\n",
       "  '- Saúde Perinatal, da Criança e do Adolescente',\n",
       "  '- Epidemiologia, métodos estatísticos e quantitativos',\n",
       "  '- Políticas Públicas, Planejamento e Gestão em Saúde',\n",
       "  '- Promoção da Saúde',\n",
       "  '- Avaliação e Economia da Saúde',\n",
       "  '- Políticas Públicas para Saúde em Territórios'],\n",
       " 'Ivana Cristina de Holanda Cunha Barreto': ['- Pesquisa Clínica e Ensaios Clínicos',\n",
       "  '- Saúde e Gênero, Saúde do Idoso',\n",
       "  '- Epidemiologia, métodos estatísticos e quantitativos',\n",
       "  '- Políticas Públicas, Planejamento e Gestão em Saúde',\n",
       "  '- Gestão de Ciência e Tecnologia em Saúde',\n",
       "  '- Promoção da Saúde',\n",
       "  '- Tecnologia de informação e comunicação'],\n",
       " 'Luiz Odorico Monteiro de Andrade': ['– Políticas de Saúde e Promoção da Saúde',\n",
       "  '– Intersetorialidade em Saúde',\n",
       "  '– Gestão de Sistemas e Serviços de Saúde',\n",
       "  '– Equidade',\n",
       "  '– Epidemiologia, Determinantes Sociais e Pesquisa Avaliativa',\n",
       "  '– Cenários, Estratégias e Ferramentas de Promoção da Saúde',\n",
       "  '– Sociedade, Cultura e Saúde',\n",
       "  '– Saúde Mental',\n",
       "  '– Sistemas Comparados de Saúde',\n",
       "  '– Tecnologias para o Desenvolvimento da Estratégia Saúde da Família',\n",
       "  '– Estratégias de Educação Permanente e Desenvolvimento Profissional em Sistemas de Saúde',\n",
       "  '– Gestão de Sistemas e Serviços de Saúde – MASF',\n",
       "  '– Estratégias de Educação Permanente e Desenvolvimento Profissional em Saúde da Família – MASF',\n",
       "  '– Desenvolvimento de modelos, metodologias e ferramentas de planejamento e gestão das atividades de C&T em saúde',\n",
       "  '– Formulação, implementação, monitoramento e avaliação de políticas e programas de saúde',\n",
       "  '– Tecnologia de informação e comunicação: Soluções Digitais'],\n",
       " 'Sharmênia de Araújo Soares Nuto': ['- Políticas Públicas, Planejamento e Gestão em Saúde',\n",
       "  '- Avaliação e Economia da Saúde',\n",
       "  '- Sociologia, Antropologia, Filosofia e Saúde, Cultura e Sociedade',\n",
       "  '- Educação em Ciências e Saúde'],\n",
       " 'Vanira Matos Pessoa': ['- Vigilância Popular da Saúde, Ambiente e Trabalho',\n",
       "  '- Impactos dos grandes empreendimentos na saúde',\n",
       "  '- Atenção Primária em Saúde, Ambiente e Trabalho',\n",
       "  '- Metodologias de pesquisa crítico-dialógicas e participativas',\n",
       "  '- Populações do campo, floresta, águas e áreas urbanas vulneráveis'],\n",
       " 'Ana Cláudia de Araújo Teixeira': ['- Vigilância Popular da Saúde, Ambiente e Trabalho',\n",
       "  '- Impactos dos grandes empreendimentos na saúde',\n",
       "  '- Atenção Primária em Saúde, Ambiente e Trabalho',\n",
       "  '- Metodologias de pesquisa crítico-dialógicas e participativas',\n",
       "  '- Populações do campo, floresta, águas e áreas urbanas vulneráveis'],\n",
       " 'Fernanda Savicki de Almeida': ['- Vigilância Popular da Saúde, Ambiente e Trabalho'],\n",
       " 'Fernando Ferreira Carneiro': ['- Vigilância Popular da Saúde, Ambiente e Trabalho',\n",
       "  '- Saúde, Agroecologia e Convivência com o Semiárido',\n",
       "  '- Impactos dos grandes empreendimentos na saúde',\n",
       "  '- Atenção Primária em Saúde, Ambiente e Trabalho',\n",
       "  '- Metodologias de pesquisa crítico-dialógicas e participativas',\n",
       "  '- Populações do campo, floresta, águas e áreas urbanas vulneráveis'],\n",
       " 'José Luiz Passos Cordeiro': ['- Saúde Única/Saúde Planetária (One Health/Global Health)'],\n",
       " 'Margareth Borges Coutinho Gallo': ['- Exposições ambientais e avaliação dos efeitos no ciclo de vida e na saúde humana e animal'],\n",
       " 'Adriana Costa Bacelo': ['– Doenças infecciosas – Atenção integral em doenças infecciosas',\n",
       "  '– Gerontologia',\n",
       "  '– Inovação e Desenvolvimento Tecnológico em Gastronomia e Nutrição Clínica.'],\n",
       " 'Galba Freire Moita': ['– Monitoramento do Horizonte Tecnológico',\n",
       "  '– Avaliação Econométrica de Tecnologias e Inovação',\n",
       "  '– Inteligência e Inovação em Gestão de Sistemas de Saúde',\n",
       "  '– Planejamento, Avaliação e Gestão de Serviços e Sistemas de Saúde.'],\n",
       " 'Ivana Cristina De Holanda Cunha Barrêto': ['– Modelos de Atenção à Saúde e Estratégia Saúde da Família',\n",
       "  '– Tecnologias para a Estratégia Saúde da Família',\n",
       "  '– Estratégias de Educação Permanente e desenvolvimento profissional em Sistemas de Saúde',\n",
       "  '– Ensino e Gestão do Conhecimento da Educação e do Trabalho na Saúde.']}"
      ]
     },
     "execution_count": 7,
     "metadata": {},
     "output_type": "execute_result"
    }
   ],
   "source": [
    "linhas_pesquisadores"
   ]
  },
  {
   "cell_type": "markdown",
   "metadata": {},
   "source": [
    "# Dados Instituto Pasteur FR: \n",
    "\n",
    "- Prioridades\n",
    "- Plataformas\n",
    "- Centros\n",
    "- Times"
   ]
  },
  {
   "cell_type": "code",
   "execution_count": 8,
   "metadata": {},
   "outputs": [
    {
     "name": "stderr",
     "output_type": "stream",
     "text": [
      "2024-05-15 09:22:14,172 - INFO - Obtendo os dados do site do Instituto Pasteur, aguarde...\n",
      "2024-05-15 09:22:15,671 - INFO - 5 seções de dados principais extraídas\n",
      "2024-05-15 09:22:15,674 - INFO - Obtendo áreas prioritárias de pesquisa, aguarde...\n",
      "2024-05-15 09:22:26,185 - INFO - 5 áreas prioritárias em pesquisa extraídas\n",
      "2024-05-15 09:22:26,189 - INFO - Obtendo os centros de referência, aguarde...\n",
      "2024-05-15 09:22:29,972 - INFO - 5 centros extraídos\n",
      "2024-05-15 09:22:29,975 - INFO - Obtendo os departamentos, aguarde...\n",
      "2024-05-15 09:22:54,043 - INFO - 13 departamentos extraídos\n",
      "2024-05-15 09:22:54,047 - INFO - Obtendo as plataformas, aguarde...\n",
      "2024-05-15 09:23:53,264 - INFO - 35 plataformas extraídas\n",
      "2024-05-15 09:23:53,279 - INFO - Relatório concluído!\n",
      "2024-05-15 09:23:53,282 - INFO - Salvo em: c:\\Users\\marcos.aires\\ppgcs\\templates\\report_pasteur_fr.html\n"
     ]
    }
   ],
   "source": [
    "base_url = \"https://research.pasteur.fr\"\n",
    "scraper = PasteurScraper(base_url, find_repo_root())\n",
    "json_data = scraper.generate_pasteur_report_html()"
   ]
  },
  {
   "cell_type": "markdown",
   "metadata": {},
   "source": [
    "## Visualizar dados extraídos Instituto Pasteur FR"
   ]
  },
  {
   "cell_type": "code",
   "execution_count": null,
   "metadata": {},
   "outputs": [],
   "source": [
    "json_data.keys()"
   ]
  },
  {
   "cell_type": "code",
   "execution_count": null,
   "metadata": {},
   "outputs": [],
   "source": [
    "json_data.get('platforms_data')[0]"
   ]
  },
  {
   "cell_type": "code",
   "execution_count": null,
   "metadata": {},
   "outputs": [],
   "source": [
    "for i in json_data.get('platforms_data'):\n",
    "    platform_title = i.get('title')\n",
    "    print('-'*50)\n",
    "    print(platform_title.upper())\n",
    "    try:\n",
    "        project_list = i.get('aditional_info').get('projects')\n",
    "        for j in project_list:\n",
    "            title = j.get('title')\n",
    "            head = j.get('head_name')\n",
    "            status = j.get('status')\n",
    "            description = j.get('description')\n",
    "            print(f\"  [{status}] {title} ({head})\")\n",
    "            print(f\"            {description}\")\n",
    "    except:\n",
    "        try:\n",
    "            project_list = i.get('aditional_info').get('transversal_projects')\n",
    "            for j in project_list:\n",
    "                print(f\"[Transversal Project] {j.get('title')}\")\n",
    "        except:\n",
    "            print(f\"            Projetos não encontrados para esta plataforma\")"
   ]
  },
  {
   "cell_type": "code",
   "execution_count": null,
   "metadata": {},
   "outputs": [],
   "source": [
    "for i in json_data.get('departments_data'):\n",
    "    for j in i.get('aditional_info').get('teams'):\n",
    "        print(j)\n",
    "        print(f\"  {j.get('head_name'):>35}: <b>{j.get('team_name')}</b>\")\n",
    "    print('-'*150)"
   ]
  },
  {
   "cell_type": "markdown",
   "metadata": {},
   "source": [
    "### Recuperar dados quantitativos gerais"
   ]
  },
  {
   "cell_type": "code",
   "execution_count": null,
   "metadata": {},
   "outputs": [],
   "source": [
    "scraper = PasteurScraper(\"https://research.pasteur.fr\", base_repo_dir)\n",
    "main_data = scraper.scrape_main_page_quantitative_data()\n",
    "print(f\"{len(main_data)} seções de dados principais extraídas\")\n",
    "for i,j in main_data.items():\n",
    "    print(f\"{i:>25}: {j}\")"
   ]
  },
  {
   "cell_type": "markdown",
   "metadata": {},
   "source": [
    "### Recuperar dados das Áreas Prioritárias de Pesquisa"
   ]
  },
  {
   "cell_type": "code",
   "execution_count": null,
   "metadata": {},
   "outputs": [],
   "source": [
    "from pprint import pprint\n",
    "priority_research = scraper.scrape_priority_scientific_areas()\n",
    "filepath = os.path.join(folder_data_output,'pasteur_fr_priority_research.json')\n",
    "scraper.save_to_json(priority_research, filepath)\n",
    "\n",
    "print(f\"{len(priority_research)} prioridades principais em pesquisa extraídas\")\n",
    "for i in priority_research:\n",
    "    print(f\"  {i.get('area_name'):>50}: {i.get('team_count')}\")\n",
    "print()"
   ]
  },
  {
   "cell_type": "code",
   "execution_count": null,
   "metadata": {},
   "outputs": [],
   "source": [
    "priority_research"
   ]
  },
  {
   "cell_type": "markdown",
   "metadata": {},
   "source": [
    "## Recuperar dados dos Departamentos do Pasteur"
   ]
  },
  {
   "cell_type": "code",
   "execution_count": null,
   "metadata": {},
   "outputs": [],
   "source": [
    "departments_data = scraper.scrape_department_data()\n",
    "filepath = os.path.join(folder_data_output,'pasteur_fr_departments_data.json')\n",
    "scraper.save_to_json(departments_data, filepath)\n",
    "\n",
    "print(f\"{len(departments_data)} departamentos extraídos\")\n",
    "for i in departments_data:\n",
    "    print(f\"  {i.get('head_name'):>25}: {i.get('department_name')}\")"
   ]
  },
  {
   "cell_type": "code",
   "execution_count": null,
   "metadata": {},
   "outputs": [],
   "source": [
    "departments_data"
   ]
  },
  {
   "cell_type": "markdown",
   "metadata": {},
   "source": [
    "## Recuperar dados dos Centros do Pasteur"
   ]
  },
  {
   "cell_type": "code",
   "execution_count": null,
   "metadata": {},
   "outputs": [],
   "source": [
    "heads_centers_data = scraper.scrape_centers()\n",
    "centers_data = scraper.scrape_centers_data()\n",
    "filepath = os.path.join(folder_data_output,'pasteur_fr_centers_data.json')\n",
    "scraper.save_to_json(centers_data, filepath)\n",
    "\n",
    "print(f\"{len(centers_data)} centros extraídos\")\n",
    "for i in heads_centers_data:\n",
    "    print(f\"  {i.get('head_name'):>35}: {i.get('title')}\")\n",
    "for i in centers_data:\n",
    "    print(f\"\\n{i.get('center_title')} ({len(i.get('teams')):02} times associados)\")\n",
    "    for team in i.get('teams'):\n",
    "        print(f\"  {team.get('head_name'):>35}: {team.get('title')}\")"
   ]
  },
  {
   "cell_type": "markdown",
   "metadata": {},
   "source": [
    "## Recuperar dados das Plataformas do Pasteur"
   ]
  },
  {
   "cell_type": "code",
   "execution_count": null,
   "metadata": {},
   "outputs": [],
   "source": [
    "platforms_data = scraper.scrape_platforms()\n",
    "filepath = os.path.join(folder_data_output,'pasteur_fr_platforms_data.json')\n",
    "scraper.save_to_json(platforms_data, filepath)\n",
    "\n",
    "print(f\"{len(platforms_data)} plataformas extraídas\")\n",
    "for i in platforms_data:\n",
    "    print(f\"  {i.get('head_name'):>25}: {i.get('title')}\")"
   ]
  },
  {
   "cell_type": "markdown",
   "metadata": {},
   "source": [
    "## Recuperar dados dos Times do Pasteur"
   ]
  },
  {
   "cell_type": "code",
   "execution_count": null,
   "metadata": {},
   "outputs": [],
   "source": [
    "teams_data = scraper.scrape_teams_data()\n",
    "print(f\"{len(teams_data)} times extraídos\")\n",
    "for i in teams_data:\n",
    "    print(f\"  {i.get('head_name'):>25}: {i.get('title')}\")"
   ]
  },
  {
   "cell_type": "code",
   "execution_count": null,
   "metadata": {},
   "outputs": [],
   "source": [
    "filepath = os.path.join(folder_data_output,'pasteur_fr_teams_data.json')\n",
    "scraper.save_to_json(teams_data, filepath)"
   ]
  },
  {
   "cell_type": "code",
   "execution_count": null,
   "metadata": {},
   "outputs": [],
   "source": [
    "centers_data[1]"
   ]
  },
  {
   "cell_type": "code",
   "execution_count": null,
   "metadata": {},
   "outputs": [],
   "source": [
    "departments_data[-1]"
   ]
  },
  {
   "cell_type": "code",
   "execution_count": null,
   "metadata": {},
   "outputs": [],
   "source": [
    "platforms_data[-1]"
   ]
  },
  {
   "cell_type": "markdown",
   "metadata": {},
   "source": [
    "## Outros testes"
   ]
  },
  {
   "cell_type": "code",
   "execution_count": null,
   "metadata": {},
   "outputs": [],
   "source": [
    "# import requests\n",
    "# from bs4 import BeautifulSoup\n",
    "# import json\n",
    "\n",
    "# # Requisição HTTP para obter o conteúdo da página\n",
    "# url = \"https://ceara.fiocruz.br/portal/index.php/pesquisa/biotecnologia/pesquisadores/\"\n",
    "# response = requests.get(url)\n",
    "\n",
    "# # Verificação do status da requisição\n",
    "# if response.status_code == 200:\n",
    "#     # Conteúdo HTML da página\n",
    "#     html_content = response.content\n",
    "\n",
    "#     # Criação do objeto BeautifulSoup\n",
    "#     soup = BeautifulSoup(html_content, 'lxml')\n",
    "#     dados_div = {}\n",
    "\n",
    "#     # Localização das divs com a classe especificada\n",
    "#     divs = soup.find_all('div', class_=\"col-sm-12\")\n",
    "#     # divs = soup.find_all('div', style=\"background-color:#d0d3aa\")\n",
    "#     # divs = soup.find_all('div', style=\"is-layout-flex wp-container-7 wp-block-columns has-background has-medium-font-size\")\n",
    "\n",
    "#     # Lista para armazenar os dados em JSON\n",
    "#     dados_json = []\n",
    "\n",
    "#     # Iteração pelas divs\n",
    "#     for div in divs:\n",
    "#         div_pesquisador = div.find('div', class_='is-layout-flex wp-container-7 wp-block-columns has-background has-medium-font-size')\n",
    "#         # if div_pesquisador:\n",
    "#         #     if div_pesquisador.get_text():\n",
    "#         #         print(div_pesquisador.get_text().strip())\n",
    "#         # Dicionário para armazenar os dados de cada div\n",
    "#         dados_div = {}\n",
    "\n",
    "#         # Nome\n",
    "#         nome_tag = div.find('p', class_='has-black-color has-text-color has-medium-font-size')\n",
    "#         if nome_tag:\n",
    "#             nome = nome_tag.text.strip()\n",
    "#             dados_div['nome'] = nome\n",
    "\n",
    "#         # Identificação em publicações\n",
    "#         identificacao_tag = div.find('p', class_='has-small-font-size')\n",
    "#         if identificacao_tag:\n",
    "#             texto_identificacao = identificacao_tag.text.strip()\n",
    "#             if 'Identificação em publicações:' in texto_identificacao:\n",
    "#                 identificacao = texto_identificacao.split(':')[1].strip()\n",
    "#                 dados_div['identificacao'] = identificacao\n",
    "\n",
    "#         # Contato\n",
    "#         contato_tag = div.find('p', class_='has-small-font-size')\n",
    "#         if contato_tag:\n",
    "#             texto_contato = contato_tag.find_next_sibling('p').text.strip()\n",
    "#             if 'Contato:' in texto_contato:\n",
    "#                 contato = texto_contato.split(':')[1]\n",
    "#                 if contato:\n",
    "#                     dados_div['contato'] = contato\n",
    "\n",
    "#         # Currículo Lattes\n",
    "#         curriculo_lattes_tag = div.find('p', class_='has-small-font-size')\n",
    "#         if curriculo_lattes_tag:\n",
    "#             try:\n",
    "#                 link_lattes = curriculo_lattes_tag.find_next_sibling('p').find('a')['href']\n",
    "#                 if link_lattes:\n",
    "#                     dados_div['curriculo_lattes'] = link_lattes\n",
    "#             except:\n",
    "#                 pass\n",
    "            \n",
    "#         # Formação e experiência\n",
    "#         formacao_experiencia_tag = div.find_all_next('p', class_='has-small-font-size')\n",
    "#         if formacao_experiencia_tag:\n",
    "#             texto_formacao_experiencia = '\\n'.join([p.text.strip() for p in formacao_experiencia_tag])\n",
    "#             dados_div['formacao_experiencia'] = texto_formacao_experiencia.split('\\n')[1:]\n",
    "\n",
    "#         # Linhas de pesquisa\n",
    "#         linha_pesquisa_tag = div.find('h4')\n",
    "#         if linha_pesquisa_tag:\n",
    "#             linha_pesquisa_text = linha_pesquisa_tag.find_next_sibling('p').text.strip()\n",
    "#             if linha_pesquisa_text:\n",
    "#                 dados_div['linha_pesquisa'] = linha_pesquisa_text\n",
    "\n",
    "#         # Áreas de pesquisa\n",
    "#         areas_pesquisa_tag = div.find('h6')\n",
    "#         if areas_pesquisa_tag:\n",
    "#             texto_areas_pesquisa = areas_pesquisa_tag.find_next_sibling('p').text.strip()\n",
    "#             if ' – ' in texto_areas_pesquisa:\n",
    "#                 areas_pesquisa = texto_areas_pesquisa.split(' – ')\n",
    "#                 dados_div['areas_pesquisa'] = areas_pesquisa\n",
    "\n",
    "#         # Adiciona os dados da div à lista\n",
    "#         dados_json.append(dados_div)\n",
    "\n",
    "#     # Conversão da lista para JSON\n",
    "#     json_data = json.dumps(dados_json, ensure_ascii=False, indent=4)\n",
    "\n",
    "#     # Impressão do JSON formatado\n",
    "#     print(json_data)\n",
    "\n",
    "# else:\n",
    "#     print(f\"Erro ao requisitar a página: {response.status_code}\")\n"
   ]
  },
  {
   "cell_type": "code",
   "execution_count": null,
   "metadata": {},
   "outputs": [],
   "source": [
    "# dados_div"
   ]
  },
  {
   "cell_type": "code",
   "execution_count": null,
   "metadata": {},
   "outputs": [],
   "source": []
  }
 ],
 "metadata": {
  "kernelspec": {
   "display_name": "Python 3",
   "language": "python",
   "name": "python3"
  },
  "language_info": {
   "codemirror_mode": {
    "name": "ipython",
    "version": 3
   },
   "file_extension": ".py",
   "mimetype": "text/x-python",
   "name": "python",
   "nbconvert_exporter": "python",
   "pygments_lexer": "ipython3",
   "version": "3.8.18"
  }
 },
 "nbformat": 4,
 "nbformat_minor": 2
}
