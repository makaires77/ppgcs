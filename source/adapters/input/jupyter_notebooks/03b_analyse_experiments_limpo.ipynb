{
 "cells": [
  {
   "attachments": {},
   "cell_type": "markdown",
   "metadata": {},
   "source": [
    "<!-- <center><center><img src=\"https://raw.githubusercontent.com/makaires77/fioce/master/assets/logo_fioce.png\" \n",
    "style=\"height:150px\" alt=\"Logo_Fiocruz\"></center></center> -->\n",
    "\n",
    "<center><center><img src=\"https://user-images.githubusercontent.com/61051085/81343928-3ce9d500-908c-11ea-9850-0210b4e94ba0.jpg\" \n",
    "style=\"height:150px\" alt=\"Logo_Unifor\"></center></center>\n",
    "\n",
    "## <center>Análise estatística dos métodos para<br />montar datasets para Graph Machine Learning</center>\n",
    "\n",
    "Uma análise estatística para avaliar utilização dos dados dos currículos Lattes para modelo de Grafo de análises em PDI.\n",
    "\n",
    "    Antonio Marcos Aires Barbosa"
   ]
  },
  {
   "cell_type": "markdown",
   "metadata": {},
   "source": [
    "# <b>Estudo estatístico dos tempos de execução</b>"
   ]
  },
  {
   "cell_type": "markdown",
   "metadata": {},
   "source": [
    "### Descrição dos procedimentos para gerar dataset de artigos em periódicos"
   ]
  },
  {
   "cell_type": "markdown",
   "metadata": {},
   "source": [
    "Foi estudado o desempenho de 06 métodos diferentes para montar datasets a partir de listas de dicionários. Comparando implementações dos tipos singlethread em CPU e em GPU, multithread em CPU e em GPU, em implementações Python e Golang. São realizadas um número $n$ de seções de medição onde cada experimento é realizado com monitoramento do tempo de execução e do nível de recursos de CPU, GPU e quantidade de Threads ativas para compor os dados de cada um dos tipos de experimento que serão plotados na conclusão das seções de experimentos.\n",
    "\n",
    "Nas implementações em python, um mesmo conjunto de atividades para gerar o dataset foi realizado variando o método de processamento em cada implementação. As atividades são predominantemente de processamento, sem necessidade de interação entrada/saída (I/O). Realizam a montagem dos dados de interesse para o dataset com base na normalização dos arquivos de entrada em um JSON preparado para ser ingerido nas atividades de aprendizagem de máquina. Nas duas implementações em Golang, além das atividades de processamento local, foram adicionadas atividades de recuperação automatizada de informação com requisições à internet (I/O) por meio de acesso à API e raspagem de dados de páginas HTML. Essas atividades são usadas para preencher os dados faltantes por meio das buscas nas APIs do Crossref ou por &scraping& em página HTML do DOI, quando a requisição à API do Crossref apresenta algum problema ou não consegue achar o conteúdo buscado. \n",
    "\n",
    "Exceto por essas buscas nas APIs, cada uma das implementações dos métodos em Python e Golang aplica o mesmo fluxo de processamento para montagem do dataset, havendo ao final uma classe específica para comparar os arquivos JSON gerados por cada uma das implementações, para garantir que todos os datasets montados apresentem as mesmas informações, assim garantiu-se a validade de comparação entre os experimentos em um ambiente válido de testes de execução, já que as únicas diferenças significativas são as variáveis que se deseja estudar e comparar, neste caso usamos o exemplo do uso de CPU versus GPU e o método de paralelismo (thread ou processo).\n",
    "\n",
    "Os métodos process_dicts e suas variantes (com GPU, multithread, e multiprocess) encapsulam esse fluxo de processamento para um conjunto de dados, aplicando o método de processamento apropriado (com ou sem GPU, single-thread, multithread ou multiprocess) a cada item do conjunto de dados.\n"
   ]
  },
  {
   "cell_type": "markdown",
   "metadata": {},
   "source": [
    "# <b>Estudo Piloto (Fase Exploratória)</b>\n",
    "\n",
    "- Avaliar estatisticamente cinco métodos de execução distintos os mais promissores em termos de tempos de execução"
   ]
  },
  {
   "cell_type": "markdown",
   "metadata": {},
   "source": [
    "## Planejamento do Estudo Piloto"
   ]
  },
  {
   "cell_type": "markdown",
   "metadata": {},
   "source": [
    "### Objetivo: \n",
    "Avaliação inicial dos 6 métodos de processamento (singlethread CPU e GPU em Python, multithread CPU e GPU em Python, e multithread em Go com e sem controle de concorrência) para montagem de datasets."
   ]
  },
  {
   "cell_type": "markdown",
   "metadata": {},
   "source": [
    "### Desenho do experimento piloto:\n",
    "\n",
    "No experimento piloto exploratório realizado, o mesmo conjunto de dados foi processado repetidas vezes (10 vezes) para obter o tempos médios e medianos de execução, bem como os desvio padrão para cada uma das implementações. \n",
    "\n",
    "Este procedimento foi adotado para minimizar a variabilidade externa e focar nas diferenças causadas pelos métodos de processamento em si. Com múltiplas medições, foi possível obter uma amostra mais representativa dos tempos de execução, permitindo uma avaliação estatística mais confiável e robusta. \n",
    "\n",
    "Essa abordagem foi crucial, considerando que o desempenho pode ser influenciado por fatores externos ou aleatórios, como variações na carga do sistema ou no uso da memória."
   ]
  },
  {
   "cell_type": "markdown",
   "metadata": {},
   "source": [
    "### Metodologia: \n",
    "Execução repetida (10 vezes) de cada método em um conjunto de dados padronizado para coleta de tempos de execução.\n",
    "\n",
    "Dados Coletados: Tempos de execução para cada método e cada repetição.\n",
    "Análise Estatística Preliminar: Análise descritiva (média, mediana, desvio padrão) para avaliar a variabilidade e tendência central dos tempos de execução de cada método.\n",
    "\n",
    "Estudo Principal\n",
    "\n",
    "Questões de pesquisa:\n",
    "- Q1: Multithreading é mais rápido que Singlethreading.\n",
    "- Q2: Multithreading em Go é mais rápido que em Python.\n",
    "- Q3: Uso de GPU é mais eficiente que CPU no processamento multithread em Python.\n",
    "\n",
    "Objetivo: Selecionar Métodos para Análise Detalhada de Custo/Benefício: \n",
    "\n",
    "- Baseado nos resultados do estudo piloto, escolher os métodos mais promissores para análise comparativa detalhada."
   ]
  },
  {
   "cell_type": "markdown",
   "metadata": {},
   "source": [
    "### Testes Estatísticos: \n",
    "Foram aplicados testes de hipóteses (Teste t de Student para amostras independentes e/ou Teste U de Mann-Whitney, conforme a normalidade dos dados) para comparar os métodos selecionados.\n",
    "Interpretação dos Resultados: Análise dos valores-p e estatísticas dos testes para tirar conclusões sobre as hipóteses testadas.\n",
    "\n",
    "ANOVA: Para uma análise mais abrangente e comparação entre todos os métodos em conjunto, aplicou-se a Análise de Variância (ANOVA), focando na variação dos tempos de execução entre os métodos selecionados para identificar quais são as diferenças mais promissoras observadas a partir dos dados colhidos nos estudos piloto da fase exploratória.\n",
    "\n",
    "Tamanho da Amostra: Avaliar se o número de repetições (10 neste caso) é suficiente para fornecer poder estatístico para os testes de hipóteses.\n",
    "\n",
    "Análise de Normalidade: Checar a normalidade dos dados para escolher o teste estatístico mais adequado.\n",
    "Interpretação Contextualizada: Considerar os resultados estatísticos no contexto das limitações e objetivos específicos do estudo.\n",
    "\n",
    "Repetibilidade e Controle: Foram mantidas as condições experimentais consistentes (como a máquina de teste preparada e o mesmo conjunto de dados) para garantir a validade dos resultados."
   ]
  },
  {
   "cell_type": "markdown",
   "metadata": {},
   "source": [
    "# <b>Escolher o arquivo de entrada de dados a processar</b>"
   ]
  },
  {
   "cell_type": "code",
   "execution_count": null,
   "metadata": {},
   "outputs": [],
   "source": [
    "import os\n",
    "import sys\n",
    "\n",
    "def get_base_repo():\n",
    "    \"\"\"Retorna o caminho absoluto cinco níveis acima do diretório atual.\"\"\"\n",
    "    current_directory = os.getcwd()\n",
    "    # Construir o caminho para subir cinco níveis\n",
    "    path_five_levels_up = os.path.join(current_directory, '../../../../')\n",
    "    # Normalizar o caminho para o formato absoluto\n",
    "    absolute_path = os.path.abspath(path_five_levels_up)\n",
    "    return absolute_path\n",
    "\n",
    "# Definir a pasta de base do repositório local\n",
    "base_repo_dir = get_base_repo()\n",
    "\n",
    "# Construir os caminhos usando os.path.join\n",
    "folder_utils = os.path.join(base_repo_dir, 'utils')\n",
    "folder_domain = os.path.join(base_repo_dir, 'source', 'domain')\n",
    "folder_data_input = os.path.join(base_repo_dir, 'data', 'input')\n",
    "folder_data_output = os.path.join(base_repo_dir, 'data', 'output')\n",
    "\n",
    "# Adicionar pastas locais ao sys.path para permitir importação de pacotes\n",
    "sys.path.append(folder_utils)\n",
    "sys.path.append(folder_domain)\n",
    "from experiment_monitor import ExperimentMonitor\n",
    "from articles_counter import ArticlesCounter\n",
    "from json_fle_manager import JSONFileManager as jfm\n",
    "from experiment_profiler import TimeProfiler\n",
    "\n",
    "# Para o caso de folder_data_prod, que parece ser exclusivo para ambientes Unix\n",
    "folder_data_prod = os.path.join(base_repo_dir, 'data') if not 'win' in sys.platform else None\n",
    "\n",
    "print(f\" Caminho base do repositório: {base_repo_dir}\")\n",
    "print(f\"Arquivos de entrada de dados: {jfm.list_json_files(folder_data_input)}\")"
   ]
  },
  {
   "cell_type": "code",
   "execution_count": null,
   "metadata": {},
   "outputs": [],
   "source": [
    "# Definir arquivo dados brutos a processar e gerar dataset\n",
    "profiler = TimeProfiler()\n",
    "monitor = ExperimentMonitor(base_repo_dir, profiler)\n",
    "filename = 'dict_list_fioce.json'\n",
    "dict_list = monitor.load_from_json(folder_data_input,filename)\n",
    "print(f\"{' '*30}{len(dict_list)} currículos carregados arquivo: '{filename}'\")\n",
    "\n",
    "if monitor.is_gpu_available():\n",
    "    print(\"\\nGPU disponível para execução de código.\")\n",
    "else:\n",
    "    print(\"\\nNão foi detectada nenhuma GPU configurada corretamente no ambiente.\")\n",
    "\n",
    "atualizador = ArticlesCounter(dict_list)\n",
    "dtf_atualizado = atualizador.extrair_data_atualizacao(dict_list)\n",
    "# dtf_atualizado"
   ]
  },
  {
   "cell_type": "markdown",
   "metadata": {},
   "source": [
    "# Disparar execução de experimentos selecionados"
   ]
  },
  {
   "cell_type": "code",
   "execution_count": null,
   "metadata": {},
   "outputs": [],
   "source": [
    "# # Selecionar os experimentos a correr pelos números de índice\n",
    "# experiment_indices = [1,2,3,4]\n",
    "\n",
    "# # Definir número de seções (corridas) de experimentos\n",
    "# number_of_sections = 1\n",
    "\n",
    "# # Executar os experimentos selecionados pelos índices\n",
    "# monitor.run_selected_experiments(dict_list, experiment_indices, number_of_sections)"
   ]
  },
  {
   "cell_type": "code",
   "execution_count": null,
   "metadata": {},
   "outputs": [],
   "source": [
    "# imagepath = os.path.join(os.path.join(base_repo_dir, 'data', 'output',\n",
    "#                                       'Experiments_Py_Title_Go_TitleAbstract.png'))"
   ]
  },
  {
   "attachments": {
    "image.png": {
     "image/png": "[encoded data removed]"
    }
   },
   "cell_type": "markdown",
   "metadata": {},
   "source": [
    "<!-- ![imagepath](attachment:image.png) -->"
   ]
  },
  {
   "cell_type": "markdown",
   "metadata": {},
   "source": [
    "# Disparar execução de todos experimentos:\n",
    "\n",
    "    Exp1. Python Singlethread CPU - Dataset Preparation \n",
    "    Exp2. Python Singlethread GPU - Dataset Preparation\n",
    "    Exp3. Python Multithreads CPU - Dataset Preparation\n",
    "    Exp4. Python Multithreads GPU - Dataset Preparation\n",
    "    Exp5. Golang Multithreads CPU Goroutines - DataPrep\n",
    "    Exp6. Golang Multithreads CPU Gort-Semap - DataPrep"
   ]
  },
  {
   "cell_type": "code",
   "execution_count": null,
   "metadata": {},
   "outputs": [],
   "source": [
    "## Definir caminho para os pacotes locais\n",
    "# Base do diretório do repositório\n",
    "base_repo_dir = None\n",
    "if 'win' in sys.platform:\n",
    "    base_repo_dir = 'C:\\\\Users\\\\marcos.aires\\\\gml_classifier-1'  # Caminho base no Windows\n",
    "else:\n",
    "    base_repo_dir = '/home/mak/gml_classifier-1'  # Caminho base em Linux\n",
    "\n",
    "# Construir os caminhos usando os.path.join\n",
    "folder_utils = os.path.join(base_repo_dir, 'utils')\n",
    "folder_domain = os.path.join(base_repo_dir, 'source', 'domain')\n",
    "folder_data_input = os.path.join(base_repo_dir, 'data', 'input')\n",
    "folder_data_output = os.path.join(base_repo_dir, 'data', 'output')\n",
    "\n",
    "# Adicionar pastas locais ao sys.path para permitir importação de pacotes\n",
    "sys.path.append(folder_utils)\n",
    "sys.path.append(folder_domain)\n",
    "from articles_counter import ArticlesCounter\n",
    "from experiment_monitor import ExperimentMonitor\n",
    "from json_fle_manager import JSONFileManager as jfm\n",
    "\n",
    "## Rodar experimentação\n",
    "# Definir número de seções (corridas) de experimentos\n",
    "number_of_sections = 10\n",
    "\n",
    "# Disparar o processo de execução de todos os experimentos\n",
    "monitor.run_all_experiments(dict_list, n=number_of_sections)\n",
    "\n",
    "# Após executar todos os experimentos, plotar os dados de monitoramento\n",
    "monitor.plot_monitoring_data()"
   ]
  },
  {
   "cell_type": "markdown",
   "metadata": {},
   "source": [
    "# Plotar monitoramento e profilling"
   ]
  },
  {
   "cell_type": "code",
   "execution_count": null,
   "metadata": {},
   "outputs": [],
   "source": [
    "# Plotar os dados de monitoramento dos experimentos selecionados\n",
    "all_results = os.path.join(folder_data_output,'monitoring_results.json')\n",
    "monitor.plot_monitoring_data(all_results)\n",
    "\n",
    "selected_results = os.path.join(folder_data_output,'monitoring_selected_results.json')\n",
    "monitor.plot_monitoring_data(selected_results)\n"
   ]
  },
  {
   "cell_type": "markdown",
   "metadata": {},
   "source": [
    "## Perfilamento de tempos de execução por tipo de tarefa"
   ]
  },
  {
   "cell_type": "code",
   "execution_count": null,
   "metadata": {},
   "outputs": [],
   "source": [
    "profile_data = os.path.join(folder_data_output,'profile_data_selected.json')\n",
    "monitor.plot_radar_profile(profile_data)\n",
    "monitor.plot_stacked_segment(profile_data)\n",
    "monitor.plot_stacked_experiment(profile_data)"
   ]
  },
  {
   "cell_type": "markdown",
   "metadata": {},
   "source": [
    "### Exibição em tabelas"
   ]
  },
  {
   "cell_type": "code",
   "execution_count": null,
   "metadata": {},
   "outputs": [],
   "source": [
    "import pandas as pd\n",
    "profile_data = jfm.load_json(folder_data_output,'profile_data_all.json')\n",
    "print(len(profile_data), 'tomadas de tempo de segmento')"
   ]
  },
  {
   "cell_type": "code",
   "execution_count": null,
   "metadata": {},
   "outputs": [],
   "source": [
    "print(list(profile_data[0].keys()))\n",
    "df_profile = pd.DataFrame(profile_data)\n",
    "\n",
    "# Agrupar por 'Experiment' e 'Segment' e calcular a soma acumulada de 'Time'\n",
    "grouped_data = df_profile.groupby(['Experiment', 'Segment'])['Time'].sum().reset_index()\n",
    "grouped_data"
   ]
  },
  {
   "cell_type": "code",
   "execution_count": null,
   "metadata": {},
   "outputs": [],
   "source": [
    "# Criar uma tabela pivot\n",
    "pivot_table = df_profile.pivot_table(index='Segment', columns='Experiment', values='Time', aggfunc='sum')\n",
    "pivot_table"
   ]
  },
  {
   "cell_type": "code",
   "execution_count": null,
   "metadata": {},
   "outputs": [],
   "source": [
    "df_profile['Segment'].value_counts()"
   ]
  },
  {
   "cell_type": "code",
   "execution_count": null,
   "metadata": {},
   "outputs": [],
   "source": [
    "# filename='profile_results.prof'\n",
    "# file_path = os.path.join(folder_data_output,filename)\n",
    "# monitor.analyze_performance(file_path)"
   ]
  },
  {
   "cell_type": "markdown",
   "metadata": {},
   "source": [
    "## Verificar integridade dos datasets gerados"
   ]
  },
  {
   "cell_type": "code",
   "execution_count": null,
   "metadata": {},
   "outputs": [],
   "source": [
    "jfm.compare_all_json_pairs(show_details=False)"
   ]
  },
  {
   "cell_type": "code",
   "execution_count": null,
   "metadata": {},
   "outputs": [],
   "source": [
    "# jfm.compare_specific_files('output_multithreading_golang.json', \n",
    "#                             'output_py_gpu_multithreads.json')"
   ]
  },
  {
   "cell_type": "code",
   "execution_count": null,
   "metadata": {},
   "outputs": [],
   "source": [
    "# Usando a classe JSONFileManager\n",
    "\n",
    "# Carregar os datasets (os.path.join(folder_data_output,) já dentro do jfm.load_json\n",
    "dataset_stpycpu = jfm.load_json(folder_data_output,'output_py_cpu_singlethread.json')\n",
    "dataset_stpygpu = jfm.load_json(folder_data_output,'output_py_gpu_singlethread.json')\n",
    "dataset_mtpycpu = jfm.load_json(folder_data_output,'output_py_gpu_multithreads.json')\n",
    "dataset_mtgocpu = jfm.load_json(folder_data_output,'output_go_cpu_multithreads.json')\n",
    "dataset_mtgoopt = jfm.load_json(folder_data_output,'output_go_cpu_mthreadoptim.json')\n",
    "\n",
    "# Comparar os datasets\n",
    "diff_1to2 = jfm.compare_lists_of_dictionaries(dataset_stpycpu, dataset_stpygpu)\n",
    "diff_2to1 = jfm.compare_lists_of_dictionaries(dataset_mtpycpu, dataset_mtgocpu)\n",
    "\n",
    "# Imprimir as diferenças encontradas (se houver)\n",
    "print(f\"{len(diff_1to2):02} diferenças do dataset 1 para 2\")\n",
    "if diff_1to2:\n",
    "    print(\"Diferenças:\")\n",
    "    for diff in diff_1to2:    \n",
    "        print(diff)\n",
    "\n",
    "print(f\"\\n{len(diff_2to1):02} diferenças do dataset 2 para 1\")\n",
    "if diff_2to1:\n",
    "    print(\"Diferenças:\")\n",
    "    for diff in diff_2to1:\n",
    "        print(diff)\n"
   ]
  },
  {
   "cell_type": "code",
   "execution_count": null,
   "metadata": {},
   "outputs": [],
   "source": [
    "for i in dataset_stpycpu:\n",
    "    print(list(i.get('processed_data').keys()))"
   ]
  },
  {
   "cell_type": "markdown",
   "metadata": {},
   "source": [
    "## Verificar completude dos datasets gerados"
   ]
  },
  {
   "cell_type": "code",
   "execution_count": null,
   "metadata": {},
   "outputs": [],
   "source": [
    "# contar recursivamente as entradas de cada dicionário\n",
    "file = 'output_py_cpu_singlethread.json'\n",
    "dataset = jfm.load_json(folder_data_output,file)\n",
    "list(dataset[0])"
   ]
  },
  {
   "cell_type": "code",
   "execution_count": null,
   "metadata": {},
   "outputs": [],
   "source": [
    "# contar recursivamente as entradas de cada dicionário\n",
    "file = 'output_py_gpu_multithreads.json'\n",
    "dataset = jfm.load_json(folder_data_output,file)\n",
    "dataset[7].keys()"
   ]
  },
  {
   "cell_type": "code",
   "execution_count": null,
   "metadata": {},
   "outputs": [],
   "source": [
    "# contar recursivamente as entradas de cada dicionário\n",
    "# file = 'output_go_cpu_multithreads.json'\n",
    "# dataset = jfm.load_json(folder_data_output,file)\n",
    "# dataset[33]"
   ]
  },
  {
   "cell_type": "code",
   "execution_count": null,
   "metadata": {},
   "outputs": [],
   "source": [
    "# jfm.count_items_in_json(dataset)"
   ]
  },
  {
   "cell_type": "code",
   "execution_count": null,
   "metadata": {},
   "outputs": [],
   "source": [
    "# checar presença dos dados essenciais para treinar modelo de classificação na árvore do CNPq\n",
    "filepath = os.path.join(folder_data_output,'output_py_gpu_singlethread.json')\n",
    "\n",
    "essential_keys=['id_lattes', 'name', 'areas_of_expertise', 'articles', 'profiling_data']\n",
    "jfm.check_essential_data(filepath, essential_keys)"
   ]
  },
  {
   "cell_type": "markdown",
   "metadata": {},
   "source": [
    "# <b>Estatística Descritiva experimentos</b>"
   ]
  },
  {
   "cell_type": "code",
   "execution_count": null,
   "metadata": {},
   "outputs": [],
   "source": [
    "json_curriculum_data = jfm.load_json(folder_data_input, filepath)\n",
    "print(f\"{type(json_curriculum_data)} of {type(next(iter(json_curriculum_data)))}\")\n",
    "curriculo_item_count = jfm.count_items_in_json(next(iter(json_curriculum_data)))\n",
    "curriculo_item_count.keys()"
   ]
  },
  {
   "cell_type": "code",
   "execution_count": null,
   "metadata": {},
   "outputs": [],
   "source": [
    "def recursive_check(value, indent=0):\n",
    "    if isinstance(value, dict):\n",
    "        des = 'elementos' if len(value) >1 else 'elemento'\n",
    "        print(f\"{' ' * indent}Dicionário com {len(value):02} {des}\")\n",
    "        for key, val in value.items():\n",
    "            # print(f\"{' ' * (indent + 8)} {key:>12}: {type(key)} of {type(val)}\")\n",
    "            print(f\"{' ' * (indent + 8)} {key:>12}\")\n",
    "            if not isinstance(val, str):\n",
    "                try:\n",
    "                    recursive_check(val, indent + 8)\n",
    "                except:\n",
    "                    pass\n",
    "\n",
    "    elif isinstance(value, list):\n",
    "        des = 'elementos' if len(value) >1 else 'elemento'\n",
    "        print(f\"{' ' * indent}Lista com {len(value):02} {des}\")\n",
    "        for val in value:\n",
    "            # print(f\"{' ' * (indent + 4)}Tipo de elemento: {type(val)}\")\n",
    "            if not isinstance(val, str):\n",
    "                try:\n",
    "                    recursive_check(val, indent + 8)\n",
    "                except:\n",
    "                    pass\n",
    "\n",
    "    elif isinstance(value, str):\n",
    "        # print(f\"{' ' * indent}String: {value}\")\n",
    "        pass"
   ]
  },
  {
   "cell_type": "code",
   "execution_count": null,
   "metadata": {},
   "outputs": [],
   "source": [
    "# filepath = os.path.join(folder_data_input,'dict_list_fioce.json')\n",
    "# json_curriculum_data = jfm.load_json(filepath)\n",
    "# recursive_check(json_curriculum_data)"
   ]
  },
  {
   "cell_type": "code",
   "execution_count": null,
   "metadata": {},
   "outputs": [],
   "source": [
    "json_results_data = jfm.load_json(folder_data_output,'monitoring_results.json')\n",
    "# recursive_check(json_results_data)"
   ]
  },
  {
   "cell_type": "code",
   "execution_count": null,
   "metadata": {},
   "outputs": [],
   "source": [
    "# Mapear os experimentos para suas abreviações\n",
    "def sigla_generator():\n",
    "    exp = json_results_data['monitoring_data'].get('experiments')\n",
    "    exp_labels = []\n",
    "    experiment_labels = {\n",
    "        exp: f\"S{exp.split(' ')[1][0]}E{exp.split(' ')[4].split('/')[0]}\"\n",
    "        for exp in (json_results_data['monitoring_data'].get('experiments'))\n",
    "    }\n",
    "    for i in experiment_labels.items():\n",
    "        exp_labels.append(i)\n",
    "    \n",
    "    return exp_labels"
   ]
  },
  {
   "cell_type": "code",
   "execution_count": null,
   "metadata": {},
   "outputs": [],
   "source": [
    "lista = sorted(sigla_generator())\n",
    "lista"
   ]
  },
  {
   "cell_type": "code",
   "execution_count": null,
   "metadata": {},
   "outputs": [],
   "source": [
    "import json\n",
    "import pandas as pd\n",
    "\n",
    "# Processar os dados para criar um DataFrame\n",
    "data = []\n",
    "for section in json_results_data[\"experiment_results\"]:\n",
    "    for section_name, experiments in section.items():\n",
    "        if isinstance(experiments, list):\n",
    "            for experiment in experiments:\n",
    "                if isinstance(experiment, dict):\n",
    "                    data.append({\n",
    "                        \"section_numbers\": section_name,\n",
    "                        \"experiment_numbers\": experiment[\"experiment_number\"],\n",
    "                        \"execution_times\": experiment[\"execution_time\"]\n",
    "                    })\n",
    "                else:  # Tratando casos onde a lista contém diretamente os tempos de execução\n",
    "                    data.append({\n",
    "                        \"section_numbers\": section_name,\n",
    "                        \"experiment_numbers\": None,\n",
    "                        \"execution_times\": experiment\n",
    "                    })\n",
    "        else:\n",
    "            # Caso onde a seção contém diretamente uma lista de tempos de execução\n",
    "            avg_time = sum(experiments) / len(experiments)\n",
    "            data.append({\n",
    "                \"section_numbers\": section_name,\n",
    "                \"average_execution_times\": avg_time\n",
    "            })\n",
    "\n",
    "\n",
    "# Filtrar apenas os dados que possuem \"experiment_number\"\n",
    "experiment_data = [d for d in data if d.get(\"experiment_numbers\") is not None]\n",
    "\n",
    "# Criar um DataFrame com esses dados\n",
    "sections_df = pd.DataFrame(experiment_data)\n",
    "\n",
    "print(f\"Experimentos piloto de avaliação do tempo de execução no dataframe 'sections_df'\")\n",
    "print(f\"  {len(sections_df)} medições exploratórias, para cada método de execução\")\n",
    "\n",
    "sections_df"
   ]
  },
  {
   "cell_type": "code",
   "execution_count": null,
   "metadata": {},
   "outputs": [],
   "source": [
    "# Calcular tempos médios e medianos para cada método de execução de \"experiment_number\"\n",
    "grouped_data = sections_df.groupby(\"experiment_numbers\").agg(\n",
    "    Average_Execution_Time=(\"execution_times\", \"mean\"),\n",
    "    Median_Execution_Time=(\"execution_times\", \"median\"),\n",
    "    Standard_Deviation=(\"execution_times\", \"std\"),\n",
    "    Variance=(\"execution_times\", \"var\")    \n",
    ").reset_index()\n",
    "\n",
    "# Criar DataFrame\n",
    "df_grouped = pd.DataFrame(grouped_data)\n",
    "df_grouped"
   ]
  },
  {
   "cell_type": "markdown",
   "metadata": {},
   "source": [
    "## Visualização dos dados do estudo piloto"
   ]
  },
  {
   "cell_type": "code",
   "execution_count": null,
   "metadata": {},
   "outputs": [],
   "source": [
    "# Convertendo o DataFrame para JSON\n",
    "sections_df_json = sections_df.to_json(orient=\"records\")\n",
    "\n",
    "# Salvar o JSON em disco\n",
    "json_file_path = os.path.join(folder_data_output,'pilot_results_sections.json')\n",
    "with open(json_file_path, 'w') as file:\n",
    "    file.write(sections_df_json)\n",
    "\n",
    "json_file_path"
   ]
  },
  {
   "cell_type": "code",
   "execution_count": null,
   "metadata": {},
   "outputs": [],
   "source": [
    "from descriptive_statistics import DescriptiveStatistics, ResultLoader, ExecutionTimeComparator, Plotter\n",
    "\n",
    "print(f\"Estatísticas descritivas levantadas:\")\n",
    "descriptive_stats = DescriptiveStatistics(os.path.join(folder_data_output,'pilot_results_sections.json'))\n",
    "descriptive_stats.print_statistics()\n",
    "iqr_results = descriptive_stats.calculate_iqr()\n",
    "\n",
    "print(\"Intervalos interquartis (IQR):\")\n",
    "interpretations = descriptive_stats.interpret_iqr(iqr_results)\n",
    "for method, interp in interpretations.items():\n",
    "    print(interp)"
   ]
  },
  {
   "cell_type": "code",
   "execution_count": null,
   "metadata": {},
   "outputs": [],
   "source": [
    "import os\n",
    "import sys\n",
    "\n",
    "def get_base_repo():\n",
    "    \"\"\"Retorna o caminho absoluto cinco níveis acima do diretório atual.\"\"\"\n",
    "    current_directory = os.getcwd()\n",
    "    # Construir o caminho para subir cinco níveis\n",
    "    path_five_levels_up = os.path.join(current_directory, '../../../../')\n",
    "    # Normalizar o caminho para o formato absoluto\n",
    "    absolute_path = os.path.abspath(path_five_levels_up)\n",
    "    return absolute_path\n",
    "\n",
    "# Definir a pasta de base do repositório local\n",
    "base_repo_dir = get_base_repo()\n",
    "\n",
    "# Construir os caminhos usando os.path.join\n",
    "folder_utils = os.path.join(base_repo_dir, 'utils')\n",
    "folder_domain = os.path.join(base_repo_dir, 'source', 'domain')\n",
    "folder_data_input = os.path.join(base_repo_dir, 'data', 'input')\n",
    "folder_data_output = os.path.join(base_repo_dir, 'data', 'output')\n",
    "\n",
    "# Adicionar pastas locais ao sys.path para permitir importação de pacotes\n",
    "sys.path.append(folder_utils)\n",
    "sys.path.append(folder_domain)\n",
    "from experiment_monitor import ExperimentMonitor\n",
    "from articles_counter import ArticlesCounter\n",
    "from json_fle_manager import JSONFileManager as jfm\n",
    "from experiment_profiler import TimeProfiler\n",
    "from descriptive_statistics import DescriptiveStatistics, ResultLoader, ExecutionTimeComparator, Plotter\n",
    "\n",
    "# Para o caso de folder_data_prod, que parece ser exclusivo para ambientes Unix\n",
    "folder_data_prod = os.path.join(base_repo_dir, 'data') if not 'win' in sys.platform else None\n",
    "\n",
    "print(f\" Caminho base do repositório: {base_repo_dir}\")\n",
    "print(f\"Arquivos de entrada de dados: {jfm.list_json_files(folder_data_input)}\")"
   ]
  },
  {
   "cell_type": "code",
   "execution_count": null,
   "metadata": {},
   "outputs": [],
   "source": [
    "section_results = jfm.load_json(folder_data_output, 'pilot_results_sections.json')"
   ]
  },
  {
   "cell_type": "code",
   "execution_count": null,
   "metadata": {},
   "outputs": [],
   "source": [
    "# Reestruturação, assumindo que cada 'experiment_numbers' é um método diferente\n",
    "# def restructure_results(section_results):\n",
    "#     # Criar um dicionário para agrupar tempos de execução por número do experimento\n",
    "#     method_times = {}\n",
    "#     for res in section_results:\n",
    "#         method_name = f\"Método {res['experiment_numbers']}\"\n",
    "#         method_times.setdefault(method_name, []).append(res['execution_times'])\n",
    "\n",
    "#     # Criar uma lista de dicionários no formato esperado pela classe Plotter\n",
    "#     restructured_results = []\n",
    "#     for method, times in method_times.items():\n",
    "#         restructured_results.append({'execution_times': {method: times}})\n",
    "\n",
    "#     return restructured_results\n",
    "\n",
    "# Utilizando a função de reestruturação\n",
    "# results = restructure_results(section_results)\n",
    "\n",
    "# comparator = ExecutionTimeComparator(results)\n",
    "# compare_all = comparator.compare_methods()\n",
    "\n",
    "# worst_method = compare_all[0].get('method1')\n",
    "# best_method = compare_all[0].get('method2')\n",
    "# greater_average_comparision = compare_all[0].get('average_ratio')\n",
    "# greater_median_comparision = compare_all[0].get('median_ratio')\n",
    "\n",
    "# second_worst_method = compare_all[1].get('method1')\n",
    "# second_best_method = compare_all[1].get('method2')\n",
    "# second_greater_average_comparision = compare_all[1].get('average_ratio')\n",
    "# second_greater_median_comparision = compare_all[1].get('median_ratio')\n",
    "\n",
    "# print(f\"\\nMaiores reduções no tempo de execução medidas no experimento piloto:\")\n",
    "# print(f\"  Entre {worst_method} e {best_method} redução no tempo médio de {greater_average_comparision} vezes, e no tempo mediano de {greater_median_comparision} vezes\")\n",
    "# print(f\"  Entre {second_worst_method} e {second_best_method} redução no tempo médio de {second_greater_average_comparision} vezes, e no tempo mediano de {second_greater_median_comparision} vezes\")\n",
    "# print(f\"\\nSegue todas as comparações de possíveis melhorias realizadas quanto ao ganho em tempo de execução:\")\n",
    "# for k,comparison in enumerate(compare_all):\n",
    "#     print(f\"  De {compare_all[k].get('method1'):>19} para {compare_all[k].get('method2'):>19} mostrou tempo mediano {compare_all[k].get('median_ratio')} melhor\")\n",
    "\n",
    "# compare_multithread = comparator.compare_methods('multithread')\n",
    "# print(f\"\\nComparando somente entre os métodos em multithreading, segue as comparações ordenadas do maior para menor ganho em tempo de execução:\")\n",
    "# compare = compare_multithread\n",
    "# for k,comparison in enumerate(compare):\n",
    "#     print(f\"  De {compare[k].get('method1'):>19} para {compare[k].get('method2'):>19} mostrou tempo mediano {compare[k].get('median_ratio')} melhor\") "
   ]
  },
  {
   "cell_type": "code",
   "execution_count": null,
   "metadata": {},
   "outputs": [],
   "source": [
    "colors = ['blue', 'yellow', 'green', 'orange', 'purple']\n",
    "plotter = Plotter(section_results, colors)\n",
    "plotter.plot_boxplot()"
   ]
  },
  {
   "cell_type": "code",
   "execution_count": null,
   "metadata": {},
   "outputs": [],
   "source": [
    "plotter.plot_boxplots()"
   ]
  },
  {
   "cell_type": "code",
   "execution_count": null,
   "metadata": {},
   "outputs": [],
   "source": [
    "plotter.plot_execution_times_comparison()"
   ]
  },
  {
   "cell_type": "code",
   "execution_count": null,
   "metadata": {},
   "outputs": [],
   "source": [
    "plotter.plot_scatter()  "
   ]
  },
  {
   "cell_type": "markdown",
   "metadata": {},
   "source": [
    "## Interpretar estatística descritiva estudo exploratório piloto:"
   ]
  },
  {
   "cell_type": "markdown",
   "metadata": {},
   "source": [
    "A variação (desvio padrão) é relativamente baixa para o método 'multithreads_cpu_go', mas mais alta para os outros métodos. Isso sugere que os resultados para o Golang são mais consistentes.\n",
    "\n",
    "Foram realizadas 10 medições exploratórias para cada método, como ponto de partida para análises exploratórias. No entanto, para resultados mais conclusivos, especialmente em situações com maior variação, um número maior de medições pode ser necessário no estudo principal.\n",
    "\n",
    "Quanto à magnitude das Diferenças, já nos estudos exploratórios foi notória a diferença relevante nos tempos médios e medianos entre os métodos de multithreading e singlethreading, sugerindo que a hipótese h1 (multithreading é mais rápido que singlethreading) pode ser suportada. Já quanto à diferença entre as implementações em multithreading em Python versus Golang a diferença, embora aparente, foi pequena, demandando um teste de hipóteses específico dentro do estudo principal para determinar se essa diferença é estatisticamente significativa para h2.\n",
    "\n",
    "Para avaliação mais precisa, realizamos testes estatísticos ANOVA e teste t, para h1 e h2, levando em consideração as observações exploratórias, para avaliar se os p-valores são baixos o suficiente (abaixo de 0.05) para comprovar que as diferenças observadas são estatisticamente significativas."
   ]
  },
  {
   "cell_type": "markdown",
   "metadata": {},
   "source": [
    "## Cálculo da Análise de variância (ANOVA) "
   ]
  },
  {
   "cell_type": "code",
   "execution_count": null,
   "metadata": {},
   "outputs": [],
   "source": [
    "# !pip3 install statsmodels"
   ]
  },
  {
   "cell_type": "code",
   "execution_count": null,
   "metadata": {},
   "outputs": [],
   "source": [
    "# Instanciar e rodar análise ANOVA do experimento principal\n",
    "from descriptive_statistics import ANOVA\n",
    "\n",
    "analysis = ANOVA(df)\n",
    "anova_results = analysis.perform_anova()\n",
    "anova_results"
   ]
  },
  {
   "cell_type": "code",
   "execution_count": null,
   "metadata": {},
   "outputs": [],
   "source": [
    "post_hoc_results = analysis.perform_post_hoc_tests()\n",
    "analysis.interpret_results(anova_results, post_hoc_results)"
   ]
  },
  {
   "cell_type": "markdown",
   "metadata": {},
   "source": [
    "## Memória de cálculo ANOVA dos métodos avaliados em conjunto"
   ]
  },
  {
   "cell_type": "markdown",
   "metadata": {},
   "source": [
    "Soma dos Quadrados (sum_sq):\n",
    "\n",
    "- Método:   1.802275 × 10^7 é a soma dos quadrados devido aos métodos, indicando a variação total atribuída aos diferentes métodos.\n",
    "- Residual: 1.505069 × 10^6 é a soma dos quadrados residual, indicando a variação dentro dos grupos, ou seja, a variação nos tempos de execução que não é explicada pelos diferentes métodos.\n",
    "\n",
    "Graus de Liberdade (df):\n",
    "\n",
    "- Método: 4 representa o número de grupos (métodos) menos um.\n",
    "- Residual: 45 calculado como o número total de observações menos o número de grupos (neste caso, 50 - 5).\n",
    "- F-Statistic (F):Valor: 134.715304 é o valor da estatística F, usado para determinar a significância estatística. Um valor F alto sugere que há variação significativa entre os grupos.\n",
    "- P-Value (PR(>F)): Valor: 1.963770 × 10^−24 é um valor p extremamente pequeno, o que indica que as diferenças nos tempos de execução entre os cinco métodos são estatisticamente significativas, como esperado.\n",
    "\n",
    "Conclusão\n",
    "\n",
    "- Significância Estatística: Dado o valor p muito baixo, podemos rejeitar a hipótese nula de que todos os métodos têm o mesmo tempo médio de execução. Isso indica que pelo menos um dos métodos difere significativamente dos outros em termos de tempo de execução."
   ]
  },
  {
   "cell_type": "markdown",
   "metadata": {},
   "source": [
    "### Descrição dos cálculos do Teste de Tukey\n",
    "Os resultados do teste post-hoc de Tukey HSD fornecem uma análise detalhada das diferenças entre os pares de métodos. \n",
    "\n",
    "#### Diferença de Médias (meandiff):\n",
    "\n",
    "- Indica a diferença média nos tempos de execução entre os dois métodos comparados.\n",
    "Valor P (p-adj):\n",
    "\n",
    "- Mostra a significância estatística da diferença entre cada par de métodos. Um valor p ajustado abaixo de 0.05 indica uma diferença estatisticamente significativa.\n",
    "Intervalo de Confiança (lower, upper):\n",
    "\n",
    "- Fornece o intervalo de confiança para a diferença de médias. Se este intervalo não incluir zero, a diferença é considerada estatisticamente significativa.\n",
    "Rejeição da Hipótese Nula (reject):\n",
    "\n",
    "- 'True' indica que a hipótese nula de não haver diferença significativa entre os dois métodos foi rejeitada. 'False' indica que não há evidência suficiente para rejeitar a hipótese nula.\n",
    "\n",
    "- Significativas vs Não Significativas: As diferenças nos tempos de execução entre 'multithreads_cpu_go' e ambos os métodos 'singlethread_cpu_py' e 'singlethread_gpu_py' são significativas. Similarmente, as diferenças entre 'multithreads_cpu_py' ou 'multithreads_gpu_py' e os métodos 'singlethread' também são significativas. Não há diferenças significativas entre 'multithreads_cpu_go' e 'multithreads_cpu_py' ou 'multithreads_gpu_py', nem entre 'multithreads_cpu_py' e 'multithreads_gpu_py', nem entre 'singlethread_cpu_py' e 'singlethread_gpu_py'.\n",
    "\n",
    "### Comparação do processamento serial com o processamento paralelo em CPU\n",
    "\n",
    "Como esperado, os métodos \"singlethread\" (tanto CPU quanto GPU) são estatisticamente mais lentos que os métodos \"multithread\" (CPU e GPU), sendo a ordem de grandeza da diferença possível de ser expressa pela comparação dos tempos médios de execução na ordem de quatro vezes mais rápido processar em multithread que em singlethread, sugerindo que os métodos \"multithread\" são mais eficientes em termos de tempo de execução.\n",
    "\n",
    "Porém, não foi possível detectar diferença estatisticamente significante entre os métodos \"multithreads_cpu_py\", \"multithreads_gpu_py\" e \"multithreads_cpu_go\", indicando que podem ser igualmente eficientes em termos de tempo de execução dentro do contexto dos experimentos realizados.\n",
    "\n",
    "### Comparar processo multithreading em CPU implementações Python versus Golang\n",
    "\n",
    "Já a análise dos resultados do teste post-hoc de Tukey HSD para a comparação específica entre os métodos \"multithreads_cpu_go\" implementado em Golang e \"multithreads_cpu_py\" implementado em Python, podemos fazer a seguinte interpretação:\n",
    "\n",
    "Comparação Entre \"multithreads_cpu_go\" e \"multithreads_cpu_py\":\n",
    "\n",
    "- Diferença de Médias (meandiff): -125.8074\n",
    "- Valor P (p-adj): 0.5438\n",
    "- Intervalo de Confiança: de -358.2025 a 106.5877\n",
    "- Rejeição da Hipótese Nula (reject): False\n",
    "\n",
    "### Explicação da análise\n",
    "\n",
    "- Diferença de Médias: A diferença média nos tempos de execução entre os métodos 'multithread' em Golang e Python é de -125.8074. Isso indica que, em média, o método 'multithreads_cpu_py' (Python) é ligeiramente mais rápido do que o método 'multithreads_cpu_go' (Golang), mas essa diferença é relativamente pequena.\n",
    "\n",
    "- Significância Estatística: O valor p de 0.5438 é bem acima do limiar comum de 0.05, o que significa que a diferença observada entre os dois métodos não é estatisticamente significativa.\n",
    "\n",
    "- Intervalo de Confiança: O intervalo de confiança para a diferença de médias inclui zero, reforçando a conclusão de que não há uma diferença estatisticamente significativa entre os métodos.\n",
    "\n",
    "- Rejeição da Hipótese Nula: Como o valor 'reject' é False, não rejeitamos a hipótese nula. Isso sugere que não há evidência suficiente para afirmar que existe uma diferença significativa nos tempos de execução entre 'multithreads_cpu_go' e 'multithreads_cpu_py'.\n",
    "\n",
    "### Conclusão Prática\n",
    "\n",
    "Com base nos resultados do teste de Tukey HSD, podemos concluir que, em termos de tempo de execução, não há uma diferença significativa entre os métodos 'multithreads_cpu_go' (Golang) e 'multithreads_cpu_py' (Python). Isso sugere que ambos os métodos são comparáveis em termos de eficiência de tempo de execução para as tarefas testadas no seu estudo. Portanto, a escolha entre esses dois métodos pode ser baseada em outros fatores, como preferências de linguagem de programação, familiaridade com a tecnologia, disponibilidade de bibliotecas e recursos, entre outros aspectos práticos."
   ]
  },
  {
   "cell_type": "markdown",
   "metadata": {},
   "source": [
    "## Quadro de Resultados da Análise de Variância (ANOVA)"
   ]
  },
  {
   "cell_type": "markdown",
   "metadata": {},
   "source": [
    "A tabela ANOVA apresenta os seguintes resultados:\n",
    "\n",
    "| Fonte de Variação | Soma dos Quadrados (SQ) | Graus de Liberdade (gl) | F      | p-valor                |\n",
    "| ----------------- | ----------------------- | ----------------------- | ------ | ---------------------- |\n",
    "| Método            | 94367.95                | 1                       | 2403.41| 3.32 × 10<sup>-11</sup>|\n",
    "| Residual          | 314.11                  | 8                       | NA     | NA                     |\n",
    "\n",
    "- A \"Soma dos Quadrados\" para o Método é significativamente maior do que a Residual, indicando uma forte influência do método no tempo de execução.\n",
    "- O valor de F é 2403.41, o que é bastante elevado, mostrando que a variação entre os grupos é significativamente maior do que dentro dos grupos.\n",
    "- O p-valor é extremamente baixo (3.32 × 10<sup>-11</sup>), o que indica que as diferenças entre os métodos são estatisticamente significativas."
   ]
  },
  {
   "cell_type": "markdown",
   "metadata": {},
   "source": [
    "## Teste Post-Hoc (Tukey HSD)"
   ]
  },
  {
   "cell_type": "markdown",
   "metadata": {},
   "source": [
    "Os resultados do teste Tukey HSD são os seguintes:\n",
    "\n",
    "| Grupo 1           | Grupo 2           | Diferença de Médias | p-valor ajustado | Intervalo de Confiança Inferior | Superior |\n",
    "| ----------------- | ----------------- | ------------------- | ---------------- | ------------------------------ | -------- |\n",
    "| multithreads_cpu_go| multithreads_cpu_py| -194.29             | 0.0000           | -203.43                        | -185.15  |\n",
    "\n",
    "- Existe uma diferença significativa na média de tempo de execução entre os métodos 'multithreads_cpu_go' e 'multithreads_cpu_py'.\n",
    "- A média do método 'multithreads_cpu_py' é 194.29 unidades menor que a do método 'multithreads_cpu_go', o que é estatisticamente significativo (p-valor ajustado = 0.0000).\n",
    "- O intervalo de confiança não inclui 0, reforçando que a diferença observada é significativa.\n"
   ]
  },
  {
   "cell_type": "markdown",
   "metadata": {},
   "source": [
    "## Interpretar resultados da ANOVA e do Teste de Tukey HSD:"
   ]
  },
  {
   "cell_type": "markdown",
   "metadata": {},
   "source": [
    "1. **Resultados da ANOVA**: O valor-p muito baixo (1.963770e-24) indica que existem diferenças significativas nos tempos de execução entre os métodos analisados. Isso sugere que pelo menos um dos métodos difere significativamente dos outros em termos de tempo de execução.\n",
    "\n",
    "2. **Resultados do Teste Post-Hoc (Tukey HSD)**: Este teste detalha quais pares específicos de métodos têm diferenças significativas:\n",
    "   - **Diferenças significativas**: Foram observadas entre os métodos de multithreading (tanto em Python quanto em Go) e os métodos de singlethreading (tanto em Python quanto em GPU). Isso sugere que os métodos de multithreading são significativamente mais rápidos do que os métodos de singlethreading.\n",
    "   - **Sem diferenças significativas**: Entre os métodos de multithreading em Python e Go, e entre os métodos de singlethreading em Python e em GPU. Isso sugere que, estatisticamente, esses métodos têm desempenhos semelhantes em termos de tempo de execução.\n",
    "\n",
    "Alguma discrepância pode surgir entre os resultados dos testes de hipóteses individuais e a ANOVA com Tukey HSD devido à natureza desses testes. \n",
    "\n",
    "A ANOVA testa diferenças entre grupos, enquanto os testes de hipóteses individuais podem se concentrar em comparações específicas. \n",
    "\n",
    "A ANOVA, seguida pelo Teste de Tukey, fornece uma visão mais abrangente das diferenças entre todos os métodos comparados, enquanto os testes de hipóteses individuais oferecem uma visão mais direcionada das comparações específicas."
   ]
  },
  {
   "cell_type": "markdown",
   "metadata": {},
   "source": [
    "# <b>Estudo Principal</b>\n",
    "\n",
    "- Utilizando o paralelismo por MultiThreading em CPU, comparar implementações Pyhton versus Golang"
   ]
  },
  {
   "cell_type": "markdown",
   "metadata": {},
   "source": [
    "## Avaliação do tamanho das amostras para Estudo Principal"
   ]
  },
  {
   "cell_type": "markdown",
   "metadata": {},
   "source": [
    "A avaliação da suficiência da quantidade de amostras para conduzir o Estudo Principal com base nos resultados da estatística descritiva e do IQR envolve considerar a variabilidade e a consistência dos dados. Aqui estão alguns pontos a considerar:\n",
    "\n",
    "Desvio Padrão e Variação: Os métodos singlethread_cpu_py, singlethread_gpu_py, multithreads_cpu_py e multithreads_gpu_py mostram desvios padrão relativamente altos e IQRs significativos, indicando uma variabilidade considerável nos tempos de execução. Isso pode sugerir a necessidade de coletar mais amostras para obter estimativas mais precisas.\n",
    "\n",
    "Consistência: O método multithreads_cpu_go mostra um desvio padrão muito baixo e um IQR pequeno, indicando resultados consistentes. Para este método, as 10 amostras parecem suficientes.\n",
    "\n",
    "Número de Amostras (count): Embora 10 amostras possam ser suficientes para uma análise preliminar, para testes estatísticos mais robustos, especialmente quando há variabilidade significativa, é geralmente recomendado um número maior de amostras. Isso aumenta a precisão das estimativas e a confiabilidade dos testes de hipóteses.\n",
    "\n",
    "Análise de Outliers: O IQR alto sugere a possibilidade de outliers. Seria prudente investigar esses outliers e considerar coletar mais dados para garantir que os resultados não sejam distorcidos por poucas observações atípicas.\n",
    "\n",
    "Com base nessa análise, para os métodos com alta variabilidade e IQRs significativos, seria aconselhável coletar mais amostras antes de prosseguir para o Estudo Principal. Isso ajudaria a garantir que as conclusões sejam baseadas em dados representativos e robustos."
   ]
  },
  {
   "cell_type": "markdown",
   "metadata": {},
   "source": [
    "## Avaliação da normalidade dos dados"
   ]
  },
  {
   "cell_type": "code",
   "execution_count": null,
   "metadata": {},
   "outputs": [],
   "source": [
    "from descriptive_statistics import DataNormalityTest\n",
    "from pprint import pprint\n",
    "\n",
    "normality_test = DataNormalityTest(results)\n",
    "normality_results = normality_test.test_normality()\n",
    "normality_test_interpretations = normality_test.interpret_normality_results()\n",
    "\n",
    "for i in normality_test_interpretations.values():\n",
    "    pprint(i, width=140)\n",
    "    print()"
   ]
  },
  {
   "cell_type": "markdown",
   "metadata": {},
   "source": [
    "## Teste t de Student para hipótese avaliar diferença CPU/GPU"
   ]
  },
  {
   "cell_type": "code",
   "execution_count": null,
   "metadata": {},
   "outputs": [],
   "source": [
    "from descriptive_statistics import StudentTTest\n",
    "\n",
    "t_test = StudentTTest(results)\n",
    "comparision = ('multithreads_cpu_py', 'multithreads_gpu_py')\n",
    "t_test_result = t_test.apply_t_test(*comparision)\n",
    "interpretation = t_test.interpret_results(comparision[0], comparision[1], t_test_result)\n",
    "print(interpretation)\n",
    "print()"
   ]
  },
  {
   "cell_type": "markdown",
   "metadata": {},
   "source": [
    "## Planejamento das Hipóteses do Estudo Principal"
   ]
  },
  {
   "cell_type": "markdown",
   "metadata": {},
   "source": [
    "Com base nos resultados dos estudos piloto, os resultados da análise exploratória e do teste de normalidade, permitiram selecionar os métodos para o estudo principal.\n",
    "\n",
    "A análise das estatísticas descritivas revelou diferenças significativas nos tempos de execução entre os métodos. Especialmente notável foi a diferença entre os métodos de multithreading (Python e Go) e os métodos de singlethreading.\n",
    "\n",
    "Quanto ao teste de normalidade dos dados, quatro dos cinco métodos (todos exceto multithreads_cpu_go) apresentaram evidências de seguir uma distribuição normal, indicando a adequação de testes paramétricos para a comparação.\n",
    "\n",
    "O método multithreads_cpu_go foi excluído do estudo principal, por não seguir uma distribuição normal, sendo analisado separadamente usando teste não paramétricos, com o teste de Mann-Whitney.\n",
    "\n",
    "A comparação entre CPU e GPU foi abandonada devido a similaridade de desempenho. Os tempos de execução entre as implementações com CPU e GPU mostraram-se bastante similares, indicando que a variação de desempenho entre essas duas abordagens não era substancial para o contexto do estudo.\n",
    "\n",
    "### Seleção de métodos e hipóteses para Estudo Principal: \n",
    "\n",
    "Com base nos resultados da fase exploratória e estudos piloto, foi direcionado o foco do estudo principal para avaliar as implementaões em Multithreading em cada Linguagem. Observou-se uma diferença de desempenho mais significativa entre os métodos de multithreading e singlethreading, e entre as implementações em Python e Go.\n",
    "\n",
    "Portanto, o Estudo Principal foi planejado para testar as seguintes hipóteses:\n",
    "\n",
    "- H1: A execução em multithreading é mais rápida que em singlethreading.\n",
    "- H2: A execução em multithreading com Golang é mais rápida que a execução multithread em Python.\n"
   ]
  },
  {
   "cell_type": "markdown",
   "metadata": {},
   "source": [
    "Decidiu-se incluir dos dados dos métodos 'multithreads_cpu_py' e 'multithreads_cpu_go' no estudo principal para testar a hipótese H2 (comparação entre Python e Go em multithreading), e os dados dos métodos 'singlethread_cpu_py' e 'multithreads_cpu_py' para testar a hipótese H1 (comparação entre multithreading e singlethreading).\n",
    "\n",
    "Aplicação de Testes Estatísticos: Utilizou-se o teste t de Student para amostras independentes e o teste de Mann-Whitney, a depender da normalidade dos dados."
   ]
  },
  {
   "cell_type": "markdown",
   "metadata": {},
   "source": [
    "### Metodologia do Estudo Principal:\n",
    "\n",
    "O Estudo Principal visa comparar dois a dois dos métodos de processamento mais promissores, foi planejado e executado seguindo estas etapas:\n",
    "\n",
    "- Planejamento do Estudo Principal: Com base nos resultados preliminares, focou-se na comparação entre métodos de multithreading (Python e Go) e a comparação entre multithreading e singlethreading.\n",
    "\n",
    "Testes de Hipóteses:\n",
    "\n",
    "- Hipótese H1 (Multithreading vs Singlethreading): Utilizou-se os métodos singlethread_cpu_py e multithreads_cpu_py para avaliar se a execução em multithreading é significativamente mais rápida que em singlethreading.\n",
    "\n",
    "- Hipótese H2 (Multithreading em Python vs Go): Comparou-se multithreads_cpu_py e multithreads_cpu_go para determinar qual apresenta melhor desempenho.\n",
    "Aplicação de Testes Estatísticos:\n",
    "\n",
    "Para H1, aplicou-se o teste t de Student, considerando a normalidade dos dados para os métodos envolvidos.\n",
    "\n",
    "Para H2, utilizou-se o teste de Mann-Whitney, devido à não normalidade dos dados de multithreads_cpu_go.\n",
    "\n",
    "Interpretação dos Resultados: Os resultados foram analisados estatisticamente, com interpretações baseadas nos valores-p e estatísticas dos testes aplicados, para concluir sobre a rejeição ou não das hipóteses propostas."
   ]
  },
  {
   "cell_type": "markdown",
   "metadata": {},
   "source": [
    "## Cálcular tamanho do efeito (Cohen's d) para estudo principal"
   ]
  },
  {
   "cell_type": "markdown",
   "metadata": {},
   "source": [
    "No contexto da comparação dos métodos de processamento do presente estudo os conceitos de Tamanho do Efeito e Poder Estatístico podem ser melhor compreendidos como:\n",
    "\n",
    "Tamanho do Efeito: Indica a magnitude da diferença em tempos de execução entre os métodos comparados. Um tamanho de efeito grande significa uma diferença substancial no desempenho entre os dois métodos. Por exemplo, um tamanho de efeito grande para H1 (Multithreading vs Singlethreading) sugere que o multithreading tem um desempenho significativamente superior ao singlethreading em termos de tempo de execução.\n",
    "\n",
    "Poder Estatístico: Refere-se à probabilidade de detectar essa diferença significativa nos tempos de execução, caso ela realmente exista. Um alto poder estatístico no contexto desse estudo significa que há uma boa chance de identificar corretamente qual método é mais rápido, reduzindo o risco de conclusões incorretas devido à variação aleatória nos tempos de execução.\n",
    "\n",
    "O tamanho de efeito, frequentemente representado por Cohen's d na análise de comparação de médias, é classificado da seguinte forma para indicar sua magnitude:\n",
    "\n",
    "- Pequeno: 0.2 ou próximo disso. Indica uma diferença pequena entre os grupos.\n",
    "\n",
    "- Médio: Em torno de 0.5. Representa uma diferença moderada entre os grupos.\n",
    "\n",
    "- Grande: 0.8 ou mais. Indica uma diferença substancial ou grande entre os grupos.\n",
    "\n",
    "Esses valores são diretrizes gerais. Na prática, o contexto do estudo e a área de aplicação podem influenciar a interpretação da significância do tamanho do efeito. Por exemplo, em alguns campos da pesquisa, um tamanho de efeito \"pequeno\" pode ser muito relevante, especialmente em estudos com grandes amostras.\n"
   ]
  },
  {
   "cell_type": "markdown",
   "metadata": {},
   "source": [
    "## Cálcular tamanho da amostra suficiente para estudo principal"
   ]
  },
  {
   "cell_type": "code",
   "execution_count": null,
   "metadata": {},
   "outputs": [],
   "source": [
    "import numpy as np\n",
    "from descriptive_statistics import SampleSizeCalculator\n",
    "\n",
    "# Instanciando a classe SampleSizeCalculator\n",
    "sample_size_calculator = SampleSizeCalculator(results)\n",
    "\n",
    "# Calculando o tamanho do efeito para as comparações de interesse\n",
    "effect_size_h1 = np.round(sample_size_calculator.calculate_effect_size('singlethread_cpu_py', 'multithreads_cpu_py'),4)\n",
    "print(f\"Tamanho do efeito para H1: {effect_size_h1}\")\n",
    "\n",
    "effect_size_h2 = np.round(sample_size_calculator.calculate_effect_size('multithreads_cpu_py', 'multithreads_cpu_go'),4)\n",
    "print(f\"Tamanho do efeito para H2: {effect_size_h2}\")"
   ]
  },
  {
   "cell_type": "code",
   "execution_count": null,
   "metadata": {},
   "outputs": [],
   "source": [
    "# Definição do poder estatístico desejado\n",
    "power = 0.99\n",
    "\n",
    "# Calculando o tamanho da amostra necessário dados o poder estatístico desejado e o tamanho do efeito entre cada grupo\n",
    "sample_size_h1 = sample_size_calculator.calculate_sample_size(['singlethread_cpu_py', 'multithreads_cpu_py'], \n",
    "                                                              effect_size_h1, \n",
    "                                                              power)\n",
    "print(\"\\nCálculo do tamanho da amostra para H1:\")\n",
    "for i in sample_size_h1.items():\n",
    "    print(i)\n",
    "\n",
    "sample_size_h2 = sample_size_calculator.calculate_sample_size(['multithreads_cpu_py', 'multithreads_cpu_go'], \n",
    "                                                              effect_size_h2, \n",
    "                                                              power)\n",
    "print(\"\\nCálculo do tamanho da amostra para H2:\")\n",
    "for i in sample_size_h2.items():\n",
    "    print(i)"
   ]
  },
  {
   "cell_type": "markdown",
   "metadata": {},
   "source": [
    "Os valores menores para o tamanho da amostra indicam que, com base nos parâmetros estatísticos estabelecidos (tamanho do efeito e poder estatístico), é necessário um número reduzido de observações para detectar uma diferença estatisticamente significativa entre os métodos comparados. \n",
    "\n",
    "Esses resultados sugerem que mesmo com poucas observações, é possível atingir um nível de confiança razoável nas conclusões sobre as diferenças de desempenho entre os métodos de processamento em multithreading e singlethreading (H1) e entre as implementações em Python e Go (H2).\n",
    "\n",
    "Considerando que o tamanho da amostra necessário para alcançar um poder estatístico adequado e detectar diferenças significativas é menor do que o número de observações já coletadas no estudo piloto, é possível prosseguir com os testes de hipóteses usando os dados disponíveis coletados durante a fase exploratória. \n",
    "\n",
    "Isso implica que as 10 observações coletadas para cada método são suficientes para conduzir uma análise estatística robusta e tirar conclusões válidas sobre as hipóteses H1 e H2."
   ]
  },
  {
   "cell_type": "markdown",
   "metadata": {},
   "source": [
    "## Hipótese H1 (Multithreading vs Singlethreading)"
   ]
  },
  {
   "cell_type": "code",
   "execution_count": null,
   "metadata": {},
   "outputs": [],
   "source": [
    "t_test = StudentTTest(results)\n",
    "comparision = ('singlethread_cpu_py', 'multithreads_cpu_py')\n",
    "t_test_result = t_test.apply_t_test(*comparision)\n",
    "interpretation = t_test.interpret_results(comparision[0], comparision[1], t_test_result)\n",
    "print(interpretation)\n",
    "print()\n",
    "t_test = StudentTTest(results)\n",
    "comparision = ('singlethread_gpu_py', 'multithreads_gpu_py')\n",
    "t_test_result = t_test.apply_t_test(*comparision)\n",
    "interpretation = t_test.interpret_results(comparision[0], comparision[1], t_test_result)\n",
    "print(interpretation)"
   ]
  },
  {
   "cell_type": "markdown",
   "metadata": {},
   "source": [
    "## Hipótese H2 (Multithreading em Python vs Go)"
   ]
  },
  {
   "cell_type": "markdown",
   "metadata": {},
   "source": [
    "### Teste de Mann-Whitney U\n",
    "Para aplicar um teste de hipóteses adequado para o conjunto os dados multithreads_cpu_go, que não seguem uma distribuição normal, aplicamos um teste não paramétrico, o Teste de Mann-Whitney U. \n",
    "\n",
    "Foi usado e teste U de Mann-Whitney para comparar diferenças entre duas amostras independentes, já que as premissas de normalidade para o teste t de Student não foram atendidas, porque os dados não seguem uma distribuição normal. Este teste não assume uma distribuição normal e é menos sensível a outliers do que o teste t.\n",
    "\n",
    "Os valores típicos analisados no Teste U de Mann-Whitney incluem:\n",
    "\n",
    "- Estatística U: Um valor numérico que indica a diferença entre as distribuições das duas amostras. Quanto menor o valor U, maior é a diferença entre os grupos.\n",
    "\n",
    "- Valor-p: Indica a significância estatística da diferença observada entre as amostras. Um valor-p baixo (tipicamente menor que 0.05) sugere que as diferenças observadas são estatisticamente significativas, enquanto um valor-p alto sugere que não são.\n",
    "\n",
    "A interpretação dos resultados se concentrou principalmente na estatística U e no valor-p. Se o valor-p for menor que o nível de significância (geralmente 0.05), a hipótese nula de que as duas amostras são iguais é rejeitada."
   ]
  },
  {
   "cell_type": "code",
   "execution_count": null,
   "metadata": {},
   "outputs": [],
   "source": [
    "from descriptive_statistics import MannWhitneyTest\n",
    "\n",
    "mann_whitney_test = MannWhitneyTest(results)\n",
    "np_comparision = ('multithreads_cpu_go', 'multithreads_cpu_py')\n",
    "mann_whitney_results = mann_whitney_test.apply_u_test(*np_comparision)\n",
    "mann_whitney_interpretation = mann_whitney_test.interpret_results(np_comparision[0], np_comparision[1], mann_whitney_results)\n",
    "print(mann_whitney_interpretation)\n",
    "print()\n",
    "mann_whitney_test = MannWhitneyTest(results)\n",
    "np_comparision = ('multithreads_cpu_go', 'multithreads_gpu_py')\n",
    "mann_whitney_results = mann_whitney_test.apply_u_test(*np_comparision)\n",
    "mann_whitney_interpretation = mann_whitney_test.interpret_results(np_comparision[0], np_comparision[1], mann_whitney_results)\n",
    "print(mann_whitney_interpretation)"
   ]
  },
  {
   "cell_type": "markdown",
   "metadata": {},
   "source": [
    "### Visualização dos dados de cálculo do tamanho do efeito"
   ]
  },
  {
   "cell_type": "code",
   "execution_count": null,
   "metadata": {},
   "outputs": [],
   "source": [
    "df_filtrado_cpu = df[df['Método'].isin(['multithreads_cpu_py', 'multithreads_cpu_go'])]\n",
    "df_filtrado_cpu"
   ]
  },
  {
   "cell_type": "code",
   "execution_count": null,
   "metadata": {},
   "outputs": [],
   "source": [
    "media = df_filtrado_cpu.groupby('Método').mean().rename_axis('Médias de tempo de execução', axis='index')\n",
    "media"
   ]
  },
  {
   "cell_type": "code",
   "execution_count": null,
   "metadata": {},
   "outputs": [],
   "source": [
    "variancia = df_filtrado_cpu.groupby('Método').var().rename_axis('Variância nos tempo de execução', axis='index')\n",
    "variancia"
   ]
  },
  {
   "cell_type": "code",
   "execution_count": null,
   "metadata": {},
   "outputs": [],
   "source": [
    "df_filtrado_python = df[df['Método'].isin(['multithreads_cpu_py', 'multithreads_gpu_py'])]\n",
    "df_filtrado_python"
   ]
  },
  {
   "cell_type": "code",
   "execution_count": null,
   "metadata": {},
   "outputs": [],
   "source": [
    "import numpy as np\n",
    "\n",
    "# Usando as médias e desvios padrão para cada método obtidos no piloto\n",
    "media_py = media['Tempo']['multithreads_cpu_py']\n",
    "media_go = media['Tempo']['multithreads_cpu_go']\n",
    "sd_py = np.sqrt(variancia['Tempo']['multithreads_cpu_py'])\n",
    "sd_go = np.sqrt(variancia['Tempo']['multithreads_cpu_go'])\n",
    "\n",
    "# Calculando Cohen's d para o tamanho do efeito\n",
    "n_py = len(df_filtrado_cpu[df_filtrado_cpu['Método'] == 'multithreads_cpu_py'])\n",
    "n_go = len(df_filtrado_cpu[df_filtrado_cpu['Método'] == 'multithreads_cpu_go'])\n",
    "pooled_sd = np.sqrt(((n_py - 1) * sd_py**2 + (n_go - 1) * sd_go**2) / (n_py + n_go - 2))\n",
    "effect_size = (media_py - media_go) / pooled_sd\n",
    "effect_size"
   ]
  },
  {
   "cell_type": "markdown",
   "metadata": {},
   "source": [
    "### Interpretação do Tamanho do efeito \n",
    "\n",
    "- Magnitude do Efeito:\n",
    "O tamanho do efeito é uma medida quantitativa da magnitude da diferença entre dois grupos. Neste caso, o valor de -2.55 é relativamente grande, indicando uma diferença substancial entre os grupos que você está comparando (multithreading em Python versus Golang).\n",
    "\n",
    "- Direção do Efeito:\n",
    "O sinal negativo (-) no tamanho do efeito indica a direção da diferença. Isso significa que o grupo de referência (provavelmente o grupo Python no seu cálculo) tem um tempo médio de execução significativamente menor em comparação com o outro grupo (Golang).\n",
    "\n",
    "- Interpretação:\n",
    "Um tamanho de efeito tão grande sugere que as diferenças nos tempos de execução entre os métodos de multithreading em Python e Golang são notáveis e potencialmente muito significativas do ponto de vista prático.\n",
    "\n",
    "- Cohen's d:\n",
    "O tamanho do efeito foi calculado com base emem Cohen's d, que é comumente usado para expressar a diferença entre duas médias em termos de desvio padrão. Valores de Cohen's d são geralmente interpretados da seguinte maneira:\n",
    "\n",
    "    Pequeno: 0.2\n",
    "    Médio: 0.5\n",
    "    Grande: 0.8\n",
    "\n",
    "- Considerações para o Estudo:\n",
    "Com um tamanho de efeito tão grande, será necessário um número menor de amostras para detectar uma diferença estatisticamente significativa entre os grupos. \n",
    "No entanto, é essencial considerar a precisão dessas estimativas e a variabilidade dos dados.\n",
    "Um tamanho de efeito de -2.55 indica uma diferença grande e potencialmente muito significativa entre os métodos de multithreading em Python e Golang tomados isoladamente. \n",
    "\n",
    "Como com apenas os resultados do estudo piloto não houve evidência suficiente para rejeitar a hipótese nula na comparação entre esses dois métodos, e considerando a diferença grande no tamanho do efeito calculado entre os dois métodos de multithreading, fica clara a necessidade de realizar novas medições específicas para comparar esses dois métodos, aproveitando para revisar os dados e os cálculos para garantir que tudo esteja correto e que não haja erros ou viéses inadvertidos na coleta de dados ou no cálculo."
   ]
  },
  {
   "cell_type": "markdown",
   "metadata": {},
   "source": [
    "### Cálculo do tamanho da amostra para o estudo entre os métodos de multithreading"
   ]
  },
  {
   "cell_type": "code",
   "execution_count": null,
   "metadata": {},
   "outputs": [],
   "source": [
    "from statsmodels.stats.power import TTestIndPower\n",
    "\n",
    "# Parâmetros para o cálculo\n",
    "alpha = 0.05  # Nível de significância\n",
    "power = 0.9   # Poder do teste\n",
    "\n",
    "analysis = TTestIndPower()\n",
    "sample_size = analysis.solve_power(effect_size=effect_size, alpha=alpha, power=power, ratio=1.0, alternative='two-sided')\n",
    "\n",
    "sample_size"
   ]
  },
  {
   "cell_type": "code",
   "execution_count": null,
   "metadata": {},
   "outputs": [],
   "source": [
    "import subprocess\n",
    "import json\n",
    "import time\n",
    "import tqdm\n",
    "from source.domain.dataset_articles_generator_py import DatasetArticlesGenerator\n",
    "\n",
    "# Função para preparar e processar os dados com o programa Go\n",
    "def process_data_multithreads_with_go(dict_list, go_executable=\"./dataset_articles_generator\"):\n",
    "    folder = './../data/'\n",
    "\n",
    "    start_time = time.time()\n",
    "\n",
    "    # Salvar os dados em um arquivo JSON para entrada na função de processamento de currículos\n",
    "    input_json = folder + \"input_golang_preprocessed.json\"\n",
    "    with open(input_json, \"w\") as file:\n",
    "        json.dump(dict_list, file)\n",
    "\n",
    "    output_json = folder + \"articles_dataset_mtgo.json\"  # Arquivo de saída\n",
    "    progress_file = folder + \"progress.txt\"  # Arquivo de progresso\n",
    "\n",
    "    # Limpar o arquivo de progresso antes de começar\n",
    "    with open(progress_file, \"w\") as file:\n",
    "        pass\n",
    "\n",
    "    # Iniciar o subprocesso Go com os caminhos de entrada e saída\n",
    "    go_process = subprocess.Popen([go_executable, input_json, output_json])\n",
    "\n",
    "    # Preparar a barra de progresso\n",
    "    progress_bar = tqdm(total=len(dict_list), desc=\"Multi-Thread CPU-Based Similarity Analysis Experiment in Golang\")\n",
    "\n",
    "    # Monitorar o progresso\n",
    "    while go_process.poll() is None:\n",
    "        try:\n",
    "            with open(progress_file, \"r\") as file:\n",
    "                progress = int(file.read().strip())\n",
    "            progress_bar.n = progress\n",
    "            progress_bar.refresh()\n",
    "        except (FileNotFoundError, ValueError):\n",
    "            pass\n",
    "        time.sleep(1)\n",
    "\n",
    "    # Atualização final após o término do loop para garantir 100% de progresso\n",
    "    try:\n",
    "        with open(progress_file, \"r\") as file:\n",
    "            progress = int(file.read().strip())\n",
    "        progress_bar.n = progress\n",
    "        progress_bar.refresh()\n",
    "    except (FileNotFoundError, ValueError):\n",
    "        pass\n",
    "\n",
    "    \n",
    "    progress_bar.close()\n",
    "    execution_time = time.time() - start_time\n",
    "    \n",
    "    # Ler os resultados processados\n",
    "    with open(output_json, \"r\") as file:\n",
    "        processed_data = json.load(file)\n",
    "\n",
    "    return processed_data, execution_time\n",
    "\n",
    "if __name__ == \"__main__\":\n",
    "    extracted_data_list = dict_list\n",
    "    results = []\n",
    "    experiment_data = []\n",
    "\n",
    "    # Quantidade de corridas de teste para estudo piloto\n",
    "    n = 5\n",
    "\n",
    "    for i in range(n):\n",
    "        print(f'Bateria de testes {i+1}/{max(range(n))+1}')\n",
    "        dataset_generator = DatasetArticlesGenerator()\n",
    "        folder = './../data/'\n",
    "\n",
    "        # Executar os diferentes métodos de processamento e coletar tempos\n",
    "        print('  1. Medindo processamento multithreading com python em CPU...')\n",
    "        start_time = time.time()\n",
    "        exectimes_multithreads_py = dataset_generator.process_dicts_multithread(extracted_data_list, \n",
    "                                                                                         folder + \"output_multithreads_py.json\", \n",
    "                                                                                         folder + \"output_multithreads_py.h5\")\n",
    "        multithreads_py_time = time.time() - start_time\n",
    "        \n",
    "        # Processamento com Go (multithread)\n",
    "        print('  2. Medindo processamento multithreading com golang em CPU...')\n",
    "        processed_data_go, multithreading_go_time = process_data_multithreads_with_go(extracted_data_list)\n",
    "        exectimes_multithreading_go = multithreading_go_time\n",
    "\n",
    "        # Coletar dados adicionais de requisições e tempo gasto\n",
    "        request_count = dataset_generator.request_count\n",
    "        time_spent = dataset_generator.time_spent\n",
    "\n",
    "        # Adicionar ao registro de resultados\n",
    "        execution_times = {\n",
    "            'multithreads_cpu_py': multithreads_py_time,\n",
    "            'multithreads_cpu_go': multithreading_go_time,\n",
    "        }\n",
    "        results.append({\n",
    "            'execution_times': execution_times,\n",
    "            'request_count': request_count,\n",
    "            'time_spent': time_spent\n",
    "        })\n",
    "\n",
    "        # Armazenar dados para plotagem\n",
    "        experiment_data.append({\n",
    "            'request_count': request_count,\n",
    "            'time_spent': time_spent\n",
    "        })\n",
    "\n",
    "        # Caminho do arquivo de destino\n",
    "        file_path = './../data/experiments_principal_results.json'\n",
    "\n",
    "        # Salvando os dados em formato JSON\n",
    "        with open(file_path, 'w') as file:\n",
    "            json.dump(results, file, indent=4)\n",
    "\n",
    "    # Plotar os dados coletados\n",
    "    # dataset_generator.plot_time_spent_by_activity(experiment_data)"
   ]
  },
  {
   "cell_type": "code",
   "execution_count": null,
   "metadata": {},
   "outputs": [],
   "source": [
    "# Carregar resultados salvos previamente dos estudos piloto\n",
    "results_principal = jfm.load_from_json('./../data/experiments_principal_results.json')\n",
    "print(f\"{len(results_principal)} experimentos de medição de tempo de execução dois a dois\")\n",
    "results_principal"
   ]
  },
  {
   "cell_type": "code",
   "execution_count": null,
   "metadata": {},
   "outputs": [],
   "source": [
    "import pandas as pd\n",
    "import statsmodels.api as sm\n",
    "from statsmodels.formula.api import ols\n",
    "from statsmodels.stats.multicomp import pairwise_tukeyhsd\n",
    "from statsmodels.stats.power import FTestAnovaPower\n",
    "\n",
    "# Transformando a lista de dicionários em um DataFrame\n",
    "data = []\n",
    "for result in results_principal:\n",
    "    for method, time in result['execution_times'].items():\n",
    "        data.append({'Método': method, 'Tempo': time})\n",
    "\n",
    "df = pd.DataFrame(data)\n",
    "df"
   ]
  },
  {
   "cell_type": "code",
   "execution_count": null,
   "metadata": {},
   "outputs": [],
   "source": [
    "import plotly.graph_objects as go\n",
    "from plotly.subplots import make_subplots\n",
    "\n",
    "def plot_2boxplot(results, ylims=None):\n",
    "    # Se ylims for None, inicialize-o como um dicionário vazio\n",
    "    if ylims is None:\n",
    "        ylims = {}\n",
    "\n",
    "    # Preparar dados para o boxplot\n",
    "    multithreads_py_times = [res['execution_times']['multithreads_cpu_py'] for res in results]\n",
    "    multithreads_go_times = [res['execution_times']['multithreads_cpu_go'] for res in results]\n",
    "\n",
    "    # Calcular medianas\n",
    "    medians = {\n",
    "        'Multithread Py CPU': round(np.median(multithreads_py_times), 1),\n",
    "        'Multithread Go CPU': round(np.median(multithreads_go_times), 1)\n",
    "    }\n",
    "\n",
    "    # Criar subplots\n",
    "    fig = make_subplots(rows=1, cols=2, \n",
    "                        subplot_titles=(\"Multi Thread CPU Python\", \"Multi Thread CPU Golang\"))\n",
    "\n",
    "    fig.add_trace(go.Box(y=multithreads_py_times, \n",
    "                         name=\"Multithread Py CPU\", \n",
    "                         marker_color='green'), row=1, col=1)\n",
    "    fig.add_trace(go.Box(y=multithreads_go_times, \n",
    "                         name=\"Multithread Go CPU\", \n",
    "                         marker_color='purple'), row=1, col=2)\n",
    "\n",
    "    # Configurar limites do eixo y para cada subplot\n",
    "    for i in range(1, 3):\n",
    "        if f'y{i}_lim' in ylims:\n",
    "            fig.update_yaxes(range=ylims[f'y{i}_lim'], row=1, col=i)\n",
    "\n",
    "    # Adicionar anotações de mediana e desvio padrão\n",
    "    for i, dataset in enumerate([multithreads_py_times, multithreads_go_times], start=1):\n",
    "        median = np.median(dataset)\n",
    "        std_dev = np.std(dataset)\n",
    "\n",
    "        # Calcular a posição central de cada subplot\n",
    "        center_pos = 0\n",
    "\n",
    "        fig.add_annotation(dict(\n",
    "            xref=f'x{i}', yref=f'y{i}', \n",
    "            x=center_pos, y=median, \n",
    "            text=f\"Mediana: {median:.2f}\", showarrow=False, xanchor='center', yshift=10\n",
    "        ))\n",
    "\n",
    "        fig.add_annotation(dict(\n",
    "            xref=f'x{i}', yref=f'y{i}', \n",
    "            x=center_pos, y=median, \n",
    "            text=f\"Desv.Pad.: {std_dev:.4f}\", showarrow=False, xanchor='center', yshift=-10\n",
    "        ))\n",
    "\n",
    "    # Configurações de layout\n",
    "    fig.update_layout(\n",
    "                    #   title='Visualização da variação dentro de cada um dos experimentos comparados',\n",
    "                      yaxis_title='Tempo de Execução (s)')\n",
    "\n",
    "    fig.show(renderer=\"notebook\")\n",
    "\n",
    "def plot_2execution_times_comparison(experiment_data):\n",
    "    # Preparar dados para o boxplot\n",
    "    multithreads_py_times = [np.round(res['execution_times']['multithreads_cpu_py'],4) for res in results]\n",
    "    multithreads_go_times = [np.round(res['execution_times']['multithreads_cpu_go'],4) for res in results]\n",
    "\n",
    "    # Criar uma lista de rótulos para o eixo X\n",
    "    labels = [f'Experimento {i+1}' for i in range(len(experiment_data))]\n",
    "\n",
    "    # Criar o gráfico\n",
    "    fig = go.Figure(data=[\n",
    "        go.Bar(name='Multithread Py CPU', x=labels, y=multithreads_py_times, text=multithreads_py_times, textposition='outside', marker_color='green'),\n",
    "        go.Bar(name='Multithread Go CPU', x=labels, y=multithreads_go_times, text=multithreads_go_times, textposition='outside', marker_color='purple'),\n",
    "    ])\n",
    "\n",
    "\n",
    "    # Atualizar layout do gráfico\n",
    "    fig.update_layout(\n",
    "        barmode='group',\n",
    "        # title='Comparação Visual dos Tempos de Execução em Python',\n",
    "        xaxis_title='Experimento',\n",
    "        yaxis_title='Tempo de Execução (segundos)'\n",
    "    )\n",
    "\n",
    "    # Exibir gráfico\n",
    "    fig.show(renderer=\"notebook\")\n",
    "\n",
    "def plot_2scatter(results):\n",
    "    # Preparar dados para o scatterplot\n",
    "    multithreads_py_times = [res['execution_times']['multithreads_cpu_py'] for res in results]\n",
    "    multithreads_go_times = [res['execution_times']['multithreads_cpu_go'] for res in results]\n",
    "\n",
    "    # Criar scatter plot\n",
    "    fig = go.Figure()\n",
    "\n",
    "    # Adicionar pontos de dados e rótulos\n",
    "    for i in range(len(results)):\n",
    "        fig.add_trace(go.Scatter(x=[i], y=[multithreads_py_times[i]], mode='markers+text', name='Multithread Python CPU',\n",
    "                                 text=[f'{multithreads_py_times[i]:.1f}'], textposition='top center', marker_color='green'))\n",
    "        fig.add_trace(go.Scatter(x=[i], y=[multithreads_go_times[i]], mode='markers+text', name='Multithread Golang CPU',\n",
    "                                 text=[f'{multithreads_go_times[i]:.1f}'], textposition='top center', marker_color='purple'))\n",
    "\n",
    "    # Configurações de layout\n",
    "    fig.update_layout(\n",
    "                    #   title='Comparação Estatística dos Tempos de Execução em Python',\n",
    "                      yaxis_title='Tempo de Execução (s)')\n",
    "\n",
    "    fig.show(renderer=\"notebook\")\n",
    "\n",
    "\n",
    "ylims2 = {\n",
    "    'y1_lim': [138, 159], \n",
    "    'y2_lim': [340.573, 340.585], \n",
    "}\n",
    "\n",
    "# Chamada da função com a lista de resultados\n",
    "plot_2execution_times_comparison(results_principal)\n",
    "plot_2boxplot(results_principal)\n",
    "# plot_2scatter(results_principal)"
   ]
  },
  {
   "cell_type": "code",
   "execution_count": null,
   "metadata": {},
   "outputs": [],
   "source": [
    "import subprocess\n",
    "import json\n",
    "import time\n",
    "from tqdm.notebook import tqdm\n",
    "from source.domain.dataset_articles_generator_py import DatasetArticlesGenerator\n",
    "\n",
    "# Função para preparar e processar dados com multithreading em Golang sem recursividade\n",
    "def process_data_multithreads_with_go(dict_list, go_executable=\"./dataset_articles_generator\"):\n",
    "    folder = './../data/'\n",
    "\n",
    "    start_time = time.time()\n",
    "\n",
    "    # Salvar os dados em um arquivo JSON para entrada na função de processamento de currículos\n",
    "    input_json = folder + \"input_golang_preprocessed.json\"\n",
    "    with open(input_json, \"w\") as file:\n",
    "        json.dump(dict_list, file)\n",
    "\n",
    "    output_json = folder + \"articles_dataset_mtgo.json\"  # Arquivo de saída\n",
    "    progress_file = folder + \"progress.txt\"  # Arquivo de progresso\n",
    "\n",
    "    # Limpar o arquivo de progresso antes de começar\n",
    "    with open(progress_file, \"w\") as file:\n",
    "        pass\n",
    "\n",
    "    # Iniciar o subprocesso Go com os caminhos de entrada e saída\n",
    "    go_process = subprocess.Popen([go_executable, input_json, output_json])\n",
    "\n",
    "    # Preparar a barra de progresso\n",
    "    progress_bar = tqdm(total=len(dict_list))\n",
    "\n",
    "    # Monitorar o progresso\n",
    "    while go_process.poll() is None:\n",
    "        try:\n",
    "            with open(progress_file, \"r\") as file:\n",
    "                progress = int(file.read().strip())\n",
    "            progress_bar.n = progress\n",
    "            progress_bar.refresh()\n",
    "        except (FileNotFoundError, ValueError):\n",
    "            pass\n",
    "        time.sleep(1)\n",
    "\n",
    "    # Atualização final após o término do loop para garantir 100% de progresso\n",
    "    try:\n",
    "        with open(progress_file, \"r\") as file:\n",
    "            progress = int(file.read().strip())\n",
    "        progress_bar.n = progress\n",
    "        progress_bar.refresh()\n",
    "    except (FileNotFoundError, ValueError):\n",
    "        pass\n",
    "\n",
    "    \n",
    "    progress_bar.close()\n",
    "    execution_time = time.time() - start_time\n",
    "    \n",
    "    # Ler os resultados processados\n",
    "    with open(output_json, \"r\") as file:\n",
    "        processed_data = json.load(file)\n",
    "\n",
    "    return processed_data, execution_time\n",
    "\n",
    "# Função para preparar e processar dados com multithreading em Python\n",
    "def process_data_multithreads_with_py(all_extracted_data):\n",
    "    dataset_generator = DatasetArticlesGenerator()\n",
    "\n",
    "    # Medir o tempo de início\n",
    "    start_time = time.time()\n",
    "\n",
    "    # Processar os dados e salvar em arquivos locais\n",
    "    folder='./../data/'\n",
    "    processed_data_py = dataset_generator.process_dicts_multithread(all_extracted_data, \n",
    "                                                                          folder+\"articles_dataset_mtpy.json\", \n",
    "                                                                          folder+\"articles_dataset_mtpy.h5\")\n",
    "\n",
    "    # Calcular o tempo de execução\n",
    "    execution_time = np.round(time.time() - start_time,1)\n",
    "\n",
    "    return processed_data_py, execution_time\n",
    "\n",
    "# if __name__ == \"__main__\":\n",
    "#     all_extracted_data = dict_list  # Lista de dicionários quer servirá para montar o dataset de artigos\n",
    "\n",
    "#     # Processar em multithread com Python\n",
    "#     print(\"Iniciando processamento multithread com Python\")\n",
    "#     results_multithread, time_multithreads_py = process_data_multithreads_with_py(all_extracted_data)\n",
    "#     print(f\"Processamento multithread com Python concluído em {time_multithreads_py:.2f} segundos\")\n",
    "\n",
    "#     # Processar em multithread com Golang\n",
    "#     print(\"\\nIniciando processamento multithread com Golang\")\n",
    "#     processed_data_go, time_multithreads_go = process_data_multithreads_with_go(all_extracted_data)\n",
    "#     print(f\"Processamento multithread com Golang concluído em {time_multithreads_go:.2f} segundos\")\n",
    "\n",
    "#     # Comparar tempos de execução\n",
    "#     print(\"\\nComparação dos Tempos de Execução:\")\n",
    "#     print(f\"Multithread em Python: {time_multithreads_py:.2f} segundos\")\n",
    "#     print(f\"Multithread em Golang: {time_multithreads_go:.2f} segundos\")\n"
   ]
  },
  {
   "cell_type": "markdown",
   "metadata": {},
   "source": [
    "# <b>Gerar datasets</b>"
   ]
  },
  {
   "cell_type": "markdown",
   "metadata": {},
   "source": [
    "## Gerar dataset com módulo Python multithreading"
   ]
  },
  {
   "cell_type": "code",
   "execution_count": null,
   "metadata": {},
   "outputs": [],
   "source": [
    "# Gerar dataset de artigos completos publicados em periódicos com python\n",
    "all_extracted_data = dict_list\n",
    "processed_data_py, execution_time = process_data_multithreads_with_py(all_extracted_data)\n",
    "\n",
    "# O resultado é salvo nos arquivos especificados\n",
    "print(f\"\\nDataset de artigos publicados em periódicos montado com {len(processed_data_py)} dicionários processados\")"
   ]
  },
  {
   "cell_type": "code",
   "execution_count": null,
   "metadata": {},
   "outputs": [],
   "source": [
    "# processed_data_py"
   ]
  },
  {
   "cell_type": "code",
   "execution_count": null,
   "metadata": {},
   "outputs": [],
   "source": [
    "import json\n",
    "import pandas as pd\n",
    "\n",
    "# Carregar dados processados pelo Python\n",
    "folder='./../data/'\n",
    "with open(folder+'articles_dataset_mtpy.json', 'r') as file:\n",
    "    data_python = json.load(file)\n",
    "\n",
    "# Converter os dados para DataFrames do Pandas, se necessário\n",
    "df_python = pd.DataFrame(data_python)\n",
    "print(df_python.keys())\n",
    "df_python[:2]"
   ]
  },
  {
   "cell_type": "code",
   "execution_count": null,
   "metadata": {},
   "outputs": [],
   "source": [
    "# Filtrar as linhas onde a coluna 'articles' não é uma lista vazia\n",
    "df_py_filtered = df_python[df_python['articles'].apply(lambda x: len(x) > 0)]\n",
    "\n",
    "for i in df_py_filtered[:4]['articles']:\n",
    "    print(i)"
   ]
  },
  {
   "cell_type": "code",
   "execution_count": null,
   "metadata": {},
   "outputs": [],
   "source": [
    "for n,i in enumerate(dict_list[n].keys()):\n",
    "    print(i)"
   ]
  },
  {
   "cell_type": "code",
   "execution_count": null,
   "metadata": {},
   "outputs": [],
   "source": [
    "dict_list[0].get('Produções').get('Produção bibliográfica').get('Artigos completos publicados em periódicos')"
   ]
  },
  {
   "cell_type": "markdown",
   "metadata": {},
   "source": [
    "## Gerar dataset com módulo Go multithreading"
   ]
  },
  {
   "cell_type": "code",
   "execution_count": null,
   "metadata": {},
   "outputs": [],
   "source": [
    "processed_data, execution_time = process_data_multithreads_with_go(dict_list[:3])"
   ]
  },
  {
   "cell_type": "code",
   "execution_count": null,
   "metadata": {},
   "outputs": [],
   "source": [
    "# Carregar dados processados pelo Go\n",
    "folder='./../data/'\n",
    "with open(folder + 'articles_dataset_mtgo.json', 'r') as file:\n",
    "    data_go = json.load(file)\n",
    "\n",
    "df_golang = pd.DataFrame(data_go)\n",
    "print(df_golang.keys())\n",
    "df_golang[['labels','name']]"
   ]
  },
  {
   "cell_type": "code",
   "execution_count": null,
   "metadata": {},
   "outputs": [],
   "source": [
    "# Filtrar as linhas onde a coluna 'articles' não é uma lista vazia\n",
    "df_go_filtered = df_golang[df_golang['Produções'].apply(lambda x: len(x) > 0)]\n",
    "df_go_filtered"
   ]
  },
  {
   "cell_type": "code",
   "execution_count": null,
   "metadata": {},
   "outputs": [],
   "source": [
    "for i,j in df_go_filtered[:1]['articles'].items():\n",
    "    for article in j:\n",
    "        for i,j in article.items():\n",
    "            print(f'{i}: {j}')\n",
    "        print()"
   ]
  },
  {
   "cell_type": "markdown",
   "metadata": {},
   "source": [
    "# Outros metodos de processamento paralelo"
   ]
  },
  {
   "cell_type": "markdown",
   "metadata": {},
   "source": [
    "Há outras abordagens para paralelizar os cálculos além do multithreading. Cada abordagem tem suas vantagens e desvantagens e pode ser mais adequada dependendo das características específicas do seu problema e do ambiente de execução. Aqui estão algumas alternativas:\n",
    "\n",
    "### Multiprocessing:\n",
    "\n",
    "Utiliza processos separados em vez de threads, o que pode ser vantajoso em Python devido ao Global Interpreter Lock (GIL) que limita a execução de threads.\n",
    "Cada processo tem sua própria instância do Python e seu próprio espaço de memória, o que evita problemas de concorrência e pode ser útil para tarefas intensivas em CPU.\n",
    "Pode ser implementado usando o módulo multiprocessing em Python.\n",
    "\n",
    "### Distribuição em Cluster (Computação Distribuída):\n",
    "\n",
    "Envolvendo o uso de múltiplas máquinas para processar os dados em paralelo.\n",
    "Frameworks como Apache Spark ou Dask são projetados para processar grandes conjuntos de dados de forma distribuída e paralela.\n",
    "Ideal para datasets muito grandes que não cabem na memória de uma única máquina.\n",
    "\n",
    "### Uso de GPUs:\n",
    "\n",
    "Para operações que podem ser paralelizadas a nível de instrução, GPUs oferecem um alto grau de paralelismo.\n",
    "Utilização de bibliotecas como CUDA ou OpenCL para programação de GPU.\n",
    "Indicado para cálculos matemáticos e operações de matriz que podem ser eficientemente paralelizados em uma GPU.\n",
    "\n",
    "### Programação Assíncrona:\n",
    "\n",
    "Utiliza o conceito de async/await para realizar operações de I/O sem bloquear o thread principal.\n",
    "Muito útil para operações de I/O-bound, como acessar APIs, ler arquivos ou executar consultas em banco de dados.\n",
    "Pode ser implementada em Python com as palavras-chave async e await e com o uso de bibliotecas como asyncio.\n",
    "\n",
    "### MapReduce:\n",
    "\n",
    "Um modelo de programação para processar grandes conjuntos de dados em paralelo, dividindo o trabalho em um conjunto de tarefas independentes (Map) e depois combinando os resultados (Reduce).\n",
    "Pode ser implementado em um único computador ou distribuído em um cluster.\n",
    "Cada uma dessas abordagens tem seus próprios trade-offs em termos de complexidade de implementação, escalabilidade, desempenho e adequação ao problema específico que você está tentando resolver."
   ]
  },
  {
   "cell_type": "markdown",
   "metadata": {},
   "source": [
    "## Execução direta das medições para Experimentos Piloto"
   ]
  },
  {
   "cell_type": "code",
   "execution_count": null,
   "metadata": {},
   "outputs": [],
   "source": [
    "# from dataset_articles_generator_py import DatasetArticlesGenerator\n",
    "# from plotly.subplots import make_subplots\n",
    "# from datetime import datetime, timedelta\n",
    "# import plotly.graph_objs as go\n",
    "# import numpy as np\n",
    "# import subprocess\n",
    "# import threading\n",
    "# import psutil\n",
    "# import json\n",
    "# import time\n",
    "\n",
    "# current_experiment = None # Variável para rastrear experimento atual\n",
    "\n",
    "# def monitor_cpu_usage(cpu_usage_list, times, experiment_list, interval=30):\n",
    "#     while monitoring:\n",
    "#         cpu_usage_list.append(psutil.cpu_percent(interval=interval))\n",
    "#         times.append(time.time())\n",
    "#         experiment_list.append(current_experiment)\n",
    "\n",
    "# def monitor_gpu_usage(gpu_usage_list, times, experiment_list, interval=30):\n",
    "#     while monitoring:\n",
    "#         result = subprocess.run(['nvidia-smi', '--query-gpu=utilization.gpu', '--format=csv,nounits,noheader'], capture_output=True, text=True)\n",
    "#         gpu_usage = int(result.stdout.strip())\n",
    "#         gpu_usage_list.append(gpu_usage)\n",
    "#         times.append(time.time())\n",
    "#         experiment_list.append(current_experiment)\n",
    "#         time.sleep(interval)\n",
    "\n",
    "# def monitor_thread_count(thread_count_list, times, experiment_list, interval=30):\n",
    "#     while monitoring:\n",
    "#         thread_count_list.append(len(psutil.pids()))\n",
    "#         times.append(time.time())\n",
    "#         experiment_list.append(current_experiment)\n",
    "#         time.sleep(interval)\n",
    "\n",
    "# # Iniciar coleta de dados de monitoramento para o experimento atual\n",
    "# def start_monitoring(current_experiment):\n",
    "#     global monitoring\n",
    "#     monitoring = True\n",
    "#     # Pode iniciar mais lógica de monitoramento aqui se necessário\n",
    "\n",
    "# # Parar a coleta de dados de monitoramento para o experimento atual\n",
    "# def stop_monitoring():\n",
    "#     global monitoring\n",
    "#     monitoring = False\n",
    "#     # Sincronizar o encerramento das threads de monitoramento\n",
    "\n",
    "# # Salvar os dados de monitoramento\n",
    "# def save_monitoring_data(monitoring_data, file_path):\n",
    "#     with open(file_path, 'w') as file:\n",
    "#         json.dump(monitoring_data, file, indent=4)\n",
    "\n",
    "# # Executar os experimentos (simulação)\n",
    "# def execute_experiment(exp_num):\n",
    "#     # Aqui seria a lógica para executar o experimento real e coletar os dados de tempo\n",
    "#     time.sleep(2)  # Simulação de espera pelo experimento\n",
    "\n",
    "# # Preparar e processar os dados com o programa Go\n",
    "# def process_data_multithreads_with_go(dict_list, go_executable=\"./dataset_articles_generator\"):\n",
    "#     folder = './../data/'\n",
    "#     start_time = time.time()\n",
    "\n",
    "#     # Salvar dados em arquivo JSON para entrada na função de processamento de currículos\n",
    "#     input_json = folder + \"input_golang_preprocessed.json\"\n",
    "#     with open(input_json, \"w\") as file:\n",
    "#         json.dump(dict_list, file)\n",
    "\n",
    "#     output_json = folder + \"articles_dataset_mtgo.json\"  # Arquivo de saída\n",
    "#     progress_file = folder + \"progress.txt\"  # Arquivo de progresso\n",
    "\n",
    "#     # Limpar o arquivo de progresso antes de começar\n",
    "#     with open(progress_file, \"w\") as file:\n",
    "#         pass\n",
    "\n",
    "#     # Iniciar o subprocesso Go com os caminhos de entrada e saída\n",
    "#     go_process = subprocess.Popen([go_executable, input_json, output_json])\n",
    "\n",
    "#     # Preparar a barra de progresso\n",
    "#     progress_bar = tqdm(total=len(dict_list), \n",
    "#                         desc=\"Multi-Thread CPU-Based Similarity Analysis Experiment in Golang\")\n",
    "\n",
    "#     # Monitorar o progresso\n",
    "#     while go_process.poll() is None:\n",
    "#         try:\n",
    "#             with open(progress_file, \"r\") as file:\n",
    "#                 progress = int(file.read().strip())\n",
    "#             progress_bar.n = progress\n",
    "#             progress_bar.refresh()\n",
    "#         except (FileNotFoundError, ValueError):\n",
    "#             pass\n",
    "#         time.sleep(1)\n",
    "\n",
    "#     # Atualização final após o término do loop para garantir 100% de progresso\n",
    "#     try:\n",
    "#         with open(progress_file, \"r\") as file:\n",
    "#             progress = int(file.read().strip())\n",
    "#         progress_bar.n = progress\n",
    "#         progress_bar.refresh()\n",
    "#     except (FileNotFoundError, ValueError):\n",
    "#         pass\n",
    "    \n",
    "#     progress_bar.close()\n",
    "#     execution_time = time.time() - start_time\n",
    "    \n",
    "#     # Ler os resultados processados\n",
    "#     with open(output_json, \"r\") as file:\n",
    "#         processed_data = json.load(file)\n",
    "\n",
    "#     return processed_data, execution_time\n",
    "\n",
    "# # Função de plotagem atualizada para definir o máximo do eixo X com base no maior valor na lista times\n",
    "# def plot_experiment_data(times, cpu_load, gpu_load, thread_count, experiment_list):\n",
    "#     # Converter tempos em minutos desde o início do primeiro experimento\n",
    "#     start_time = times[0]\n",
    "#     elapsed_times = [(t - start_time) / 60 for t in times]  # Convertido para minutos\n",
    "#     max_time = max(elapsed_times)\n",
    "    \n",
    "#     # Iniciar figura de subplots com eixo secundário\n",
    "#     fig = make_subplots(specs=[[{\"secondary_y\": True}]])\n",
    "    \n",
    "#     # Mapear todos os experimentos possíveis para cores\n",
    "#     all_experiments = set(experiment_list)\n",
    "#     experiment_colors = {exp: \"hsl({}, 100%, 70%)\".format(i * (360 / len(all_experiments))) for i, exp in enumerate(all_experiments)}\n",
    "\n",
    "#     # Adicionar barras de contagem de threads\n",
    "#     fig.add_trace(go.Bar(\n",
    "#         x=elapsed_times,\n",
    "#         y=thread_count,\n",
    "#         name=\"Threads Ativas\",\n",
    "#         opacity=0.6,\n",
    "#         marker_color='lightblue'\n",
    "#     ), secondary_y=True)\n",
    "\n",
    "#     # Adicionar retângulos para a duração de cada experimento\n",
    "#     for i, experiment in enumerate(all_experiments):\n",
    "#         if experiment:\n",
    "#             exp_times = [t for t, e in zip(elapsed_times, experiment_list) if e == experiment]\n",
    "#             start_exp = min(exp_times)\n",
    "#             end_exp = max(exp_times)\n",
    "#             fig.add_shape(\n",
    "#                 type=\"rect\",\n",
    "#                 x0=start_exp, y0=i * 10, x1=end_exp, y1=(i + 1) * 10,\n",
    "#                 line=dict(color=experiment_colors[experiment]),\n",
    "#                 fillcolor=experiment_colors[experiment],\n",
    "#                 opacity=0.5\n",
    "#             )\n",
    "\n",
    "#     # Adicionar a carga da CPU e da GPU\n",
    "#     fig.add_trace(go.Scatter(\n",
    "#         x=elapsed_times,\n",
    "#         y=cpu_load,\n",
    "#         name=\"Carga da CPU (%)\",\n",
    "#         mode='lines',\n",
    "#         line=dict(color='orange')\n",
    "#     ), secondary_y=False)\n",
    "    \n",
    "#     fig.add_trace(go.Scatter(\n",
    "#         x=elapsed_times,\n",
    "#         y=gpu_load,\n",
    "#         name=\"Carga da GPU (%)\",\n",
    "#         mode='lines',\n",
    "#         line=dict(color='green')\n",
    "#     ), secondary_y=False)\n",
    "\n",
    "#     # Adicionar linhas verticais para separar as seções de experimentos\n",
    "#     last_experiment = None\n",
    "#     for i, (time_point, experiment) in enumerate(zip(elapsed_times, experiment_list)):\n",
    "#         if experiment != last_experiment:\n",
    "#             fig.add_shape(\n",
    "#                 type=\"line\",\n",
    "#                 x0=time_point, y0=0, x1=time_point, y1=100,\n",
    "#                 line=dict(color=\"black\", width=2, dash=\"dash\"),\n",
    "#             )\n",
    "#             last_experiment = experiment\n",
    "\n",
    "#     # Atualizar o layout do gráfico\n",
    "#     fig.update_layout(\n",
    "#         title_text=\"Monitoramento de CPU, GPU, Threads Ativas e Experimentos\",\n",
    "#         xaxis_title=\"Tempo desde o início (minutos)\",\n",
    "#         xaxis_range=[0, max_time],\n",
    "#         yaxis_title=\"Carga (%)\",\n",
    "#         legend_title=\"Legenda\",\n",
    "#         template=\"plotly_white\"\n",
    "#     )\n",
    "    \n",
    "#     # Definir o máximo do eixo principal Y para 100%\n",
    "#     fig.update_yaxes(\n",
    "#         title_text=\"Carga (%)\",\n",
    "#         secondary_y=False,\n",
    "#         range=[0, 100]\n",
    "#     )\n",
    "    \n",
    "#     # Definir o máximo do eixo secundário Y baseado no valor máximo de threads\n",
    "#     fig.update_yaxes(\n",
    "#         title_text=\"Quantidade de Threads\",\n",
    "#         secondary_y=True,\n",
    "#         range=[0, max(thread_count) * 1.2]\n",
    "#     )\n",
    "\n",
    "#     return fig\n",
    "\n",
    "# if __name__ == \"__main__\":\n",
    "#     extracted_data_list = dict_list\n",
    "#     experiment_data = []\n",
    "#     results = []\n",
    "\n",
    "#     # Variáveis globais para monitoramento\n",
    "#     monitoring = True\n",
    "#     cpu_usage_list = []\n",
    "#     gpu_usage_list = []\n",
    "#     times = []  # Lista para armazenar os tempos de cada amostra\n",
    "#     thread_count_list = []  # Lista para armazenar a contagem de threads\n",
    "\n",
    "#     # Iniciar threads de monitoramento com listas para armazenar dados de experimentos\n",
    "#     experiment_list = []\n",
    "#     cpu_thread = threading.Thread(target=monitor_cpu_usage, args=(cpu_usage_list, times, experiment_list))\n",
    "#     gpu_thread = threading.Thread(target=monitor_gpu_usage, args=(gpu_usage_list, times, experiment_list))\n",
    "#     thread_count_thread = threading.Thread(target=monitor_thread_count, args=(thread_count_list, times, experiment_list))\n",
    "\n",
    "#     cpu_thread.start()\n",
    "#     gpu_thread.start()\n",
    "#     thread_count_thread.start()\n",
    "\n",
    "#     # Dicionários para armazenar dados de monitoramento\n",
    "#     cpu_load_during_experiments = []\n",
    "#     gpu_load_during_experiments = []\n",
    "#     times_during_experiments = []\n",
    "\n",
    "#     # Quantidade de corridas de teste para estudo piloto\n",
    "#     n = 2\n",
    "\n",
    "#     for section in range(n):  # Para n seções (corridas) de experimentos\n",
    "#         for exp_num in range(1, 6):  # Para monitorar 5 experimentos em cada seção\n",
    "#             # Armazenar o índice do início do experimento\n",
    "#             current_experiment = f\"Seção {section+1}/{max(range(n))+1} - Experimento {exp_num}\"\n",
    "#             print(current_experiment)\n",
    "#             start_index = len(cpu_usage_list)  \n",
    "\n",
    "#             dataset_generator = DatasetArticlesGenerator()\n",
    "#             folder = './../data/'\n",
    "\n",
    "#             # Executar os diferentes métodos de processamento e coletar tempos\n",
    "#             # Processamento em Python (single e multithread)\n",
    "#             print('  1. Medindo processamento serial com python em CPU...')\n",
    "#             start_time = time.time()\n",
    "#             exectimes_singlethread_py = dataset_generator.process_dicts(extracted_data_list, \n",
    "#                                                                                 folder + \"output_py_cpu_singlethread.json\", \n",
    "#                                                                                 folder + \"output_py_cpu_singlethread.h5\")\n",
    "#             singlethread_py_time = time.time() - start_time\n",
    "            \n",
    "#             print('  2. Medindo processamento serial com python em GPU...')\n",
    "#             start_time = time.time()\n",
    "#             exectimes_py_gpu_singlethread = dataset_generator.process_dicts_with_gpu(extracted_data_list,\n",
    "#                                                                                      folder + \"output_py_gpu_singlethread.json\",\n",
    "#                                                                                      folder + \"output_py_gpu_singlethread.h5\")\n",
    "#             py_gpu_singlethread_time = time.time() - start_time\n",
    "            \n",
    "#             print('  3. Medindo processamento multithreading com python em CPU...')\n",
    "#             start_time = time.time()\n",
    "#             exectimes_multithreads_py = dataset_generator.process_dicts_multithread(extracted_data_list,\n",
    "#                                                                                    folder+\"output_multithreads_py.json\",\n",
    "#                                                                                    folder+\"output_multithreads_py.h5\")\n",
    "#             multithreads_py_time = time.time() - start_time\n",
    "            \n",
    "#             print('  4. Medindo processamento multithreading com python em GPU...')\n",
    "#             start_time = time.time()\n",
    "#             exectimes_py_gpu_multithreads = dataset_generator.process_dicts_multithreads_with_gpu(extracted_data_list,\n",
    "#                                                                                                 folder+\"output_py_gpu_multithreads.json\",\n",
    "#                                                                                                 folder+\"output_py_gpu_multithreads.h5\")\n",
    "#             py_gpu_multithreads_time = time.time() - start_time\n",
    "\n",
    "#             # Processamento com Go (multithread) chama o programa em Go que efetua o processamento\n",
    "#             print('  5. Medindo processamento multithreading com golang em CPU...')\n",
    "#             processed_data_go, multithreading_go_time = process_data_multithreads_with_go(extracted_data_list)\n",
    "#             exectimes_multithreading_go = multithreading_go_time\n",
    "\n",
    "#             # Coletar dados adicionais de requisições e tempo gasto\n",
    "#             request_count = dataset_generator.request_count\n",
    "#             time_spent = dataset_generator.time_spent\n",
    "\n",
    "#             # Adicionar ao registro de resultados\n",
    "#             execution_times = {\n",
    "#                 'singlethread_cpu_py': singlethread_py_time,\n",
    "#                 'singlethread_gpu_py': py_gpu_singlethread_time,\n",
    "#                 'multithreads_cpu_py': multithreads_py_time,\n",
    "#                 'multithreads_gpu_py': py_gpu_multithreads_time,\n",
    "#                 'multithreads_cpu_go': multithreading_go_time,\n",
    "#             }\n",
    "#             results.append({\n",
    "#                 'execution_times': execution_times,\n",
    "#                 'request_count': request_count,\n",
    "#                 'time_spent': time_spent\n",
    "#             })\n",
    "\n",
    "#             # Armazena o índice do fim do experimento\n",
    "#             end_index = len(cpu_usage_list)\n",
    "\n",
    "#             # Coleta os dados de monitoramento para este experimento\n",
    "#             experiment_cpu_load = cpu_usage_list[start_index:end_index]\n",
    "#             experiment_gpu_load = gpu_usage_list[start_index:end_index]\n",
    "#             experiment_times = times[start_index:end_index]\n",
    "\n",
    "#             # Armazenar os dados de monitoramento para plotagem\n",
    "#             cpu_load_during_experiments.append(experiment_cpu_load)\n",
    "#             gpu_load_during_experiments.append(experiment_gpu_load)\n",
    "#             times_during_experiments.append(experiment_times)\n",
    "\n",
    "#             # Armazenar dados para plotagem\n",
    "#             experiment_data.append({\n",
    "#                 'request_count': request_count,\n",
    "#                 'time_spent': time_spent\n",
    "#             })\n",
    "\n",
    "#             # Caminho do arquivo de destino\n",
    "#             file_path = './../data/experiments_pilot_results.json'\n",
    "\n",
    "#             # Salvando os dados em formato JSON\n",
    "#             with open(file_path, 'w') as file:\n",
    "#                 json.dump(results, file, indent=4)\n",
    "\n",
    "#     # Preparar dados para salvar\n",
    "#     monitoring_data = {\n",
    "#         \"times\": times,\n",
    "#         \"cpu_usage\": cpu_usage_list,\n",
    "#         \"gpu_usage\": gpu_usage_list,\n",
    "#         \"thread_count\": thread_count_list,\n",
    "#         \"experiments\": experiment_list\n",
    "#     }\n",
    "\n",
    "#     # Caminho do arquivo de destino para dados de monitoramento\n",
    "#     monitoring_file_path = './../data/monitoring_results.json'\n",
    "\n",
    "#     # Salvando os dados de monitoramento em formato JSON\n",
    "#     with open(monitoring_file_path, 'w') as file:\n",
    "#         json.dump(monitoring_data, file, indent=4)\n"
   ]
  },
  {
   "cell_type": "code",
   "execution_count": null,
   "metadata": {},
   "outputs": [],
   "source": [
    "# len(cpu_load_during_experiments)"
   ]
  },
  {
   "cell_type": "code",
   "execution_count": null,
   "metadata": {},
   "outputs": [],
   "source": [
    "# len(cpu_load_during_experiments)"
   ]
  },
  {
   "cell_type": "code",
   "execution_count": null,
   "metadata": {},
   "outputs": [],
   "source": [
    "# times_during_experiments"
   ]
  },
  {
   "cell_type": "code",
   "execution_count": null,
   "metadata": {},
   "outputs": [],
   "source": [
    "# import plotly.graph_objs as go\n",
    "# from plotly.subplots import make_subplots\n",
    "# from datetime import datetime, timedelta\n",
    "# import numpy as np\n",
    "# import json\n",
    "\n",
    "# # Função de plotagem igual a implementada na classe DatasetsGenerator\n",
    "# def plot_experiment_data(filepath=None):\n",
    "#     if filepath == None:\n",
    "#         filepath='/home/mak/gml_classifier-1/data/output/monitoring_selected_results.json'\n",
    "\n",
    "#     with open(filepath, 'r') as file:\n",
    "#         data = json.load(file)\n",
    "\n",
    "#     monitoring_data = data[\"monitoring_data\"]\n",
    "#     experiment_results = data[\"experiment_results\"]\n",
    "\n",
    "#     # Extrair dados específicos para a plotagem\n",
    "#     times = monitoring_data[\"times\"]\n",
    "#     cpu_load = monitoring_data[\"cpu_usage\"]\n",
    "#     print(f\"{len(cpu_load)} contagens de carga de CPU, entre {min(cpu_load)} mínimo e {max(cpu_load)} no máximo\")\n",
    "#     gpu_load = monitoring_data[\"gpu_usage\"]\n",
    "#     print(f\"{len(gpu_load)} contagens de carga de GPU, entre {min(gpu_load)} mínimo e {max(gpu_load)} no máximo\")\n",
    "#     thread_count = monitoring_data[\"thread_count\"]\n",
    "#     print(f\"{len(thread_count)} contagens de trhreads, entre {min(thread_count)} mínimo e {max(thread_count)} no máximo\")\n",
    "#     experiment_list = monitoring_data[\"experiments\"]\n",
    "#     print(f\"Experimentos: {set(experiment_list)}\")\n",
    "\n",
    "#     # Converter tempos em minutos desde o início do primeiro experimento\n",
    "#     start_time = times[0]\n",
    "#     elapsed_times = [(t - start_time) for t in times]  # Convertido para minutos\n",
    "#     max_time = max(elapsed_times)\n",
    "#     print(f\"{len(times)} tomadas de tempos, iniciando em {times[0]} até {times[-1]} totalizando {np.round(times[-1]-times[0],0)} minutos\")\n",
    "    \n",
    "#     # Iniciar figura de subplots com eixo secundário\n",
    "#     fig = make_subplots(specs=[[{\"secondary_y\": True}]])\n",
    "    \n",
    "#     # Mapear todos os experimentos possíveis para cores\n",
    "#     all_experiments = set(experiment_list)\n",
    "#     experiment_colors = {exp: \"hsl({}, 100%, 70%)\".format(i * (360 / len(all_experiments))) for i, exp in enumerate(all_experiments)}\n",
    "\n",
    "#     # Adicionar barras de contagem de threads\n",
    "#     fig.add_trace(go.Bar(\n",
    "#         x=elapsed_times*3,\n",
    "#         y=thread_count,\n",
    "#         name=\"Threads Ativas\",\n",
    "#         opacity=0.75,\n",
    "#         marker_color='black'\n",
    "#     ), secondary_y=True)\n",
    "\n",
    "#     # Adicionar retângulos para a duração de cada experimento\n",
    "#     for i, experiment in enumerate(all_experiments):\n",
    "#         if experiment:\n",
    "#             exp_times = [t for t, e in zip(elapsed_times, experiment_list) if e == experiment]\n",
    "#             start_exp = min(exp_times)\n",
    "#             end_exp = max(exp_times)\n",
    "#             fig.add_shape(\n",
    "#                 type=\"rect\",\n",
    "#                 x0=start_exp, y0=i * 10, x1=end_exp, y1=(i + 1) * 10,\n",
    "#                 line=dict(color=experiment_colors[experiment]),\n",
    "#                 fillcolor=experiment_colors[experiment],\n",
    "#                 opacity=0.5\n",
    "#             )\n",
    "\n",
    "#     # Adicionar a carga da CPU e da GPU\n",
    "#     fig.add_trace(go.Scatter(\n",
    "#         x=elapsed_times*3,\n",
    "#         y=cpu_load,\n",
    "#         name=\"Carga da CPU (%)\",\n",
    "#         mode='lines',\n",
    "#         line=dict(color='orange')\n",
    "#     ), secondary_y=False)\n",
    "    \n",
    "#     fig.add_trace(go.Scatter(\n",
    "#         x=elapsed_times*3,\n",
    "#         y=gpu_load,\n",
    "#         name=\"Carga da GPU (%)\",\n",
    "#         mode='lines',\n",
    "#         line=dict(color='green')\n",
    "#     ), secondary_y=False)\n",
    "\n",
    "#     # Adicionar linhas verticais para separar as seções de experimentos\n",
    "#     last_experiment = None\n",
    "#     for i, (time_point, experiment) in enumerate(zip(elapsed_times, experiment_list)):\n",
    "#         if experiment != last_experiment:\n",
    "#             fig.add_shape(\n",
    "#                 type=\"line\",\n",
    "#                 x0=time_point, y0=0, x1=time_point, y1=100,\n",
    "#                 line=dict(color=\"black\", width=2, dash=\"dash\"),\n",
    "#             )\n",
    "#             last_experiment = experiment\n",
    "\n",
    "#     # Atualizar o layout do gráfico\n",
    "#     fig.update_layout(\n",
    "#         title_text=\"Monitoramento de CPU, GPU, Threads Ativas e Experimentos\",\n",
    "#         xaxis_title=\"Tempo desde o início (minutos)\",\n",
    "#         xaxis_range=[0, max_time],\n",
    "#         yaxis_title=\"Carga (%)\",\n",
    "#         legend_title=\"Legenda\",\n",
    "#         template=\"plotly_white\"\n",
    "#     )\n",
    "    \n",
    "#     # Definir o máximo do eixo principal Y para 100%\n",
    "#     fig.update_yaxes(\n",
    "#         title_text=\"Carga (%)\",\n",
    "#         secondary_y=False,\n",
    "#         range=[0, 100]\n",
    "#     )\n",
    "    \n",
    "#     # Definir o máximo do eixo secundário Y baseado no valor máximo de threads\n",
    "#     fig.update_yaxes(\n",
    "#         title_text=\"Quantidade de Threads\",\n",
    "#         secondary_y=True,\n",
    "#         range=[0, max(thread_count) * 1.2]\n",
    "#     )\n",
    "#     fig.show(renderer=\"notebook\")\n",
    "#     return fig"
   ]
  }
 ],
 "metadata": {
  "kernelspec": {
   "display_name": "beakerx",
   "language": "python",
   "name": "python3"
  },
  "language_info": {
   "codemirror_mode": {
    "name": "ipython",
    "version": 3
   },
   "file_extension": ".py",
   "mimetype": "text/x-python",
   "name": "python",
   "nbconvert_exporter": "python",
   "pygments_lexer": "ipython3",
   "version": "3.10.12"
  }
 },
 "nbformat": 4,
 "nbformat_minor": 2
}
