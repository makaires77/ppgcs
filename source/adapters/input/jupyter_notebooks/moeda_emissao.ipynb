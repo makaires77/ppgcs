{
 "cells": [
  {
   "cell_type": "code",
   "execution_count": 1,
   "metadata": {},
   "outputs": [
    {
     "name": "stdout",
     "output_type": "stream",
     "text": [
      "Erro ao acessar a API: 404\n"
     ]
    }
   ],
   "source": [
    "import requests\n",
    "import pandas as pd\n",
    "\n",
    "# Definindo a série e o período de interesse\n",
    "serie = \"base_monetaria_ampliada\"\n",
    "inicio = \"2010-01-01\"\n",
    "fim = \"2023-12-31\"\n",
    "\n",
    "# Enviando a requisição para a API\n",
    "url = f\"https://api.bcb.gov.br/api/series/v3/{serie}?startDate={inicio}&endDate={fim}\"\n",
    "response = requests.get(url)\n",
    "\n",
    "# Verificando se a requisição foi bem sucedida\n",
    "if response.status_code == 200:\n",
    "    # Convertendo o JSON em um DataFrame\n",
    "    dados = pd.json_normalize(response.json())\n",
    "\n",
    "    # Imprimindo os dados\n",
    "    print(dados)\n",
    "else:\n",
    "    print(f\"Erro ao acessar a API: {response.status_code}\")\n"
   ]
  },
  {
   "cell_type": "code",
   "execution_count": 2,
   "metadata": {},
   "outputs": [
    {
     "name": "stdout",
     "output_type": "stream",
     "text": [
      "Erro ao acessar o Sidra: 404\n"
     ]
    }
   ],
   "source": [
    "import requests\n",
    "import pandas as pd\n",
    "\n",
    "# Definindo a tabela e o período de interesse\n",
    "tabela = 21\n",
    "cod_variavel = 13213\n",
    "inicio = \"2010\"\n",
    "fim = \"2023\"\n",
    "\n",
    "# Enviando a requisição para o Sidra\n",
    "url = f\"https://sidra.ibge.gov.br/api/v1/series?troco=true&cod_tabela={tabela}&cod_variavel={cod_variavel}&start={inicio}&end={fim}\"\n",
    "response = requests.get(url)\n",
    "\n",
    "# Verificando se a requisição foi bem sucedida\n",
    "if response.status_code == 200:\n",
    "    # Convertendo o JSON em um DataFrame\n",
    "    dados = pd.DataFrame(response.json()[\"data\"])\n",
    "\n",
    "    # Imprimindo os dados\n",
    "    print(dados)\n",
    "else:\n",
    "    print(f\"Erro ao acessar o Sidra: {response.status_code}\")\n"
   ]
  },
  {
   "cell_type": "code",
   "execution_count": 4,
   "metadata": {},
   "outputs": [
    {
     "name": "stdout",
     "output_type": "stream",
     "text": [
      "Erro ao acessar a API: 500\n"
     ]
    }
   ],
   "source": [
    "import requests\n",
    "import pandas as pd\n",
    "\n",
    "# Defina o código da API e a data desejada\n",
    "codigo_api = 1621\n",
    "data = \"2000-01:2024-05\"\n",
    "\n",
    "# Exemplo do Query Builder\n",
    "# https://servicodados.ibge.gov.br/api/v3/agregados/1621/periodos/199601|199602|199603|199604|199701|199702|199703|199704|199801|199802|199803|199804|199901|199902|199903|199904|200001|200002|200003|200004|200101|200102|200103|200104|200201|200202|200203|200204|200301|200302|200303|200304|200401|200402|200403|200404|200501|200502|200503|200504|200601|200602|200603|200604|200701|200702|200703|200704|200801|200802|200803|200804|200901|200902|200903|200904|201001|201002|201003|201004|201101|201102|201103|201104|201201|201202|201203|201204|201301|201302|201303|201304|201401|201402|201403|201404|201501|201502|201503|201504|201601|201602|201603|201604|201701|201702|201703|201704|201801|201802|201803|201804|201901|201902|201903|201904|202001|202002|202003|202004|202101|202102|202103|202104|202201|202202|202203|202204|202301|202302|202303|202304/variaveis/584?localidades=N1[all]&classificacao=11255[all]\n",
    "# 1620 - Série encadeada do índice de volume trimestral (Base: média 1995 = 100)\n",
    "# 1621 - Série encadeada do índice de volume trimestral com ajuste sazonal (Base: média 1995 = 100)\n",
    "# 1846 - Valores a preços correntes\n",
    "# 2072 - Contas econômicas trimestrais\n",
    "# 2205 - Conta financeira trimestral consolidada\n",
    "# 5932 - Taxa de variação do índice de volume trimestral\n",
    "# 6612 - Valores encadeados a preços de 1995\n",
    "# 6613 - Valores encadeados a preços de 1995 com ajuste sazonal\n",
    "# 6726 - Taxa de poupança\n",
    "# 6727 - Taxa de investimento\n",
    "\n",
    "# Envie a requisição à API\n",
    "url = f\"https://servicodados.ibge.gov.br/api/v3/agregados/{codigo_api}/periodos/{data}/variaveis/all?indicadores=true\"\n",
    "response = requests.get(url)\n",
    "\n",
    "# Verifique se a requisição foi bem-sucedida\n",
    "if response.status_code == 200:\n",
    "    # Converta a resposta JSON para um DataFrame\n",
    "    dados = response.json()\n",
    "    df_dados = pd.DataFrame(dados[\"resultados\"])\n",
    "\n",
    "    # Explore e manipule os dados conforme sua necessidade\n",
    "    print(df_dados.head())\n",
    "else:\n",
    "    print(f\"Erro ao acessar a API: {response.status_code}\")\n"
   ]
  },
  {
   "cell_type": "raw",
   "metadata": {
    "vscode": {
     "languageId": "raw"
    }
   },
   "source": []
  }
 ],
 "metadata": {
  "kernelspec": {
   "display_name": "base",
   "language": "python",
   "name": "python3"
  },
  "language_info": {
   "codemirror_mode": {
    "name": "ipython",
    "version": 3
   },
   "file_extension": ".py",
   "mimetype": "text/x-python",
   "name": "python",
   "nbconvert_exporter": "python",
   "pygments_lexer": "ipython3",
   "version": "3.11.5"
  }
 },
 "nbformat": 4,
 "nbformat_minor": 2
}
