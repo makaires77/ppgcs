{
 "cells": [
  {
   "cell_type": "markdown",
   "metadata": {},
   "source": [
    "# <b>Extrair dados chamadas do CNPq</b>"
   ]
  },
  {
   "cell_type": "code",
   "execution_count": 1,
   "metadata": {},
   "outputs": [],
   "source": [
    "## Confirmar localização do requirements.txt no repo local:\n",
    "# import os\n",
    "# os.listdir('../../../../requirements.txt')\n",
    "# %pip install --user -r ../../../../requirements.txt\n",
    "\n",
    "## Caso seja necessário passar por validação SSL:\n",
    "#sudo dpkg -i google-chrome-stable_current_amd64.deb\n",
    "# !pip install --user -r ../../../../requirements.txt --trusted-host pypi.org --trusted-host pypi.python.org --trusted-host files.pythonhosted.org\n",
    "\n",
    "## Para instalar pelo Terminal:\n",
    "# sudo apt-get update\n",
    "# sudo apt-get install libcurl4-openssl-dev\n",
    "# sudo apt-get install graphviz graphviz-dev\n",
    "\n",
    "## Para instalar pacotes faltantes pela IDE:\n",
    "# %pip install pyqt5\n",
    "# %pip install pycurl\n",
    "# %pip install selenium\n",
    "# %pip install pygraphviz\n",
    "# %pip install webdriver_manager\n",
    "# %pip install --upgrade fitz\n",
    "# %pip install --upgrade tools\n",
    "# %pip install --upgrade pymupdf\n",
    "# %pip install --upgrade frontend\n",
    "# %pip install --upgrade markupsafe\n",
    "# %pip install --upgrade notebook jupyterlab ipywidgets\n",
    "\n",
    "## Verificação de versão do chromedriver no terminal:\n",
    "# !pip3 install --upgrade pip\n",
    "# !/usr/local/bin/chromedriver --version\n",
    "# !curl -s https://chromedriver.storage.googleapis.com/LATEST_RELEASE"
   ]
  },
  {
   "cell_type": "code",
   "execution_count": 21,
   "metadata": {},
   "outputs": [
    {
     "name": "stdout",
     "output_type": "stream",
     "text": [
      "1\n",
      "\n",
      "\n",
      "Erro não esperado ao tentar executar o script:\n",
      "Expected object of type bytes or bytearray, got: <class 'str'>\n"
     ]
    }
   ],
   "source": [
    "import pandas as pd\n",
    "from pandas import concat\n",
    "from getpass import getpass\n",
    "from IPython.display import clear_output\n",
    "import os, sys, subprocess, platform, locale, chardet\n",
    "locale.setlocale(locale.LC_ALL, '')\n",
    "pd.set_option('display.max_rows', 500)\n",
    "pd.set_option('display.max_colwidth', 75)\n",
    "pd.set_option('colheader_justify', 'left')\n",
    "\n",
    "def get_base_repo():\n",
    "    \"\"\"Retorna o caminho absoluto quatro níveis acima do diretório atual.\"\"\"\n",
    "    current_directory = os.getcwd()\n",
    "    # Construir o caminho para subir quatro níveis\n",
    "    path_five_levels_up = os.path.join(current_directory, '../../../../')\n",
    "    # Normalizar o caminho para o formato absoluto\n",
    "    absolute_path = os.path.abspath(path_five_levels_up)\n",
    "    return absolute_path\n",
    "\n",
    "def get_chrome_path():\n",
    "    \"\"\"\n",
    "    Retorna o caminho para o executável do Chrome.\n",
    "    \"\"\"\n",
    "    if os.name == \"nt\":\n",
    "        # Priorizar variável de ambiente\n",
    "        if \"CHROME_PATH\" in os.environ and os.path.exists(os.environ[\"CHROME_PATH\"]):\n",
    "            return os.environ[\"CHROME_PATH\"]\n",
    "\n",
    "        # Buscar Chrome no diretório padrão\n",
    "        default_chrome_path = \"C:\\\\Program Files (x86)\\\\Google\\\\Chrome\\\\Application\\\\chrome.exe\"\n",
    "        if os.path.exists(default_chrome_path):\n",
    "            return default_chrome_path\n",
    "\n",
    "        # Buscar Chrome no PATH\n",
    "        return \"chrome.exe\"\n",
    "\n",
    "    else:\n",
    "        return \"google-chrome\"\n",
    "\n",
    "def get_chrome_version():\n",
    "    \"\"\"\n",
    "    Retorna a versão do Chrome.\n",
    "    \"\"\"\n",
    "    chrome_path = get_chrome_path()\n",
    "    try:\n",
    "        # Obter a saída do comando com a versão do Chrome\n",
    "        chrome_output = subprocess.check_output([chrome_path, \"--version\"])\n",
    "\n",
    "        # Detectar a codificação da saída automaticamente\n",
    "        encoding = chardet.detect(chrome_output, confident=False)['encoding']  # Evita erros de detecção\n",
    "\n",
    "        # Tentar decodificar com a codificação detectada\n",
    "        chrome_version = chrome_output.decode(encoding or \"utf-8\").strip()\n",
    "\n",
    "        # Se falhar, tentar forçar codificações comuns\n",
    "        if not chrome_version:\n",
    "            for encoding in [\"utf-8\", \"ISO-8859-1\", \"cp1252\"]:\n",
    "                try:\n",
    "                    chrome_version = chrome_output.decode(encoding).strip()\n",
    "                    break  # Encontrada a codificação que não causa erro\n",
    "                except UnicodeDecodeError:\n",
    "                    continue  # Passa para a próxima codificação\n",
    "\n",
    "    except (subprocess.CalledProcessError, UnicodeDecodeError) as e:\n",
    "        raise RuntimeError(f\"Erro ao obter a versão do Chrome: {e}\")\n",
    "\n",
    "    return chrome_version\n",
    "\n",
    "def check_update():\n",
    "    \"\"\"\n",
    "    Verifica se há atualizações para o Chromedriver e, se necessário, as instala.\n",
    "    Funciona em Linux e Windows.\n",
    "    \"\"\"\n",
    "    script_check = os.path.join(get_base_repo(), \"scripts\", \"update_check_chromedriver.sh\")\n",
    "\n",
    "    if not os.path.exists(script_check):\n",
    "        raise FileNotFoundError(f\"Script '{script_check}' não encontrado.\")\n",
    "\n",
    "    if not os.access(script_check, os.X_OK):\n",
    "        raise PermissionError(f\"Script '{script_check}' não tem permissão de execução.\")\n",
    "\n",
    "    # Verificar o sistema operacional\n",
    "    if platform.system() == 'Windows':\n",
    "        command = [\"wsl\", \"bash\", script_check]\n",
    "    else:\n",
    "        command = [\"bash\", script_check]\n",
    "\n",
    "    try:\n",
    "        process = subprocess.run(command, capture_output=True, text=True, check=False)\n",
    "        print(f\"{process.returncode}\")\n",
    "        print(f\"{process.stdout}\")\n",
    "        print(f\"{process.stderr}\")\n",
    "        encoding = chardet.detect(process.stdout)['encoding']\n",
    "        print(encoding)\n",
    "        output = process.stdout.decode(encoding or \"utf-8\")\n",
    "        print(output)\n",
    "        encoding_err = chardet.detect(process.stderr)['encoding']\n",
    "        error_output = process.stderr.decode(encoding_err or \"utf-8\").strip()\n",
    "\n",
    "        if process.returncode == 0:\n",
    "            print(f\"Saída do comando: {output}\")\n",
    "        else:\n",
    "            print(f\"Erro ao executar o comando: {process.returncode}\")          \n",
    "            print(f\"Saída de erro do comando: {error_output if error_output else 'Nenhuma saída de erro disponível.'}\")\n",
    "    except Exception as e:\n",
    "        print(f\"Erro não esperado ao tentar executar o script:\\n{str(e)}\")\n",
    "\n",
    "check_update()\n",
    "\n",
    "# Adicionar pastas locais ao sys.path para permitir importação de pacotes\n",
    "base_repo_dir      = get_base_repo()\n",
    "folder_utils       = os.path.join(base_repo_dir, 'utils')\n",
    "folder_data_input  = os.path.join(base_repo_dir, 'data', 'input')\n",
    "folder_data_output = os.path.join(base_repo_dir, 'data', 'output')\n",
    "folder_domain      = os.path.join(base_repo_dir, 'source', 'domain')"
   ]
  },
  {
   "cell_type": "code",
   "execution_count": 6,
   "metadata": {},
   "outputs": [
    {
     "data": {
      "text/plain": [
       "'C:\\\\Program Files (x86)\\\\Google\\\\Chrome\\\\Application\\\\chrome.exe'"
      ]
     },
     "execution_count": 6,
     "metadata": {},
     "output_type": "execute_result"
    }
   ],
   "source": [
    "get_chrome_path()"
   ]
  },
  {
   "cell_type": "code",
   "execution_count": 7,
   "metadata": {},
   "outputs": [
    {
     "ename": "TypeError",
     "evalue": "detect() got an unexpected keyword argument 'confident'",
     "output_type": "error",
     "traceback": [
      "\u001b[1;31m---------------------------------------------------------------------------\u001b[0m",
      "\u001b[1;31mTypeError\u001b[0m                                 Traceback (most recent call last)",
      "\u001b[1;32m<ipython-input-7-6922520c3774>\u001b[0m in \u001b[0;36m<module>\u001b[1;34m\u001b[0m\n\u001b[1;32m----> 1\u001b[1;33m \u001b[0mget_chrome_version\u001b[0m\u001b[1;33m(\u001b[0m\u001b[1;33m)\u001b[0m\u001b[1;33m\u001b[0m\u001b[1;33m\u001b[0m\u001b[0m\n\u001b[0m",
      "\u001b[1;32m<ipython-input-4-0eeb21bf7dc3>\u001b[0m in \u001b[0;36mget_chrome_version\u001b[1;34m()\u001b[0m\n\u001b[0;32m     48\u001b[0m \u001b[1;33m\u001b[0m\u001b[0m\n\u001b[0;32m     49\u001b[0m         \u001b[1;31m# Detectar a codificação da saída automaticamente\u001b[0m\u001b[1;33m\u001b[0m\u001b[1;33m\u001b[0m\u001b[1;33m\u001b[0m\u001b[0m\n\u001b[1;32m---> 50\u001b[1;33m         \u001b[0mencoding\u001b[0m \u001b[1;33m=\u001b[0m \u001b[0mchardet\u001b[0m\u001b[1;33m.\u001b[0m\u001b[0mdetect\u001b[0m\u001b[1;33m(\u001b[0m\u001b[0mchrome_output\u001b[0m\u001b[1;33m,\u001b[0m \u001b[0mconfident\u001b[0m\u001b[1;33m=\u001b[0m\u001b[1;32mFalse\u001b[0m\u001b[1;33m)\u001b[0m\u001b[1;33m[\u001b[0m\u001b[1;34m'encoding'\u001b[0m\u001b[1;33m]\u001b[0m  \u001b[1;31m# Evita erros de detecção\u001b[0m\u001b[1;33m\u001b[0m\u001b[1;33m\u001b[0m\u001b[0m\n\u001b[0m\u001b[0;32m     51\u001b[0m \u001b[1;33m\u001b[0m\u001b[0m\n\u001b[0;32m     52\u001b[0m         \u001b[1;31m# Tentar decodificar com a codificação detectada\u001b[0m\u001b[1;33m\u001b[0m\u001b[1;33m\u001b[0m\u001b[1;33m\u001b[0m\u001b[0m\n",
      "\u001b[1;31mTypeError\u001b[0m: detect() got an unexpected keyword argument 'confident'"
     ]
    }
   ],
   "source": [
    "get_chrome_version()"
   ]
  },
  {
   "cell_type": "code",
   "execution_count": 5,
   "metadata": {},
   "outputs": [
    {
     "ename": "FileNotFoundError",
     "evalue": "[WinError 2] O sistema não pode encontrar o arquivo especificado",
     "output_type": "error",
     "traceback": [
      "\u001b[1;31m---------------------------------------------------------------------------\u001b[0m",
      "\u001b[1;31mFileNotFoundError\u001b[0m                         Traceback (most recent call last)",
      "\u001b[1;32m<ipython-input-5-25d82aaefd57>\u001b[0m in \u001b[0;36m<module>\u001b[1;34m\u001b[0m\n\u001b[0;32m      2\u001b[0m \u001b[1;33m\u001b[0m\u001b[0m\n\u001b[0;32m      3\u001b[0m \u001b[1;31m# Obter versão do Chrome\u001b[0m\u001b[1;33m\u001b[0m\u001b[1;33m\u001b[0m\u001b[1;33m\u001b[0m\u001b[0m\n\u001b[1;32m----> 4\u001b[1;33m \u001b[0mchrome_version\u001b[0m \u001b[1;33m=\u001b[0m \u001b[0msubprocess\u001b[0m\u001b[1;33m.\u001b[0m\u001b[0mcheck_output\u001b[0m\u001b[1;33m(\u001b[0m\u001b[1;33m[\u001b[0m\u001b[1;34m\"/usr/bin/google-chrome\"\u001b[0m\u001b[1;33m,\u001b[0m \u001b[1;34m\"--version\"\u001b[0m\u001b[1;33m]\u001b[0m\u001b[1;33m)\u001b[0m\u001b[1;33m.\u001b[0m\u001b[0mdecode\u001b[0m\u001b[1;33m(\u001b[0m\u001b[1;34m\"utf-8\"\u001b[0m\u001b[1;33m)\u001b[0m\u001b[1;33m.\u001b[0m\u001b[0mstrip\u001b[0m\u001b[1;33m(\u001b[0m\u001b[1;33m)\u001b[0m\u001b[1;33m\u001b[0m\u001b[1;33m\u001b[0m\u001b[0m\n\u001b[0m\u001b[0;32m      5\u001b[0m \u001b[1;33m\u001b[0m\u001b[0m\n\u001b[0;32m      6\u001b[0m \u001b[1;31m# Obter versão do Chromedriver\u001b[0m\u001b[1;33m\u001b[0m\u001b[1;33m\u001b[0m\u001b[1;33m\u001b[0m\u001b[0m\n",
      "\u001b[1;32mc:\\ProgramData\\Anaconda3\\lib\\subprocess.py\u001b[0m in \u001b[0;36mcheck_output\u001b[1;34m(timeout, *popenargs, **kwargs)\u001b[0m\n\u001b[0;32m    413\u001b[0m         \u001b[0mkwargs\u001b[0m\u001b[1;33m[\u001b[0m\u001b[1;34m'input'\u001b[0m\u001b[1;33m]\u001b[0m \u001b[1;33m=\u001b[0m \u001b[0mempty\u001b[0m\u001b[1;33m\u001b[0m\u001b[1;33m\u001b[0m\u001b[0m\n\u001b[0;32m    414\u001b[0m \u001b[1;33m\u001b[0m\u001b[0m\n\u001b[1;32m--> 415\u001b[1;33m     return run(*popenargs, stdout=PIPE, timeout=timeout, check=True,\n\u001b[0m\u001b[0;32m    416\u001b[0m                **kwargs).stdout\n\u001b[0;32m    417\u001b[0m \u001b[1;33m\u001b[0m\u001b[0m\n",
      "\u001b[1;32mc:\\ProgramData\\Anaconda3\\lib\\subprocess.py\u001b[0m in \u001b[0;36mrun\u001b[1;34m(input, capture_output, timeout, check, *popenargs, **kwargs)\u001b[0m\n\u001b[0;32m    491\u001b[0m         \u001b[0mkwargs\u001b[0m\u001b[1;33m[\u001b[0m\u001b[1;34m'stderr'\u001b[0m\u001b[1;33m]\u001b[0m \u001b[1;33m=\u001b[0m \u001b[0mPIPE\u001b[0m\u001b[1;33m\u001b[0m\u001b[1;33m\u001b[0m\u001b[0m\n\u001b[0;32m    492\u001b[0m \u001b[1;33m\u001b[0m\u001b[0m\n\u001b[1;32m--> 493\u001b[1;33m     \u001b[1;32mwith\u001b[0m \u001b[0mPopen\u001b[0m\u001b[1;33m(\u001b[0m\u001b[1;33m*\u001b[0m\u001b[0mpopenargs\u001b[0m\u001b[1;33m,\u001b[0m \u001b[1;33m**\u001b[0m\u001b[0mkwargs\u001b[0m\u001b[1;33m)\u001b[0m \u001b[1;32mas\u001b[0m \u001b[0mprocess\u001b[0m\u001b[1;33m:\u001b[0m\u001b[1;33m\u001b[0m\u001b[1;33m\u001b[0m\u001b[0m\n\u001b[0m\u001b[0;32m    494\u001b[0m         \u001b[1;32mtry\u001b[0m\u001b[1;33m:\u001b[0m\u001b[1;33m\u001b[0m\u001b[1;33m\u001b[0m\u001b[0m\n\u001b[0;32m    495\u001b[0m             \u001b[0mstdout\u001b[0m\u001b[1;33m,\u001b[0m \u001b[0mstderr\u001b[0m \u001b[1;33m=\u001b[0m \u001b[0mprocess\u001b[0m\u001b[1;33m.\u001b[0m\u001b[0mcommunicate\u001b[0m\u001b[1;33m(\u001b[0m\u001b[0minput\u001b[0m\u001b[1;33m,\u001b[0m \u001b[0mtimeout\u001b[0m\u001b[1;33m=\u001b[0m\u001b[0mtimeout\u001b[0m\u001b[1;33m)\u001b[0m\u001b[1;33m\u001b[0m\u001b[1;33m\u001b[0m\u001b[0m\n",
      "\u001b[1;32mc:\\ProgramData\\Anaconda3\\lib\\subprocess.py\u001b[0m in \u001b[0;36m__init__\u001b[1;34m(self, args, bufsize, executable, stdin, stdout, stderr, preexec_fn, close_fds, shell, cwd, env, universal_newlines, startupinfo, creationflags, restore_signals, start_new_session, pass_fds, encoding, errors, text)\u001b[0m\n\u001b[0;32m    856\u001b[0m                             encoding=encoding, errors=errors)\n\u001b[0;32m    857\u001b[0m \u001b[1;33m\u001b[0m\u001b[0m\n\u001b[1;32m--> 858\u001b[1;33m             self._execute_child(args, executable, preexec_fn, close_fds,\n\u001b[0m\u001b[0;32m    859\u001b[0m                                 \u001b[0mpass_fds\u001b[0m\u001b[1;33m,\u001b[0m \u001b[0mcwd\u001b[0m\u001b[1;33m,\u001b[0m \u001b[0menv\u001b[0m\u001b[1;33m,\u001b[0m\u001b[1;33m\u001b[0m\u001b[1;33m\u001b[0m\u001b[0m\n\u001b[0;32m    860\u001b[0m                                 \u001b[0mstartupinfo\u001b[0m\u001b[1;33m,\u001b[0m \u001b[0mcreationflags\u001b[0m\u001b[1;33m,\u001b[0m \u001b[0mshell\u001b[0m\u001b[1;33m,\u001b[0m\u001b[1;33m\u001b[0m\u001b[1;33m\u001b[0m\u001b[0m\n",
      "\u001b[1;32mc:\\ProgramData\\Anaconda3\\lib\\subprocess.py\u001b[0m in \u001b[0;36m_execute_child\u001b[1;34m(self, args, executable, preexec_fn, close_fds, pass_fds, cwd, env, startupinfo, creationflags, shell, p2cread, p2cwrite, c2pread, c2pwrite, errread, errwrite, unused_restore_signals, unused_start_new_session)\u001b[0m\n\u001b[0;32m   1309\u001b[0m             \u001b[1;31m# Start the process\u001b[0m\u001b[1;33m\u001b[0m\u001b[1;33m\u001b[0m\u001b[1;33m\u001b[0m\u001b[0m\n\u001b[0;32m   1310\u001b[0m             \u001b[1;32mtry\u001b[0m\u001b[1;33m:\u001b[0m\u001b[1;33m\u001b[0m\u001b[1;33m\u001b[0m\u001b[0m\n\u001b[1;32m-> 1311\u001b[1;33m                 hp, ht, pid, tid = _winapi.CreateProcess(executable, args,\n\u001b[0m\u001b[0;32m   1312\u001b[0m                                          \u001b[1;31m# no special security\u001b[0m\u001b[1;33m\u001b[0m\u001b[1;33m\u001b[0m\u001b[1;33m\u001b[0m\u001b[0m\n\u001b[0;32m   1313\u001b[0m                                          \u001b[1;32mNone\u001b[0m\u001b[1;33m,\u001b[0m \u001b[1;32mNone\u001b[0m\u001b[1;33m,\u001b[0m\u001b[1;33m\u001b[0m\u001b[1;33m\u001b[0m\u001b[0m\n",
      "\u001b[1;31mFileNotFoundError\u001b[0m: [WinError 2] O sistema não pode encontrar o arquivo especificado"
     ]
    }
   ],
   "source": [
    "import subprocess\n",
    "\n",
    "# Obter versão do Chrome\n",
    "chrome_version = subprocess.check_output([\"/usr/bin/google-chrome\", \"--version\"]).decode(\"utf-8\").strip()\n",
    "\n",
    "# Obter versão do Chromedriver\n",
    "chromedriver_version = subprocess.check_output([\"/usr/local/bin/chromedriver\", \"--version\"]).decode(\"utf-8\").strip()\n",
    "\n",
    "# Exibir as versões\n",
    "print(f\"Versão do Chrome: {chrome_version}\")\n",
    "print(f\"Versão do Chromedriver: {chromedriver_version}\")"
   ]
  },
  {
   "cell_type": "code",
   "execution_count": 16,
   "metadata": {},
   "outputs": [],
   "source": [
    "script_check = os.path.join(get_base_repo(), \"scripts\", \"update_check_chromedriver.sh\")\n",
    "script_update = os.path.join(get_base_repo(), \"scripts\", \"update_chromedriver.sh\")\n",
    "!bash {script_check}"
   ]
  },
  {
   "cell_type": "code",
   "execution_count": 17,
   "metadata": {},
   "outputs": [
    {
     "name": "stdout",
     "output_type": "stream",
     "text": [
      "Sistema operacional: win32\n",
      "Caminho base do repositório: c:\\Users\\marcos.aires\\gml_classifier-1\n"
     ]
    }
   ],
   "source": [
    "sys.path.append(folder_utils)\n",
    "sys.path.append(folder_domain)\n",
    "print(f\"Sistema operacional: {sys.platform}\")\n",
    "print(f\"Caminho base do repositório: {base_repo_dir}\")"
   ]
  },
  {
   "cell_type": "markdown",
   "metadata": {},
   "source": [
    "## Chamadas CNPq abertas"
   ]
  },
  {
   "cell_type": "code",
   "execution_count": 18,
   "metadata": {},
   "outputs": [
    {
     "ename": "SessionNotCreatedException",
     "evalue": "Message: session not created: This version of ChromeDriver only supports Chrome version 109\nCurrent browser version is 121.0.6167.185 with binary path C:\\Program Files (x86)\\Google\\Chrome\\Application\\chrome.exe\nStacktrace:\nBacktrace:\n\t(No symbol) [0x00A46643]\n\t(No symbol) [0x009DBE21]\n\t(No symbol) [0x008DDA9D]\n\t(No symbol) [0x00902911]\n\t(No symbol) [0x008FD630]\n\t(No symbol) [0x008FA899]\n\t(No symbol) [0x00936917]\n\t(No symbol) [0x0093655C]\n\t(No symbol) [0x0092FB76]\n\t(No symbol) [0x009049C1]\n\t(No symbol) [0x00905E5D]\n\tGetHandleVerifier [0x00CBA142+2497106]\n\tGetHandleVerifier [0x00CE85D3+2686691]\n\tGetHandleVerifier [0x00CEBB9C+2700460]\n\tGetHandleVerifier [0x00AF3B10+635936]\n\t(No symbol) [0x009E4A1F]\n\t(No symbol) [0x009EA418]\n\t(No symbol) [0x009EA505]\n\t(No symbol) [0x009F508B]\n\tBaseThreadInitThunk [0x769CFCC9+25]\n\tRtlGetAppContainerNamedObjectPath [0x77C77C5E+286]\n\tRtlGetAppContainerNamedObjectPath [0x77C77C2E+238]\n",
     "output_type": "error",
     "traceback": [
      "\u001b[1;31m---------------------------------------------------------------------------\u001b[0m",
      "\u001b[1;31mSessionNotCreatedException\u001b[0m                Traceback (most recent call last)",
      "\u001b[1;32m<ipython-input-18-4d2c51734cdb>\u001b[0m in \u001b[0;36m<module>\u001b[1;34m\u001b[0m\n\u001b[0;32m      1\u001b[0m \u001b[1;31m# Importar a classe e instarciar o método\u001b[0m\u001b[1;33m\u001b[0m\u001b[1;33m\u001b[0m\u001b[1;33m\u001b[0m\u001b[0m\n\u001b[0;32m      2\u001b[0m \u001b[1;32mfrom\u001b[0m \u001b[0mfunding_finder_cnpq\u001b[0m \u001b[1;32mimport\u001b[0m \u001b[0mFundingFinderCNPq\u001b[0m\u001b[1;33m\u001b[0m\u001b[1;33m\u001b[0m\u001b[0m\n\u001b[1;32m----> 3\u001b[1;33m \u001b[0mfinder\u001b[0m \u001b[1;33m=\u001b[0m \u001b[0mFundingFinderCNPq\u001b[0m\u001b[1;33m(\u001b[0m\u001b[1;33m)\u001b[0m\u001b[1;33m\u001b[0m\u001b[1;33m\u001b[0m\u001b[0m\n\u001b[0m\u001b[0;32m      4\u001b[0m \u001b[1;33m\u001b[0m\u001b[0m\n\u001b[0;32m      5\u001b[0m \u001b[1;31m# URL da página de resultados dos editais em aberto\u001b[0m\u001b[1;33m\u001b[0m\u001b[1;33m\u001b[0m\u001b[1;33m\u001b[0m\u001b[0m\n",
      "\u001b[1;32mc:\\Users\\marcos.aires\\gml_classifier-1\\source\\domain\\funding_finder_cnpq.py\u001b[0m in \u001b[0;36m__init__\u001b[1;34m(self)\u001b[0m\n\u001b[0;32m     19\u001b[0m         \u001b[0mself\u001b[0m\u001b[1;33m.\u001b[0m\u001b[0mfolder_data_input\u001b[0m \u001b[1;33m=\u001b[0m \u001b[0mos\u001b[0m\u001b[1;33m.\u001b[0m\u001b[0mpath\u001b[0m\u001b[1;33m.\u001b[0m\u001b[0mjoin\u001b[0m\u001b[1;33m(\u001b[0m\u001b[0mself\u001b[0m\u001b[1;33m.\u001b[0m\u001b[0mbase_repo_dir\u001b[0m\u001b[1;33m,\u001b[0m \u001b[1;34m'data'\u001b[0m\u001b[1;33m,\u001b[0m \u001b[1;34m'input'\u001b[0m\u001b[1;33m)\u001b[0m\u001b[1;33m\u001b[0m\u001b[1;33m\u001b[0m\u001b[0m\n\u001b[0;32m     20\u001b[0m         \u001b[0mself\u001b[0m\u001b[1;33m.\u001b[0m\u001b[0mfolder_data_output\u001b[0m \u001b[1;33m=\u001b[0m \u001b[0mos\u001b[0m\u001b[1;33m.\u001b[0m\u001b[0mpath\u001b[0m\u001b[1;33m.\u001b[0m\u001b[0mjoin\u001b[0m\u001b[1;33m(\u001b[0m\u001b[0mself\u001b[0m\u001b[1;33m.\u001b[0m\u001b[0mbase_repo_dir\u001b[0m\u001b[1;33m,\u001b[0m \u001b[1;34m'data'\u001b[0m\u001b[1;33m,\u001b[0m \u001b[1;34m'output'\u001b[0m\u001b[1;33m)\u001b[0m\u001b[1;33m\u001b[0m\u001b[1;33m\u001b[0m\u001b[0m\n\u001b[1;32m---> 21\u001b[1;33m         \u001b[0mself\u001b[0m\u001b[1;33m.\u001b[0m\u001b[0mdriver\u001b[0m \u001b[1;33m=\u001b[0m \u001b[0mself\u001b[0m\u001b[1;33m.\u001b[0m\u001b[0m_setup_driver\u001b[0m\u001b[1;33m(\u001b[0m\u001b[1;33m)\u001b[0m\u001b[1;33m\u001b[0m\u001b[1;33m\u001b[0m\u001b[0m\n\u001b[0m\u001b[0;32m     22\u001b[0m         \u001b[0mself\u001b[0m\u001b[1;33m.\u001b[0m\u001b[0mtodos_programas\u001b[0m \u001b[1;33m=\u001b[0m \u001b[1;33m[\u001b[0m\u001b[1;33m]\u001b[0m\u001b[1;33m\u001b[0m\u001b[1;33m\u001b[0m\u001b[0m\n\u001b[0;32m     23\u001b[0m         \u001b[0mself\u001b[0m\u001b[1;33m.\u001b[0m\u001b[0mfalhas_totais\u001b[0m \u001b[1;33m=\u001b[0m \u001b[1;33m[\u001b[0m\u001b[1;33m]\u001b[0m\u001b[1;33m\u001b[0m\u001b[1;33m\u001b[0m\u001b[0m\n",
      "\u001b[1;32mc:\\Users\\marcos.aires\\gml_classifier-1\\source\\domain\\funding_finder_cnpq.py\u001b[0m in \u001b[0;36m_setup_driver\u001b[1;34m(self)\u001b[0m\n\u001b[0;32m     60\u001b[0m         \u001b[1;31m# service = ChromeService(log_path=filepath, enable_verbose_logging=True)\u001b[0m\u001b[1;33m\u001b[0m\u001b[1;33m\u001b[0m\u001b[1;33m\u001b[0m\u001b[0m\n\u001b[0;32m     61\u001b[0m         \u001b[0mservice\u001b[0m \u001b[1;33m=\u001b[0m \u001b[0mChromeService\u001b[0m\u001b[1;33m(\u001b[0m\u001b[0mlog_path\u001b[0m\u001b[1;33m=\u001b[0m\u001b[0mfilepath\u001b[0m\u001b[1;33m)\u001b[0m\u001b[1;33m\u001b[0m\u001b[1;33m\u001b[0m\u001b[0m\n\u001b[1;32m---> 62\u001b[1;33m         \u001b[0mdriver\u001b[0m \u001b[1;33m=\u001b[0m \u001b[0mwebdriver\u001b[0m\u001b[1;33m.\u001b[0m\u001b[0mChrome\u001b[0m\u001b[1;33m(\u001b[0m\u001b[0mservice\u001b[0m\u001b[1;33m=\u001b[0m\u001b[0mservice\u001b[0m\u001b[1;33m,\u001b[0m \u001b[0moptions\u001b[0m\u001b[1;33m=\u001b[0m\u001b[0mchrome_options\u001b[0m\u001b[1;33m)\u001b[0m\u001b[1;33m\u001b[0m\u001b[1;33m\u001b[0m\u001b[0m\n\u001b[0m\u001b[0;32m     63\u001b[0m         \u001b[0mdriver\u001b[0m\u001b[1;33m.\u001b[0m\u001b[0mset_page_load_timeout\u001b[0m\u001b[1;33m(\u001b[0m\u001b[1;36m60\u001b[0m\u001b[1;33m)\u001b[0m  \u001b[1;31m# Definir timeout para carregamento de página\u001b[0m\u001b[1;33m\u001b[0m\u001b[1;33m\u001b[0m\u001b[0m\n\u001b[0;32m     64\u001b[0m         \u001b[1;32mreturn\u001b[0m \u001b[0mdriver\u001b[0m\u001b[1;33m\u001b[0m\u001b[1;33m\u001b[0m\u001b[0m\n",
      "\u001b[1;32m~\\AppData\\Roaming\\Python\\Python38\\site-packages\\selenium\\webdriver\\chrome\\webdriver.py\u001b[0m in \u001b[0;36m__init__\u001b[1;34m(self, executable_path, port, options, service_args, desired_capabilities, service_log_path, chrome_options, service, keep_alive)\u001b[0m\n\u001b[0;32m     67\u001b[0m             \u001b[0mservice\u001b[0m \u001b[1;33m=\u001b[0m \u001b[0mService\u001b[0m\u001b[1;33m(\u001b[0m\u001b[0mexecutable_path\u001b[0m\u001b[1;33m,\u001b[0m \u001b[0mport\u001b[0m\u001b[1;33m,\u001b[0m \u001b[0mservice_args\u001b[0m\u001b[1;33m,\u001b[0m \u001b[0mservice_log_path\u001b[0m\u001b[1;33m)\u001b[0m\u001b[1;33m\u001b[0m\u001b[1;33m\u001b[0m\u001b[0m\n\u001b[0;32m     68\u001b[0m \u001b[1;33m\u001b[0m\u001b[0m\n\u001b[1;32m---> 69\u001b[1;33m         super().__init__(DesiredCapabilities.CHROME['browserName'], \"goog\",\n\u001b[0m\u001b[0;32m     70\u001b[0m                          \u001b[0mport\u001b[0m\u001b[1;33m,\u001b[0m \u001b[0moptions\u001b[0m\u001b[1;33m,\u001b[0m\u001b[1;33m\u001b[0m\u001b[1;33m\u001b[0m\u001b[0m\n\u001b[0;32m     71\u001b[0m                          \u001b[0mservice_args\u001b[0m\u001b[1;33m,\u001b[0m \u001b[0mdesired_capabilities\u001b[0m\u001b[1;33m,\u001b[0m\u001b[1;33m\u001b[0m\u001b[1;33m\u001b[0m\u001b[0m\n",
      "\u001b[1;32m~\\AppData\\Roaming\\Python\\Python38\\site-packages\\selenium\\webdriver\\chromium\\webdriver.py\u001b[0m in \u001b[0;36m__init__\u001b[1;34m(self, browser_name, vendor_prefix, port, options, service_args, desired_capabilities, service_log_path, service, keep_alive)\u001b[0m\n\u001b[0;32m     90\u001b[0m \u001b[1;33m\u001b[0m\u001b[0m\n\u001b[0;32m     91\u001b[0m         \u001b[1;32mtry\u001b[0m\u001b[1;33m:\u001b[0m\u001b[1;33m\u001b[0m\u001b[1;33m\u001b[0m\u001b[0m\n\u001b[1;32m---> 92\u001b[1;33m             super().__init__(\n\u001b[0m\u001b[0;32m     93\u001b[0m                 command_executor=ChromiumRemoteConnection(\n\u001b[0;32m     94\u001b[0m                     \u001b[0mremote_server_addr\u001b[0m\u001b[1;33m=\u001b[0m\u001b[0mself\u001b[0m\u001b[1;33m.\u001b[0m\u001b[0mservice\u001b[0m\u001b[1;33m.\u001b[0m\u001b[0mservice_url\u001b[0m\u001b[1;33m,\u001b[0m\u001b[1;33m\u001b[0m\u001b[1;33m\u001b[0m\u001b[0m\n",
      "\u001b[1;32m~\\AppData\\Roaming\\Python\\Python38\\site-packages\\selenium\\webdriver\\remote\\webdriver.py\u001b[0m in \u001b[0;36m__init__\u001b[1;34m(self, command_executor, desired_capabilities, browser_profile, proxy, keep_alive, file_detector, options)\u001b[0m\n\u001b[0;32m    268\u001b[0m         \u001b[0mself\u001b[0m\u001b[1;33m.\u001b[0m\u001b[0m_authenticator_id\u001b[0m \u001b[1;33m=\u001b[0m \u001b[1;32mNone\u001b[0m\u001b[1;33m\u001b[0m\u001b[1;33m\u001b[0m\u001b[0m\n\u001b[0;32m    269\u001b[0m         \u001b[0mself\u001b[0m\u001b[1;33m.\u001b[0m\u001b[0mstart_client\u001b[0m\u001b[1;33m(\u001b[0m\u001b[1;33m)\u001b[0m\u001b[1;33m\u001b[0m\u001b[1;33m\u001b[0m\u001b[0m\n\u001b[1;32m--> 270\u001b[1;33m         \u001b[0mself\u001b[0m\u001b[1;33m.\u001b[0m\u001b[0mstart_session\u001b[0m\u001b[1;33m(\u001b[0m\u001b[0mcapabilities\u001b[0m\u001b[1;33m,\u001b[0m \u001b[0mbrowser_profile\u001b[0m\u001b[1;33m)\u001b[0m\u001b[1;33m\u001b[0m\u001b[1;33m\u001b[0m\u001b[0m\n\u001b[0m\u001b[0;32m    271\u001b[0m \u001b[1;33m\u001b[0m\u001b[0m\n\u001b[0;32m    272\u001b[0m     \u001b[1;32mdef\u001b[0m \u001b[0m__repr__\u001b[0m\u001b[1;33m(\u001b[0m\u001b[0mself\u001b[0m\u001b[1;33m)\u001b[0m\u001b[1;33m:\u001b[0m\u001b[1;33m\u001b[0m\u001b[1;33m\u001b[0m\u001b[0m\n",
      "\u001b[1;32m~\\AppData\\Roaming\\Python\\Python38\\site-packages\\selenium\\webdriver\\remote\\webdriver.py\u001b[0m in \u001b[0;36mstart_session\u001b[1;34m(self, capabilities, browser_profile)\u001b[0m\n\u001b[0;32m    361\u001b[0m         \u001b[0mw3c_caps\u001b[0m \u001b[1;33m=\u001b[0m \u001b[0m_make_w3c_caps\u001b[0m\u001b[1;33m(\u001b[0m\u001b[0mcapabilities\u001b[0m\u001b[1;33m)\u001b[0m\u001b[1;33m\u001b[0m\u001b[1;33m\u001b[0m\u001b[0m\n\u001b[0;32m    362\u001b[0m         \u001b[0mparameters\u001b[0m \u001b[1;33m=\u001b[0m \u001b[1;33m{\u001b[0m\u001b[1;34m\"capabilities\"\u001b[0m\u001b[1;33m:\u001b[0m \u001b[0mw3c_caps\u001b[0m\u001b[1;33m}\u001b[0m\u001b[1;33m\u001b[0m\u001b[1;33m\u001b[0m\u001b[0m\n\u001b[1;32m--> 363\u001b[1;33m         \u001b[0mresponse\u001b[0m \u001b[1;33m=\u001b[0m \u001b[0mself\u001b[0m\u001b[1;33m.\u001b[0m\u001b[0mexecute\u001b[0m\u001b[1;33m(\u001b[0m\u001b[0mCommand\u001b[0m\u001b[1;33m.\u001b[0m\u001b[0mNEW_SESSION\u001b[0m\u001b[1;33m,\u001b[0m \u001b[0mparameters\u001b[0m\u001b[1;33m)\u001b[0m\u001b[1;33m\u001b[0m\u001b[1;33m\u001b[0m\u001b[0m\n\u001b[0m\u001b[0;32m    364\u001b[0m         \u001b[1;32mif\u001b[0m \u001b[1;34m'sessionId'\u001b[0m \u001b[1;32mnot\u001b[0m \u001b[1;32min\u001b[0m \u001b[0mresponse\u001b[0m\u001b[1;33m:\u001b[0m\u001b[1;33m\u001b[0m\u001b[1;33m\u001b[0m\u001b[0m\n\u001b[0;32m    365\u001b[0m             \u001b[0mresponse\u001b[0m \u001b[1;33m=\u001b[0m \u001b[0mresponse\u001b[0m\u001b[1;33m[\u001b[0m\u001b[1;34m'value'\u001b[0m\u001b[1;33m]\u001b[0m\u001b[1;33m\u001b[0m\u001b[1;33m\u001b[0m\u001b[0m\n",
      "\u001b[1;32m~\\AppData\\Roaming\\Python\\Python38\\site-packages\\selenium\\webdriver\\remote\\webdriver.py\u001b[0m in \u001b[0;36mexecute\u001b[1;34m(self, driver_command, params)\u001b[0m\n\u001b[0;32m    426\u001b[0m         \u001b[0mresponse\u001b[0m \u001b[1;33m=\u001b[0m \u001b[0mself\u001b[0m\u001b[1;33m.\u001b[0m\u001b[0mcommand_executor\u001b[0m\u001b[1;33m.\u001b[0m\u001b[0mexecute\u001b[0m\u001b[1;33m(\u001b[0m\u001b[0mdriver_command\u001b[0m\u001b[1;33m,\u001b[0m \u001b[0mparams\u001b[0m\u001b[1;33m)\u001b[0m\u001b[1;33m\u001b[0m\u001b[1;33m\u001b[0m\u001b[0m\n\u001b[0;32m    427\u001b[0m         \u001b[1;32mif\u001b[0m \u001b[0mresponse\u001b[0m\u001b[1;33m:\u001b[0m\u001b[1;33m\u001b[0m\u001b[1;33m\u001b[0m\u001b[0m\n\u001b[1;32m--> 428\u001b[1;33m             \u001b[0mself\u001b[0m\u001b[1;33m.\u001b[0m\u001b[0merror_handler\u001b[0m\u001b[1;33m.\u001b[0m\u001b[0mcheck_response\u001b[0m\u001b[1;33m(\u001b[0m\u001b[0mresponse\u001b[0m\u001b[1;33m)\u001b[0m\u001b[1;33m\u001b[0m\u001b[1;33m\u001b[0m\u001b[0m\n\u001b[0m\u001b[0;32m    429\u001b[0m             response['value'] = self._unwrap_value(\n\u001b[0;32m    430\u001b[0m                 response.get('value', None))\n",
      "\u001b[1;32m~\\AppData\\Roaming\\Python\\Python38\\site-packages\\selenium\\webdriver\\remote\\errorhandler.py\u001b[0m in \u001b[0;36mcheck_response\u001b[1;34m(self, response)\u001b[0m\n\u001b[0;32m    241\u001b[0m                 \u001b[0malert_text\u001b[0m \u001b[1;33m=\u001b[0m \u001b[0mvalue\u001b[0m\u001b[1;33m[\u001b[0m\u001b[1;34m'alert'\u001b[0m\u001b[1;33m]\u001b[0m\u001b[1;33m.\u001b[0m\u001b[0mget\u001b[0m\u001b[1;33m(\u001b[0m\u001b[1;34m'text'\u001b[0m\u001b[1;33m)\u001b[0m\u001b[1;33m\u001b[0m\u001b[1;33m\u001b[0m\u001b[0m\n\u001b[0;32m    242\u001b[0m             \u001b[1;32mraise\u001b[0m \u001b[0mexception_class\u001b[0m\u001b[1;33m(\u001b[0m\u001b[0mmessage\u001b[0m\u001b[1;33m,\u001b[0m \u001b[0mscreen\u001b[0m\u001b[1;33m,\u001b[0m \u001b[0mstacktrace\u001b[0m\u001b[1;33m,\u001b[0m \u001b[0malert_text\u001b[0m\u001b[1;33m)\u001b[0m  \u001b[1;31m# type: ignore[call-arg]  # mypy is not smart enough here\u001b[0m\u001b[1;33m\u001b[0m\u001b[1;33m\u001b[0m\u001b[0m\n\u001b[1;32m--> 243\u001b[1;33m         \u001b[1;32mraise\u001b[0m \u001b[0mexception_class\u001b[0m\u001b[1;33m(\u001b[0m\u001b[0mmessage\u001b[0m\u001b[1;33m,\u001b[0m \u001b[0mscreen\u001b[0m\u001b[1;33m,\u001b[0m \u001b[0mstacktrace\u001b[0m\u001b[1;33m)\u001b[0m\u001b[1;33m\u001b[0m\u001b[1;33m\u001b[0m\u001b[0m\n\u001b[0m",
      "\u001b[1;31mSessionNotCreatedException\u001b[0m: Message: session not created: This version of ChromeDriver only supports Chrome version 109\nCurrent browser version is 121.0.6167.185 with binary path C:\\Program Files (x86)\\Google\\Chrome\\Application\\chrome.exe\nStacktrace:\nBacktrace:\n\t(No symbol) [0x00A46643]\n\t(No symbol) [0x009DBE21]\n\t(No symbol) [0x008DDA9D]\n\t(No symbol) [0x00902911]\n\t(No symbol) [0x008FD630]\n\t(No symbol) [0x008FA899]\n\t(No symbol) [0x00936917]\n\t(No symbol) [0x0093655C]\n\t(No symbol) [0x0092FB76]\n\t(No symbol) [0x009049C1]\n\t(No symbol) [0x00905E5D]\n\tGetHandleVerifier [0x00CBA142+2497106]\n\tGetHandleVerifier [0x00CE85D3+2686691]\n\tGetHandleVerifier [0x00CEBB9C+2700460]\n\tGetHandleVerifier [0x00AF3B10+635936]\n\t(No symbol) [0x009E4A1F]\n\t(No symbol) [0x009EA418]\n\t(No symbol) [0x009EA505]\n\t(No symbol) [0x009F508B]\n\tBaseThreadInitThunk [0x769CFCC9+25]\n\tRtlGetAppContainerNamedObjectPath [0x77C77C5E+286]\n\tRtlGetAppContainerNamedObjectPath [0x77C77C2E+238]\n"
     ]
    }
   ],
   "source": [
    "# Importar a classe e instarciar o método\n",
    "from funding_finder_cnpq import FundingFinderCNPq\n",
    "finder = FundingFinderCNPq()\n",
    "\n",
    "# URL da página de resultados dos editais em aberto\n",
    "url_abertas = \"http://memoria2.cnpq.br/web/guest/chamadas-publicas?p_p_id=resultadosportlet_WAR_resultadoscnpqportlet_INSTANCE_0ZaM&filtro=abertas/\"\n",
    "\n",
    "df_abertas = finder.mount_dfchamadas(url_abertas)\n",
    "df_abertas"
   ]
  },
  {
   "cell_type": "code",
   "execution_count": null,
   "metadata": {},
   "outputs": [],
   "source": [
    "df_chamadas_abertas = finder.mount_final(df_abertas.copy(),'Chamadas CNPq abertas')\n",
    "df_chamadas_abertas.to_csv('../../../../data/csv/df_cnpq_chamadas_abertas.csv', index=False)\n",
    "finder.mount_foment_report(df_chamadas_abertas,'relatorio_chamadas_cnpq_abertas.html')"
   ]
  },
  {
   "cell_type": "code",
   "execution_count": null,
   "metadata": {},
   "outputs": [],
   "source": [
    "# df_chamadas_abertas['titulo'].value_counts()"
   ]
  },
  {
   "cell_type": "code",
   "execution_count": null,
   "metadata": {},
   "outputs": [],
   "source": [
    "# df_chamadas_abertas"
   ]
  },
  {
   "cell_type": "code",
   "execution_count": null,
   "metadata": {},
   "outputs": [],
   "source": [
    "# from pprint import pprint\n",
    "# pprint([x for x in df_chamadas_abertas['detalhes']], width=110)"
   ]
  },
  {
   "cell_type": "markdown",
   "metadata": {},
   "source": [
    "## Chamadas CNPq encerradas"
   ]
  },
  {
   "cell_type": "code",
   "execution_count": null,
   "metadata": {},
   "outputs": [],
   "source": [
    "# URL da página de resultados de editais encerrados\n",
    "url_encerradas = \"http://memoria2.cnpq.br/web/guest/chamadas-publicas?p_p_id=resultadosportlet_WAR_resultadoscnpqportlet_INSTANCE_0ZaM&filtro=encerradas/\"\n",
    "\n",
    "df_encerradas = finder.mount_dfchamadas_encerradas(url_encerradas)"
   ]
  },
  {
   "cell_type": "code",
   "execution_count": null,
   "metadata": {},
   "outputs": [],
   "source": [
    "df_chamadas_encerradas = finder.mount_final(df_encerradas.copy(),'Chamadas CNPq encerradas')\n",
    "df_chamadas_encerradas.to_csv('../../../../data/csv/df_cnpq_chamadas_encerradas.csv', index=False)\n",
    "finder.mount_foment_report(df_chamadas_encerradas,'relatorio_chamadas_cnpq_encerradas.html')"
   ]
  },
  {
   "cell_type": "code",
   "execution_count": null,
   "metadata": {},
   "outputs": [],
   "source": [
    "df_chamadas_encerradas['titulo'].value_counts()"
   ]
  },
  {
   "cell_type": "markdown",
   "metadata": {},
   "source": [
    "## Gerar relatório geral das Chamadas do CNPq"
   ]
  },
  {
   "cell_type": "code",
   "execution_count": null,
   "metadata": {},
   "outputs": [],
   "source": [
    "df = pd.concat([df_chamadas_abertas, df_chamadas_encerradas])\n",
    "finder.mount_foment_report(df,'relatorio_chamadas_cnpq.html')"
   ]
  },
  {
   "cell_type": "code",
   "execution_count": null,
   "metadata": {},
   "outputs": [],
   "source": [
    "df['titulo'].value_counts()"
   ]
  },
  {
   "cell_type": "code",
   "execution_count": null,
   "metadata": {},
   "outputs": [],
   "source": []
  },
  {
   "cell_type": "code",
   "execution_count": null,
   "metadata": {},
   "outputs": [],
   "source": []
  },
  {
   "cell_type": "code",
   "execution_count": null,
   "metadata": {},
   "outputs": [],
   "source": [
    "import numpy as np\n",
    "import requests, tempfile, fitz\n",
    "from bs4 import BeautifulSoup\n",
    "from datetime import datetime\n",
    "\n",
    "def extract_inscricao_data(div_inscricao):\n",
    "    \"\"\"\n",
    "    Extrai a data de início e a data de término das inscrições a partir de um elemento `div` com classe `inscricao`.\n",
    "    Args:\n",
    "        div_inscricao: Elemento BeautifulSoup da div com classe `inscricao`.\n",
    "    Returns:\n",
    "        Dicionário com as chaves \"data_inicio_inscricao\" e \"data_termino_inscricao\".\n",
    "    \"\"\"\n",
    "    texto_li = div_inscricao.find(\"li\").text.strip() # Extrair texto da li\n",
    "    data_inicio, data_termino = texto_li.split(\" a \") # Dividir texto em data de início e data de término\n",
    "    # Formatar datas\n",
    "    try:\n",
    "        data_inicio = datetime.strptime(data_inicio.strip(), \"%d/%m/%Y\").date()\n",
    "    except Exception as e:\n",
    "        print(e)\n",
    "        data_inicio = np.NaN\n",
    "    try:\n",
    "        data_termino = datetime.strptime(data_termino.strip(), \"%d/%m/%Y\").date()\n",
    "    except:\n",
    "        data_termino = np.NaN\n",
    "    return {\"data_inicio_inscricao\": data_inicio, \n",
    "            \"data_termino_inscricao\": data_termino}\n",
    "\n",
    "def extract_data(div_content, div_bottom_content):\n",
    "    \"\"\"Extrai dados da 'div_content' e o link do PDF da 'div_bottom_content'.\n",
    "    Args:\n",
    "        div_content: Objeto BeautifulSoup da 'div' com classe 'content'.\n",
    "        div_bottom_content: Objeto BeautifulSoup da 'div' com classe 'bottom-content'.\n",
    "    Returns:\n",
    "        Dicionário contendo os dados extraídos ou None se não forem encontrados.\n",
    "    \"\"\"\n",
    "\n",
    "    titulo = div_content.find(\"h4\").text.strip()\n",
    "    descricao = div_content.find(\"p\").text.strip()\n",
    "    data_inscricao = extract_inscricao_data(div_content)\n",
    "    if not data_inscricao:\n",
    "        data_inscricao = {\"data_inicio_inscricao\": None,\n",
    "                          \"data_termino_inscricao\": None}\n",
    "    link_pdf_element = div_bottom_content.find(\"a\", alt=\"Chamada\", class_=\"btn\")\n",
    "    if link_pdf_element:\n",
    "        link_pdf = link_pdf_element.get('href')\n",
    "        return {\n",
    "            \"link\": link_pdf,\n",
    "            \"titulo\": titulo,\n",
    "            \"descricao\": descricao,\n",
    "            **data_inscricao\n",
    "        }\n",
    "    else:\n",
    "        print(f\"Erro: Link do PDF não encontrado em {titulo}\")\n",
    "        link_pdf = None\n",
    "\n",
    "def extract_links_chamada(soup):\n",
    "    \"\"\"\n",
    "    Extrai os links dos botões \"Chamada\" da página.\n",
    "    Argumentos:\n",
    "        soup (BeautifulSoup): Objeto BeautifulSoup da página HTML.\n",
    "    Retorna:\n",
    "        list: Lista de strings contendo os links dos botões \"Chamada\".\n",
    "    \"\"\"\n",
    "\n",
    "    chamada_links = []\n",
    "\n",
    "    # Seleciona os botões \"Chamada\" com base em classes e atributos específicos.\n",
    "    buttons = soup.find_all(\n",
    "        \"button\",\n",
    "        class_=[\"btn-chamada\", \"chamada-button\"],\n",
    "        attrs={\"data-type\": \"chamada\"},\n",
    "    )\n",
    "\n",
    "    # Extrai o link de cada botão \"Chamada\".\n",
    "    for button in buttons:\n",
    "        link = button.get(\"href\")\n",
    "        if link:\n",
    "            chamada_links.append(link)\n",
    "\n",
    "    # Retorna a lista de links.\n",
    "    return chamada_links\n",
    "\n",
    "def ler_pdf_link_temp(url_pdf):\n",
    "    \"\"\"\n",
    "    Função para ler um PDF, gerando um arquivo temporário, a partir de um link usando PyMuPDF e retornar o texto extraído.\n",
    "    Argumentos:\n",
    "        url_pdf (str): URL do arquivo PDF.\n",
    "    Retorno:\n",
    "        str: Texto extraído do PDF.\n",
    "    \"\"\"\n",
    "    substituicoes = {\n",
    "        \"\\n\": \" \",\n",
    "        \"  \": \" \",\n",
    "        \"Ɵ\": \"ti\",\n",
    "        \"ơ\": \"ti\",\n",
    "        \"‒\": \"-\",\n",
    "        \"hƩp\": \"http\",\n",
    "        \"LaƩes\": \"Lattes\",\n",
    "    }\n",
    "    try:\n",
    "        response = requests.get(url_pdf)\n",
    "        print(response.status_code)\n",
    "        response.raise_for_status()  # Raise an exception if download fails\n",
    "        with tempfile.NamedTemporaryFile(suffix='.pdf') as temp_pdf: \n",
    "            temp_pdf.write(response.content)  # Salva conteúdo do PDF \n",
    "            temp_pdf.seek(0)  # Volta o ponteiro para o início do arquivo\n",
    "            # Extrair texto do PDF\n",
    "            texto_completo = \"\"\n",
    "            with fitz.open(temp_pdf.name) as pdf_documento:  # Use o nome do arquivo\n",
    "                for pagina in pdf_documento.pages():\n",
    "                    texto_pagina = pagina.get_text(\"text\")\n",
    "                    for caracter, substituto in substituicoes.items():\n",
    "                        texto_pagina = texto_pagina.replace(caracter, substituto)\n",
    "                    texto_completo += texto_pagina.strip()\n",
    "                    print(texto_completo)\n",
    "        return texto_completo\n",
    "\n",
    "    except requests.exceptions.RequestException as error:\n",
    "        print(f\"Error downloading PDF: {error}\")\n",
    "        return None"
   ]
  },
  {
   "cell_type": "code",
   "execution_count": null,
   "metadata": {},
   "outputs": [],
   "source": [
    "url = \"http://memoria2.cnpq.br/web/guest/chamadas-publicas?p_p_id=resultadosportlet_WAR_resultadoscnpqportlet_INSTANCE_0ZaM&filtro=abertas/\"\n",
    "\n",
    "chamadas_data = []\n",
    "page = requests.get(url)\n",
    "soup = BeautifulSoup(page.content, \"html.parser\")\n",
    "# print(soup.prettify())\n",
    "\n",
    "divs_content = soup.find_all(\"div\", class_=\"content\", tabindex=\"0\")\n",
    "divs_bottom_content = soup.find_all(\"div\", class_=\"bottom-content\")\n",
    "if len(divs_content) != len(divs_bottom_content):\n",
    "    print(\"Erro: Quantidades diferentes de divs 'content' e 'bottom-content'\")\n",
    "    exit()\n",
    "\n",
    "for div_content, div_bottom_content in zip(divs_content, divs_bottom_content):\n",
    "    chamada_data = extract_data(div_content, div_bottom_content)\n",
    "    chamadas_data.append(chamada_data)\n",
    "\n",
    "pd.DataFrame(chamadas_data)"
   ]
  }
 ],
 "metadata": {
  "kernelspec": {
   "display_name": "Python 3",
   "language": "python",
   "name": "python3"
  },
  "language_info": {
   "codemirror_mode": {
    "name": "ipython",
    "version": 3
   },
   "file_extension": ".py",
   "mimetype": "text/x-python",
   "name": "python",
   "nbconvert_exporter": "python",
   "pygments_lexer": "ipython3",
   "version": "3.8.8"
  }
 },
 "nbformat": 4,
 "nbformat_minor": 2
}
