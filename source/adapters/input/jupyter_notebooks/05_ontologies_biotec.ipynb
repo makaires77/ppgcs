{
 "cells": [
  {
   "cell_type": "code",
   "execution_count": 1,
   "metadata": {},
   "outputs": [
    {
     "name": "stdout",
     "output_type": "stream",
     "text": [
      "Could not fetch URL https://pypi.org/simple/rdflib/: There was a problem confirming the ssl certificate: HTTPSConnectionPool(host='pypi.org', port=443): Max retries exceeded with url: /simple/rdflib/ (Caused by SSLError(SSLCertVerificationError(1, '[SSL: CERTIFICATE_VERIFY_FAILED] certificate verify failed: unable to get local issuer certificate (_ssl.c:1131)'))) - skipping\n"
     ]
    },
    {
     "name": "stderr",
     "output_type": "stream",
     "text": [
      "WARNING: Retrying (Retry(total=4, connect=None, read=None, redirect=None, status=None)) after connection broken by 'SSLError(SSLCertVerificationError(1, '[SSL: CERTIFICATE_VERIFY_FAILED] certificate verify failed: unable to get local issuer certificate (_ssl.c:1131)'))': /simple/rdflib/\n",
      "WARNING: Retrying (Retry(total=3, connect=None, read=None, redirect=None, status=None)) after connection broken by 'SSLError(SSLCertVerificationError(1, '[SSL: CERTIFICATE_VERIFY_FAILED] certificate verify failed: unable to get local issuer certificate (_ssl.c:1131)'))': /simple/rdflib/\n",
      "WARNING: Retrying (Retry(total=2, connect=None, read=None, redirect=None, status=None)) after connection broken by 'SSLError(SSLCertVerificationError(1, '[SSL: CERTIFICATE_VERIFY_FAILED] certificate verify failed: unable to get local issuer certificate (_ssl.c:1131)'))': /simple/rdflib/\n",
      "WARNING: Retrying (Retry(total=1, connect=None, read=None, redirect=None, status=None)) after connection broken by 'SSLError(SSLCertVerificationError(1, '[SSL: CERTIFICATE_VERIFY_FAILED] certificate verify failed: unable to get local issuer certificate (_ssl.c:1131)'))': /simple/rdflib/\n",
      "WARNING: Retrying (Retry(total=0, connect=None, read=None, redirect=None, status=None)) after connection broken by 'SSLError(SSLCertVerificationError(1, '[SSL: CERTIFICATE_VERIFY_FAILED] certificate verify failed: unable to get local issuer certificate (_ssl.c:1131)'))': /simple/rdflib/\n",
      "ERROR: Could not find a version that satisfies the requirement rdflib (from versions: none)\n",
      "ERROR: No matching distribution found for rdflib\n"
     ]
    }
   ],
   "source": [
    "!pip install rdflib"
   ]
  },
  {
   "cell_type": "code",
   "execution_count": null,
   "metadata": {},
   "outputs": [],
   "source": [
    "import rdflib\n",
    "\n",
    "# Carregar a ontologia BioOnt\n",
    "ont_bioont = rdflib.Graph().parse(\"bioont.rdf\")\n",
    "\n",
    "# Extrair os termos da ontologia BioOnt\n",
    "terms_bioont = []\n",
    "for term in ont_bioont.subjects(rdflib.RDF.type, rdflib.OWL.Class):\n",
    "    terms_bioont.append((term, ont_bioont.get_resource(term).label))\n",
    "\n",
    "# Carregar a ontologia BioTop\n",
    "ont_biotop = rdflib.Graph().parse(\"biotop.rdf\")\n",
    "\n",
    "# Extrair os termos da ontologia BioTop\n",
    "terms_biotop = []\n",
    "for term in ont_biotop.subjects(rdflib.RDF.type, rdflib.OWL.Class):\n",
    "    terms_biotop.append((term, ont_biotop.get_resource(term).label))\n",
    "\n",
    "# Combinar os termos das duas ontologias\n",
    "terms = terms_bioont + terms_biotop\n",
    "\n",
    "# Formatar os termos em um arquivo csv\n",
    "with open(\"terms.csv\", \"w\") as f:\n",
    "    for term in terms:\n",
    "        f.write(f\"{term[0]},{term[1]},{'tecnologia' if term[0].endswith('Technology') else 'técnica' if term[0].endswith('Technique') else 'procedimento' if term[0].endswith('Procedure') else 'experimento'}\\n\")\n"
   ]
  }
 ],
 "metadata": {
  "kernelspec": {
   "display_name": "Python38-PyTorch",
   "language": "python",
   "name": "python3"
  },
  "language_info": {
   "codemirror_mode": {
    "name": "ipython",
    "version": 3
   },
   "file_extension": ".py",
   "mimetype": "text/x-python",
   "name": "python",
   "nbconvert_exporter": "python",
   "pygments_lexer": "ipython3",
   "version": "3.8.18"
  }
 },
 "nbformat": 4,
 "nbformat_minor": 2
}
