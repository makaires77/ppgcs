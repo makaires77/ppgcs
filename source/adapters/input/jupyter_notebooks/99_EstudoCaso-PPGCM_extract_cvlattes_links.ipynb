{
 "cells": [
  {
   "cell_type": "code",
   "execution_count": 8,
   "metadata": {},
   "outputs": [
    {
     "name": "stdout",
     "output_type": "stream",
     "text": [
      "{'Armenio Aguiar dos Santos': 'http://lattes.cnpq.br/6367176618425888',\n",
      " 'Eanes Delgado Barros Pereira': 'http://lattes.cnpq.br/1517783578435444',\n",
      " 'Elizabeth De Francesco Daher': 'http://lattes.cnpq.br/4855968398515646',\n",
      " 'Francisco Airton Castro da Rocha': 'http://lattes.cnpq.br/4916026652021507',\n",
      " 'Fábio Miyajima': 'http://lattes.cnpq.br/0998235420634887',\n",
      " 'Geanne Matos de Andrade': 'http://lattes.cnpq.br/9935129797137635',\n",
      " 'Gerly Anne de Castro Brito': 'http://lattes.cnpq.br/8991062042568398',\n",
      " 'Marcellus Henrique Loiola Ponte de Souza': 'http://lattes.cnpq.br/4001596522263940',\n",
      " 'Marcelo Alcantara Holanda': 'http://lattes.cnpq.br/4091972080928881',\n",
      " 'Miguel Ângelo Nobre e Souza': 'http://lattes.cnpq.br/2471578430392531',\n",
      " 'Pedro Braga Neto': 'http://lattes.cnpq.br/0524387231525638',\n",
      " 'Pedro Felipe Carvalhedo de Bruin': 'http://lattes.cnpq.br/9205614478199218',\n",
      " 'Raquel Carvalho Montenegro': 'http://lattes.cnpq.br/0043828437326839',\n",
      " 'Renan Magalhães Montenegro Junior': 'http://lattes.cnpq.br/7492450432942397',\n",
      " 'Ronald Feitosa Pinheiro': 'http://lattes.cnpq.br/4755251182720144',\n",
      " 'Rossana de Aguiar Cordeiro': 'http://lattes.cnpq.br/1934399087822977',\n",
      " 'Silvia Maria Meira Magalhães': 'http://lattes.cnpq.br/9118657720317683',\n",
      " 'Tainá Veras de Sandes Freitas': 'http://lattes.cnpq.br/8033606057154785',\n",
      " 'Veralice Meireles Sales de Bruin': 'http://lattes.cnpq.br/1875628960274922',\n",
      " 'Xinaida Taligare Vasconcelos Lima': 'http://lattes.cnpq.br/6289689171537125'}\n"
     ]
    }
   ],
   "source": [
    "from bs4 import BeautifulSoup\n",
    "from pprint import pprint\n",
    "import requests\n",
    "\n",
    "# Realizar Solicitação HTTP\n",
    "response = requests.get(\"https://ppgcm.ufc.br/pt/corpo-docente/\")\n",
    "\n",
    "# Parse do Conteúdo HTML\n",
    "soup = BeautifulSoup(response.content, 'html.parser')\n",
    "\n",
    "# Limitar o Escopo da Busca\n",
    "main_content = soup.find('main')\n",
    "\n",
    "# Inicialização de Estruturas de Dados\n",
    "docente_info = {}\n",
    "\n",
    "# Iteração sobre os Elementos da Tabela\n",
    "for tr_tag in main_content.find_all('tr'):\n",
    "    \n",
    "    # Extração do Nome e do Link\n",
    "    p_tag = tr_tag.find('p')\n",
    "    a_tag = tr_tag.find('a', href=True)\n",
    "    \n",
    "    if p_tag and a_tag:\n",
    "        nome = p_tag.text.strip()\n",
    "        if '– ' in nome:\n",
    "            nome = nome.split('– ')[0].strip()\n",
    "        elif '- ' in nome:\n",
    "            nome = nome.split('- ')[0].strip()\n",
    "        link = a_tag['href']\n",
    "        \n",
    "        if \"http://lattes.cnpq.br/\" in link:\n",
    "            docente_info[nome] = link\n",
    "\n",
    "# Exibição do Dicionário com os Nomes e Links\n",
    "pprint(docente_info)"
   ]
  },
  {
   "cell_type": "code",
   "execution_count": 9,
   "metadata": {},
   "outputs": [
    {
     "data": {
      "text/plain": [
       "['Armenio Aguiar dos Santos',\n",
       " 'Eanes Delgado Barros Pereira',\n",
       " 'Elizabeth De Francesco Daher',\n",
       " 'Francisco Airton Castro da Rocha',\n",
       " 'Geanne Matos de Andrade',\n",
       " 'Gerly Anne de Castro Brito',\n",
       " 'Marcellus Henrique Loiola Ponte de Souza',\n",
       " 'Pedro Braga Neto',\n",
       " 'Pedro Felipe Carvalhedo de Bruin',\n",
       " 'Raquel Carvalho Montenegro',\n",
       " 'Renan Magalhães Montenegro Junior',\n",
       " 'Ronald Feitosa Pinheiro',\n",
       " 'Rossana de Aguiar Cordeiro',\n",
       " 'Silvia Maria Meira Magalhães',\n",
       " 'Tainá Veras de Sandes Freitas',\n",
       " 'Veralice Meireles Sales de Bruin',\n",
       " 'Fábio Miyajima',\n",
       " 'Marcelo Alcantara Holanda',\n",
       " 'Miguel Ângelo Nobre e Souza',\n",
       " 'Xinaida Taligare Vasconcelos Lima']"
      ]
     },
     "execution_count": 9,
     "metadata": {},
     "output_type": "execute_result"
    }
   ],
   "source": [
    "nomes = docente_info.keys()\n",
    "lista_nomes = list(nomes)\n",
    "lista_nomes"
   ]
  }
 ],
 "metadata": {
  "kernelspec": {
   "display_name": "beakerx",
   "language": "python",
   "name": "python3"
  },
  "language_info": {
   "codemirror_mode": {
    "name": "ipython",
    "version": 3
   },
   "file_extension": ".py",
   "mimetype": "text/x-python",
   "name": "python",
   "nbconvert_exporter": "python",
   "pygments_lexer": "ipython3",
   "version": "3.11.2"
  }
 },
 "nbformat": 4,
 "nbformat_minor": 2
}
