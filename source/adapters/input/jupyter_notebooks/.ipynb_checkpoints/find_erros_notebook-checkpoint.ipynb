{
 "cells": [
  {
   "cell_type": "code",
   "execution_count": 11,
   "id": "ab2e2ee9-aa17-4f8d-b861-82095a67eb3e",
   "metadata": {},
   "outputs": [
    {
     "name": "stdout",
     "output_type": "stream",
     "text": [
      "Erro de codificação encontrado na linha 11293: 'utf-8' codec can't decode byte 0xe7 in position 4838: invalid continuation byte\n",
      "Linha do arquivo com problema: 11293\n",
      "Conteúdo da linha:     \"    Parameters:\\n\",\n",
      "\n",
      "Ocorreu um erro ao processar o arquivo: 'utf-8' codec can't decode byte 0xe7 in position 2675430: invalid continuation byte\n",
      "Não foi possível encontrar a célula com o erro.\n"
     ]
    }
   ],
   "source": [
    "import json\n",
    "\n",
    "def find_encoding_issue(file_path):\n",
    "    try:\n",
    "        with open(file_path, 'r', encoding='utf-8') as file:\n",
    "            for line_number, line in enumerate(file, 1):\n",
    "                pass  # Apenas lendo para verificar erros\n",
    "    except UnicodeDecodeError as e:\n",
    "        print(f\"Erro de codificação encontrado na linha {line_number}: {e}\")\n",
    "        print(f\"Linha do arquivo com problema: {line_number}\")\n",
    "        print(f\"Conteúdo da linha: {line}\")\n",
    "        \n",
    "    return line_number\n",
    "\n",
    "def find_cell_with_error(file_path, error_line_number):\n",
    "    try:\n",
    "        with open(file_path, 'r', encoding='utf-8') as file:\n",
    "            notebook_data = json.load(file)\n",
    "\n",
    "        current_line_number = 1\n",
    "        for cell in notebook_data['cells']:\n",
    "            source = cell.get('source', [])\n",
    "            for line in source:\n",
    "                # Contando as linhas dentro da célula atual\n",
    "                current_line_number += line.count('\\n') + 1\n",
    "                if current_line_number >= error_line_number:\n",
    "                    return cell\n",
    "\n",
    "        return None\n",
    "    except Exception as e:\n",
    "        print(f\"Ocorreu um erro ao processar o arquivo: {e}\")\n",
    "        return None\n",
    "\n",
    "# Substitua com o caminho do seu arquivo .ipynb\n",
    "file_path = '01_gmlLattes4j.ipynb'\n",
    "error_line_number = find_encoding_issue(file_path)\n",
    "cell_with_error = find_cell_with_error(file_path, error_line_number)\n",
    "\n",
    "if cell_with_error:\n",
    "    print(\"Célula encontrada com o erro:\")\n",
    "    print(cell_with_error)\n",
    "else:\n",
    "    print(\"Não foi possível encontrar a célula com o erro.\")"
   ]
  },
  {
   "cell_type": "code",
   "execution_count": null,
   "id": "676b6c8c-8142-4f91-94e5-66fecfb3a6fb",
   "metadata": {},
   "outputs": [],
   "source": []
  }
 ],
 "metadata": {
  "kernelspec": {
   "display_name": "Python 3 (ipykernel)",
   "language": "python",
   "name": "python3"
  },
  "language_info": {
   "codemirror_mode": {
    "name": "ipython",
    "version": 3
   },
   "file_extension": ".py",
   "mimetype": "text/x-python",
   "name": "python",
   "nbconvert_exporter": "python",
   "pygments_lexer": "ipython3",
   "version": "3.10.12"
  }
 },
 "nbformat": 4,
 "nbformat_minor": 5
}
