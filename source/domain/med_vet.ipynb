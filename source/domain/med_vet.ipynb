{
 "cells": [
  {
   "cell_type": "code",
   "execution_count": 2,
   "metadata": {},
   "outputs": [],
   "source": [
    "url_medvet = 'https://pesquisa.bvsalud.org/bvs-vet/?u_filter%5B%5D=fulltext&u_filter%5B%5D=collection&u_filter%5B%5D=db&u_filter%5B%5D=type_of_study&u_filter%5B%5D=clinical_aspect&u_filter%5B%5D=limit&u_filter%5B%5D=pais_assunto&u_filter%5B%5D=la&u_filter%5B%5D=year_cluster&u_filter%5B%5D=type&u_filter%5B%5D=ta_cluster&u_filter%5B%5D=jd&u_filter%5B%5D=pais_afiliacao&fb=&output=site&lang=pt&from=1&sort=&format=summary&count=100&page=1&range_year_start=2019&range_year_end=2024&skfp=&index=tw&q=cancer&where=&years=on&filter%5Bfulltext%5D%5B%5D=1&filter%5Bdb%5D%5B%5D=VETINDEX&filter%5Btype%5D%5B%5D=article&range_year_start=2019&range_year_end=2024&filter%5Bfulltext%5D%5B%5D=1&filter%5Bfulltext%5D%5B%5D=1&filter%5Bdb%5D%5B%5D=VETINDEXEXPRESS&filter%5Btype%5D%5B%5D=thesis'\n",
    "query_diagnosticoprecocealzheimer = '( mh:(\"Diagnóstico Precoce\" OR \"Diagnóstico Precoce\") AND mj:(\"Doença de Alzheimer\")) AND (year_cluster:[2019 TO 2024])'\n",
    "url_diagnosticoprecocealzheimer= 'https://pesquisa.bvsalud.org/portal/?u_filter%5B%5D=fulltext&u_filter%5B%5D=db&u_filter%5B%5D=mj_cluster&u_filter%5B%5D=type_of_study&u_filter%5B%5D=la&fb=&output=site&lang=pt&from=1&sort=&format=summary&count=100&page=1&filter%5Bmh%5D%5B%5D=Diagn%C3%B3stico+Precoce&range_year_start=&range_year_end=&skfp=true&index=&q=&where=&filter%5Bmj_cluster%5D%5B%5D=Doen%C3%A7a+de+Alzheimer&years=on&range_year_start=2019&range_year_end=2024&filter%5Bmh%5D%5B%5D=Diagn%C3%B3stico+Precoce'"
   ]
  },
  {
   "cell_type": "markdown",
   "metadata": {
    "vscode": {
     "languageId": "raw"
    }
   },
   "source": [
    "base_url = 'https://pesquisa.bvsalud.org/portal/?u_filter'\n",
    "con = '%5B%5D=fulltext\n",
    "&u_filter%5B%5D=db\n",
    "&u_filter%5B%5D=mj_cluster\n",
    "&u_filter%5B%5D=type_of_study\n",
    "&u_filter%5B%5D=la\n",
    "&fb=\n",
    "&output=site\n",
    "&lang=pt\n",
    "&from=1\n",
    "&sort=\n",
    "&format=summary\n",
    "&count=100\n",
    "&page=1\n",
    "&filter%5Bmh%5D%5B%5D='\n",
    "tema = 'Diagn%C3%B3stico+Precoce&range_year_start=&range_year_end=\n",
    "&skfp=true\n",
    "&index=\n",
    "&q=\n",
    "&where=\n",
    "&filter%5Bmj_cluster%5D%5B%5D=Doen%C3%A7a+de+Alzheimer\n",
    "&years=on\n",
    "&range_year_start=2019\n",
    "&range_year_end=2024\n",
    "&filter%5Bmh%5D%5B%5D=Diagn%C3%B3stico+Precoce'"
   ]
  }
 ],
 "metadata": {
  "kernelspec": {
   "display_name": "base",
   "language": "python",
   "name": "python3"
  },
  "language_info": {
   "codemirror_mode": {
    "name": "ipython",
    "version": 3
   },
   "file_extension": ".py",
   "mimetype": "text/x-python",
   "name": "python",
   "nbconvert_exporter": "python",
   "pygments_lexer": "ipython3",
   "version": "3.12.2"
  }
 },
 "nbformat": 4,
 "nbformat_minor": 2
}
