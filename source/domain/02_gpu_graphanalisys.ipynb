{
 "cells": [
  {
   "cell_type": "code",
   "execution_count": 1,
   "metadata": {},
   "outputs": [
    {
     "name": "stdout",
     "output_type": "stream",
     "text": [
      "Retrieving notices: ...working... Retrying (Retry(total=2, connect=None, read=None, redirect=None, status=None)) after connection broken by 'NewConnectionError('<urllib3.connection.HTTPSConnection object at 0x7fcc40a312e0>: Failed to establish a new connection: [Errno 101] Network is unreachable')': /pkgs/main/notices.json\n",
      "\n",
      "Retrying (Retry(total=2, connect=None, read=None, redirect=None, status=None)) after connection broken by 'NewConnectionError('<urllib3.connection.HTTPSConnection object at 0x7fcc40a31790>: Failed to establish a new connection: [Errno 101] Network is unreachable')': /pkgs/r/notices.json\n",
      "\n",
      "Retrying (Retry(total=2, connect=None, read=None, redirect=None, status=None)) after connection broken by 'NewConnectionError('<urllib3.connection.HTTPSConnection object at 0x7fcc40a13650>: Failed to establish a new connection: [Errno 101] Network is unreachable')': /pytorch/notices.json\n",
      "\n",
      "Retrying (Retry(total=2, connect=None, read=None, redirect=None, status=None)) after connection broken by 'NewConnectionError('<urllib3.connection.HTTPSConnection object at 0x7fcc40a31640>: Failed to establish a new connection: [Errno 101] Network is unreachable')': /conda-forge/notices.json\n",
      "\n",
      "Retrying (Retry(total=1, connect=None, read=None, redirect=None, status=None)) after connection broken by 'NewConnectionError('<urllib3.connection.HTTPSConnection object at 0x7fcc40a13680>: Failed to establish a new connection: [Errno 101] Network is unreachable')': /pkgs/main/notices.json\n",
      "\n",
      "Retrying (Retry(total=1, connect=None, read=None, redirect=None, status=None)) after connection broken by 'NewConnectionError('<urllib3.connection.HTTPSConnection object at 0x7fcc40a13140>: Failed to establish a new connection: [Errno 101] Network is unreachable')': /pytorch/notices.json\n",
      "\n",
      "Retrying (Retry(total=1, connect=None, read=None, redirect=None, status=None)) after connection broken by 'NewConnectionError('<urllib3.connection.HTTPSConnection object at 0x7fcc40a13cb0>: Failed to establish a new connection: [Errno 101] Network is unreachable')': /pkgs/r/notices.json\n",
      "\n",
      "Retrying (Retry(total=1, connect=None, read=None, redirect=None, status=None)) after connection broken by 'NewConnectionError('<urllib3.connection.HTTPSConnection object at 0x7fcc40a31850>: Failed to establish a new connection: [Errno 101] Network is unreachable')': /conda-forge/notices.json\n",
      "\n",
      "Retrying (Retry(total=0, connect=None, read=None, redirect=None, status=None)) after connection broken by 'NewConnectionError('<urllib3.connection.HTTPSConnection object at 0x7fcc40a31e80>: Failed to establish a new connection: [Errno 101] Network is unreachable')': /pkgs/main/notices.json\n",
      "\n",
      "Retrying (Retry(total=0, connect=None, read=None, redirect=None, status=None)) after connection broken by 'NewConnectionError('<urllib3.connection.HTTPSConnection object at 0x7fcc40a32180>: Failed to establish a new connection: [Errno 101] Network is unreachable')': /pytorch/notices.json\n",
      "\n",
      "Retrying (Retry(total=0, connect=None, read=None, redirect=None, status=None)) after connection broken by 'NewConnectionError('<urllib3.connection.HTTPSConnection object at 0x7fcc40a319a0>: Failed to establish a new connection: [Errno 101] Network is unreachable')': /pkgs/r/notices.json\n",
      "\n",
      "Retrying (Retry(total=0, connect=None, read=None, redirect=None, status=None)) after connection broken by 'NewConnectionError('<urllib3.connection.HTTPSConnection object at 0x7fcc40a31a90>: Failed to establish a new connection: [Errno 101] Network is unreachable')': /conda-forge/notices.json\n",
      "\n",
      "ERROR conda.notices.fetch:get_channel_notice_response(73): Request error <HTTPSConnectionPool(host='repo.anaconda.com', port=443): Max retries exceeded with url: /pkgs/main/notices.json (Caused by NewConnectionError('<urllib3.connection.HTTPSConnection object at 0x7fcc40a309e0>: Failed to establish a new connection: [Errno 101] Network is unreachable'))> for channel: defaults url: https://repo.anaconda.com/pkgs/main/notices.json\n",
      "ERROR conda.notices.fetch:get_channel_notice_response(73): Request error <HTTPSConnectionPool(host='conda.anaconda.org', port=443): Max retries exceeded with url: /pytorch/notices.json (Caused by NewConnectionError('<urllib3.connection.HTTPSConnection object at 0x7fcc40a30260>: Failed to establish a new connection: [Errno 101] Network is unreachable'))> for channel: pytorch url: https://conda.anaconda.org/pytorch/notices.json\n",
      "ERROR conda.notices.fetch:get_channel_notice_response(73): Request error <HTTPSConnectionPool(host='repo.anaconda.com', port=443): Max retries exceeded with url: /pkgs/r/notices.json (Caused by NewConnectionError('<urllib3.connection.HTTPSConnection object at 0x7fcc40a30380>: Failed to establish a new connection: [Errno 101] Network is unreachable'))> for channel: defaults url: https://repo.anaconda.com/pkgs/r/notices.json\n",
      "ERROR conda.notices.fetch:get_channel_notice_response(73): Request error <HTTPSConnectionPool(host='conda.anaconda.org', port=443): Max retries exceeded with url: /conda-forge/notices.json (Caused by NewConnectionError('<urllib3.connection.HTTPSConnection object at 0x7fcc40a30560>: Failed to establish a new connection: [Errno 101] Network is unreachable'))> for channel: conda-forge url: https://conda.anaconda.org/conda-forge/notices.json\n",
      "done\n",
      "Channels:\n",
      " - conda-forge\n",
      " - pytorch\n",
      " - defaults\n",
      "Platform: linux-64\n",
      "Collecting package metadata (repodata.json): \\ Retrying (Retry(total=2, connect=None, read=None, redirect=None, status=None)) after connection broken by 'NewConnectionError('<urllib3.connection.HTTPSConnection object at 0x7fcc38f10500>: Failed to establish a new connection: [Errno 101] Network is unreachable')': /pytorch/linux-64/repodata.json\n",
      "\n",
      "Retrying (Retry(total=2, connect=None, read=None, redirect=None, status=None)) after connection broken by 'NewConnectionError('<urllib3.connection.HTTPSConnection object at 0x7fcc38efb920>: Failed to establish a new connection: [Errno 101] Network is unreachable')': /conda-forge/linux-64/repodata.json.zst\n",
      "\n",
      "Retrying (Retry(total=2, connect=None, read=None, redirect=None, status=None)) after connection broken by 'NewConnectionError('<urllib3.connection.HTTPSConnection object at 0x7fcc38ef9bb0>: Failed to establish a new connection: [Errno 101] Network is unreachable')': /conda-forge/noarch/repodata.json.zst\n",
      "\n",
      "Retrying (Retry(total=2, connect=None, read=None, redirect=None, status=None)) after connection broken by 'NewConnectionError('<urllib3.connection.HTTPSConnection object at 0x7fcc38f10740>: Failed to establish a new connection: [Errno 101] Network is unreachable')': /pkgs/main/noarch/repodata.json.zst\n",
      "\n",
      "Retrying (Retry(total=2, connect=None, read=None, redirect=None, status=None)) after connection broken by 'NewConnectionError('<urllib3.connection.HTTPSConnection object at 0x7fcc38efb350>: Failed to establish a new connection: [Errno 101] Network is unreachable')': /pkgs/r/linux-64/repodata.json.zst\n",
      "\n",
      "Retrying (Retry(total=2, connect=None, read=None, redirect=None, status=None)) after connection broken by 'NewConnectionError('<urllib3.connection.HTTPSConnection object at 0x7fcc38f11520>: Failed to establish a new connection: [Errno 101] Network is unreachable')': /pkgs/r/noarch/repodata.json.zst\n",
      "\n",
      "Retrying (Retry(total=2, connect=None, read=None, redirect=None, status=None)) after connection broken by 'NewConnectionError('<urllib3.connection.HTTPSConnection object at 0x7fcc38f10d10>: Failed to establish a new connection: [Errno 101] Network is unreachable')': /pytorch/noarch/repodata.json\n",
      "\n",
      "Retrying (Retry(total=2, connect=None, read=None, redirect=None, status=None)) after connection broken by 'NewConnectionError('<urllib3.connection.HTTPSConnection object at 0x7fcc38f11d30>: Failed to establish a new connection: [Errno 101] Network is unreachable')': /pkgs/main/linux-64/repodata.json.zst\n",
      "\n",
      "/ Retrying (Retry(total=1, connect=None, read=None, redirect=None, status=None)) after connection broken by 'NewConnectionError('<urllib3.connection.HTTPSConnection object at 0x7fcc38f120f0>: Failed to establish a new connection: [Errno 101] Network is unreachable')': /conda-forge/linux-64/repodata.json.zst\n",
      "\n",
      "- Retrying (Retry(total=1, connect=None, read=None, redirect=None, status=None)) after connection broken by 'NewConnectionError('<urllib3.connection.HTTPSConnection object at 0x7fcc38f11f10>: Failed to establish a new connection: [Errno 101] Network is unreachable')': /pytorch/linux-64/repodata.json\n",
      "\n",
      "Retrying (Retry(total=1, connect=None, read=None, redirect=None, status=None)) after connection broken by 'NewConnectionError('<urllib3.connection.HTTPSConnection object at 0x7fcc38f12a50>: Failed to establish a new connection: [Errno 101] Network is unreachable')': /pytorch/noarch/repodata.json\n",
      "\n",
      "Retrying (Retry(total=1, connect=None, read=None, redirect=None, status=None)) after connection broken by 'NewConnectionError('<urllib3.connection.HTTPSConnection object at 0x7fcc38f124b0>: Failed to establish a new connection: [Errno 101] Network is unreachable')': /pkgs/main/noarch/repodata.json.zst\n",
      "\n",
      "Retrying (Retry(total=1, connect=None, read=None, redirect=None, status=None)) after connection broken by 'NewConnectionError('<urllib3.connection.HTTPSConnection object at 0x7fcc38f12870>: Failed to establish a new connection: [Errno 101] Network is unreachable')': /pkgs/r/noarch/repodata.json.zst\n",
      "\n",
      "Retrying (Retry(total=1, connect=None, read=None, redirect=None, status=None)) after connection broken by 'NewConnectionError('<urllib3.connection.HTTPSConnection object at 0x7fcc38f122d0>: Failed to establish a new connection: [Errno 101] Network is unreachable')': /conda-forge/noarch/repodata.json.zst\n",
      "\n",
      "Retrying (Retry(total=1, connect=None, read=None, redirect=None, status=None)) after connection broken by 'NewConnectionError('<urllib3.connection.HTTPSConnection object at 0x7fcc38f12690>: Failed to establish a new connection: [Errno 101] Network is unreachable')': /pkgs/r/linux-64/repodata.json.zst\n",
      "\n",
      "Retrying (Retry(total=1, connect=None, read=None, redirect=None, status=None)) after connection broken by 'NewConnectionError('<urllib3.connection.HTTPSConnection object at 0x7fcc38f12c30>: Failed to establish a new connection: [Errno 101] Network is unreachable')': /pkgs/main/linux-64/repodata.json.zst\n",
      "\n",
      "| Retrying (Retry(total=0, connect=None, read=None, redirect=None, status=None)) after connection broken by 'NewConnectionError('<urllib3.connection.HTTPSConnection object at 0x7fcc38f130b0>: Failed to establish a new connection: [Errno 101] Network is unreachable')': /conda-forge/linux-64/repodata.json.zst\n",
      "\n",
      "Retrying (Retry(total=0, connect=None, read=None, redirect=None, status=None)) after connection broken by 'NewConnectionError('<urllib3.connection.HTTPSConnection object at 0x7fcc38f139b0>: Failed to establish a new connection: [Errno 101] Network is unreachable')': /pkgs/r/linux-64/repodata.json.zst\n",
      "\n",
      "Retrying (Retry(total=0, connect=None, read=None, redirect=None, status=None)) after connection broken by 'NewConnectionError('<urllib3.connection.HTTPSConnection object at 0x7fcc38f136b0>: Failed to establish a new connection: [Errno 101] Network is unreachable')': /pkgs/r/noarch/repodata.json.zst\n",
      "\n",
      "/ Retrying (Retry(total=0, connect=None, read=None, redirect=None, status=None)) after connection broken by 'NewConnectionError('<urllib3.connection.HTTPSConnection object at 0x7fcc38f13290>: Failed to establish a new connection: [Errno 101] Network is unreachable')': /pytorch/linux-64/repodata.json\n",
      "\n",
      "Retrying (Retry(total=0, connect=None, read=None, redirect=None, status=None)) after connection broken by 'NewConnectionError('<urllib3.connection.HTTPSConnection object at 0x7fcc38f13410>: Failed to establish a new connection: [Errno 101] Network is unreachable')': /pytorch/noarch/repodata.json\n",
      "\n",
      "Retrying (Retry(total=0, connect=None, read=None, redirect=None, status=None)) after connection broken by 'NewConnectionError('<urllib3.connection.HTTPSConnection object at 0x7fcc38f13590>: Failed to establish a new connection: [Errno 101] Network is unreachable')': /pkgs/main/noarch/repodata.json.zst\n",
      "\n",
      "Retrying (Retry(total=0, connect=None, read=None, redirect=None, status=None)) after connection broken by 'NewConnectionError('<urllib3.connection.HTTPSConnection object at 0x7fcc38f13b30>: Failed to establish a new connection: [Errno 101] Network is unreachable')': /pkgs/main/linux-64/repodata.json.zst\n",
      "\n",
      "Retrying (Retry(total=0, connect=None, read=None, redirect=None, status=None)) after connection broken by 'NewConnectionError('<urllib3.connection.HTTPSConnection object at 0x7fcc38f13830>: Failed to establish a new connection: [Errno 101] Network is unreachable')': /conda-forge/noarch/repodata.json.zst\n",
      "\n",
      "failed\n",
      "\n",
      "CondaHTTPError: HTTP 000 CONNECTION FAILED for url <https://conda.anaconda.org/conda-forge/linux-64/repodata.json>\n",
      "Elapsed: -\n",
      "\n",
      "An HTTP error occurred when trying to retrieve this URL.\n",
      "HTTP errors are often intermittent, and a simple retry will get you on your way.\n",
      "'https//conda.anaconda.org/conda-forge/linux-64'\n",
      "\n",
      "\n",
      "\n",
      "Note: you may need to restart the kernel to use updated packages.\n"
     ]
    }
   ],
   "source": [
    "## Utilizando como gerenciador de pacotes o Conda\n",
    "# !conda clean --all\n",
    "%conda update --all\n",
    "\n",
    "## Utilizando como gerenciador de pacotes o PIP\n",
    "# !python.exe -m pip install --upgrade pip\n",
    "# %pip install -U pip"
   ]
  },
  {
   "cell_type": "code",
   "execution_count": null,
   "metadata": {},
   "outputs": [],
   "source": [
    "# %pip install flash-attn --no-build-isolation"
   ]
  },
  {
   "cell_type": "code",
   "execution_count": null,
   "metadata": {},
   "outputs": [],
   "source": [
    "import sys\n",
    "import torch\n",
    "import subprocess\n",
    "\n",
    "print(f\"\\nDados do ambiente local\")\n",
    "# !nvcc --version\n",
    "def verificar_versoes():\n",
    "    \"\"\"Verifica e exibe as versões  da GPU, do Python e bibliotecas CUDA instaladas no sistema.\"\"\"\n",
    "\n",
    "    # Versão do Python\n",
    "    python_version = sys.version.split()[0]\n",
    "    print(f\"   Versão Python: {python_version}\")\n",
    "    print(f\"  Versão PyTorch: {torch.__version__}\")\n",
    "    if torch.cuda.is_available():\n",
    "        print(f\"  Versão do CUDA: {torch.version.cuda}\")\n",
    "        print(f\" Versão do cuDNN: {torch.backends.cudnn.version()}\")\n",
    "    else:\n",
    "        print(\"CUDA não disponível, não está configurado corretamente.\")\n",
    "\n",
    "    # Versão do CUDA (usando nvcc)\n",
    "    try:\n",
    "        cuda_version = subprocess.check_output([\"nvcc\", \"--version\"])\n",
    "        cuda_version_l3 = [' '.join(cuda_version.decode(\"utf-8\").strip().split(\"\\n\")[-2].split(',')[1:])][0].strip()\n",
    "        cuda_version_l4 = cuda_version.decode(\"utf-8\").strip().split(\"\\n\")[-1]\n",
    "        print(f\"    CUDA Toolkit: {cuda_version_l3}\")\n",
    "        print(f\"      Build nvcc: {cuda_version_l4}\")\n",
    "    except FileNotFoundError:\n",
    "        print(\"nvcc não encontrado. CUDA pode não estar instalado ou configurado corretamente.\")\n",
    "\n",
    "# Chamando a função para verificar as versões\n",
    "verificar_versoes()\n",
    "\n",
    "print(f\"\\nDetalhes da biblioteca PyTorch\")\n",
    "!pip3 show torch"
   ]
  },
  {
   "cell_type": "markdown",
   "metadata": {},
   "source": [
    "# Execução 01: Sem mecanismo de atenção"
   ]
  },
  {
   "cell_type": "code",
   "execution_count": null,
   "metadata": {},
   "outputs": [],
   "source": [
    "import torch\n",
    "from transformers import AutoTokenizer, AutoModel\n",
    "from sklearn.metrics.pairwise import cosine_similarity\n",
    "import time\n",
    "\n",
    "# Carregar modelo e tokenizer pré-treinados\n",
    "model_name = \"bert-base-uncased\"  # Escolha o modelo desejado\n",
    "tokenizer = AutoTokenizer.from_pretrained(model_name)\n",
    "model = AutoModel.from_pretrained(model_name).to(\"cuda\")  # Mover para GPU\n",
    "\n",
    "# Textos de entrada (exemplo)\n",
    "texts = [\n",
    "    \"This is a sentence about natural language processing.\",\n",
    "    \"Another sentence about NLP.\",\n",
    "    \"An unrelated sentence about dogs.\"\n",
    "]\n",
    "\n",
    "# Pré-processamento\n",
    "encoded_input = tokenizer(texts, padding=True, truncation=True, return_tensors=\"pt\").to(\"cuda\")\n",
    "\n",
    "# Medir tempo de execução\n",
    "start_time = time.time()\n",
    "\n",
    "# Embedding\n",
    "with torch.no_grad():\n",
    "    embeddings = model(**encoded_input)[\"pooler_output\"].cpu().numpy()\n",
    "\n",
    "# Cálculo de similaridade\n",
    "similarity_matrix = cosine_similarity(embeddings)\n",
    "\n",
    "end_time = time.time()\n",
    "\n",
    "print(\"Matriz de similaridade:\")\n",
    "print(similarity_matrix)\n",
    "\n",
    "print(f\"Tempo de execução: {end_time - start_time:.2f} segundos\")"
   ]
  },
  {
   "cell_type": "markdown",
   "metadata": {},
   "source": [
    "# Execução 02: Com mecanismo de atenção\n",
    "\n",
    "A versão do CUDA precisa ser compatível com a Flash Attention. A Flash Attention foi introduzida no PyTorch 2.0 e requer CUDA 11.8 ou superior."
   ]
  },
  {
   "cell_type": "code",
   "execution_count": null,
   "metadata": {},
   "outputs": [],
   "source": [
    "# !conda uninstall pytorch torchvision torchaudio"
   ]
  },
  {
   "cell_type": "markdown",
   "metadata": {},
   "source": [
    "## Criar o ambiente pelo Terminal:\n",
    "### Sempre atualizar versões mais recentes em https://pytorch.org/\n",
    "\n",
    "    conda create -n pytorch_env python=3.11\n",
    "    conda activate pytorch_env\n",
    "    conda install pytorch torchvision torchaudio pytorch-cuda=12.4 -c pytorch-nightly -c nvidia"
   ]
  },
  {
   "cell_type": "code",
   "execution_count": null,
   "metadata": {},
   "outputs": [],
   "source": [
    "# !conda config --add channels conda-forge\n",
    "# !conda config --add channels rapidsai\n",
    "# !conda config --add channels nvidia\n",
    "\n",
    "# %conda install -c rapidsai -c nvidia -c conda-forge pylibcugraph=24.6.1 cudatoolkit=12.5\n",
    "# %conda install pytorch torchvision torchaudio pytorch-cuda=12.4 -c pytorch-nightly -c nvidia"
   ]
  },
  {
   "cell_type": "code",
   "execution_count": null,
   "metadata": {},
   "outputs": [],
   "source": [
    "# Chamando a função para verificar as versões\n",
    "verificar_versoes()\n",
    "\n",
    "print(f\"\\nDetalhes da biblioteca PyTorch\")\n",
    "!pip3 show torch"
   ]
  },
  {
   "cell_type": "code",
   "execution_count": null,
   "metadata": {},
   "outputs": [],
   "source": [
    "import pandas as pd\n",
    "import networkx as nx\n",
    "\n",
    "url = \"https://data.rapids.ai/cugraph/datasets/cit-Patents.csv\"\n",
    "df = pd.read_csv(url, sep=\" \", names=[\"src\", \"dst\"], dtype=\"int32\")\n",
    "G = nx.from_pandas_edgelist(df, source=\"src\", target=\"dst\")\n",
    "\n",
    "%time result = nx.betweenness_centrality(G, k=10)"
   ]
  },
  {
   "cell_type": "code",
   "execution_count": null,
   "metadata": {},
   "outputs": [],
   "source": [
    "df"
   ]
  },
  {
   "cell_type": "code",
   "execution_count": null,
   "metadata": {},
   "outputs": [],
   "source": [
    "import networkx as nx\n",
    "import matplotlib.pyplot as plt\n",
    "\n",
    "# Criar um grafo aleatório\n",
    "G = nx.gnp_random_graph(10, 0.3)\n",
    "\n",
    "# Definir um layout\n",
    "pos = nx.spring_layout(G) # Outras opções: circular_layout, spectral_layout, etc.\n",
    "\n",
    "# Desenhar o grafo com personalizações\n",
    "nx.draw(G, pos, with_labels=True, node_color='skyblue', node_size=500, font_size=10, font_color='black', width=2, edge_color='gray')\n",
    "\n",
    "# Mostrar o grafo\n",
    "plt.show()"
   ]
  },
  {
   "cell_type": "markdown",
   "metadata": {},
   "source": [
    "# Estimativas de tempo de execução \n",
    "\n",
    "Considerando detecção de características do grafo e recursos computacionais"
   ]
  },
  {
   "cell_type": "code",
   "execution_count": null,
   "metadata": {},
   "outputs": [],
   "source": [
    "# Calcular e exibir o número de nós e arestas\n",
    "num_nodes = G.number_of_nodes()\n",
    "num_edges = G.number_of_edges()\n",
    "print(\"Número de nós:\", num_nodes)\n",
    "print(\"Número de arestas:\", num_edges)\n",
    "\n",
    "# Calcular e exibir a densidade do grafo\n",
    "density = nx.density(G)\n",
    "print(\"Densidade do grafo:\", density)\n",
    "\n",
    "# Obter informações de hardware\n",
    "cpu_count = psutil.cpu_count(logical=True)\n",
    "ram_gb = psutil.virtual_memory().total / (1024 ** 3)\n",
    "\n",
    "# Estimar o tempo de execução (modelo simplificado)\n",
    "k = 10  # Valor de k usado no cálculo da centralidade\n",
    "estimated_time = (num_nodes * num_edges * density * k) / (cpu_count * ram_gb)"
   ]
  },
  {
   "cell_type": "code",
   "execution_count": null,
   "metadata": {},
   "outputs": [],
   "source": [
    "# Executar o comando e medir o tempo de execução\n",
    "# %time result = nx.betweenness_centrality(G, k=10)\n",
    "\n",
    "# Exibir o tempo estimado e o tempo real de execução\n",
    "print(\"Tempo estimado:\", estimated_time)\n",
    "print(\"Tempo real:\", _ # A variável mágica '_' contém o tempo de execução do último comando %)\n",
    "\n",
    "# Visualizar a distribuição da centralidade betweenness\n",
    "betweenness_data = pd.DataFrame(list(result.items()), columns=['Node', 'Betweenness Centrality'])\n",
    "\n",
    "chart = alt.Chart(betweenness_data).mark_bar().encode(\n",
    "    x=alt.X('Node:N', sort='-y'),\n",
    "    y=alt.Y('Betweenness Centrality:Q'),\n",
    "    tooltip=['Node', 'Betweenness Centrality']\n",
    ").properties(\n",
    "    title='Distribuição da Centralidade Betweenness'\n",
    ").interactive()\n",
    "\n",
    "chart.save('betweenness_centrality_distribution.json')"
   ]
  },
  {
   "cell_type": "code",
   "execution_count": null,
   "metadata": {},
   "outputs": [],
   "source": [
    "import pandas as pd\n",
    "import networkx as nx\n",
    "import timeit\n",
    "import altair as alt\n",
    "\n",
    "# Carregar o dataframe a partir da URL\n",
    "url = \"https://data.rapids.ai/cugraph/datasets/cit-Patents.csv\"\n",
    "df = pd.read_csv(url, sep=\" \", names=[\"src\", \"dst\"], dtype=\"int32\")\n",
    "\n",
    "# Criar o grafo a partir do dataframe\n",
    "G = nx.from_pandas_edgelist(df, source=\"src\", target=\"dst\")\n",
    "\n",
    "# Calcular e exibir o número de nós e arestas\n",
    "num_nodes = G.number_of_nodes()\n",
    "num_edges = G.number_of_edges()\n",
    "print(\"Número de nós:\", num_nodes)\n",
    "print(\"Número de arestas:\", num_edges)\n",
    "\n",
    "# Calcular e exibir a densidade do grafo\n",
    "density = nx.density(G)\n",
    "print(\"Densidade do grafo:\", density)\n",
    "\n",
    "# Executar o comando e medir o tempo de execução usando timeit\n",
    "start_time = timeit.default_timer()\n",
    "result = nx.betweenness_centrality(G, k=10)\n",
    "end_time = timeit.default_timer()\n",
    "actual_time = end_time - start_time\n",
    "\n",
    "# Exibir o tempo real de execução\n",
    "print(\"Tempo real:\", actual_time)\n",
    "\n",
    "# Visualizar a distribuição da centralidade betweenness\n",
    "betweenness_data = pd.DataFrame(list(result.items()), columns=['Node', 'Betweenness Centrality'])\n",
    "\n",
    "chart = alt.Chart(betweenness_data).mark_bar().encode(\n",
    "    x=alt.X('Node:N', sort='-y'),\n",
    "    y=alt.Y('Betweenness Centrality:Q'),\n",
    "    tooltip=['Node', 'Betweenness Centrality']\n",
    ").properties(\n",
    "    title='Distribuição da Centralidade Betweenness'\n",
    ").interactive()\n",
    "\n",
    "chart.save('betweenness_centrality_distribution.json')\n",
    "\n",
    "# Exibir a distribuição da centralidade betweenness em formato tabular, ordenada de forma decrescente\n",
    "betweenness_data_sorted = betweenness_data.sort_values(by='Betweenness Centrality', ascending=False)\n",
    "print(betweenness_data_sorted)"
   ]
  },
  {
   "cell_type": "code",
   "execution_count": null,
   "metadata": {},
   "outputs": [],
   "source": [
    "pos = nx.spring_layout(G)  # Outras opções: circular_layout, spectral_layout, etc.\n",
    "nx.draw(G, pos, with_labels=True)"
   ]
  },
  {
   "cell_type": "code",
   "execution_count": null,
   "metadata": {},
   "outputs": [],
   "source": [
    "%conda install -c rapidsai -c nvidia pylibcugraph"
   ]
  },
  {
   "cell_type": "code",
   "execution_count": null,
   "metadata": {},
   "outputs": [],
   "source": [
    "%pip3 install --extra-index-url https://pypi.nvidia.com/pylibcugraph-cu12 pylibcugraph_cu12-24.6.1-cp311-cp311-manylinux_2_28_x86_64.whl"
   ]
  }
 ],
 "metadata": {
  "kernelspec": {
   "display_name": "beakerx",
   "language": "python",
   "name": "python3"
  },
  "language_info": {
   "codemirror_mode": {
    "name": "ipython",
    "version": 3
   },
   "file_extension": ".py",
   "mimetype": "text/x-python",
   "name": "python",
   "nbconvert_exporter": "python",
   "pygments_lexer": "ipython3",
   "version": "3.12.2"
  }
 },
 "nbformat": 4,
 "nbformat_minor": 2
}
