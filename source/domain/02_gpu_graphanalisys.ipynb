{
 "cells": [
  {
   "cell_type": "code",
   "execution_count": 1,
   "metadata": {},
   "outputs": [],
   "source": [
    "# !python.exe -m pip install --upgrade pip\n",
    "# %pip install -U pip\n",
    "\n",
    "# !conda clean --all\n",
    "# !conda update --all"
   ]
  },
  {
   "cell_type": "code",
   "execution_count": 23,
   "metadata": {},
   "outputs": [
    {
     "name": "stdout",
     "output_type": "stream",
     "text": [
      "\n",
      "Dados do ambiente local\n",
      "   Versão Python: 3.11.2\n",
      "  Versão PyTorch: 2.3.1+cu121\n",
      "  Versão do CUDA: 12.1\n",
      " Versão do cuDNN: 8907\n",
      "    CUDA Toolkit: release 12.5  V12.5.82\n",
      "      Build nvcc: Build cuda_12.5.r12.5/compiler.34385749_0\n",
      "\n",
      "Detalhes da biblioteca PyTorch\n",
      "Name: torch\n",
      "Version: 2.3.1+cu121\n",
      "Summary: Tensors and Dynamic neural networks in Python with strong GPU acceleration\n",
      "Home-page: https://pytorch.org/\n",
      "Author: PyTorch Team\n",
      "Author-email: packages@pytorch.org\n",
      "License: BSD-3\n",
      "Location: c:\\Users\\marco\\.conda\\envs\\beakerx\\Lib\\site-packages\n",
      "Requires: filelock, fsspec, jinja2, mkl, networkx, sympy, typing-extensions\n",
      "Required-by: fairseq, sentence-transformers, spacy-transformers, torchaudio, torchvision, xformers\n"
     ]
    }
   ],
   "source": [
    "import sys\n",
    "import torch\n",
    "import subprocess\n",
    "\n",
    "print(f\"\\nDados do ambiente local\")\n",
    "# !nvcc --version\n",
    "def verificar_versoes():\n",
    "    \"\"\"Verifica e exibe as versões  da GPU, do Python e bibliotecas CUDA instaladas no sistema.\"\"\"\n",
    "\n",
    "    # Versão do Python\n",
    "    python_version = sys.version.split()[0]\n",
    "    print(f\"   Versão Python: {python_version}\")\n",
    "    print(f\"  Versão PyTorch: {torch.__version__}\")\n",
    "    if torch.cuda.is_available():\n",
    "        print(f\"  Versão do CUDA: {torch.version.cuda}\")\n",
    "        print(f\" Versão do cuDNN: {torch.backends.cudnn.version()}\")\n",
    "    else:\n",
    "        print(\"CUDA não disponível, não está configurado corretamente.\")\n",
    "\n",
    "    # Versão do CUDA (usando nvcc)\n",
    "    try:\n",
    "        cuda_version = subprocess.check_output([\"nvcc\", \"--version\"])\n",
    "        cuda_version_l3 = [' '.join(cuda_version.decode(\"utf-8\").strip().split(\"\\n\")[-2].split(',')[1:])][0].strip()\n",
    "        cuda_version_l4 = cuda_version.decode(\"utf-8\").strip().split(\"\\n\")[-1]\n",
    "        print(f\"    CUDA Toolkit: {cuda_version_l3}\")\n",
    "        print(f\"      Build nvcc: {cuda_version_l4}\")\n",
    "    except FileNotFoundError:\n",
    "        print(\"nvcc não encontrado. CUDA pode não estar instalado ou configurado corretamente.\")\n",
    "\n",
    "# Chamando a função para verificar as versões\n",
    "verificar_versoes()\n",
    "\n",
    "print(f\"\\nDetalhes da biblioteca PyTorch\")\n",
    "!pip3 show torch"
   ]
  },
  {
   "cell_type": "markdown",
   "metadata": {},
   "source": [
    "# Execução 01: Sem mecanismo de atenção"
   ]
  },
  {
   "cell_type": "code",
   "execution_count": 24,
   "metadata": {},
   "outputs": [
    {
     "name": "stdout",
     "output_type": "stream",
     "text": [
      "Matriz de similaridade:\n",
      "[[0.99999976 0.9558643  0.9794879 ]\n",
      " [0.9558643  1.         0.9838272 ]\n",
      " [0.9794879  0.9838272  0.9999999 ]]\n",
      "Tempo de execução: 1.25 segundos\n"
     ]
    },
    {
     "name": "stderr",
     "output_type": "stream",
     "text": [
      "c:\\Users\\marco\\.conda\\envs\\beakerx\\Lib\\site-packages\\transformers\\models\\bert\\modeling_bert.py:439: UserWarning: 1Torch was not compiled with flash attention. (Triggered internally at ..\\aten\\src\\ATen\\native\\transformers\\cuda\\sdp_utils.cpp:455.)\n",
      "  attn_output = torch.nn.functional.scaled_dot_product_attention(\n"
     ]
    }
   ],
   "source": [
    "import torch\n",
    "from transformers import AutoTokenizer, AutoModel\n",
    "from sklearn.metrics.pairwise import cosine_similarity\n",
    "import time\n",
    "\n",
    "# Carregar modelo e tokenizer pré-treinados\n",
    "model_name = \"bert-base-uncased\"  # Escolha o modelo desejado\n",
    "tokenizer = AutoTokenizer.from_pretrained(model_name)\n",
    "model = AutoModel.from_pretrained(model_name).to(\"cuda\")  # Mover para GPU\n",
    "\n",
    "# Textos de entrada (exemplo)\n",
    "texts = [\n",
    "    \"This is a sentence about natural language processing.\",\n",
    "    \"Another sentence about NLP.\",\n",
    "    \"An unrelated sentence about dogs.\"\n",
    "]\n",
    "\n",
    "# Pré-processamento\n",
    "encoded_input = tokenizer(texts, padding=True, truncation=True, return_tensors=\"pt\").to(\"cuda\")\n",
    "\n",
    "# Medir tempo de execução\n",
    "start_time = time.time()\n",
    "\n",
    "# Embedding\n",
    "with torch.no_grad():\n",
    "    embeddings = model(**encoded_input)[\"pooler_output\"].cpu().numpy()\n",
    "\n",
    "# Cálculo de similaridade\n",
    "similarity_matrix = cosine_similarity(embeddings)\n",
    "\n",
    "end_time = time.time()\n",
    "\n",
    "print(\"Matriz de similaridade:\")\n",
    "print(similarity_matrix)\n",
    "\n",
    "print(f\"Tempo de execução: {end_time - start_time:.2f} segundos\")"
   ]
  },
  {
   "cell_type": "markdown",
   "metadata": {},
   "source": [
    "# Execução 02: Com mecanismo de atenção\n",
    "\n",
    "A versão do CUDA precisa ser compatível com a Flash Attention. A Flash Attention foi introduzida no PyTorch 2.0 e requer CUDA 11.8 ou superior."
   ]
  },
  {
   "cell_type": "code",
   "execution_count": 25,
   "metadata": {},
   "outputs": [
    {
     "name": "stdout",
     "output_type": "stream",
     "text": [
      "Collecting package metadata (repodata.json): ...working... done\n",
      "Solving environment: ...working... failed\n"
     ]
    },
    {
     "name": "stderr",
     "output_type": "stream",
     "text": [
      "\n",
      "PackagesNotFoundError: The following packages are missing from the target environment:\n",
      "  - pytorch\n",
      "  - torchaudio\n",
      "  - torchvision\n",
      "\n",
      "\n"
     ]
    }
   ],
   "source": [
    "!conda uninstall pytorch torchvision torchaudio"
   ]
  },
  {
   "cell_type": "markdown",
   "metadata": {},
   "source": [
    "Executar no Terminal:\n",
    "\n",
    "    conda create -n pytorch_env python=3.11\n",
    "    conda activate pytorch_env"
   ]
  },
  {
   "cell_type": "code",
   "execution_count": null,
   "metadata": {},
   "outputs": [],
   "source": [
    "# Sempre atualizar versões mais recentes em https://pytorch.org/\n",
    "%conda install pytorch torchvision torchaudio pytorch-cuda=12.4 -c pytorch-nightly -c nvidia"
   ]
  },
  {
   "cell_type": "code",
   "execution_count": null,
   "metadata": {},
   "outputs": [],
   "source": [
    "# Chamando a função para verificar as versões\n",
    "verificar_versoes()\n",
    "\n",
    "print(f\"\\nDetalhes da biblioteca PyTorch\")\n",
    "!pip3 show torch"
   ]
  },
  {
   "cell_type": "code",
   "execution_count": null,
   "metadata": {},
   "outputs": [],
   "source": [
    "# !conda config --add channels conda-forge\n",
    "# !conda config --add channels rapidsai\n",
    "# !conda config --add channels nvidia\n",
    "\n",
    "# %conda install -c rapidsai -c nvidia -c conda-forge pylibcugraph=24.6.1 cudatoolkit=12.5\n",
    "%conda install pytorch torchvision torchaudio pytorch-cuda=12.4 -c pytorch-nightly -c nvidia"
   ]
  },
  {
   "cell_type": "code",
   "execution_count": null,
   "metadata": {},
   "outputs": [],
   "source": [
    "import pandas as pd\n",
    "import networkx as nx\n",
    "\n",
    "url = \"https://data.rapids.ai/cugraph/datasets/cit-Patents.csv\"\n",
    "df = pd.read_csv(url, sep=\" \", names=[\"src\", \"dst\"], dtype=\"int32\")\n",
    "G = nx.from_pandas_edgelist(df, source=\"src\", target=\"dst\")\n",
    "\n",
    "%time result = nx.betweenness_centrality(G, k=10)"
   ]
  },
  {
   "cell_type": "code",
   "execution_count": null,
   "metadata": {},
   "outputs": [],
   "source": [
    "%conda install -c rapidsai -c nvidia pylibcugraph"
   ]
  },
  {
   "cell_type": "code",
   "execution_count": null,
   "metadata": {},
   "outputs": [],
   "source": [
    "%pip3 install --extra-index-url https://pypi.nvidia.com/pylibcugraph-cu12 pylibcugraph_cu12-24.6.1-cp311-cp311-manylinux_2_28_x86_64.whl"
   ]
  }
 ],
 "metadata": {
  "kernelspec": {
   "display_name": "beakerx",
   "language": "python",
   "name": "python3"
  },
  "language_info": {
   "codemirror_mode": {
    "name": "ipython",
    "version": 3
   },
   "file_extension": ".py",
   "mimetype": "text/x-python",
   "name": "python",
   "nbconvert_exporter": "python",
   "pygments_lexer": "ipython3",
   "version": "3.11.2"
  }
 },
 "nbformat": 4,
 "nbformat_minor": 2
}
