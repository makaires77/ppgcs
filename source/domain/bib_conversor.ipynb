{
 "cells": [
  {
   "cell_type": "code",
   "execution_count": 2,
   "metadata": {},
   "outputs": [],
   "source": [
    "# %pip install bibtexparser"
   ]
  },
  {
   "cell_type": "code",
   "execution_count": 1,
   "metadata": {},
   "outputs": [
    {
     "name": "stdout",
     "output_type": "stream",
     "text": [
      "Arquivo '29271559.nbib' convertido e adicionado ao arquivo de saída.\n",
      "Arquivo '10.1038_nrd.2017.217-citation.ris' convertido e adicionado ao arquivo de saída.\n",
      "Entradas do arquivo 'Newman2003_siam_S003614450342480.bib' adicionadas ao arquivo de saída.\n",
      "Arquivo BibTeX consolidado salvo em '/home/mak/ppgcs/_data/out_bib/referencias_consolidadas.bib'\n"
     ]
    }
   ],
   "source": [
    "import os\n",
    "from bib_conversor import ConversorBib\n",
    "from git import Repo\n",
    "\n",
    "repo = Repo(search_parent_directories=True)\n",
    "root_folder = repo.working_tree_dir\n",
    "\n",
    "cite_folder = os.path.join(root_folder, '_data', 'in_citations')\n",
    "bibs_folder = os.path.join(root_folder, '_data', 'out_bib')\n",
    "\n",
    "# Cria o objeto ConversorBib\n",
    "conversor = ConversorBib(cite_folder, bibs_folder)\n",
    "\n",
    "# Consolida os arquivos\n",
    "conversor.consolidar_arquivos()"
   ]
  }
 ],
 "metadata": {
  "kernelspec": {
   "display_name": "rapids-24.08",
   "language": "python",
   "name": "python3"
  },
  "language_info": {
   "codemirror_mode": {
    "name": "ipython",
    "version": 3
   },
   "file_extension": ".py",
   "mimetype": "text/x-python",
   "name": "python",
   "nbconvert_exporter": "python",
   "pygments_lexer": "ipython3",
   "version": "3.11.9"
  }
 },
 "nbformat": 4,
 "nbformat_minor": 2
}
