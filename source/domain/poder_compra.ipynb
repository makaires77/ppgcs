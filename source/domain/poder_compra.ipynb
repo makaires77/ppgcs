{
 "cells": [
  {
   "cell_type": "code",
   "execution_count": 6,
   "metadata": {},
   "outputs": [
    {
     "name": "stdout",
     "output_type": "stream",
     "text": [
      "Requisição realizada com sucesso!\n",
      "534 índices IPCA mensais extraídos do IBGE\n"
     ]
    }
   ],
   "source": [
    "url_ipca_completo = \"https://servicodados.ibge.gov.br/api/v3/agregados/1737/periodos/197912|198001|198002|198003|198004|198005|198006|198007|198008|198009|198010|198011|198012|198101|198102|198103|198104|198105|198106|198107|198108|198109|198110|198111|198112|198201|198202|198203|198204|198205|198206|198207|198208|198209|198210|198211|198212|198301|198302|198303|198304|198305|198306|198307|198308|198309|198310|198311|198312|198401|198402|198403|198404|198405|198406|198407|198408|198409|198410|198411|198412|198501|198502|198503|198504|198505|198506|198507|198508|198509|198510|198511|198512|198601|198602|198603|198604|198605|198606|198607|198608|198609|198610|198611|198612|198701|198702|198703|198704|198705|198706|198707|198708|198709|198710|198711|198712|198801|198802|198803|198804|198805|198806|198807|198808|198809|198810|198811|198812|198901|198902|198903|198904|198905|198906|198907|198908|198909|198910|198911|198912|199001|199002|199003|199004|199005|199006|199007|199008|199009|199010|199011|199012|199101|199102|199103|199104|199105|199106|199107|199108|199109|199110|199111|199112|199201|199202|199203|199204|199205|199206|199207|199208|199209|199210|199211|199212|199301|199302|199303|199304|199305|199306|199307|199308|199309|199310|199311|199312|199401|199402|199403|199404|199405|199406|199407|199408|199409|199410|199411|199412|199501|199502|199503|199504|199505|199506|199507|199508|199509|199510|199511|199512|199601|199602|199603|199604|199605|199606|199607|199608|199609|199610|199611|199612|199701|199702|199703|199704|199705|199706|199707|199708|199709|199710|199711|199712|199801|199802|199803|199804|199805|199806|199807|199808|199809|199810|199811|199812|199901|199902|199903|199904|199905|199906|199907|199908|199909|199910|199911|199912|200001|200002|200003|200004|200005|200006|200007|200008|200009|200010|200011|200012|200101|200102|200103|200104|200105|200106|200107|200108|200109|200110|200111|200112|200201|200202|200203|200204|200205|200206|200207|200208|200209|200210|200211|200212|200301|200302|200303|200304|200305|200306|200307|200308|200309|200310|200311|200312|200401|200402|200403|200404|200405|200406|200407|200408|200409|200410|200411|200412|200501|200502|200503|200504|200505|200506|200507|200508|200509|200510|200511|200512|200601|200602|200603|200604|200605|200606|200607|200608|200609|200610|200611|200612|200701|200702|200703|200704|200705|200706|200707|200708|200709|200710|200711|200712|200801|200802|200803|200804|200805|200806|200807|200808|200809|200810|200811|200812|200901|200902|200903|200904|200905|200906|200907|200908|200909|200910|200911|200912|201001|201002|201003|201004|201005|201006|201007|201008|201009|201010|201011|201012|201101|201102|201103|201104|201105|201106|201107|201108|201109|201110|201111|201112|201201|201202|201203|201204|201205|201206|201207|201208|201209|201210|201211|201212|201301|201302|201303|201304|201305|201306|201307|201308|201309|201310|201311|201312|201401|201402|201403|201404|201405|201406|201407|201408|201409|201410|201411|201412|201501|201502|201503|201504|201505|201506|201507|201508|201509|201510|201511|201512|201601|201602|201603|201604|201605|201606|201607|201608|201609|201610|201611|201612|201701|201702|201703|201704|201705|201706|201707|201708|201709|201710|201711|201712|201801|201802|201803|201804|201805|201806|201807|201808|201809|201810|201811|201812|201901|201902|201903|201904|201905|201906|201907|201908|201909|201910|201911|201912|202001|202002|202003|202004|202005|202006|202007|202008|202009|202010|202011|202012|202101|202102|202103|202104|202105|202106|202107|202108|202109|202110|202111|202112|202201|202202|202203|202204|202205|202206|202207|202208|202209|202210|202211|202212|202301|202302|202303|202304|202305|202306|202307|202308|202309|202310|202311|202312|202401|202402|202403|202404|202405/variaveis/2266?localidades=N1[all]\"\n",
    "url_ipca = \"https://servicodados.ibge.gov.br/api/v3/agregados/1737/periodos/199212|199301|199302|199303|199304|199305|199306|199307|199308|199309|199310|199311|199312|199401|199402|199403|199404|199405|199406|199407|199408|199409|199410|199411|199412|199501|199502|199503|199504|199505|199506|199507|199508|199509|199510|199511|199512|199601|199602|199603|199604|199605|199606|199607|199608|199609|199610|199611|199612|199701|199702|199703|199704|199705|199706|199707|199708|199709|199710|199711|199712|199801|199802|199803|199804|199805|199806|199807|199808|199809|199810|199811|199812|199901|199902|199903|199904|199905|199906|199907|199908|199909|199910|199911|199912|200001|200002|200003|200004|200005|200006|200007|200008|200009|200010|200011|200012|200101|200102|200103|200104|200105|200106|200107|200108|200109|200110|200111|200112|200201|200202|200203|200204|200205|200206|200207|200208|200209|200210|200211|200212|200301|200302|200303|200304|200305|200306|200307|200308|200309|200310|200311|200312|200401|200402|200403|200404|200405|200406|200407|200408|200409|200410|200411|200412|200501|200502|200503|200504|200505|200506|200507|200508|200509|200510|200511|200512|200601|200602|200603|200604|200605|200606|200607|200608|200609|200610|200611|200612|200701|200702|200703|200704|200705|200706|200707|200708|200709|200710|200711|200712|200801|200802|200803|200804|200805|200806|200807|200808|200809|200810|200811|200812|200901|200902|200903|200904|200905|200906|200907|200908|200909|200910|200911|200912|201001|201002|201003|201004|201005|201006|201007|201008|201009|201010|201011|201012|201101|201102|201103|201104|201105|201106|201107|201108|201109|201110|201111|201112|201201|201202|201203|201204|201205|201206|201207|201208|201209|201210|201211|201212|201301|201302|201303|201304|201305|201306|201307|201308|201309|201310|201311|201312|201401|201402|201403|201404|201405|201406|201407|201408|201409|201410|201411|201412|201501|201502|201503|201504|201505|201506|201507|201508|201509|201510|201511|201512|201601|201602|201603|201604|201605|201606|201607|201608|201609|201610|201611|201612|201701|201702|201703|201704|201705|201706|201707|201708|201709|201710|201711|201712|201801|201802|201803|201804|201805|201806|201807|201808|201809|201810|201811|201812|201901|201902|201903|201904|201905|201906|201907|201908|201909|201910|201911|201912|202001|202002|202003|202004|202005|202006|202007|202008|202009|202010|202011|202012|202101|202102|202103|202104|202105|202106|202107|202108|202109|202110|202111|202112|202201|202202|202203|202204|202205|202206|202207|202208|202209|202210|202211|202212|202301|202302|202303|202304|202305|202306|202307|202308|202309|202310|202311|202312|202401|202402|202403|202404|202405/variaveis/2266?localidades=N1[all]\"\n",
    "# url_tab_var = \"https://apisidra.ibge.gov.br/values/t/1737/n1/all/v/2266/p/all\"\n",
    "indices_mensais = {}\n",
    "\n",
    "response = requests.get(url_ipca_completo)\n",
    "if response.status_code == 200:\n",
    "    print('Requisição realizada com sucesso!')\n",
    "response.raise_for_status()\n",
    "\n",
    "dados_ipca = json.loads(response.content)\n",
    "indices_ipca = dados_ipca[0]['resultados'][0].get('series')[0].get('serie')\n",
    "print(f'{len(indices_ipca)} índices IPCA mensais extraídos do IBGE')\n",
    "\n",
    "# Cria uma lista de tuplas a partir dos itens do dicionário\n",
    "lista_dados = list(indices_ipca.items())\n",
    "\n",
    "# Cria o DataFrame\n",
    "df = pd.DataFrame(lista_dados, columns=[\"AnoMes\", \"Valor\"])"
   ]
  },
  {
   "cell_type": "code",
   "execution_count": 7,
   "metadata": {},
   "outputs": [
    {
     "data": {
      "text/html": [
       "<div>\n",
       "<style scoped>\n",
       "    .dataframe tbody tr th:only-of-type {\n",
       "        vertical-align: middle;\n",
       "    }\n",
       "\n",
       "    .dataframe tbody tr th {\n",
       "        vertical-align: top;\n",
       "    }\n",
       "\n",
       "    .dataframe thead th {\n",
       "        text-align: right;\n",
       "    }\n",
       "</style>\n",
       "<table border=\"1\" class=\"dataframe\">\n",
       "  <thead>\n",
       "    <tr style=\"text-align: right;\">\n",
       "      <th></th>\n",
       "      <th>AnoMes</th>\n",
       "      <th>Valor</th>\n",
       "    </tr>\n",
       "  </thead>\n",
       "  <tbody>\n",
       "    <tr>\n",
       "      <th>0</th>\n",
       "      <td>197912</td>\n",
       "      <td>0.0000000076183</td>\n",
       "    </tr>\n",
       "    <tr>\n",
       "      <th>1</th>\n",
       "      <td>198001</td>\n",
       "      <td>0.0000000081223</td>\n",
       "    </tr>\n",
       "    <tr>\n",
       "      <th>2</th>\n",
       "      <td>198002</td>\n",
       "      <td>0.0000000084973</td>\n",
       "    </tr>\n",
       "    <tr>\n",
       "      <th>3</th>\n",
       "      <td>198003</td>\n",
       "      <td>0.0000000090104</td>\n",
       "    </tr>\n",
       "    <tr>\n",
       "      <th>4</th>\n",
       "      <td>198004</td>\n",
       "      <td>0.0000000094867</td>\n",
       "    </tr>\n",
       "    <tr>\n",
       "      <th>...</th>\n",
       "      <td>...</td>\n",
       "      <td>...</td>\n",
       "    </tr>\n",
       "    <tr>\n",
       "      <th>529</th>\n",
       "      <td>202401</td>\n",
       "      <td>6801.7200000000000</td>\n",
       "    </tr>\n",
       "    <tr>\n",
       "      <th>530</th>\n",
       "      <td>202402</td>\n",
       "      <td>6858.1700000000000</td>\n",
       "    </tr>\n",
       "    <tr>\n",
       "      <th>531</th>\n",
       "      <td>202403</td>\n",
       "      <td>6869.1400000000000</td>\n",
       "    </tr>\n",
       "    <tr>\n",
       "      <th>532</th>\n",
       "      <td>202404</td>\n",
       "      <td>6895.2400000000000</td>\n",
       "    </tr>\n",
       "    <tr>\n",
       "      <th>533</th>\n",
       "      <td>202405</td>\n",
       "      <td>6926.9600000000000</td>\n",
       "    </tr>\n",
       "  </tbody>\n",
       "</table>\n",
       "<p>534 rows × 2 columns</p>\n",
       "</div>"
      ],
      "text/plain": [
       "     AnoMes               Valor\n",
       "0    197912     0.0000000076183\n",
       "1    198001     0.0000000081223\n",
       "2    198002     0.0000000084973\n",
       "3    198003     0.0000000090104\n",
       "4    198004     0.0000000094867\n",
       "..      ...                 ...\n",
       "529  202401  6801.7200000000000\n",
       "530  202402  6858.1700000000000\n",
       "531  202403  6869.1400000000000\n",
       "532  202404  6895.2400000000000\n",
       "533  202405  6926.9600000000000\n",
       "\n",
       "[534 rows x 2 columns]"
      ]
     },
     "execution_count": 7,
     "metadata": {},
     "output_type": "execute_result"
    }
   ],
   "source": [
    "df"
   ]
  },
  {
   "cell_type": "code",
   "execution_count": 2,
   "metadata": {},
   "outputs": [],
   "source": [
    "# dados_ipca"
   ]
  },
  {
   "cell_type": "code",
   "execution_count": 9,
   "metadata": {},
   "outputs": [
    {
     "name": "stdout",
     "output_type": "stream",
     "text": [
      "Requisição realizada com sucesso!\n",
      "534 índices IPCA mensais extraídos do IBGE\n"
     ]
    },
    {
     "name": "stderr",
     "output_type": "stream",
     "text": [
      "C:\\Users\\marco\\AppData\\Local\\Temp\\ipykernel_10248\\3423049043.py:74: SettingWithCopyWarning: \n",
      "A value is trying to be set on a copy of a slice from a DataFrame.\n",
      "Try using .loc[row_indexer,col_indexer] = value instead\n",
      "\n",
      "See the caveats in the documentation: https://pandas.pydata.org/pandas-docs/stable/user_guide/indexing.html#returning-a-view-versus-a-copy\n",
      "  df_merged_filtrado.loc[df_merged_filtrado['Ano'] == ano_inicio, 'SaldoAcumuladoAjustado'] = 0\n"
     ]
    },
    {
     "data": {
      "text/html": [
       "\n",
       "<style>\n",
       "  #altair-viz-d878f5c2fafa4af6b4cb572580174157.vega-embed {\n",
       "    width: 100%;\n",
       "    display: flex;\n",
       "  }\n",
       "\n",
       "  #altair-viz-d878f5c2fafa4af6b4cb572580174157.vega-embed details,\n",
       "  #altair-viz-d878f5c2fafa4af6b4cb572580174157.vega-embed details summary {\n",
       "    position: relative;\n",
       "  }\n",
       "</style>\n",
       "<div id=\"altair-viz-d878f5c2fafa4af6b4cb572580174157\"></div>\n",
       "<script type=\"text/javascript\">\n",
       "  var VEGA_DEBUG = (typeof VEGA_DEBUG == \"undefined\") ? {} : VEGA_DEBUG;\n",
       "  (function(spec, embedOpt){\n",
       "    let outputDiv = document.currentScript.previousElementSibling;\n",
       "    if (outputDiv.id !== \"altair-viz-d878f5c2fafa4af6b4cb572580174157\") {\n",
       "      outputDiv = document.getElementById(\"altair-viz-d878f5c2fafa4af6b4cb572580174157\");\n",
       "    }\n",
       "    const paths = {\n",
       "      \"vega\": \"https://cdn.jsdelivr.net/npm/vega@5?noext\",\n",
       "      \"vega-lib\": \"https://cdn.jsdelivr.net/npm/vega-lib?noext\",\n",
       "      \"vega-lite\": \"https://cdn.jsdelivr.net/npm/vega-lite@5.17.0?noext\",\n",
       "      \"vega-embed\": \"https://cdn.jsdelivr.net/npm/vega-embed@6?noext\",\n",
       "    };\n",
       "\n",
       "    function maybeLoadScript(lib, version) {\n",
       "      var key = `${lib.replace(\"-\", \"\")}_version`;\n",
       "      return (VEGA_DEBUG[key] == version) ?\n",
       "        Promise.resolve(paths[lib]) :\n",
       "        new Promise(function(resolve, reject) {\n",
       "          var s = document.createElement('script');\n",
       "          document.getElementsByTagName(\"head\")[0].appendChild(s);\n",
       "          s.async = true;\n",
       "          s.onload = () => {\n",
       "            VEGA_DEBUG[key] = version;\n",
       "            return resolve(paths[lib]);\n",
       "          };\n",
       "          s.onerror = () => reject(`Error loading script: ${paths[lib]}`);\n",
       "          s.src = paths[lib];\n",
       "        });\n",
       "    }\n",
       "\n",
       "    function showError(err) {\n",
       "      outputDiv.innerHTML = `<div class=\"error\" style=\"color:red;\">${err}</div>`;\n",
       "      throw err;\n",
       "    }\n",
       "\n",
       "    function displayChart(vegaEmbed) {\n",
       "      vegaEmbed(outputDiv, spec, embedOpt)\n",
       "        .catch(err => showError(`Javascript Error: ${err.message}<br>This usually means there's a typo in your chart specification. See the javascript console for the full traceback.`));\n",
       "    }\n",
       "\n",
       "    if(typeof define === \"function\" && define.amd) {\n",
       "      requirejs.config({paths});\n",
       "      require([\"vega-embed\"], displayChart, err => showError(`Error loading script: ${err.message}`));\n",
       "    } else {\n",
       "      maybeLoadScript(\"vega\", \"5\")\n",
       "        .then(() => maybeLoadScript(\"vega-lite\", \"5.17.0\"))\n",
       "        .then(() => maybeLoadScript(\"vega-embed\", \"6\"))\n",
       "        .catch(showError)\n",
       "        .then(() => displayChart(vegaEmbed));\n",
       "    }\n",
       "  })({\"config\": {\"view\": {\"continuousWidth\": 300, \"continuousHeight\": 300}}, \"layer\": [{\"layer\": [{\"mark\": {\"type\": \"bar\"}, \"encoding\": {\"color\": {\"field\": \"Tipo\", \"scale\": {\"domain\": [\"PerdaInflacao\", \"CorrecaoSalarial\"], \"range\": [\"red\", \"steelblue\"]}, \"type\": \"nominal\"}, \"tooltip\": [{\"field\": \"Ano\", \"type\": \"quantitative\"}, {\"field\": \"Valor\", \"type\": \"quantitative\"}, {\"field\": \"Tipo\", \"type\": \"nominal\"}], \"x\": {\"axis\": {\"labelAngle\": -45}, \"field\": \"Ano\", \"type\": \"ordinal\"}, \"y\": {\"axis\": {\"title\": \"Varia\\u00e7\\u00e3o (%)\", \"titleColor\": \"black\"}, \"field\": \"Valor\", \"scale\": {\"domain\": [-10.189572148833271, 10.189572148833271]}, \"type\": \"quantitative\"}}, \"name\": \"view_2\", \"title\": \"Perda por Infla\\u00e7\\u00e3o, Reposi\\u00e7\\u00e3o Salarial e Saldo Acumulado\"}, {\"mark\": {\"type\": \"text\", \"align\": \"center\", \"baseline\": \"bottom\", \"dy\": -5}, \"encoding\": {\"color\": {\"field\": \"Tipo\", \"scale\": {\"domain\": [\"PerdaInflacao\", \"CorrecaoSalarial\"], \"range\": [\"red\", \"steelblue\"]}, \"type\": \"nominal\"}, \"text\": {\"field\": \"Valor\", \"format\": \".2f\", \"type\": \"quantitative\"}, \"tooltip\": [{\"field\": \"Ano\", \"type\": \"quantitative\"}, {\"field\": \"Valor\", \"type\": \"quantitative\"}, {\"field\": \"Tipo\", \"type\": \"nominal\"}], \"x\": {\"axis\": {\"labelAngle\": -45}, \"field\": \"Ano\", \"type\": \"ordinal\"}, \"y\": {\"axis\": {\"title\": \"Varia\\u00e7\\u00e3o (%)\", \"titleColor\": \"black\"}, \"field\": \"Valor\", \"scale\": {\"domain\": [-10.189572148833271, 10.189572148833271]}, \"type\": \"quantitative\"}}, \"title\": \"Perda por Infla\\u00e7\\u00e3o, Reposi\\u00e7\\u00e3o Salarial e Saldo Acumulado\"}], \"data\": {\"name\": \"data-882e710089844c3ec8fd9539af7e9bf1\"}}, {\"layer\": [{\"mark\": {\"type\": \"line\", \"color\": \"green\", \"point\": true}, \"encoding\": {\"tooltip\": [{\"field\": \"Ano\", \"type\": \"quantitative\"}, {\"field\": \"SaldoAcumulado\", \"type\": \"quantitative\"}], \"x\": {\"field\": \"Ano\", \"type\": \"ordinal\"}, \"y\": {\"axis\": {\"title\": \"Saldo Acumulado (%)\", \"titleColor\": \"green\"}, \"field\": \"SaldoAcumulado\", \"scale\": {\"domain\": [3133.4345982362343, 3244.94290055356]}, \"type\": \"quantitative\"}}}, {\"mark\": {\"type\": \"text\", \"align\": \"left\", \"baseline\": \"middle\", \"color\": \"green\", \"dx\": 5}, \"encoding\": {\"text\": {\"field\": \"SaldoAcumulado\", \"format\": \".2f\", \"type\": \"quantitative\"}, \"tooltip\": [{\"field\": \"Ano\", \"type\": \"quantitative\"}, {\"field\": \"SaldoAcumulado\", \"type\": \"quantitative\"}], \"x\": {\"field\": \"Ano\", \"type\": \"ordinal\"}, \"y\": {\"axis\": {\"title\": \"Saldo Acumulado (%)\", \"titleColor\": \"green\"}, \"field\": \"SaldoAcumulado\", \"scale\": {\"domain\": [3133.4345982362343, 3244.94290055356]}, \"type\": \"quantitative\"}}}], \"data\": {\"name\": \"data-a5f24795aeb878b9453b80b50957c98e\"}}], \"height\": 600, \"params\": [{\"name\": \"param_2\", \"select\": {\"type\": \"interval\", \"encodings\": [\"x\", \"y\"]}, \"bind\": \"scales\", \"views\": [\"view_2\"]}], \"resolve\": {\"scale\": {\"y\": \"independent\"}}, \"width\": 1100, \"$schema\": \"https://vega.github.io/schema/vega-lite/v5.17.0.json\", \"datasets\": {\"data-882e710089844c3ec8fd9539af7e9bf1\": [{\"Ano\": 2003, \"Tipo\": \"PerdaInflacao\", \"Valor\": -8.950526347843358}, {\"Ano\": 2004, \"Tipo\": \"PerdaInflacao\", \"Valor\": -7.3489245684729365}, {\"Ano\": 2005, \"Tipo\": \"PerdaInflacao\", \"Valor\": -5.549517695441986}, {\"Ano\": 2006, \"Tipo\": \"PerdaInflacao\", \"Valor\": -3.0997485704816863}, {\"Ano\": 2007, \"Tipo\": \"PerdaInflacao\", \"Valor\": -4.370316145877395}, {\"Ano\": 2008, \"Tipo\": \"PerdaInflacao\", \"Valor\": -5.750390039761166}, {\"Ano\": 2009, \"Tipo\": \"PerdaInflacao\", \"Valor\": -4.229636567794404}, {\"Ano\": 2010, \"Tipo\": \"PerdaInflacao\", \"Valor\": -5.759640248884446}, {\"Ano\": 2011, \"Tipo\": \"PerdaInflacao\", \"Valor\": -6.32023078791748}, {\"Ano\": 2012, \"Tipo\": \"PerdaInflacao\", \"Valor\": -5.69002537270773}, {\"Ano\": 2013, \"Tipo\": \"PerdaInflacao\", \"Valor\": -5.759872333607596}, {\"Ano\": 2014, \"Tipo\": \"PerdaInflacao\", \"Valor\": -6.229861656363456}, {\"Ano\": 2015, \"Tipo\": \"PerdaInflacao\", \"Valor\": -10.189572148833271}, {\"Ano\": 2016, \"Tipo\": \"PerdaInflacao\", \"Valor\": -6.119935595355108}, {\"Ano\": 2017, \"Tipo\": \"PerdaInflacao\", \"Valor\": -2.9100700467922125}, {\"Ano\": 2018, \"Tipo\": \"PerdaInflacao\", \"Valor\": -3.690095741558219}, {\"Ano\": 2019, \"Tipo\": \"PerdaInflacao\", \"Valor\": -4.230107159353813}, {\"Ano\": 2020, \"Tipo\": \"PerdaInflacao\", \"Valor\": -4.44011126244126}, {\"Ano\": 2021, \"Tipo\": \"PerdaInflacao\", \"Valor\": -9.629933976882988}, {\"Ano\": 2022, \"Tipo\": \"PerdaInflacao\", \"Valor\": -5.660239465042094}, {\"Ano\": 2023, \"Tipo\": \"PerdaInflacao\", \"Valor\": -4.530072933757456}, {\"Ano\": 2003, \"Tipo\": \"CorrecaoSalarial\", \"Valor\": 0.0}, {\"Ano\": 2004, \"Tipo\": \"CorrecaoSalarial\", \"Valor\": 0.0}, {\"Ano\": 2005, \"Tipo\": \"CorrecaoSalarial\", \"Valor\": 0.0}, {\"Ano\": 2006, \"Tipo\": \"CorrecaoSalarial\", \"Valor\": 0.0}, {\"Ano\": 2007, \"Tipo\": \"CorrecaoSalarial\", \"Valor\": 0.0}, {\"Ano\": 2008, \"Tipo\": \"CorrecaoSalarial\", \"Valor\": 0.0}, {\"Ano\": 2009, \"Tipo\": \"CorrecaoSalarial\", \"Valor\": 0.0}, {\"Ano\": 2010, \"Tipo\": \"CorrecaoSalarial\", \"Valor\": 0.0}, {\"Ano\": 2011, \"Tipo\": \"CorrecaoSalarial\", \"Valor\": 0.0}, {\"Ano\": 2012, \"Tipo\": \"CorrecaoSalarial\", \"Valor\": 0.0}, {\"Ano\": 2013, \"Tipo\": \"CorrecaoSalarial\", \"Valor\": 0.0}, {\"Ano\": 2014, \"Tipo\": \"CorrecaoSalarial\", \"Valor\": 0.0}, {\"Ano\": 2015, \"Tipo\": \"CorrecaoSalarial\", \"Valor\": 0.0}, {\"Ano\": 2016, \"Tipo\": \"CorrecaoSalarial\", \"Valor\": 0.0}, {\"Ano\": 2017, \"Tipo\": \"CorrecaoSalarial\", \"Valor\": 0.0}, {\"Ano\": 2018, \"Tipo\": \"CorrecaoSalarial\", \"Valor\": 0.0}, {\"Ano\": 2019, \"Tipo\": \"CorrecaoSalarial\", \"Valor\": 0.0}, {\"Ano\": 2020, \"Tipo\": \"CorrecaoSalarial\", \"Valor\": 0.0}, {\"Ano\": 2021, \"Tipo\": \"CorrecaoSalarial\", \"Valor\": 0.0}, {\"Ano\": 2022, \"Tipo\": \"CorrecaoSalarial\", \"Valor\": 0.0}, {\"Ano\": 2023, \"Tipo\": \"CorrecaoSalarial\", \"Valor\": 0.0}], \"data-a5f24795aeb878b9453b80b50957c98e\": [{\"Ano\": 2003, \"PerdaInflacao\": -8.950526347843358, \"CorrecaoSalarial\": 0.0, \"SaldoAcumulado\": 3133.4345982362343, \"SaldoAcumuladoAjustado\": 0.0}, {\"Ano\": 2004, \"PerdaInflacao\": -7.3489245684729365, \"CorrecaoSalarial\": 0.0, \"SaldoAcumulado\": 3140.783522804707, \"SaldoAcumuladoAjustado\": null}, {\"Ano\": 2005, \"PerdaInflacao\": -5.549517695441986, \"CorrecaoSalarial\": 0.0, \"SaldoAcumulado\": 3146.333040500149, \"SaldoAcumuladoAjustado\": null}, {\"Ano\": 2006, \"PerdaInflacao\": -3.0997485704816863, \"CorrecaoSalarial\": 0.0, \"SaldoAcumulado\": 3149.4327890706304, \"SaldoAcumuladoAjustado\": null}, {\"Ano\": 2007, \"PerdaInflacao\": -4.370316145877395, \"CorrecaoSalarial\": 0.0, \"SaldoAcumulado\": 3153.803105216508, \"SaldoAcumuladoAjustado\": null}, {\"Ano\": 2008, \"PerdaInflacao\": -5.750390039761166, \"CorrecaoSalarial\": 0.0, \"SaldoAcumulado\": 3159.553495256269, \"SaldoAcumuladoAjustado\": null}, {\"Ano\": 2009, \"PerdaInflacao\": -4.229636567794404, \"CorrecaoSalarial\": 0.0, \"SaldoAcumulado\": 3163.7831318240633, \"SaldoAcumuladoAjustado\": null}, {\"Ano\": 2010, \"PerdaInflacao\": -5.759640248884446, \"CorrecaoSalarial\": 0.0, \"SaldoAcumulado\": 3169.5427720729476, \"SaldoAcumuladoAjustado\": null}, {\"Ano\": 2011, \"PerdaInflacao\": -6.32023078791748, \"CorrecaoSalarial\": 0.0, \"SaldoAcumulado\": 3175.863002860865, \"SaldoAcumuladoAjustado\": null}, {\"Ano\": 2012, \"PerdaInflacao\": -5.69002537270773, \"CorrecaoSalarial\": 0.0, \"SaldoAcumulado\": 3181.5530282335726, \"SaldoAcumuladoAjustado\": null}, {\"Ano\": 2013, \"PerdaInflacao\": -5.759872333607596, \"CorrecaoSalarial\": 0.0, \"SaldoAcumulado\": 3187.3129005671803, \"SaldoAcumuladoAjustado\": null}, {\"Ano\": 2014, \"PerdaInflacao\": -6.229861656363456, \"CorrecaoSalarial\": 0.0, \"SaldoAcumulado\": 3193.542762223544, \"SaldoAcumuladoAjustado\": null}, {\"Ano\": 2015, \"PerdaInflacao\": -10.189572148833271, \"CorrecaoSalarial\": 0.0, \"SaldoAcumulado\": 3203.732334372377, \"SaldoAcumuladoAjustado\": null}, {\"Ano\": 2016, \"PerdaInflacao\": -6.119935595355108, \"CorrecaoSalarial\": 0.0, \"SaldoAcumulado\": 3209.852269967732, \"SaldoAcumuladoAjustado\": null}, {\"Ano\": 2017, \"PerdaInflacao\": -2.9100700467922125, \"CorrecaoSalarial\": 0.0, \"SaldoAcumulado\": 3212.762340014524, \"SaldoAcumuladoAjustado\": null}, {\"Ano\": 2018, \"PerdaInflacao\": -3.690095741558219, \"CorrecaoSalarial\": 0.0, \"SaldoAcumulado\": 3216.452435756082, \"SaldoAcumuladoAjustado\": null}, {\"Ano\": 2019, \"PerdaInflacao\": -4.230107159353813, \"CorrecaoSalarial\": 0.0, \"SaldoAcumulado\": 3220.682542915436, \"SaldoAcumuladoAjustado\": null}, {\"Ano\": 2020, \"PerdaInflacao\": -4.44011126244126, \"CorrecaoSalarial\": 0.0, \"SaldoAcumulado\": 3225.1226541778774, \"SaldoAcumuladoAjustado\": null}, {\"Ano\": 2021, \"PerdaInflacao\": -9.629933976882988, \"CorrecaoSalarial\": 0.0, \"SaldoAcumulado\": 3234.7525881547604, \"SaldoAcumuladoAjustado\": null}, {\"Ano\": 2022, \"PerdaInflacao\": -5.660239465042094, \"CorrecaoSalarial\": 0.0, \"SaldoAcumulado\": 3240.4128276198026, \"SaldoAcumuladoAjustado\": null}, {\"Ano\": 2023, \"PerdaInflacao\": -4.530072933757456, \"CorrecaoSalarial\": 0.0, \"SaldoAcumulado\": 3244.94290055356, \"SaldoAcumuladoAjustado\": null}]}}, {\"mode\": \"vega-lite\"});\n",
       "</script>"
      ],
      "text/plain": [
       "alt.LayerChart(...)"
      ]
     },
     "execution_count": 9,
     "metadata": {},
     "output_type": "execute_result"
    }
   ],
   "source": [
    "import altair as alt\n",
    "import pandas as pd\n",
    "import requests\n",
    "import pandas as pd\n",
    "import json\n",
    "import csv\n",
    "from io import BytesIO, TextIOWrapper\n",
    "\n",
    "def plotar_perdas(ano_inicio, ano_final, reajustes_anuais):\n",
    "    url_ipca_completo = \"https://servicodados.ibge.gov.br/api/v3/agregados/1737/periodos/197912|198001|198002|198003|198004|198005|198006|198007|198008|198009|198010|198011|198012|198101|198102|198103|198104|198105|198106|198107|198108|198109|198110|198111|198112|198201|198202|198203|198204|198205|198206|198207|198208|198209|198210|198211|198212|198301|198302|198303|198304|198305|198306|198307|198308|198309|198310|198311|198312|198401|198402|198403|198404|198405|198406|198407|198408|198409|198410|198411|198412|198501|198502|198503|198504|198505|198506|198507|198508|198509|198510|198511|198512|198601|198602|198603|198604|198605|198606|198607|198608|198609|198610|198611|198612|198701|198702|198703|198704|198705|198706|198707|198708|198709|198710|198711|198712|198801|198802|198803|198804|198805|198806|198807|198808|198809|198810|198811|198812|198901|198902|198903|198904|198905|198906|198907|198908|198909|198910|198911|198912|199001|199002|199003|199004|199005|199006|199007|199008|199009|199010|199011|199012|199101|199102|199103|199104|199105|199106|199107|199108|199109|199110|199111|199112|199201|199202|199203|199204|199205|199206|199207|199208|199209|199210|199211|199212|199301|199302|199303|199304|199305|199306|199307|199308|199309|199310|199311|199312|199401|199402|199403|199404|199405|199406|199407|199408|199409|199410|199411|199412|199501|199502|199503|199504|199505|199506|199507|199508|199509|199510|199511|199512|199601|199602|199603|199604|199605|199606|199607|199608|199609|199610|199611|199612|199701|199702|199703|199704|199705|199706|199707|199708|199709|199710|199711|199712|199801|199802|199803|199804|199805|199806|199807|199808|199809|199810|199811|199812|199901|199902|199903|199904|199905|199906|199907|199908|199909|199910|199911|199912|200001|200002|200003|200004|200005|200006|200007|200008|200009|200010|200011|200012|200101|200102|200103|200104|200105|200106|200107|200108|200109|200110|200111|200112|200201|200202|200203|200204|200205|200206|200207|200208|200209|200210|200211|200212|200301|200302|200303|200304|200305|200306|200307|200308|200309|200310|200311|200312|200401|200402|200403|200404|200405|200406|200407|200408|200409|200410|200411|200412|200501|200502|200503|200504|200505|200506|200507|200508|200509|200510|200511|200512|200601|200602|200603|200604|200605|200606|200607|200608|200609|200610|200611|200612|200701|200702|200703|200704|200705|200706|200707|200708|200709|200710|200711|200712|200801|200802|200803|200804|200805|200806|200807|200808|200809|200810|200811|200812|200901|200902|200903|200904|200905|200906|200907|200908|200909|200910|200911|200912|201001|201002|201003|201004|201005|201006|201007|201008|201009|201010|201011|201012|201101|201102|201103|201104|201105|201106|201107|201108|201109|201110|201111|201112|201201|201202|201203|201204|201205|201206|201207|201208|201209|201210|201211|201212|201301|201302|201303|201304|201305|201306|201307|201308|201309|201310|201311|201312|201401|201402|201403|201404|201405|201406|201407|201408|201409|201410|201411|201412|201501|201502|201503|201504|201505|201506|201507|201508|201509|201510|201511|201512|201601|201602|201603|201604|201605|201606|201607|201608|201609|201610|201611|201612|201701|201702|201703|201704|201705|201706|201707|201708|201709|201710|201711|201712|201801|201802|201803|201804|201805|201806|201807|201808|201809|201810|201811|201812|201901|201902|201903|201904|201905|201906|201907|201908|201909|201910|201911|201912|202001|202002|202003|202004|202005|202006|202007|202008|202009|202010|202011|202012|202101|202102|202103|202104|202105|202106|202107|202108|202109|202110|202111|202112|202201|202202|202203|202204|202205|202206|202207|202208|202209|202210|202211|202212|202301|202302|202303|202304|202305|202306|202307|202308|202309|202310|202311|202312|202401|202402|202403|202404|202405/variaveis/2266?localidades=N1[all]\"\n",
    "    url_ipca = \"https://servicodados.ibge.gov.br/api/v3/agregados/1737/periodos/199212|199301|199302|199303|199304|199305|199306|199307|199308|199309|199310|199311|199312|199401|199402|199403|199404|199405|199406|199407|199408|199409|199410|199411|199412|199501|199502|199503|199504|199505|199506|199507|199508|199509|199510|199511|199512|199601|199602|199603|199604|199605|199606|199607|199608|199609|199610|199611|199612|199701|199702|199703|199704|199705|199706|199707|199708|199709|199710|199711|199712|199801|199802|199803|199804|199805|199806|199807|199808|199809|199810|199811|199812|199901|199902|199903|199904|199905|199906|199907|199908|199909|199910|199911|199912|200001|200002|200003|200004|200005|200006|200007|200008|200009|200010|200011|200012|200101|200102|200103|200104|200105|200106|200107|200108|200109|200110|200111|200112|200201|200202|200203|200204|200205|200206|200207|200208|200209|200210|200211|200212|200301|200302|200303|200304|200305|200306|200307|200308|200309|200310|200311|200312|200401|200402|200403|200404|200405|200406|200407|200408|200409|200410|200411|200412|200501|200502|200503|200504|200505|200506|200507|200508|200509|200510|200511|200512|200601|200602|200603|200604|200605|200606|200607|200608|200609|200610|200611|200612|200701|200702|200703|200704|200705|200706|200707|200708|200709|200710|200711|200712|200801|200802|200803|200804|200805|200806|200807|200808|200809|200810|200811|200812|200901|200902|200903|200904|200905|200906|200907|200908|200909|200910|200911|200912|201001|201002|201003|201004|201005|201006|201007|201008|201009|201010|201011|201012|201101|201102|201103|201104|201105|201106|201107|201108|201109|201110|201111|201112|201201|201202|201203|201204|201205|201206|201207|201208|201209|201210|201211|201212|201301|201302|201303|201304|201305|201306|201307|201308|201309|201310|201311|201312|201401|201402|201403|201404|201405|201406|201407|201408|201409|201410|201411|201412|201501|201502|201503|201504|201505|201506|201507|201508|201509|201510|201511|201512|201601|201602|201603|201604|201605|201606|201607|201608|201609|201610|201611|201612|201701|201702|201703|201704|201705|201706|201707|201708|201709|201710|201711|201712|201801|201802|201803|201804|201805|201806|201807|201808|201809|201810|201811|201812|201901|201902|201903|201904|201905|201906|201907|201908|201909|201910|201911|201912|202001|202002|202003|202004|202005|202006|202007|202008|202009|202010|202011|202012|202101|202102|202103|202104|202105|202106|202107|202108|202109|202110|202111|202112|202201|202202|202203|202204|202205|202206|202207|202208|202209|202210|202211|202212|202301|202302|202303|202304|202305|202306|202307|202308|202309|202310|202311|202312|202401|202402|202403|202404|202405/variaveis/2266?localidades=N1[all]\"\n",
    "    # url_tab_var = \"https://apisidra.ibge.gov.br/values/t/1737/n1/all/v/2266/p/all\"\n",
    "    indices_mensais = {}\n",
    "\n",
    "    response = requests.get(url_ipca_completo)\n",
    "    if response.status_code == 200:\n",
    "        print('Requisição realizada com sucesso!')\n",
    "    response.raise_for_status()\n",
    "\n",
    "    dados_ipca = json.loads(response.content)\n",
    "    indices_ipca = dados_ipca[0]['resultados'][0].get('series')[0].get('serie')\n",
    "    print(f'{len(indices_ipca)} índices IPCA mensais extraídos do IBGE')\n",
    "\n",
    "    # Cria uma lista de tuplas a partir dos itens do dicionário\n",
    "    lista_dados = list(indices_ipca.items())\n",
    "\n",
    "    # Cria o DataFrame\n",
    "    df = pd.DataFrame(lista_dados, columns=[\"AnoMes\", \"Valor\"])    \n",
    "\n",
    "    # 1. Converter a coluna `Valor` para o tipo numérico\n",
    "    df['Valor'] = pd.to_numeric(df['Valor'])\n",
    "\n",
    "    # # Filtrar o DataFrame para o período desejado\n",
    "    # df = df[\n",
    "    #     (int(str(df['AnoMes'])[:4]) >= ano_inicio) & (int(str(df['AnoMes'])[:4]) <= ano_final)\n",
    "    # ]\n",
    "\n",
    "    # 2. Criar uma nova coluna `Ano` extraindo o ano da coluna `AnoMes`\n",
    "    df['Ano'] = df['AnoMes'].astype(str).str[:4].astype(int)\n",
    "\n",
    "    # 3. Calcular a variação percentual mensal do IPCA\n",
    "    df['InflacaoMensal'] = df['Valor'].pct_change() * -100\n",
    "    df['InflacaoMensal'] = df['InflacaoMensal'].fillna(0)\n",
    "\n",
    "    # 4. Calcular a inflação acumulada por ano\n",
    "    df_inflacao_anual = df.groupby('Ano')['InflacaoMensal'].sum().reset_index()\n",
    "    df_inflacao_anual = df_inflacao_anual.rename(columns={'InflacaoMensal': 'PerdaInflacao'})\n",
    "\n",
    "    # 5. Criar um dicionário com anos e correções\n",
    "    anos = df_inflacao_anual['Ano'].unique().tolist()\n",
    "    correcoes_salariais_lista = [0 for x in anos]  # Lista de zeros por padrão\n",
    "    if reajustes_anuais:  # Verificar se a lista de reajustes não está vazia\n",
    "        correcoes_salariais_lista = reajustes_anuais[:len(anos)]  # Usar os reajustes fornecidos\n",
    "    correcoes_salariais = dict(zip(anos, correcoes_salariais_lista))\n",
    "\n",
    "    # 6. Criar um DataFrame a partir das correções salariais\n",
    "    df_salarios = pd.DataFrame(list(correcoes_salariais.items()), columns=['Ano', 'CorrecaoSalarial'])\n",
    "\n",
    "    # 7. Fazer o merge entre os DataFrames\n",
    "    df_merged = df_inflacao_anual.merge(df_salarios, on='Ano', how='left')\n",
    "\n",
    "    # 8. Preencher os valores NaN da coluna 'CorrecaoSalarial' com 0\n",
    "    df_merged['CorrecaoSalarial'] = df_merged['CorrecaoSalarial'].fillna(0)\n",
    "\n",
    "    # 9. Calcular a diferença acumulada entre a correção salarial e a perda por inflação\n",
    "    df_merged['SaldoAcumulado'] = (df_merged['CorrecaoSalarial'] - df_merged['PerdaInflacao']).cumsum()\n",
    "\n",
    "    # Filtrar o DataFrame para o período desejado\n",
    "    df_merged_filtrado = df_merged[\n",
    "        (df_merged['Ano'] >= ano_inicio) & (df_merged['Ano'] <= ano_final)\n",
    "    ]\n",
    "\n",
    "    # Zerar o saldo acumulado no ano de início\n",
    "    df_merged_filtrado.loc[df_merged_filtrado['Ano'] == ano_inicio, 'SaldoAcumuladoAjustado'] = 0\n",
    "\n",
    "    # 10. Calcular o valor absoluto máximo para definir o domínio do eixo y principal e secundário\n",
    "    max_abs_valor = max(\n",
    "        df_merged_filtrado['PerdaInflacao'].abs().max(),\n",
    "        df_merged_filtrado['CorrecaoSalarial'].abs().max(),\n",
    "        df_merged_filtrado['SaldoAcumulado'].abs().max()\n",
    "    )\n",
    "\n",
    "    # Preparar os dados para o gráfico de barras\n",
    "    df_barras = df_merged_filtrado.melt(id_vars='Ano', value_vars=['PerdaInflacao', 'CorrecaoSalarial'], var_name='Tipo', value_name='Valor')\n",
    "\n",
    "    # Calcular o valor absoluto máximo para definir o domínio do eixo y principal\n",
    "    max_abs_valor_barras = max(df_merged_filtrado['PerdaInflacao'].abs().max(), df_merged_filtrado['CorrecaoSalarial'].abs().max())\n",
    "\n",
    "    # Calcular o valor mínimo e máximo do SaldoAcumulado para definir o domínio do eixo y da linha\n",
    "    min_saldo_acumulado = df_merged_filtrado['SaldoAcumulado'].min()\n",
    "    max_saldo_acumulado = df_merged_filtrado['SaldoAcumulado'].max()\n",
    "\n",
    "    # Criar o gráfico de barras\n",
    "    barras = alt.Chart(df_barras).mark_bar().encode(\n",
    "        x=alt.X('Ano:O', axis=alt.Axis(labelAngle=-45)),\n",
    "        y=alt.Y('Valor:Q', axis=alt.Axis(title='Variação (%)', titleColor='black'), scale=alt.Scale(domain=[-max_abs_valor_barras, max_abs_valor_barras])),\n",
    "        color=alt.Color('Tipo:N', scale={'domain': ['PerdaInflacao', 'CorrecaoSalarial'], 'range': ['red', 'steelblue']}),\n",
    "        tooltip=['Ano', 'Valor', 'Tipo']\n",
    "    ).properties(\n",
    "        title='Perda por Inflação, Reposição Salarial e Saldo Acumulado'\n",
    "    )\n",
    "\n",
    "    # Adicionar os rótulos às barras\n",
    "    text = barras.mark_text(\n",
    "        align='center',\n",
    "        baseline='bottom',\n",
    "        dy=-5\n",
    "    ).encode(\n",
    "        text=alt.Text('Valor:Q', format='.2f')\n",
    "    )\n",
    "\n",
    "    # Criar o gráfico de linha para o saldo acumulado (eixo secundário)\n",
    "    linha = alt.Chart(df_merged_filtrado).mark_line(color='green', point=True).encode(\n",
    "        x='Ano:O',\n",
    "        y=alt.Y('SaldoAcumulado:Q', axis=alt.Axis(title='Saldo Acumulado (%)', titleColor='green'), scale=alt.Scale(domain=[min_saldo_acumulado, max_saldo_acumulado])),\n",
    "        tooltip=['Ano', 'SaldoAcumulado']\n",
    "    )\n",
    "\n",
    "    # Adicionar rótulos de dados à linha\n",
    "    text_linha = linha.mark_text(\n",
    "        align='left',\n",
    "        baseline='middle',\n",
    "        dx=5,  # Nudge text to right so it doesn't overlap with the line\n",
    "        color='green'\n",
    "    ).encode(\n",
    "        text=alt.Text('SaldoAcumulado:Q', format='.2f')\n",
    "    )\n",
    "\n",
    "    # Combinar os gráficos com os rótulos\n",
    "    grafico_final = alt.layer(barras + text, linha + text_linha).resolve_scale(\n",
    "        y='independent'\n",
    "    ).interactive()\n",
    "\n",
    "\n",
    "    grafico_final = grafico_final.properties(\n",
    "        height=600,  # Largura de 800 pixels\n",
    "        width=1100  # Largura de 1200 pixels\n",
    "    )\n",
    "\n",
    "    return df_merged, grafico_final\n",
    "\n",
    "# Exemplo de uso\n",
    "ano_inicio = 2003\n",
    "ano_final = 2023\n",
    "reajustes_anuais = [2.5, 3.0, 4.5, 5.0, 5.5, 6.0, 6.5, 7.0, 7.5, 8.0, 8.5, 9.0, 9.5, 10.0, 10.5, 11.0, 11.5, 12.0, 12.5, 13.0, 13.5]  # Exemplo de reajustes\n",
    "\n",
    "df_merged, grafico_final = plotar_perdas(ano_inicio, ano_final, reajustes_anuais)\n",
    "grafico_final"
   ]
  },
  {
   "cell_type": "code",
   "execution_count": 17,
   "metadata": {},
   "outputs": [
    {
     "data": {
      "application/vnd.vegalite.v5+json": {
       "$schema": "https://vega.github.io/schema/vega-lite/v5.17.0.json",
       "config": {
        "view": {
         "continuousHeight": 300,
         "continuousWidth": 300
        }
       },
       "datasets": {
        "data-8522ac1cef336fe77e8254e91b40270f": [
         {
          "Ano": 1979,
          "Tipo": "PerdaInflacao",
          "Valor": 0
         },
         {
          "Ano": 1980,
          "Tipo": "PerdaInflacao",
          "Valor": -99.25048895422863
         },
         {
          "Ano": 1981,
          "Tipo": "PerdaInflacao",
          "Valor": -95.62304423729371
         },
         {
          "Ano": 1982,
          "Tipo": "PerdaInflacao",
          "Valor": -104.79043327743089
         },
         {
          "Ano": 1983,
          "Tipo": "PerdaInflacao",
          "Valor": -164.01202400196016
         },
         {
          "Ano": 1984,
          "Tipo": "PerdaInflacao",
          "Valor": -215.26332573861632
         },
         {
          "Ano": 1985,
          "Tipo": "PerdaInflacao",
          "Valor": -242.22979520736595
         },
         {
          "Ano": 1986,
          "Tipo": "PerdaInflacao",
          "Valor": -79.66449686450821
         },
         {
          "Ano": 1987,
          "Tipo": "PerdaInflacao",
          "Valor": -363.41152370573184
         },
         {
          "Ano": 1988,
          "Tipo": "PerdaInflacao",
          "Valor": -980.2134871318884
         },
         {
          "Ano": 1989,
          "Tipo": "PerdaInflacao",
          "Valor": -1972.9116233347168
         },
         {
          "Ano": 1990,
          "Tipo": "PerdaInflacao",
          "Valor": -1620.966468124945
         },
         {
          "Ano": 1991,
          "Tipo": "PerdaInflacao",
          "Valor": -472.69999999960015
         },
         {
          "Ano": 1992,
          "Tipo": "PerdaInflacao",
          "Valor": -1119.1007508294347
         },
         {
          "Ano": 1993,
          "Tipo": "PerdaInflacao",
          "Valor": -2477.147121296978
         },
         {
          "Ano": 1994,
          "Tipo": "PerdaInflacao",
          "Valor": -916.46
         },
         {
          "Ano": 1995,
          "Tipo": "PerdaInflacao",
          "Valor": -22.408161659091363
         },
         {
          "Ano": 1996,
          "Tipo": "PerdaInflacao",
          "Valor": -9.564951817589984
         },
         {
          "Ano": 1997,
          "Tipo": "PerdaInflacao",
          "Valor": -5.2243185352542465
         },
         {
          "Ano": 1998,
          "Tipo": "PerdaInflacao",
          "Valor": -1.654978179942268
         },
         {
          "Ano": 1999,
          "Tipo": "PerdaInflacao",
          "Valor": -8.939788780688506
         },
         {
          "Ano": 2000,
          "Tipo": "PerdaInflacao",
          "Valor": -5.97459334239816
         },
         {
          "Ano": 2001,
          "Tipo": "PerdaInflacao",
          "Valor": -7.67343641407332
         },
         {
          "Ano": 2002,
          "Tipo": "PerdaInflacao",
          "Valor": -12.530273356687704
         },
         {
          "Ano": 2003,
          "Tipo": "PerdaInflacao",
          "Valor": -9.300512800400028
         },
         {
          "Ano": 2004,
          "Tipo": "PerdaInflacao",
          "Valor": -7.599495848826421
         },
         {
          "Ano": 2005,
          "Tipo": "PerdaInflacao",
          "Valor": -5.689226818735094
         },
         {
          "Ano": 2006,
          "Tipo": "PerdaInflacao",
          "Valor": -3.1415161315768714
         },
         {
          "Ano": 2007,
          "Tipo": "PerdaInflacao",
          "Valor": -4.457658553373722
         },
         {
          "Ano": 2008,
          "Tipo": "PerdaInflacao",
          "Valor": -5.902724390654646
         },
         {
          "Ano": 2009,
          "Tipo": "PerdaInflacao",
          "Valor": -4.31165006256784
         },
         {
          "Ano": 2010,
          "Tipo": "PerdaInflacao",
          "Valor": -5.9086887217945305
         },
         {
          "Ano": 2011,
          "Tipo": "PerdaInflacao",
          "Valor": -6.503352743680169
         },
         {
          "Ano": 2012,
          "Tipo": "PerdaInflacao",
          "Valor": -5.83859471814745
         },
         {
          "Ano": 2013,
          "Tipo": "PerdaInflacao",
          "Valor": -5.910683255331084
         },
         {
          "Ano": 2014,
          "Tipo": "PerdaInflacao",
          "Valor": -6.4074707959081545
         },
         {
          "Ano": 2015,
          "Tipo": "PerdaInflacao",
          "Valor": -10.673028133975059
         },
         {
          "Ano": 2016,
          "Tipo": "PerdaInflacao",
          "Valor": -6.287988213221385
         },
         {
          "Ano": 2017,
          "Tipo": "PerdaInflacao",
          "Valor": -2.9474213204347066
         },
         {
          "Ano": 2018,
          "Tipo": "PerdaInflacao",
          "Valor": -3.7455811701915476
         },
         {
          "Ano": 2019,
          "Tipo": "PerdaInflacao",
          "Valor": -4.306151617159526
         },
         {
          "Ano": 2020,
          "Tipo": "PerdaInflacao",
          "Valor": -4.517456886424509
         },
         {
          "Ano": 2021,
          "Tipo": "PerdaInflacao",
          "Valor": -10.060982737443336
         },
         {
          "Ano": 2022,
          "Tipo": "PerdaInflacao",
          "Valor": -5.785092907889489
         },
         {
          "Ano": 2023,
          "Tipo": "PerdaInflacao",
          "Valor": -4.62119000508181
         },
         {
          "Ano": 1979,
          "Tipo": "CorrecaoSalarial",
          "Valor": 0
         },
         {
          "Ano": 1980,
          "Tipo": "CorrecaoSalarial",
          "Valor": 0
         },
         {
          "Ano": 1981,
          "Tipo": "CorrecaoSalarial",
          "Valor": 0
         },
         {
          "Ano": 1982,
          "Tipo": "CorrecaoSalarial",
          "Valor": 0
         },
         {
          "Ano": 1983,
          "Tipo": "CorrecaoSalarial",
          "Valor": 0
         },
         {
          "Ano": 1984,
          "Tipo": "CorrecaoSalarial",
          "Valor": 0
         },
         {
          "Ano": 1985,
          "Tipo": "CorrecaoSalarial",
          "Valor": 0
         },
         {
          "Ano": 1986,
          "Tipo": "CorrecaoSalarial",
          "Valor": 0
         },
         {
          "Ano": 1987,
          "Tipo": "CorrecaoSalarial",
          "Valor": 0
         },
         {
          "Ano": 1988,
          "Tipo": "CorrecaoSalarial",
          "Valor": 0
         },
         {
          "Ano": 1989,
          "Tipo": "CorrecaoSalarial",
          "Valor": 0
         },
         {
          "Ano": 1990,
          "Tipo": "CorrecaoSalarial",
          "Valor": 0
         },
         {
          "Ano": 1991,
          "Tipo": "CorrecaoSalarial",
          "Valor": 0
         },
         {
          "Ano": 1992,
          "Tipo": "CorrecaoSalarial",
          "Valor": 0
         },
         {
          "Ano": 1993,
          "Tipo": "CorrecaoSalarial",
          "Valor": 0
         },
         {
          "Ano": 1994,
          "Tipo": "CorrecaoSalarial",
          "Valor": 0
         },
         {
          "Ano": 1995,
          "Tipo": "CorrecaoSalarial",
          "Valor": 0
         },
         {
          "Ano": 1996,
          "Tipo": "CorrecaoSalarial",
          "Valor": 0
         },
         {
          "Ano": 1997,
          "Tipo": "CorrecaoSalarial",
          "Valor": 0
         },
         {
          "Ano": 1998,
          "Tipo": "CorrecaoSalarial",
          "Valor": 0
         },
         {
          "Ano": 1999,
          "Tipo": "CorrecaoSalarial",
          "Valor": 0
         },
         {
          "Ano": 2000,
          "Tipo": "CorrecaoSalarial",
          "Valor": 0
         },
         {
          "Ano": 2001,
          "Tipo": "CorrecaoSalarial",
          "Valor": 0
         },
         {
          "Ano": 2002,
          "Tipo": "CorrecaoSalarial",
          "Valor": 0
         },
         {
          "Ano": 2003,
          "Tipo": "CorrecaoSalarial",
          "Valor": 0
         },
         {
          "Ano": 2004,
          "Tipo": "CorrecaoSalarial",
          "Valor": 0
         },
         {
          "Ano": 2005,
          "Tipo": "CorrecaoSalarial",
          "Valor": 0
         },
         {
          "Ano": 2006,
          "Tipo": "CorrecaoSalarial",
          "Valor": 0
         },
         {
          "Ano": 2007,
          "Tipo": "CorrecaoSalarial",
          "Valor": 0
         },
         {
          "Ano": 2008,
          "Tipo": "CorrecaoSalarial",
          "Valor": 0
         },
         {
          "Ano": 2009,
          "Tipo": "CorrecaoSalarial",
          "Valor": 0
         },
         {
          "Ano": 2010,
          "Tipo": "CorrecaoSalarial",
          "Valor": 0
         },
         {
          "Ano": 2011,
          "Tipo": "CorrecaoSalarial",
          "Valor": 0
         },
         {
          "Ano": 2012,
          "Tipo": "CorrecaoSalarial",
          "Valor": 0
         },
         {
          "Ano": 2013,
          "Tipo": "CorrecaoSalarial",
          "Valor": 0
         },
         {
          "Ano": 2014,
          "Tipo": "CorrecaoSalarial",
          "Valor": 0
         },
         {
          "Ano": 2015,
          "Tipo": "CorrecaoSalarial",
          "Valor": 0
         },
         {
          "Ano": 2016,
          "Tipo": "CorrecaoSalarial",
          "Valor": 0
         },
         {
          "Ano": 2017,
          "Tipo": "CorrecaoSalarial",
          "Valor": 0
         },
         {
          "Ano": 2018,
          "Tipo": "CorrecaoSalarial",
          "Valor": 0
         },
         {
          "Ano": 2019,
          "Tipo": "CorrecaoSalarial",
          "Valor": 0
         },
         {
          "Ano": 2020,
          "Tipo": "CorrecaoSalarial",
          "Valor": 0
         },
         {
          "Ano": 2021,
          "Tipo": "CorrecaoSalarial",
          "Valor": 0
         },
         {
          "Ano": 2022,
          "Tipo": "CorrecaoSalarial",
          "Valor": 0
         },
         {
          "Ano": 2023,
          "Tipo": "CorrecaoSalarial",
          "Valor": 0
         }
        ],
        "data-efd6a866494489ba20155e000f9af669": [
         {
          "Ano": 1979,
          "AnoMes": "197912",
          "CorrecaoSalarial": 0,
          "InflacaoMensal": 0,
          "PerdaInflacao": 0,
          "SaldoAcumulado": 0,
          "Valor": 7.6183e-9
         },
         {
          "Ano": 1980,
          "AnoMes": "198012",
          "CorrecaoSalarial": 0,
          "InflacaoMensal": 6.6140836365168765,
          "PerdaInflacao": -99.25048895422863,
          "SaldoAcumulado": -99.25048895422863,
          "Valor": 1.51795e-8
         },
         {
          "Ano": 1981,
          "AnoMes": "198112",
          "CorrecaoSalarial": 0,
          "InflacaoMensal": 5.925410669377706,
          "PerdaInflacao": -95.62304423729371,
          "SaldoAcumulado": -194.87353319152234,
          "Valor": 2.96946e-8
         },
         {
          "Ano": 1982,
          "AnoMes": "198212",
          "CorrecaoSalarial": 0,
          "InflacaoMensal": 7.80591577510481,
          "PerdaInflacao": -104.79043327743089,
          "SaldoAcumulado": -299.6639664689532,
          "Valor": 6.08117e-8
         },
         {
          "Ano": 1983,
          "AnoMes": "198312",
          "CorrecaoSalarial": 0,
          "InflacaoMensal": 8.67709911366168,
          "PerdaInflacao": -164.01202400196016,
          "SaldoAcumulado": -463.67599047091335,
          "Valor": 1.605502e-7
         },
         {
          "Ano": 1984,
          "AnoMes": "198412",
          "CorrecaoSalarial": 0,
          "InflacaoMensal": 11.977231819702293,
          "PerdaInflacao": -215.26332573861632,
          "SaldoAcumulado": -678.9393162095297,
          "Valor": 5.061559e-7
         },
         {
          "Ano": 1985,
          "AnoMes": "198512",
          "CorrecaoSalarial": 0,
          "InflacaoMensal": 15.073045319500068,
          "PerdaInflacao": -242.22979520736595,
          "SaldoAcumulado": -921.1691114168957,
          "Valor": 0.0000017322163
         },
         {
          "Ano": 1986,
          "AnoMes": "198612",
          "CorrecaoSalarial": 0,
          "InflacaoMensal": 11.65015789236341,
          "PerdaInflacao": -79.66449686450821,
          "SaldoAcumulado": -1000.8336082814039,
          "Valor": 0.0000031121777
         },
         {
          "Ano": 1987,
          "AnoMes": "198712",
          "CorrecaoSalarial": 0,
          "InflacaoMensal": 14.149476080044042,
          "PerdaInflacao": -363.41152370573184,
          "SaldoAcumulado": -1364.2451319871357,
          "Valor": 0.0000144221901
         },
         {
          "Ano": 1988,
          "AnoMes": "198812",
          "CorrecaoSalarial": 0,
          "InflacaoMensal": 28.70004215548445,
          "PerdaInflacao": -980.2134871318884,
          "SaldoAcumulado": -2344.458619119024,
          "Valor": 0.0001557904426
         },
         {
          "Ano": 1989,
          "AnoMes": "198912",
          "CorrecaoSalarial": 0,
          "InflacaoMensal": 51.49999918116115,
          "PerdaInflacao": -1972.9116233347168,
          "SaldoAcumulado": -4317.3702424537405,
          "Valor": 0.0032293981927
         },
         {
          "Ano": 1990,
          "AnoMes": "199012",
          "CorrecaoSalarial": 0,
          "InflacaoMensal": 18.440000121459054,
          "PerdaInflacao": -1620.966468124945,
          "SaldoAcumulado": -5938.336710578686,
          "Valor": 0.0555768600186
         },
         {
          "Ano": 1991,
          "AnoMes": "199112",
          "CorrecaoSalarial": 0,
          "InflacaoMensal": 23.70933598307785,
          "PerdaInflacao": -472.69999999960015,
          "SaldoAcumulado": -6411.036710578286,
          "Valor": 0.3182886773263
         },
         {
          "Ano": 1992,
          "AnoMes": "199212",
          "CorrecaoSalarial": 0,
          "InflacaoMensal": 25.239966778660694,
          "PerdaInflacao": -1119.1007508294347,
          "SaldoAcumulado": -7530.137461407721,
          "Valor": 3.88025965509
         },
         {
          "Ano": 1993,
          "AnoMes": "199312",
          "CorrecaoSalarial": 0,
          "InflacaoMensal": 36.8400014419342,
          "PerdaInflacao": -2477.147121296978,
          "SaldoAcumulado": -10007.284582704699,
          "Valor": 100
         },
         {
          "Ano": 1994,
          "AnoMes": "199412",
          "CorrecaoSalarial": 0,
          "InflacaoMensal": 1.7100773487296994,
          "PerdaInflacao": -916.46,
          "SaldoAcumulado": -10923.744582704698,
          "Valor": 1016.46
         },
         {
          "Ano": 1995,
          "AnoMes": "199512",
          "CorrecaoSalarial": 0,
          "InflacaoMensal": 1.5598471986417728,
          "PerdaInflacao": -22.408161659091363,
          "SaldoAcumulado": -10946.15274436379,
          "Valor": 1244.23
         },
         {
          "Ano": 1996,
          "AnoMes": "199612",
          "CorrecaoSalarial": 0,
          "InflacaoMensal": 0.4702032634170239,
          "PerdaInflacao": -9.564951817589984,
          "SaldoAcumulado": -10955.71769618138,
          "Valor": 1363.24
         },
         {
          "Ano": 1997,
          "AnoMes": "199712",
          "CorrecaoSalarial": 0,
          "InflacaoMensal": 0.4298756581158303,
          "PerdaInflacao": -5.2243185352542465,
          "SaldoAcumulado": -10960.942014716635,
          "Valor": 1434.46
         },
         {
          "Ano": 1998,
          "AnoMes": "199812",
          "CorrecaoSalarial": 0,
          "InflacaoMensal": 0.33026007981284966,
          "PerdaInflacao": -1.654978179942268,
          "SaldoAcumulado": -10962.596992896577,
          "Valor": 1458.2
         },
         {
          "Ano": 1999,
          "AnoMes": "199912",
          "CorrecaoSalarial": 0,
          "InflacaoMensal": 0.5997124926381714,
          "PerdaInflacao": -8.939788780688506,
          "SaldoAcumulado": -10971.536781677265,
          "Valor": 1588.56
         },
         {
          "Ano": 2000,
          "AnoMes": "200012",
          "CorrecaoSalarial": 0,
          "InflacaoMensal": 0.5897466539197094,
          "PerdaInflacao": -5.97459334239816,
          "SaldoAcumulado": -10977.511375019663,
          "Valor": 1683.47
         },
         {
          "Ano": 2001,
          "AnoMes": "200112",
          "CorrecaoSalarial": 0,
          "InflacaoMensal": 0.6502159983119871,
          "PerdaInflacao": -7.67343641407332,
          "SaldoAcumulado": -10985.184811433737,
          "Valor": 1812.65
         },
         {
          "Ano": 2002,
          "AnoMes": "200212",
          "CorrecaoSalarial": 0,
          "InflacaoMensal": 2.0997782594114556,
          "PerdaInflacao": -12.530273356687704,
          "SaldoAcumulado": -10997.715084790425,
          "Valor": 2039.78
         },
         {
          "Ano": 2003,
          "AnoMes": "200312",
          "CorrecaoSalarial": 0,
          "InflacaoMensal": 0.519847066673873,
          "PerdaInflacao": -9.300512800400028,
          "SaldoAcumulado": -11007.015597590826,
          "Valor": 2229.49
         },
         {
          "Ano": 2004,
          "AnoMes": "200412",
          "CorrecaoSalarial": 0,
          "InflacaoMensal": 0.8597964237514244,
          "PerdaInflacao": -7.599495848826421,
          "SaldoAcumulado": -11014.615093439652,
          "Valor": 2398.92
         },
         {
          "Ano": 2005,
          "AnoMes": "200512",
          "CorrecaoSalarial": 0,
          "InflacaoMensal": 0.35981332457220017,
          "PerdaInflacao": -5.689226818735094,
          "SaldoAcumulado": -11020.304320258387,
          "Valor": 2535.4
         },
         {
          "Ano": 2006,
          "AnoMes": "200612",
          "CorrecaoSalarial": 0,
          "InflacaoMensal": 0.47991208656092965,
          "PerdaInflacao": -3.1415161315768714,
          "SaldoAcumulado": -11023.445836389963,
          "Valor": 2615.05
         },
         {
          "Ano": 2007,
          "AnoMes": "200712",
          "CorrecaoSalarial": 0,
          "InflacaoMensal": 0.7401670631188795,
          "PerdaInflacao": -4.457658553373722,
          "SaldoAcumulado": -11027.903494943337,
          "Valor": 2731.62
         },
         {
          "Ano": 2008,
          "AnoMes": "200812",
          "CorrecaoSalarial": 0,
          "InflacaoMensal": 0.28009068282504046,
          "PerdaInflacao": -5.902724390654646,
          "SaldoAcumulado": -11033.806219333992,
          "Valor": 2892.86
         },
         {
          "Ano": 2009,
          "AnoMes": "200912",
          "CorrecaoSalarial": 0,
          "InflacaoMensal": 0.36986898256095024,
          "PerdaInflacao": -4.31165006256784,
          "SaldoAcumulado": -11038.11786939656,
          "Valor": 3017.59
         },
         {
          "Ano": 2010,
          "AnoMes": "201012",
          "CorrecaoSalarial": 0,
          "InflacaoMensal": 0.6300615892288031,
          "PerdaInflacao": -5.9086887217945305,
          "SaldoAcumulado": -11044.026558118354,
          "Valor": 3195.89
         },
         {
          "Ano": 2011,
          "AnoMes": "201112",
          "CorrecaoSalarial": 0,
          "InflacaoMensal": 0.49988189441361186,
          "PerdaInflacao": -6.503352743680169,
          "SaldoAcumulado": -11050.529910862035,
          "Valor": 3403.73
         },
         {
          "Ano": 2012,
          "AnoMes": "201212",
          "CorrecaoSalarial": 0,
          "InflacaoMensal": 0.7901024559204606,
          "PerdaInflacao": -5.83859471814745,
          "SaldoAcumulado": -11056.368505580182,
          "Valor": 3602.46
         },
         {
          "Ano": 2013,
          "AnoMes": "201312",
          "CorrecaoSalarial": 0,
          "InflacaoMensal": 0.9199573613781764,
          "PerdaInflacao": -5.910683255331084,
          "SaldoAcumulado": -11062.279188835513,
          "Valor": 3815.39
         },
         {
          "Ano": 2014,
          "AnoMes": "201412",
          "CorrecaoSalarial": 0,
          "InflacaoMensal": 0.7799545233390548,
          "PerdaInflacao": -6.4074707959081545,
          "SaldoAcumulado": -11068.686659631421,
          "Valor": 4059.86
         },
         {
          "Ano": 2015,
          "AnoMes": "201512",
          "CorrecaoSalarial": 0,
          "InflacaoMensal": 0.9599029311642804,
          "PerdaInflacao": -10.673028133975059,
          "SaldoAcumulado": -11079.359687765396,
          "Valor": 4493.17
         },
         {
          "Ano": 2016,
          "AnoMes": "201612",
          "CorrecaoSalarial": 0,
          "InflacaoMensal": 0.29991053089204467,
          "PerdaInflacao": -6.287988213221385,
          "SaldoAcumulado": -11085.647675978618,
          "Valor": 4775.7
         },
         {
          "Ano": 2017,
          "AnoMes": "201712",
          "CorrecaoSalarial": 0,
          "InflacaoMensal": 0.44004804981490064,
          "PerdaInflacao": -2.9474213204347066,
          "SaldoAcumulado": -11088.595097299052,
          "Valor": 4916.46
         },
         {
          "Ano": 2018,
          "AnoMes": "201812",
          "CorrecaoSalarial": 0,
          "InflacaoMensal": 0.15001070102511616,
          "PerdaInflacao": -3.7455811701915476,
          "SaldoAcumulado": -11092.340678469243,
          "Valor": 5100.61
         },
         {
          "Ano": 2019,
          "AnoMes": "201912",
          "CorrecaoSalarial": 0,
          "InflacaoMensal": 1.150052473877139,
          "PerdaInflacao": -4.306151617159526,
          "SaldoAcumulado": -11096.646830086403,
          "Valor": 5320.25
         },
         {
          "Ano": 2020,
          "AnoMes": "202012",
          "CorrecaoSalarial": 0,
          "InflacaoMensal": 1.3500360884495022,
          "PerdaInflacao": -4.517456886424509,
          "SaldoAcumulado": -11101.164286972828,
          "Valor": 5560.59
         },
         {
          "Ano": 2021,
          "AnoMes": "202112",
          "CorrecaoSalarial": 0,
          "InflacaoMensal": 0.7299582434258545,
          "PerdaInflacao": -10.060982737443336,
          "SaldoAcumulado": -11111.22526971027,
          "Valor": 6120.04
         },
         {
          "Ano": 2022,
          "AnoMes": "202212",
          "CorrecaoSalarial": 0,
          "InflacaoMensal": 0.6199682944266538,
          "PerdaInflacao": -5.785092907889489,
          "SaldoAcumulado": -11117.010362618159,
          "Valor": 6474.09
         },
         {
          "Ano": 2023,
          "AnoMes": "202312",
          "CorrecaoSalarial": 0,
          "InflacaoMensal": 0.5600136588697291,
          "PerdaInflacao": -4.62119000508181,
          "SaldoAcumulado": -11121.631552623241,
          "Valor": 6773.27
         }
        ]
       },
       "height": 600,
       "layer": [
        {
         "data": {
          "name": "data-8522ac1cef336fe77e8254e91b40270f"
         },
         "layer": [
          {
           "encoding": {
            "color": {
             "field": "Tipo",
             "scale": {
              "domain": [
               "PerdaInflacao",
               "CorrecaoSalarial"
              ],
              "range": [
               "red",
               "steelblue"
              ]
             },
             "type": "nominal"
            },
            "tooltip": [
             {
              "field": "Ano",
              "type": "quantitative"
             },
             {
              "field": "Valor",
              "type": "quantitative"
             },
             {
              "field": "Tipo",
              "type": "nominal"
             }
            ],
            "x": {
             "axis": {
              "labelAngle": -45
             },
             "field": "Ano",
             "type": "ordinal"
            },
            "y": {
             "field": "Valor",
             "scale": {
              "domain": [
               -2477.147121296978,
               2477.147121296978
              ]
             },
             "type": "quantitative"
            }
           },
           "mark": {
            "type": "bar"
           },
           "name": "view_8",
           "title": "Perda por Inflação, Reposição Salarial e Saldo Acumulado"
          },
          {
           "encoding": {
            "color": {
             "field": "Tipo",
             "scale": {
              "domain": [
               "PerdaInflacao",
               "CorrecaoSalarial"
              ],
              "range": [
               "red",
               "steelblue"
              ]
             },
             "type": "nominal"
            },
            "text": {
             "field": "Valor",
             "format": ".2f",
             "type": "quantitative"
            },
            "tooltip": [
             {
              "field": "Ano",
              "type": "quantitative"
             },
             {
              "field": "Valor",
              "type": "quantitative"
             },
             {
              "field": "Tipo",
              "type": "nominal"
             }
            ],
            "x": {
             "axis": {
              "labelAngle": -45
             },
             "field": "Ano",
             "type": "ordinal"
            },
            "y": {
             "field": "Valor",
             "scale": {
              "domain": [
               -2477.147121296978,
               2477.147121296978
              ]
             },
             "type": "quantitative"
            }
           },
           "mark": {
            "align": "center",
            "baseline": "bottom",
            "dy": -5,
            "type": "text"
           },
           "title": "Perda por Inflação, Reposição Salarial e Saldo Acumulado"
          }
         ]
        },
        {
         "data": {
          "name": "data-efd6a866494489ba20155e000f9af669"
         },
         "encoding": {
          "tooltip": [
           {
            "field": "Ano",
            "type": "quantitative"
           },
           {
            "field": "SaldoAcumulado",
            "type": "quantitative"
           }
          ],
          "x": {
           "field": "Ano",
           "type": "ordinal"
          },
          "y": {
           "axis": {
            "title": "Saldo Acumulado",
            "titleColor": "green"
           },
           "field": "SaldoAcumulado",
           "type": "quantitative"
          }
         },
         "mark": {
          "color": "green",
          "point": true,
          "type": "line"
         }
        }
       ],
       "params": [
        {
         "bind": "scales",
         "name": "param_7",
         "select": {
          "encodings": [
           "x",
           "y"
          ],
          "type": "interval"
         },
         "views": [
          "view_8"
         ]
        }
       ],
       "resolve": {
        "scale": {
         "y": "independent"
        }
       },
       "width": 1100
      },
      "text/plain": [
       "<VegaLite 5 object>\n",
       "\n",
       "If you see this message, it means the renderer has not been properly enabled\n",
       "for the frontend that you are using. For more information, see\n",
       "https://altair-viz.github.io/user_guide/display_frontends.html#troubleshooting\n"
      ]
     },
     "execution_count": 17,
     "metadata": {},
     "output_type": "execute_result"
    }
   ],
   "source": [
    "import altair as alt\n",
    "alt.renderers.enable('jupyterlab')\n",
    "grafico_final"
   ]
  },
  {
   "cell_type": "code",
   "execution_count": null,
   "metadata": {},
   "outputs": [],
   "source": []
  },
  {
   "cell_type": "code",
   "execution_count": null,
   "metadata": {},
   "outputs": [],
   "source": [
    "# Converter a coluna `Valor` para o tipo numérico\n",
    "df['Valor'] = pd.to_numeric(df['Valor'])\n",
    "\n",
    "# Extrair o ano da coluna `AnoMes`\n",
    "df['Ano'] = df['AnoMes'].astype(str).str[:4].astype(int)\n",
    "\n",
    "# Filtrar para manter apenas os meses de dezembro\n",
    "df_dezembro = df[df['AnoMes'].astype(str).str[-2:] == '12'].copy()\n",
    "\n",
    "# Agrupar por ano e selecionar o primeiro valor de cada ano\n",
    "df_anual = df_dezembro.groupby('Ano')['Valor'].first().reset_index()\n",
    "\n",
    "# Obter o ano de início e o ano de término do usuário\n",
    "ano_inicio = int(input(\"Digite o ano de início: \"))\n",
    "ano_termino = int(input(\"Digite o ano de término: \"))\n",
    "\n",
    "# Filtrar para o período desejado\n",
    "df_periodo = df_anual[(df_anual['Ano'] >= ano_inicio) & (df_anual['Ano'] <= ano_termino)]\n",
    "\n",
    "# Calcular a variação acumulada do IPCA\n",
    "variacao_acumulada = (df_periodo['Valor'].iloc[-1] / df_periodo['Valor'].iloc[0] - 1) * 100\n",
    "\n",
    "# Calcular a taxa anual equivalente\n",
    "num_anos = ano_termino - ano_inicio + 1\n",
    "taxa_anual = ((1 + variacao_acumulada / 100) ** (1 / num_anos) - 1) * 100\n",
    "\n",
    "# Imprimir os resultados\n",
    "print(f'Variação acumulada do IPCA de {ano_inicio} a {ano_termino}: {variacao_acumulada:.2f}%')\n",
    "print(f'Taxa anual equivalente: {taxa_anual:.2f}%')\n",
    "\n",
    "# Filtrar para o período desejado\n",
    "df_periodo = df_anual[(df_anual['Ano'] >= ano_inicio) & (df_anual['Ano'] <= ano_termino)]\n",
    "\n",
    "# Calcular a variação acumulada do IPCA\n",
    "variacao_acumulada = (df_periodo['Valor'].iloc[-1] / df_periodo['Valor'].iloc[0] - 1) * 100\n",
    "\n",
    "# Calcular a taxa anual equivalente\n",
    "num_anos = ano_termino - ano_inicio + 1\n",
    "taxa_anual = ((1 + variacao_acumulada / 100) ** (1 / num_anos) - 1) * 100\n",
    "\n",
    "# Imprimir os resultados\n",
    "print(f'Variação acumulada do IPCA de {ano_inicio} a {ano_termino}: {variacao_acumulada:.2f}%')\n",
    "print(f'Taxa anual equivalente: {taxa_anual:.2f}%')"
   ]
  },
  {
   "cell_type": "code",
   "execution_count": null,
   "metadata": {},
   "outputs": [],
   "source": [
    "# Converter a coluna `Valor` para o tipo numérico\n",
    "df['Valor'] = pd.to_numeric(df['Valor'])\n",
    "\n",
    "# Extrair o ano da coluna `AnoMes`\n",
    "df['Ano'] = df['AnoMes'].astype(str).str[:4].astype(int)\n",
    "\n",
    "# Filtrar para manter apenas os meses de dezembro\n",
    "df_dezembro = df[df['AnoMes'].astype(str).str[-2:] == '12'].copy()\n",
    "\n",
    "# Agrupar por ano e selecionar o primeiro valor de cada ano\n",
    "df_anual = df_dezembro.groupby('Ano')['Valor'].first().reset_index()\n",
    "\n",
    "# Obter o ano de início e o ano de término do usuário\n",
    "ano_inicio = int(input(\"Digite o ano de início: \"))\n",
    "ano_termino = int(input(\"Digite o ano de término: \"))\n",
    "\n",
    "# Filtrar para o período desejado\n",
    "df_periodo = df_anual[(df_anual['Ano'] >= ano_inicio) & (df_anual['Ano'] <= ano_termino)]\n",
    "\n",
    "# Calcular a variação acumulada do IPCA\n",
    "variacao_acumulada = (df_periodo['Valor'].iloc[-1] / df_periodo['Valor'].iloc[0] - 1) * 100\n",
    "\n",
    "# Calcular a taxa anual equivalente\n",
    "num_anos = ano_termino - ano_inicio + 1\n",
    "taxa_anual = ((1 + variacao_acumulada / 100) ** (1 / num_anos) - 1) * 100\n",
    "\n",
    "# Imprimir os resultados\n",
    "print(f'Variação acumulada do IPCA de {ano_inicio} a {ano_termino}: {variacao_acumulada:.2f}%')\n",
    "print(f'Taxa anual equivalente: {taxa_anual:.2f}%')"
   ]
  },
  {
   "cell_type": "code",
   "execution_count": null,
   "metadata": {},
   "outputs": [],
   "source": [
    "import altair as alt\n",
    "\n",
    "# Criar um DataFrame com os dados de reposição salarial\n",
    "df_reposicao = df_merged[['Ano', 'CorrecaoSalarial']].rename(columns={'CorrecaoSalarial': 'Valor'})\n",
    "df_reposicao['Tipo'] = 'Reposição Salarial'\n",
    "\n",
    "# Criar um DataFrame com os dados de perda por inflação\n",
    "df_perda_inflacao = df_merged[['Ano', 'InflacaoPercentual']].rename(columns={'InflacaoPercentual': 'Valor'})\n",
    "df_perda_inflacao['Valor'] = -df_perda_inflacao['Valor']  # Inverter os valores para ficarem negativos\n",
    "df_perda_inflacao['Tipo'] = 'Perda por Inflação'\n",
    "\n",
    "# Concatenar os DataFrames de reposição e perda\n",
    "df_plot = pd.concat([df_reposicao, df_perda_inflacao])\n",
    "\n",
    "# Calcular o valor absoluto máximo para definir o domínio do eixo y principal\n",
    "max_abs_valor = df_plot['Valor'].abs().max()\n",
    "\n",
    "# Criar o gráfico de barras\n",
    "barras = alt.Chart(df_plot).mark_bar().encode(\n",
    "    x=alt.X('Ano:O', axis=alt.Axis(labelAngle=-45)),\n",
    "    y=alt.Y('Valor:Q', scale=alt.Scale(domain=[-max_abs_valor, max_abs_valor])),  # Ajustar escala y\n",
    "    color=alt.Color('Tipo:N', scale={'domain': ['Perda por Inflação', 'Reposição Salarial'], 'range': ['red', 'steelblue']}),\n",
    "    tooltip=['Ano', 'Valor', 'Tipo']\n",
    ").properties(\n",
    "    title='Reposição Salarial, Perda por Inflação e Saldo Acumulado'\n",
    ")\n",
    "\n",
    "# Adicionar os rótulos às barras\n",
    "text = barras.mark_text(\n",
    "    align='center',\n",
    "    baseline='bottom',\n",
    "    dy=-5  # Nudge text upwards so it doesn't overlap with the bar\n",
    ").encode(\n",
    "    text=alt.Text('Valor:Q', format='.2f')\n",
    ")\n",
    "\n",
    "# Criar o gráfico de linha para o saldo acumulado (eixo secundário)\n",
    "linha = alt.Chart(df_merged).mark_line(color='green', point=True).encode(\n",
    "    x='Ano:O',\n",
    "    y=alt.Y('DiferencaAcumulada:Q', axis=alt.Axis(title='Saldo Acumulado', titleColor='green')),\n",
    "    tooltip=['Ano', 'DiferencaAcumulada']\n",
    ")\n",
    "\n",
    "# Combinar os gráficos\n",
    "grafico_final = alt.layer(barras + text, linha).resolve_scale(\n",
    "    y = 'independent'\n",
    ").interactive()\n",
    "\n",
    "# Exibir o gráfico\n",
    "grafico_final\n",
    "\n",
    "grafico_final = grafico_final.properties(\n",
    "    height=600,  # Largura de 800 pixels\n",
    "    width=1100  # Largura de 1200 pixels\n",
    ")\n",
    "# Salve o gráfico em um arquivo JSON\n",
    "grafico_final.save('grafico_perda_ganho_poder_compra.json')"
   ]
  },
  {
   "cell_type": "code",
   "execution_count": null,
   "metadata": {},
   "outputs": [],
   "source": [
    "import altair as alt\n",
    "alt.renderers.enable('jupyterlab')\n",
    "grafico_final"
   ]
  },
  {
   "cell_type": "code",
   "execution_count": null,
   "metadata": {},
   "outputs": [],
   "source": [
    "df_merged"
   ]
  },
  {
   "cell_type": "code",
   "execution_count": null,
   "metadata": {},
   "outputs": [],
   "source": [
    "from matplotlib import pyplot as plt\n",
    "\n",
    "plt.plot(indices_ipca.values())"
   ]
  },
  {
   "cell_type": "code",
   "execution_count": null,
   "metadata": {},
   "outputs": [],
   "source": [
    "len(dados_ipca[0])"
   ]
  },
  {
   "cell_type": "code",
   "execution_count": null,
   "metadata": {},
   "outputs": [],
   "source": [
    "import requests\n",
    "import pandas as pd\n",
    "import json\n",
    "import csv\n",
    "from io import BytesIO, TextIOWrapper\n",
    "\n",
    "url_tab_var = \"https://apisidra.ibge.gov.br/values/t/1737/n1/all/v/2266/p/all\"\n",
    "indices_mensais = {}\n",
    "\n",
    "response = requests.get(url_tab_var)\n",
    "response.raise_for_status()\n",
    "\n",
    "meses=[]\n",
    "indices=[]\n",
    "\n",
    "# Ler o CSV com TextIOWrapper para converter bytes em strings\n",
    "with TextIOWrapper(BytesIO(response.content), encoding=\"utf-8\") as f:\n",
    "    reader = csv.reader(f, delimiter=\";\")\n",
    "\n",
    "    # Extrair dados relevantes e construir dicionário\n",
    "    for row in reader:\n",
    "        print(row)\n",
    "        if \"D3C\" in row:\n",
    "            meses.append(row)\n",
    "        if \"V\" in row:\n",
    "            indices.append(row)"
   ]
  },
  {
   "cell_type": "code",
   "execution_count": null,
   "metadata": {},
   "outputs": [],
   "source": [
    "len(meses)"
   ]
  },
  {
   "cell_type": "code",
   "execution_count": null,
   "metadata": {},
   "outputs": [],
   "source": [
    "len(indices)"
   ]
  },
  {
   "cell_type": "code",
   "execution_count": null,
   "metadata": {},
   "outputs": [],
   "source": [
    "# !pip install sidrapy"
   ]
  },
  {
   "cell_type": "code",
   "execution_count": null,
   "metadata": {},
   "outputs": [],
   "source": [
    "import sidrapy\n",
    "\n",
    "# Importa os dados do SIDRA\n",
    "ipca_raw = sidrapy.get_table(table_code= \"1737\",\n",
    "                            territorial_level = \"1\",\n",
    "                            ibge_territorial_code = \"all\",\n",
    "                            period = \"all\",\n",
    "                            )\n",
    "\n",
    "# Checamos a importação\n",
    "ipca_raw.head()"
   ]
  },
  {
   "cell_type": "code",
   "execution_count": null,
   "metadata": {},
   "outputs": [],
   "source": [
    "import pandas as pd\n",
    "\n",
    "# Converter a coluna D3C para numérico, ignorando valores não numéricos\n",
    "ipca_raw['D3C'] = pd.to_numeric(ipca_raw['D3C'], errors='coerce')\n",
    "\n",
    "# Filtrar as linhas onde D3C é igual a 2265\n",
    "filtro = ipca_raw['D3C'] == 2265\n",
    "ipca_filtrado = ipca_raw[filtro]\n",
    "\n",
    "ipca_filtrado[[\"V\",\"D2C\"]]"
   ]
  },
  {
   "cell_type": "code",
   "execution_count": null,
   "metadata": {},
   "outputs": [],
   "source": [
    "import sidrapy\n",
    "\n",
    "# Importa os dados do SIDRA\n",
    "pib_sa_raw = sidrapy.get_table(table_code= \"1621\",\n",
    "                            territorial_level = \"1\",\n",
    "                            ibge_territorial_code = \"all\",\n",
    "                            period = \"all\",\n",
    "                            classification = \"11255/90707\")\n",
    "\n",
    "# Checamos a importação\n",
    "pib_sa_raw.head()"
   ]
  },
  {
   "cell_type": "code",
   "execution_count": null,
   "metadata": {},
   "outputs": [],
   "source": [
    "from poder_compra import IPCAData\n",
    "\n",
    "ipca = IPCAData()\n",
    "meses, indices = ipca.obter_numeros_indice()\n",
    "for i, j in zip(meses, indices):\n",
    "    print(i,j)\n"
   ]
  },
  {
   "cell_type": "code",
   "execution_count": null,
   "metadata": {},
   "outputs": [],
   "source": [
    "indices[:3]"
   ]
  },
  {
   "cell_type": "code",
   "execution_count": null,
   "metadata": {},
   "outputs": [],
   "source": [
    "meses[0]"
   ]
  },
  {
   "cell_type": "code",
   "execution_count": null,
   "metadata": {},
   "outputs": [],
   "source": [
    "import json\n",
    "a,b = indices[3].split(\": \")\n",
    "{a.replace(\"\\\"\",\"\"): (b.replace(\"\\\"\",\"\").replace(\",\",\"\"))}"
   ]
  },
  {
   "cell_type": "code",
   "execution_count": null,
   "metadata": {},
   "outputs": [],
   "source": [
    "a.replace(\"\\\"\",\"\")"
   ]
  },
  {
   "cell_type": "code",
   "execution_count": null,
   "metadata": {},
   "outputs": [],
   "source": [
    "float(b.replace(\"\\\"\",\"\").replace(\",\",\"\"))"
   ]
  },
  {
   "cell_type": "code",
   "execution_count": null,
   "metadata": {},
   "outputs": [],
   "source": [
    "# Extrair dados relevantes e construir dicionário\n",
    "for row in reader:\n",
    "    if row[2] == \"MN\" and row[1] == \"Número-índice\":\n",
    "        data = row[4270].replace(\" \", \"-\") \n",
    "        valor = float(row[3].replace(\",\", \".\"))\n",
    "        indices_mensais[data] = valor"
   ]
  },
  {
   "cell_type": "code",
   "execution_count": null,
   "metadata": {},
   "outputs": [],
   "source": [
    "indices_mensais"
   ]
  },
  {
   "cell_type": "code",
   "execution_count": null,
   "metadata": {},
   "outputs": [],
   "source": [
    "from poder_compra import IPCAData\n",
    "\n",
    "ipca_data = IPCAData()\n",
    "poder_compra = PoderCompra(ipca_data.dados_ipca)\n",
    "perdas = poder_compra.calcular_perdas()\n",
    "\n",
    "previsao = PrevisaoInflacao(ipca_data.dados_ipca)\n",
    "inflacao_futura = previsao.prever()\n",
    "\n",
    "Visualizacao.plotar_evolucao_poder_compra(ipca_data.dados_ipca, perdas)"
   ]
  }
 ],
 "metadata": {
  "kernelspec": {
   "display_name": "base",
   "language": "python",
   "name": "python3"
  },
  "language_info": {
   "codemirror_mode": {
    "name": "ipython",
    "version": 3
   },
   "file_extension": ".py",
   "mimetype": "text/x-python",
   "name": "python",
   "nbconvert_exporter": "python",
   "pygments_lexer": "ipython3",
   "version": "3.11.5"
  }
 },
 "nbformat": 4,
 "nbformat_minor": 2
}
