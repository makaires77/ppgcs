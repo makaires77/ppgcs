{
 "cells": [
  {
   "cell_type": "markdown",
   "metadata": {},
   "source": [
    "# <b>Extrair dados chamadas do CNPq</b>"
   ]
  },
  {
   "cell_type": "code",
   "execution_count": 1,
   "metadata": {},
   "outputs": [],
   "source": [
    "## Confirmar localização do requirements.txt no repo local:\n",
    "# import os\n",
    "# os.listdir('../../../../requirements.txt')\n",
    "# %pip install --user -r ../../../../requirements.txt\n",
    "\n",
    "## Caso seja necessário passar por validação SSL:\n",
    "#sudo dpkg -i google-chrome-stable_current_amd64.deb\n",
    "# !pip install --user -r ../../../../requirements.txt --trusted-host pypi.org --trusted-host pypi.python.org --trusted-host files.pythonhosted.org\n",
    "\n",
    "## Para instalar pelo Terminal:\n",
    "# sudo apt-get update\n",
    "# sudo apt-get install libcurl4-openssl-dev\n",
    "# sudo apt-get install graphviz graphviz-dev\n",
    "\n",
    "## Para instalar pacotes faltantes pela IDE:\n",
    "# %pip install pyqt5\n",
    "# %pip install pycurl\n",
    "# %pip install selenium\n",
    "# %pip install pygraphviz\n",
    "# %pip install webdriver_manager\n",
    "# %pip install --upgrade fitz\n",
    "# %pip install --upgrade tools\n",
    "# %pip install --upgrade pymupdf\n",
    "# %pip install --upgrade frontend\n",
    "# %pip install --upgrade markupsafe\n",
    "# %pip install --upgrade notebook jupyterlab ipywidgets\n",
    "\n",
    "## Verificação de versão do chromedriver no terminal:\n",
    "# !pip3 install --upgrade pip\n",
    "# !/usr/local/bin/chromedriver --version\n",
    "# !curl -s https://chromedriver.storage.googleapis.com/LATEST_RELEASE"
   ]
  },
  {
   "cell_type": "code",
   "execution_count": 1,
   "metadata": {},
   "outputs": [
    {
     "name": "stdout",
     "output_type": "stream",
     "text": [
      "Versões 127 Chrome e 127 Chromedriver estão compatíveis\n",
      "Sistema operacional: win32\n",
      "Caminho base do repositório: c:\\Users\\marcos.aires\\ppgcs\n"
     ]
    }
   ],
   "source": [
    "# Instanciar ChromeDriverManager e verificar compatibilidade Chrome e Chromedriver\n",
    "import config, sys, os.path\n",
    "from chromedriver_manager import ChromeDriverManager\n",
    "from starlette.applications import Starlette\n",
    "from starlette.staticfiles import StaticFiles\n",
    "from starlette.responses import PlainTextResponse\n",
    "\n",
    "app = Starlette(debug=config.DEBUG)\n",
    "app.mount(config.STATIC_ROUTE, StaticFiles(directory=config.STATIC_DIRECTORY), name=config.STATIC_NAME)\n",
    "\n",
    "@app.route(\"/\")\n",
    "async def homepage(request):\n",
    "    return PlainTextResponse(\"Hello, world!\")\n",
    "\n",
    "actualizer = ChromeDriverManager()\n",
    "actualizer.main()\n",
    "print(f\"Sistema operacional: {sys.platform}\")\n",
    "print(f\"Caminho base do repositório: {config.find_repo_root()}\")"
   ]
  },
  {
   "cell_type": "markdown",
   "metadata": {},
   "source": [
    "## Chamadas CNPq abertas"
   ]
  },
  {
   "cell_type": "code",
   "execution_count": 3,
   "metadata": {},
   "outputs": [
    {
     "ename": "RuntimeError",
     "evalue": "Directory 'static/' does not exist",
     "output_type": "error",
     "traceback": [
      "\u001b[1;31m---------------------------------------------------------------------------\u001b[0m",
      "\u001b[1;31mRuntimeError\u001b[0m                              Traceback (most recent call last)",
      "Cell \u001b[1;32mIn[3], line 2\u001b[0m\n\u001b[0;32m      1\u001b[0m \u001b[38;5;66;03m# Importar a classe e instarciar o método\u001b[39;00m\n\u001b[1;32m----> 2\u001b[0m \u001b[38;5;28;01mfrom\u001b[39;00m \u001b[38;5;21;01mfunding_finder_cnpq\u001b[39;00m \u001b[38;5;28;01mimport\u001b[39;00m FundingFinderCNPq\n\u001b[0;32m      3\u001b[0m finder \u001b[38;5;241m=\u001b[39m FundingFinderCNPq()\n\u001b[0;32m      5\u001b[0m \u001b[38;5;66;03m# URL da página de resultados dos editais em aberto\u001b[39;00m\n",
      "File \u001b[1;32mc:\\Users\\marcos.aires\\ppgcs\\source\\domain\\funding_finder_cnpq.py:6\u001b[0m\n\u001b[0;32m      4\u001b[0m \u001b[38;5;28;01mfrom\u001b[39;00m \u001b[38;5;21;01mbs4\u001b[39;00m \u001b[38;5;28;01mimport\u001b[39;00m BeautifulSoup\n\u001b[0;32m      5\u001b[0m \u001b[38;5;28;01mfrom\u001b[39;00m \u001b[38;5;21;01mselenium\u001b[39;00m \u001b[38;5;28;01mimport\u001b[39;00m webdriver\n\u001b[1;32m----> 6\u001b[0m \u001b[38;5;28;01mfrom\u001b[39;00m \u001b[38;5;21;01mfitz\u001b[39;00m \u001b[38;5;28;01mimport\u001b[39;00m FileDataError\n\u001b[0;32m      7\u001b[0m \u001b[38;5;28;01mfrom\u001b[39;00m \u001b[38;5;21;01mjinja2\u001b[39;00m \u001b[38;5;28;01mimport\u001b[39;00m Environment, FileSystemLoader\n\u001b[0;32m      8\u001b[0m \u001b[38;5;28;01mfrom\u001b[39;00m \u001b[38;5;21;01mrequests\u001b[39;00m\u001b[38;5;21;01m.\u001b[39;00m\u001b[38;5;21;01mexceptions\u001b[39;00m \u001b[38;5;28;01mimport\u001b[39;00m RequestException\n",
      "File \u001b[1;32mc:\\Users\\marcos.aires\\.conda\\envs\\Python38-PyTorch\\lib\\site-packages\\fitz\\__init__.py:1\u001b[0m\n\u001b[1;32m----> 1\u001b[0m \u001b[38;5;28;01mfrom\u001b[39;00m \u001b[38;5;21;01mfrontend\u001b[39;00m \u001b[38;5;28;01mimport\u001b[39;00m \u001b[38;5;241m*\u001b[39m\n\u001b[0;32m      2\u001b[0m \u001b[38;5;28;01mimport\u001b[39;00m \u001b[38;5;21;01mtools\u001b[39;00m\n\u001b[0;32m      3\u001b[0m \u001b[38;5;28;01mimport\u001b[39;00m \u001b[38;5;21;01mos\u001b[39;00m\u001b[38;5;21;01m.\u001b[39;00m\u001b[38;5;21;01mpath\u001b[39;00m \u001b[38;5;28;01mas\u001b[39;00m \u001b[38;5;21;01mop\u001b[39;00m\n",
      "File \u001b[1;32mc:\\Users\\marcos.aires\\.conda\\envs\\Python38-PyTorch\\lib\\site-packages\\frontend\\__init__.py:1\u001b[0m\n\u001b[1;32m----> 1\u001b[0m \u001b[38;5;28;01mfrom\u001b[39;00m \u001b[38;5;21;01m.\u001b[39;00m\u001b[38;5;21;01mevents\u001b[39;00m \u001b[38;5;28;01mimport\u001b[39;00m \u001b[38;5;241m*\u001b[39m\n\u001b[0;32m      2\u001b[0m \u001b[38;5;28;01mfrom\u001b[39;00m \u001b[38;5;21;01m.\u001b[39;00m \u001b[38;5;28;01mimport\u001b[39;00m config\n\u001b[0;32m      3\u001b[0m \u001b[38;5;28;01mfrom\u001b[39;00m \u001b[38;5;21;01m.\u001b[39;00m\u001b[38;5;21;01mcomponents\u001b[39;00m \u001b[38;5;28;01mimport\u001b[39;00m \u001b[38;5;241m*\u001b[39m\n",
      "File \u001b[1;32mc:\\Users\\marcos.aires\\.conda\\envs\\Python38-PyTorch\\lib\\site-packages\\frontend\\events\\__init__.py:1\u001b[0m\n\u001b[1;32m----> 1\u001b[0m \u001b[38;5;28;01mfrom\u001b[39;00m \u001b[38;5;21;01m.\u001b[39;00m\u001b[38;5;21;01mclipboard\u001b[39;00m \u001b[38;5;28;01mimport\u001b[39;00m \u001b[38;5;241m*\u001b[39m\n\u001b[0;32m      2\u001b[0m \u001b[38;5;28;01mfrom\u001b[39;00m \u001b[38;5;21;01m.\u001b[39;00m\u001b[38;5;21;01mevent_mixins\u001b[39;00m \u001b[38;5;28;01mimport\u001b[39;00m \u001b[38;5;241m*\u001b[39m\n\u001b[0;32m      3\u001b[0m \u001b[38;5;28;01mfrom\u001b[39;00m \u001b[38;5;21;01m.\u001b[39;00m\u001b[38;5;21;01mhash_change\u001b[39;00m \u001b[38;5;28;01mimport\u001b[39;00m \u001b[38;5;241m*\u001b[39m\n",
      "File \u001b[1;32mc:\\Users\\marcos.aires\\.conda\\envs\\Python38-PyTorch\\lib\\site-packages\\frontend\\events\\clipboard.py:2\u001b[0m\n\u001b[0;32m      1\u001b[0m \u001b[38;5;28;01mfrom\u001b[39;00m \u001b[38;5;21;01m.\u001b[39;00m\u001b[38;5;21;01mevent_mixins\u001b[39;00m \u001b[38;5;28;01mimport\u001b[39;00m ClipboardDataMixin\n\u001b[1;32m----> 2\u001b[0m \u001b[38;5;28;01mfrom\u001b[39;00m \u001b[38;5;21;01m.\u001b[39;00m\u001b[38;5;21;01m.\u001b[39;00m\u001b[38;5;21;01mdom\u001b[39;00m \u001b[38;5;28;01mimport\u001b[39;00m Event\n\u001b[0;32m      4\u001b[0m __all__ \u001b[38;5;241m=\u001b[39m [\u001b[38;5;124m'\u001b[39m\u001b[38;5;124mClipboardEvent\u001b[39m\u001b[38;5;124m'\u001b[39m]\n\u001b[0;32m      7\u001b[0m \u001b[38;5;28;01mclass\u001b[39;00m \u001b[38;5;21;01mClipboardEvent\u001b[39;00m(Event, ClipboardDataMixin):\n",
      "File \u001b[1;32mc:\\Users\\marcos.aires\\.conda\\envs\\Python38-PyTorch\\lib\\site-packages\\frontend\\dom.py:439\u001b[0m\n\u001b[0;32m    435\u001b[0m         \u001b[38;5;28;01mexcept\u001b[39;00m \u001b[38;5;167;01mKeyError\u001b[39;00m:\n\u001b[0;32m    436\u001b[0m             \u001b[38;5;28;01mpass\u001b[39;00m\n\u001b[1;32m--> 439\u001b[0m \u001b[38;5;28;01mfrom\u001b[39;00m \u001b[38;5;21;01m.\u001b[39;00m \u001b[38;5;28;01mimport\u001b[39;00m dispatcher\n",
      "File \u001b[1;32mc:\\Users\\marcos.aires\\.conda\\envs\\Python38-PyTorch\\lib\\site-packages\\frontend\\dispatcher.py:15\u001b[0m\n\u001b[0;32m     12\u001b[0m \u001b[38;5;28;01mfrom\u001b[39;00m \u001b[38;5;21;01mstarlette\u001b[39;00m\u001b[38;5;21;01m.\u001b[39;00m\u001b[38;5;21;01mendpoints\u001b[39;00m \u001b[38;5;28;01mimport\u001b[39;00m WebSocketEndpoint\n\u001b[0;32m     13\u001b[0m \u001b[38;5;28;01mfrom\u001b[39;00m \u001b[38;5;21;01mstarlette\u001b[39;00m\u001b[38;5;21;01m.\u001b[39;00m\u001b[38;5;21;01mwebsockets\u001b[39;00m \u001b[38;5;28;01mimport\u001b[39;00m WebSocket\n\u001b[1;32m---> 15\u001b[0m \u001b[38;5;28;01mfrom\u001b[39;00m \u001b[38;5;21;01m.\u001b[39;00m \u001b[38;5;28;01mimport\u001b[39;00m config, server\n\u001b[0;32m     16\u001b[0m \u001b[38;5;28;01mfrom\u001b[39;00m \u001b[38;5;21;01m.\u001b[39;00m\u001b[38;5;21;01masync_utils\u001b[39;00m \u001b[38;5;28;01mimport\u001b[39;00m later_await\n\u001b[0;32m     18\u001b[0m __all__ \u001b[38;5;241m=\u001b[39m [\u001b[38;5;124m'\u001b[39m\u001b[38;5;124mreact\u001b[39m\u001b[38;5;124m'\u001b[39m]\n",
      "File \u001b[1;32mc:\\Users\\marcos.aires\\.conda\\envs\\Python38-PyTorch\\lib\\site-packages\\frontend\\server.py:24\u001b[0m\n\u001b[0;32m     21\u001b[0m __all__ \u001b[38;5;241m=\u001b[39m [\u001b[38;5;124m'\u001b[39m\u001b[38;5;124mroute\u001b[39m\u001b[38;5;124m'\u001b[39m, \u001b[38;5;124m'\u001b[39m\u001b[38;5;124mrun\u001b[39m\u001b[38;5;124m'\u001b[39m]\n\u001b[0;32m     23\u001b[0m app: Any \u001b[38;5;241m=\u001b[39m Starlette(debug\u001b[38;5;241m=\u001b[39mconfig\u001b[38;5;241m.\u001b[39mDEBUG)\n\u001b[1;32m---> 24\u001b[0m app\u001b[38;5;241m.\u001b[39mmount(config\u001b[38;5;241m.\u001b[39mSTATIC_ROUTE, \u001b[43mStaticFiles\u001b[49m\u001b[43m(\u001b[49m\u001b[43mdirectory\u001b[49m\u001b[38;5;241;43m=\u001b[39;49m\u001b[43mconfig\u001b[49m\u001b[38;5;241;43m.\u001b[39;49m\u001b[43mSTATIC_DIRECTORY\u001b[49m\u001b[43m)\u001b[49m, name\u001b[38;5;241m=\u001b[39mconfig\u001b[38;5;241m.\u001b[39mSTATIC_NAME)\n\u001b[0;32m     25\u001b[0m app\u001b[38;5;241m.\u001b[39madd_middleware(GZipMiddleware)\n\u001b[0;32m     26\u001b[0m app\u001b[38;5;241m.\u001b[39madd_middleware(\n\u001b[0;32m     27\u001b[0m     CORSMiddleware,\n\u001b[0;32m     28\u001b[0m     allow_origins\u001b[38;5;241m=\u001b[39m[\u001b[38;5;124m\"\u001b[39m\u001b[38;5;124m*\u001b[39m\u001b[38;5;124m\"\u001b[39m],\n\u001b[1;32m   (...)\u001b[0m\n\u001b[0;32m     31\u001b[0m     allow_headers\u001b[38;5;241m=\u001b[39m[\u001b[38;5;124m\"\u001b[39m\u001b[38;5;124m*\u001b[39m\u001b[38;5;124m\"\u001b[39m],\n\u001b[0;32m     32\u001b[0m )\n",
      "File \u001b[1;32mc:\\Users\\marcos.aires\\.conda\\envs\\Python38-PyTorch\\lib\\site-packages\\starlette\\staticfiles.py:60\u001b[0m, in \u001b[0;36mStaticFiles.__init__\u001b[1;34m(self, directory, packages, html, check_dir, follow_symlink)\u001b[0m\n\u001b[0;32m     58\u001b[0m \u001b[38;5;28mself\u001b[39m\u001b[38;5;241m.\u001b[39mfollow_symlink \u001b[38;5;241m=\u001b[39m follow_symlink\n\u001b[0;32m     59\u001b[0m \u001b[38;5;28;01mif\u001b[39;00m check_dir \u001b[38;5;129;01mand\u001b[39;00m directory \u001b[38;5;129;01mis\u001b[39;00m \u001b[38;5;129;01mnot\u001b[39;00m \u001b[38;5;28;01mNone\u001b[39;00m \u001b[38;5;129;01mand\u001b[39;00m \u001b[38;5;129;01mnot\u001b[39;00m os\u001b[38;5;241m.\u001b[39mpath\u001b[38;5;241m.\u001b[39misdir(directory):\n\u001b[1;32m---> 60\u001b[0m     \u001b[38;5;28;01mraise\u001b[39;00m \u001b[38;5;167;01mRuntimeError\u001b[39;00m(\u001b[38;5;124mf\u001b[39m\u001b[38;5;124m\"\u001b[39m\u001b[38;5;124mDirectory \u001b[39m\u001b[38;5;124m'\u001b[39m\u001b[38;5;132;01m{\u001b[39;00mdirectory\u001b[38;5;132;01m}\u001b[39;00m\u001b[38;5;124m'\u001b[39m\u001b[38;5;124m does not exist\u001b[39m\u001b[38;5;124m\"\u001b[39m)\n",
      "\u001b[1;31mRuntimeError\u001b[0m: Directory 'static/' does not exist"
     ]
    }
   ],
   "source": [
    "# Importar a classe e instarciar o método\n",
    "from funding_finder_cnpq import FundingFinderCNPq\n",
    "finder = FundingFinderCNPq()\n",
    "\n",
    "# URL da página de resultados dos editais em aberto\n",
    "url_abertas = \"http://memoria2.cnpq.br/web/guest/chamadas-publicas?p_p_id=resultadosportlet_WAR_resultadoscnpqportlet_INSTANCE_0ZaM&filtro=abertas/\"\n",
    "\n",
    "df_abertas = finder.mount_dfchamadas(url_abertas)\n",
    "df_abertas"
   ]
  },
  {
   "cell_type": "code",
   "execution_count": null,
   "metadata": {},
   "outputs": [],
   "source": [
    "df_chamadas_abertas = finder.mount_final(df_abertas.copy(),'Chamadas CNPq abertas')\n",
    "df_chamadas_abertas.to_csv('../../../../data/csv/df_cnpq_chamadas_abertas.csv', index=False)\n",
    "finder.mount_foment_report(df_chamadas_abertas,'relatorio_chamadas_cnpq_abertas.html')"
   ]
  },
  {
   "cell_type": "code",
   "execution_count": null,
   "metadata": {},
   "outputs": [],
   "source": [
    "# df_chamadas_abertas['titulo'].value_counts()"
   ]
  },
  {
   "cell_type": "code",
   "execution_count": null,
   "metadata": {},
   "outputs": [],
   "source": [
    "# df_chamadas_abertas"
   ]
  },
  {
   "cell_type": "code",
   "execution_count": null,
   "metadata": {},
   "outputs": [],
   "source": [
    "# from pprint import pprint\n",
    "# pprint([x for x in df_chamadas_abertas['detalhes']], width=110)"
   ]
  },
  {
   "cell_type": "markdown",
   "metadata": {},
   "source": [
    "## Chamadas CNPq encerradas"
   ]
  },
  {
   "cell_type": "code",
   "execution_count": null,
   "metadata": {},
   "outputs": [],
   "source": [
    "# URL da página de resultados de editais encerrados\n",
    "url_encerradas = \"http://memoria2.cnpq.br/web/guest/chamadas-publicas?p_p_id=resultadosportlet_WAR_resultadoscnpqportlet_INSTANCE_0ZaM&filtro=encerradas/\"\n",
    "\n",
    "df_encerradas = finder.mount_dfchamadas_encerradas(url_encerradas)"
   ]
  },
  {
   "cell_type": "code",
   "execution_count": null,
   "metadata": {},
   "outputs": [],
   "source": [
    "df_chamadas_encerradas = finder.mount_final(df_encerradas.copy(),'Chamadas CNPq encerradas')\n",
    "df_chamadas_encerradas.to_csv('../../../../data/csv/df_cnpq_chamadas_encerradas.csv', index=False)\n",
    "finder.mount_foment_report(df_chamadas_encerradas,'relatorio_chamadas_cnpq_encerradas.html')"
   ]
  },
  {
   "cell_type": "code",
   "execution_count": null,
   "metadata": {},
   "outputs": [],
   "source": [
    "df_chamadas_encerradas['titulo'].value_counts()"
   ]
  },
  {
   "cell_type": "markdown",
   "metadata": {},
   "source": [
    "## Gerar relatório geral das Chamadas do CNPq"
   ]
  },
  {
   "cell_type": "code",
   "execution_count": null,
   "metadata": {},
   "outputs": [],
   "source": [
    "df = pd.concat([df_chamadas_abertas, df_chamadas_encerradas])\n",
    "finder.mount_foment_report(df,'relatorio_chamadas_cnpq.html')"
   ]
  },
  {
   "cell_type": "code",
   "execution_count": null,
   "metadata": {},
   "outputs": [],
   "source": [
    "df['titulo'].value_counts()"
   ]
  },
  {
   "cell_type": "code",
   "execution_count": null,
   "metadata": {},
   "outputs": [],
   "source": []
  },
  {
   "cell_type": "code",
   "execution_count": null,
   "metadata": {},
   "outputs": [],
   "source": []
  },
  {
   "cell_type": "code",
   "execution_count": null,
   "metadata": {},
   "outputs": [],
   "source": [
    "import numpy as np\n",
    "import requests, tempfile, fitz\n",
    "from bs4 import BeautifulSoup\n",
    "from datetime import datetime\n",
    "\n",
    "def extract_inscricao_data(div_inscricao):\n",
    "    \"\"\"\n",
    "    Extrai a data de início e a data de término das inscrições a partir de um elemento `div` com classe `inscricao`.\n",
    "    Args:\n",
    "        div_inscricao: Elemento BeautifulSoup da div com classe `inscricao`.\n",
    "    Returns:\n",
    "        Dicionário com as chaves \"data_inicio_inscricao\" e \"data_termino_inscricao\".\n",
    "    \"\"\"\n",
    "    texto_li = div_inscricao.find(\"li\").text.strip() # Extrair texto da li\n",
    "    data_inicio, data_termino = texto_li.split(\" a \") # Dividir texto em data de início e data de término\n",
    "    # Formatar datas\n",
    "    try:\n",
    "        data_inicio = datetime.strptime(data_inicio.strip(), \"%d/%m/%Y\").date()\n",
    "    except Exception as e:\n",
    "        print(e)\n",
    "        data_inicio = np.NaN\n",
    "    try:\n",
    "        data_termino = datetime.strptime(data_termino.strip(), \"%d/%m/%Y\").date()\n",
    "    except:\n",
    "        data_termino = np.NaN\n",
    "    return {\"data_inicio_inscricao\": data_inicio, \n",
    "            \"data_termino_inscricao\": data_termino}\n",
    "\n",
    "def extract_data(div_content, div_bottom_content):\n",
    "    \"\"\"Extrai dados da 'div_content' e o link do PDF da 'div_bottom_content'.\n",
    "    Args:\n",
    "        div_content: Objeto BeautifulSoup da 'div' com classe 'content'.\n",
    "        div_bottom_content: Objeto BeautifulSoup da 'div' com classe 'bottom-content'.\n",
    "    Returns:\n",
    "        Dicionário contendo os dados extraídos ou None se não forem encontrados.\n",
    "    \"\"\"\n",
    "\n",
    "    titulo = div_content.find(\"h4\").text.strip()\n",
    "    descricao = div_content.find(\"p\").text.strip()\n",
    "    data_inscricao = extract_inscricao_data(div_content)\n",
    "    if not data_inscricao:\n",
    "        data_inscricao = {\"data_inicio_inscricao\": None,\n",
    "                          \"data_termino_inscricao\": None}\n",
    "    link_pdf_element = div_bottom_content.find(\"a\", alt=\"Chamada\", class_=\"btn\")\n",
    "    if link_pdf_element:\n",
    "        link_pdf = link_pdf_element.get('href')\n",
    "        return {\n",
    "            \"link\": link_pdf,\n",
    "            \"titulo\": titulo,\n",
    "            \"descricao\": descricao,\n",
    "            **data_inscricao\n",
    "        }\n",
    "    else:\n",
    "        print(f\"Erro: Link do PDF não encontrado em {titulo}\")\n",
    "        link_pdf = None\n",
    "\n",
    "def extract_links_chamada(soup):\n",
    "    \"\"\"\n",
    "    Extrai os links dos botões \"Chamada\" da página.\n",
    "    Argumentos:\n",
    "        soup (BeautifulSoup): Objeto BeautifulSoup da página HTML.\n",
    "    Retorna:\n",
    "        list: Lista de strings contendo os links dos botões \"Chamada\".\n",
    "    \"\"\"\n",
    "\n",
    "    chamada_links = []\n",
    "\n",
    "    # Seleciona os botões \"Chamada\" com base em classes e atributos específicos.\n",
    "    buttons = soup.find_all(\n",
    "        \"button\",\n",
    "        class_=[\"btn-chamada\", \"chamada-button\"],\n",
    "        attrs={\"data-type\": \"chamada\"},\n",
    "    )\n",
    "\n",
    "    # Extrai o link de cada botão \"Chamada\".\n",
    "    for button in buttons:\n",
    "        link = button.get(\"href\")\n",
    "        if link:\n",
    "            chamada_links.append(link)\n",
    "\n",
    "    # Retorna a lista de links.\n",
    "    return chamada_links\n",
    "\n",
    "def ler_pdf_link_temp(url_pdf):\n",
    "    \"\"\"\n",
    "    Função para ler um PDF, gerando um arquivo temporário, a partir de um link usando PyMuPDF e retornar o texto extraído.\n",
    "    Argumentos:\n",
    "        url_pdf (str): URL do arquivo PDF.\n",
    "    Retorno:\n",
    "        str: Texto extraído do PDF.\n",
    "    \"\"\"\n",
    "    substituicoes = {\n",
    "        \"\\n\": \" \",\n",
    "        \"  \": \" \",\n",
    "        \"Ɵ\": \"ti\",\n",
    "        \"ơ\": \"ti\",\n",
    "        \"‒\": \"-\",\n",
    "        \"hƩp\": \"http\",\n",
    "        \"LaƩes\": \"Lattes\",\n",
    "    }\n",
    "    try:\n",
    "        response = requests.get(url_pdf)\n",
    "        print(response.status_code)\n",
    "        response.raise_for_status()  # Raise an exception if download fails\n",
    "        with tempfile.NamedTemporaryFile(suffix='.pdf') as temp_pdf: \n",
    "            temp_pdf.write(response.content)  # Salva conteúdo do PDF \n",
    "            temp_pdf.seek(0)  # Volta o ponteiro para o início do arquivo\n",
    "            # Extrair texto do PDF\n",
    "            texto_completo = \"\"\n",
    "            with fitz.open(temp_pdf.name) as pdf_documento:  # Use o nome do arquivo\n",
    "                for pagina in pdf_documento.pages():\n",
    "                    texto_pagina = pagina.get_text(\"text\")\n",
    "                    for caracter, substituto in substituicoes.items():\n",
    "                        texto_pagina = texto_pagina.replace(caracter, substituto)\n",
    "                    texto_completo += texto_pagina.strip()\n",
    "                    print(texto_completo)\n",
    "        return texto_completo\n",
    "\n",
    "    except requests.exceptions.RequestException as error:\n",
    "        print(f\"Error downloading PDF: {error}\")\n",
    "        return None"
   ]
  },
  {
   "cell_type": "code",
   "execution_count": null,
   "metadata": {},
   "outputs": [],
   "source": [
    "url = \"http://memoria2.cnpq.br/web/guest/chamadas-publicas?p_p_id=resultadosportlet_WAR_resultadoscnpqportlet_INSTANCE_0ZaM&filtro=abertas/\"\n",
    "\n",
    "chamadas_data = []\n",
    "page = requests.get(url)\n",
    "soup = BeautifulSoup(page.content, \"html.parser\")\n",
    "# print(soup.prettify())\n",
    "\n",
    "divs_content = soup.find_all(\"div\", class_=\"content\", tabindex=\"0\")\n",
    "divs_bottom_content = soup.find_all(\"div\", class_=\"bottom-content\")\n",
    "if len(divs_content) != len(divs_bottom_content):\n",
    "    print(\"Erro: Quantidades diferentes de divs 'content' e 'bottom-content'\")\n",
    "    exit()\n",
    "\n",
    "for div_content, div_bottom_content in zip(divs_content, divs_bottom_content):\n",
    "    chamada_data = extract_data(div_content, div_bottom_content)\n",
    "    chamadas_data.append(chamada_data)\n",
    "\n",
    "pd.DataFrame(chamadas_data)"
   ]
  }
 ],
 "metadata": {
  "kernelspec": {
   "display_name": "Python 3",
   "language": "python",
   "name": "python3"
  },
  "language_info": {
   "codemirror_mode": {
    "name": "ipython",
    "version": 3
   },
   "file_extension": ".py",
   "mimetype": "text/x-python",
   "name": "python",
   "nbconvert_exporter": "python",
   "pygments_lexer": "ipython3",
   "version": "3.8.18"
  }
 },
 "nbformat": 4,
 "nbformat_minor": 2
}
