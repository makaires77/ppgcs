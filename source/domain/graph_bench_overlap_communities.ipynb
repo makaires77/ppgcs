{
 "cells": [
  {
   "cell_type": "code",
   "execution_count": 1,
   "metadata": {},
   "outputs": [],
   "source": [
    "# !pip install hypernetx\n",
    "# !pip show torch\n",
    "# !pip install cupy\n",
    "# !pip install numba\n",
    "\n",
    "# !pip show hypernetx\n",
    "# !pip show cupy\n",
    "# !pip show numba"
   ]
  },
  {
   "cell_type": "code",
   "execution_count": 2,
   "metadata": {},
   "outputs": [
    {
     "name": "stdout",
     "output_type": "stream",
     "text": [
      "nvcc: NVIDIA (R) Cuda compiler driver\n",
      "Copyright (c) 2005-2023 NVIDIA Corporation\n",
      "Built on Wed_Nov_22_10:30:42_Pacific_Standard_Time_2023\n",
      "Cuda compilation tools, release 12.3, V12.3.107\n",
      "Build cuda_12.3.r12.3/compiler.33567101_0\n"
     ]
    }
   ],
   "source": [
    "!nvcc --version"
   ]
  },
  {
   "cell_type": "code",
   "execution_count": 3,
   "metadata": {},
   "outputs": [
    {
     "data": {
      "text/plain": [
       "True"
      ]
     },
     "execution_count": 3,
     "metadata": {},
     "output_type": "execute_result"
    }
   ],
   "source": [
    "import torch\n",
    "torch.cuda.is_available()"
   ]
  },
  {
   "cell_type": "code",
   "execution_count": 4,
   "metadata": {},
   "outputs": [
    {
     "name": "stdout",
     "output_type": "stream",
     "text": [
      "1\n"
     ]
    }
   ],
   "source": [
    "import cupy as cp\n",
    "print(cp.cuda.runtime.getDeviceCount())"
   ]
  },
  {
   "cell_type": "code",
   "execution_count": 5,
   "metadata": {},
   "outputs": [],
   "source": [
    "import os\n",
    "import platform\n",
    "import psutil\n",
    "import torch\n",
    "import logging\n",
    "\n",
    "# Configuração do logger\n",
    "logging.basicConfig(level=logging.INFO, format='%(asctime)s - %(levelname)s - %(message)s')\n",
    "\n",
    "def get_system_info():\n",
    "    \"\"\"Obtém informações sobre o sistema e as bibliotecas relevantes.\"\"\"\n",
    "    system_info = {}\n",
    "    try:\n",
    "        system_info[\"Sistema Operacional\"] = f\"{platform.system()} {platform.release()}\"\n",
    "        system_info[\"Processador\"] = platform.processor()\n",
    "        system_info[\"Memória RAM Total\"] = f\"{psutil.virtual_memory().total / (1024**3):.2f} GB\"\n",
    "\n",
    "        if torch.cuda.is_available():\n",
    "            system_info[\"CUDA Disponível\"] = \"Sim\"\n",
    "            system_info[\"Número de GPUs\"] = torch.cuda.device_count()\n",
    "            for i in range(torch.cuda.device_count()):\n",
    "                system_info[f\"GPU {i}\"] = torch.cuda.get_device_name(i)\n",
    "        else:\n",
    "            system_info[\"CUDA Disponível\"] = \"Não\"\n",
    "\n",
    "    except Exception as e:\n",
    "        logging.error(f\"Erro ao obter informações do sistema: {e}\")\n",
    "\n",
    "    return system_info\n",
    "\n",
    "def check_library(lib_name):\n",
    "    \"\"\"Verifica se uma biblioteca está instalada e funcionando corretamente.\"\"\"\n",
    "    try:\n",
    "        # Tentar importar a biblioteca\n",
    "        __import__(lib_name)\n",
    "        return True\n",
    "    except ImportError:\n",
    "        logging.error(f\"A biblioteca '{lib_name}' não está instalada.\")\n",
    "        return False\n",
    "    except Exception as e:\n",
    "        logging.error(f\"Erro ao verificar a biblioteca '{lib_name}': {e}\")\n",
    "        return False\n",
    "\n",
    "def check_cuda_path():\n",
    "    \"\"\"Verifica se a variável de ambiente CUDA_PATH está definida corretamente.\"\"\"\n",
    "    cuda_path = os.environ.get('CUDA_PATH')\n",
    "    if cuda_path is None or not os.path.exists(cuda_path):\n",
    "        logging.error(\"A variável de ambiente CUDA_PATH não está definida ou o caminho é inválido.\")\n",
    "        return False\n",
    "    else:\n",
    "        logging.info(f\"CUDA_PATH: {cuda_path}\")\n",
    "        return True"
   ]
  },
  {
   "cell_type": "code",
   "execution_count": 6,
   "metadata": {},
   "outputs": [
    {
     "name": "stderr",
     "output_type": "stream",
     "text": [
      "2024-07-02 14:51:52,407 - INFO - CUDA_PATH: C:\\Program Files\\NVIDIA GPU Computing Toolkit\\CUDA\\v12.3\n"
     ]
    },
    {
     "data": {
      "text/plain": [
       "True"
      ]
     },
     "execution_count": 6,
     "metadata": {},
     "output_type": "execute_result"
    }
   ],
   "source": [
    "check_cuda_path()"
   ]
  },
  {
   "cell_type": "code",
   "execution_count": 7,
   "metadata": {},
   "outputs": [
    {
     "name": "stderr",
     "output_type": "stream",
     "text": [
      "2024-07-02 14:51:55,566 - INFO - CUDA_PATH: C:\\Program Files\\NVIDIA GPU Computing Toolkit\\CUDA\\v12.3\n"
     ]
    },
    {
     "name": "stdout",
     "output_type": "stream",
     "text": [
      "Sistema Operacional: Windows 10\n",
      "Processador: AMD64 Family 25 Model 33 Stepping 0, AuthenticAMD\n",
      "Memória RAM Total: 63.94 GB\n",
      "CUDA Disponível: Sim\n",
      "Número de GPUs: 1\n",
      "GPU 0: NVIDIA GeForce RTX 3060\n"
     ]
    },
    {
     "name": "stderr",
     "output_type": "stream",
     "text": [
      "2024-07-02 14:51:56,130 - INFO - Note: NumExpr detected 16 cores but \"NUMEXPR_MAX_THREADS\" not set, so enforcing safe limit of 8.\n",
      "2024-07-02 14:51:56,131 - INFO - NumExpr defaulting to 8 threads.\n"
     ]
    }
   ],
   "source": [
    "# Obter informações do sistema\n",
    "system_info = get_system_info()\n",
    "for key, value in system_info.items():\n",
    "    print(f\"{key}: {value}\")\n",
    "\n",
    "# Verificar CUDA_PATH (se necessário)\n",
    "if system_info.get(\"CUDA Disponível\") == \"Sim\":\n",
    "    check_cuda_path()\n",
    "# Verificar bibliotecas\n",
    "if not check_library('networkx'):\n",
    "    print(\"Instale a biblioteca NetworkX: pip install networkx\")\n",
    "if not check_library('hypernetx'):\n",
    "    print(\"Instale a biblioteca HypernetX: pip install hypernetx\")    \n",
    "if not check_library('numpy'):\n",
    "    print(\"Instale a biblioteca NumPy: pip install numpy\")\n",
    "if not check_library('numba'):\n",
    "    print(\"Instale a biblioteca Numba: pip install numba\")    \n",
    "if not check_library('cupy'):\n",
    "    print(\"Instale a biblioteca CuPy: pip install cupy\")    \n",
    "# ... (verificar outras bibliotecas)\n",
    "\n"
   ]
  },
  {
   "cell_type": "markdown",
   "metadata": {},
   "source": [
    "Cria lista de nós: Cria uma lista nodes contendo os identificadores dos nós (de 0 a 99).\n",
    "\n",
    "Cria lista de hiperarestas: Cria uma lista vazia hyperedges para armazenar as hiperarestas. Em seguida, um loop for cria num_edges hiperarestas aleatórias.\n",
    "\n",
    "edge_size é um número aleatório entre 2 e num_nodes // 2, garantindo que cada hiperaresta tenha pelo menos 2 nós e no máximo metade dos nós do grafo.\n",
    "\n",
    "hyperedge é um array NumPy com edge_size nós escolhidos aleatoriamente (sem repetição) da lista de nós nodes.\n",
    "\n",
    "hyperedges.append(hyperedge) adiciona a nova hiperaresta à lista hyperedges.\n",
    "\n",
    "Cria o hipergrafo: H = hnx.Hypergraph(hyperedges) cria o hipergrafo a partir da lista de hiperarestas hyperedges.\n",
    "Visualiza o hipergrafo (opcional): hnx.draw(H) plota o hipergrafo gerado.\n",
    "\n",
    "Converte para NetworkX: G_nx = H.bipartite() converte o hipergrafo em um grafo bipartido do NetworkX, onde um conjunto de nós representa os nós originais e o outro conjunto representa as hiperarestas.\n",
    "\n",
    "Salva o grafo bipartido: nx.write_edgelist(G_nx, \"dados_hipergrafo.txt\", delimiter=\"\\t\", data=False) salva o grafo bipartido em um arquivo de texto chamado \"dados_hipergrafo.txt\". Cada linha do arquivo representa uma aresta entre um nó e uma hiperaresta, separados por uma tabulação (\\t). O argumento data=False indica que apenas os índices dos nós e hiperarestas devem ser salvos, sem atributos adicionais."
   ]
  },
  {
   "cell_type": "markdown",
   "metadata": {},
   "source": [
    "# Hipergrafos"
   ]
  },
  {
   "cell_type": "markdown",
   "metadata": {},
   "source": [
    "Um hipergrafo é uma generalização de um grafo, em que as arestas, chamadas de hiperarestas, podem conectar qualquer número de vértices (nós). Em um grafo normal, cada aresta conecta exatamente dois vértices.\n",
    "\n",
    "Na imagem, os números podem ser interpretados como vértices (nós) e as curvas fechadas multicoloridas como hiperarestas. Cada hiperaresta engloba os vértices que ela conecta. Por exemplo, a hiperaresta vermelha conecta os vértices 12, 14, 15, 18, 21, 27, 28, 40, 42, 45 e 47."
   ]
  },
  {
   "cell_type": "code",
   "execution_count": null,
   "metadata": {},
   "outputs": [],
   "source": [
    "import hypernetx as hnx\n",
    "import networkx as nx\n",
    "import numpy as np\n",
    "\n",
    "# Parâmetros do hipergrafo\n",
    "num_nodes = 6\n",
    "num_edges = 5\n",
    "\n",
    "# Criar lista de nós\n",
    "nodes = list(range(num_nodes))\n",
    "\n",
    "# Criar lista de hiperarestas aleatórias\n",
    "hyperedges = []\n",
    "for _ in range(num_edges):\n",
    "    # Escolhe um número aleatório de nós para cada hiperaresta\n",
    "    edge_size = np.random.randint(2, num_nodes // 2 + 1)  # Garante que as hiperarestas tenham pelo menos 2 nós\n",
    "    hyperedge = np.random.choice(nodes, edge_size, replace=False)  # Escolhe os nós aleatoriamente\n",
    "    hyperedges.append(hyperedge)\n",
    "\n",
    "# Criar o hipergrafo a partir das listas de nós e hiperarestas\n",
    "H = hnx.Hypergraph(hyperedges)\n",
    "\n",
    "# Visualizar o hipergrafo (opcional)\n",
    "hnx.draw(H)\n",
    "\n",
    "# Converter para o formato bipartido do NetworkX\n",
    "G_nx = H.bipartite()\n",
    "\n",
    "# Salvar o grafo bipartido em um arquivo\n",
    "nx.write_edgelist(G_nx, \"dados_hipergrafo.txt\", delimiter=\"\\t\", data=False)"
   ]
  },
  {
   "cell_type": "markdown",
   "metadata": {},
   "source": [
    "Quanto a interpretação de hipergrafos, ela depende do contexto do problema aqui estão algumas possibilidades:\n",
    "\n",
    "    Redes sociais: Os vértices podem representar pessoas e as hiperarestas podem representar grupos sociais, eventos ou interesses compartilhados.\n",
    "    \n",
    "    Coautoria científica: Os vértices podem representar autores e as hiperarestas podem representar artigos científicos em que colaboraram.\n",
    "\n",
    "    Sistemas de recomendação: Os vértices podem representar usuários e itens, e as hiperarestas podem representar conjuntos de itens recomendados para um usuário ou conjuntos de usuários que receberam a mesma recomendação.\n",
    "\n",
    "    Dados biológicos: Os vértices podem representar genes ou proteínas, e as hiperarestas podem representar vias biológicas ou complexos moleculares.\n",
    "\n",
    "    A imagem mostra um hipergrafo com uma estrutura complexa, com muitas hiperarestas sobrepostas. Isso sugere que as relações entre os vértices são complexas e multifacetadas, o que é típico de muitos sistemas do mundo real."
   ]
  },
  {
   "cell_type": "code",
   "execution_count": null,
   "metadata": {},
   "outputs": [],
   "source": [
    "import hypernetx as hnx\n",
    "import networkx as nx\n",
    "import numpy as np\n",
    "\n",
    "# Parâmetros do hipergrafo\n",
    "num_nodes = 100\n",
    "num_edges = 50\n",
    "\n",
    "# Criar lista de nós\n",
    "nodes = list(range(num_nodes))\n",
    "\n",
    "# Criar lista de hiperarestas aleatórias\n",
    "hyperedges = []\n",
    "for _ in range(num_edges):\n",
    "    # Escolhe um número aleatório de nós para cada hiperaresta\n",
    "    edge_size = np.random.randint(2, num_nodes // 2 + 1)  # Garante que as hiperarestas tenham pelo menos 2 nós\n",
    "    hyperedge = np.random.choice(nodes, edge_size, replace=False)  # Escolhe os nós aleatoriamente\n",
    "    hyperedges.append(hyperedge)\n",
    "\n",
    "# Criar o hipergrafo a partir das listas de nós e hiperarestas\n",
    "H = hnx.Hypergraph(hyperedges)\n",
    "\n",
    "# Visualizar o hipergrafo (opcional)\n",
    "hnx.draw(H)\n",
    "\n",
    "# Converter para o formato bipartido do NetworkX\n",
    "G_nx = H.bipartite()\n",
    "\n",
    "# Salvar o grafo bipartido em um arquivo\n",
    "nx.write_edgelist(G_nx, \"dados_hipergrafo.txt\", delimiter=\"\\t\", data=False)\n"
   ]
  },
  {
   "cell_type": "markdown",
   "metadata": {},
   "source": [
    "Nome do Módulo: \n",
    "O nome do arquivo Python que contém a classe OverlappingCommunityDetector é community_detection.py. \n",
    "Portanto, para importar a classe, devemos usar from community_detection import OverlappingCommunityDetector.\n",
    "\n",
    "Para utilizar OverlappingCommunityDetector é necessário também instalar o CuPy"
   ]
  },
  {
   "cell_type": "code",
   "execution_count": null,
   "metadata": {},
   "outputs": [],
   "source": [
    "from graph_bench_module import OverlappingCommunityDetector\n",
    "import hypernetx as hnx\n",
    "import networkx as nx\n",
    "import numpy as np\n",
    "\n",
    "# Parâmetros do hipergrafo\n",
    "num_nodes = 6\n",
    "num_edges = 5\n",
    "\n",
    "# Criar lista de nós\n",
    "nodes = list(range(num_nodes))\n",
    "\n",
    "# Criar lista de hiperarestas aleatórias\n",
    "hyperedges = []\n",
    "for _ in range(num_edges):\n",
    "    # Escolhe um número aleatório de nós para cada hiperaresta\n",
    "    edge_size = np.random.randint(2, num_nodes // 2 + 1)  # Garante que as hiperarestas tenham pelo menos 2 nós\n",
    "    hyperedge = np.random.choice(nodes, edge_size, replace=False)  # Escolhe os nós aleatoriamente\n",
    "    hyperedges.append(hyperedge)\n",
    "\n",
    "# Criar o hipergrafo a partir das listas de nós e hiperarestas\n",
    "H = hnx.Hypergraph(hyperedges)\n",
    "\n",
    "# Visualizar o hipergrafo (opcional)\n",
    "hnx.draw(H)\n",
    "\n",
    "# Converter para o formato bipartido do NetworkX\n",
    "G_nx = H.bipartite()\n",
    "\n",
    "# Salvar o grafo bipartido em um arquivo\n",
    "nx.write_edgelist(G_nx, \"dados_hipergrafo.txt\", delimiter=\"\\t\", data=False)\n",
    "\n",
    "# Restrições de pares (exemplo)\n",
    "must_link = [(1, 2), (3, 4)]\n",
    "cannot_link = [(1, 3), (2, 4)]\n",
    "\n",
    "# Parâmetros do algoritmo (ajuste conforme necessário)\n",
    "num_communities = 5\n",
    "other_params = {\n",
    "    'resolution': 1.0,\n",
    "    'must_link_weight': 1.0,\n",
    "    'cannot_link_weight': 1.0\n",
    "}\n",
    "\n",
    "detector = OverlappingCommunityDetector(H, must_link, cannot_link, num_communities, other_params)\n",
    "\n",
    "if detector._check_libraries():\n",
    "    # Realizar benchmarking e detecção de comunidades\n",
    "    communities = detector.detect_communities_benchmarking()\n",
    "else:\n",
    "    print(\"Instale as bibliotecas ausentes antes de executar o algoritmo.\")"
   ]
  },
  {
   "cell_type": "code",
   "execution_count": null,
   "metadata": {},
   "outputs": [],
   "source": [
    "import networkx as nx\n",
    "import numpy as np\n",
    "import matplotlib.pyplot as plt\n",
    "from graph_bench_module import OverlappingCommunityDetector\n",
    "import platform\n",
    "import psutil\n",
    "\n",
    "# Carregar o hipergrafo (substituir pelo seu arquivo)\n",
    "G_nx = nx.read_edgelist(\"dados_hipergrafo.txt\", delimiter=\"\\t\", create_using=nx.Graph())\n",
    "H = hnx.Hypergraph(G_nx)\n",
    "\n",
    "# Restrições de pares (exemplo)\n",
    "must_link = [(1, 2), (3, 4)]\n",
    "cannot_link = [(1, 3), (2, 4)]\n",
    "\n",
    "# Parâmetros do algoritmo (ajuste conforme necessário)\n",
    "num_communities = 5\n",
    "other_params = {\n",
    "    'resolution': 1.0,\n",
    "    'must_link_weight': 1.0,\n",
    "    'cannot_link_weight': 1.0\n",
    "}\n",
    "\n",
    "# Criar o detector de comunidades\n",
    "detector = OverlappingCommunityDetector(H, must_link, cannot_link, num_communities, other_params)\n",
    "\n",
    "# Informações sobre o ambiente de execução\n",
    "print(\"Informações do sistema:\")\n",
    "print(f\"  - Sistema operacional: {platform.system()} {platform.release()}\")\n",
    "print(f\"  - Processador: {platform.processor()}\")\n",
    "print(f\"  - Memória RAM total: {psutil.virtual_memory().total / (1024**3):.2f} GB\")\n",
    "print(f\"  - Número de GPUs disponíveis: {torch.cuda.device_count() if torch.cuda.is_available() else 0}\")\n",
    "\n",
    "# Benchmarking\n",
    "cpu_time = detector._benchmark_cpu()\n",
    "gpu_time = detector._benchmark_gpu() if detector._has_gpu() else float('inf')\n",
    "\n",
    "print(\"\\nResultados do Benchmarking:\")\n",
    "print(f\"  - Tempo de execução na CPU: {cpu_time:.2f} segundos\")\n",
    "print(f\"  - Tempo de execução na GPU: {gpu_time:.2f} segundos\")\n",
    "\n",
    "# Detectar comunidades (escolhendo CPU ou GPU automaticamente)\n",
    "communities = detector.detect_communities_benchmarking()\n",
    "\n",
    "# Imprimir as comunidades encontradas\n",
    "print(communities)\n"
   ]
  },
  {
   "cell_type": "code",
   "execution_count": null,
   "metadata": {},
   "outputs": [],
   "source": [
    "# Detectar comunidades com benchmarking\n",
    "communities = detector.detect_communities_benchmarking()\n",
    "\n",
    "# Imprimir as comunidades encontradas\n",
    "print(communities)"
   ]
  },
  {
   "cell_type": "code",
   "execution_count": null,
   "metadata": {},
   "outputs": [],
   "source": [
    "# Visualizar as comunidades\n",
    "pos = nx.spring_layout(H)  # Layout para visualização\n",
    "colors = ['r', 'g', 'b', 'y', 'c']  # Cores para as comunidades\n",
    "\n",
    "# Desenhar o hipergrafo\n",
    "nx.draw_networkx_nodes(H, pos)\n",
    "nx.draw_networkx_edges(H, pos, alpha=0.5)\n",
    "\n",
    "# Desenhar os nós com cores diferentes para cada comunidade\n",
    "for i, community in enumerate(communities):\n",
    "    nx.draw_networkx_nodes(H, pos, nodelist=community, node_color=colors[i % len(colors)])\n",
    "\n",
    "plt.show()"
   ]
  }
 ],
 "metadata": {
  "kernelspec": {
   "display_name": "Python38-PyTorch",
   "language": "python",
   "name": "python3"
  },
  "language_info": {
   "codemirror_mode": {
    "name": "ipython",
    "version": 3
   },
   "file_extension": ".py",
   "mimetype": "text/x-python",
   "name": "python",
   "nbconvert_exporter": "python",
   "pygments_lexer": "ipython3",
   "version": "3.11.5"
  }
 },
 "nbformat": 4,
 "nbformat_minor": 2
}
